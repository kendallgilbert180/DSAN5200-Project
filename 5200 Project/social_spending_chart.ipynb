{
 "cells": [
  {
   "cell_type": "code",
   "execution_count": 23,
   "metadata": {},
   "outputs": [
    {
     "name": "stderr",
     "output_type": "stream",
     "text": [
      "/var/folders/x3/1m329lgj7sl4y1pqkx_p_f_80000gn/T/ipykernel_91665/447603605.py:13: FutureWarning:\n",
      "\n",
      "DataFrame.applymap has been deprecated. Use DataFrame.map instead.\n",
      "\n"
     ]
    },
    {
     "data": {
      "application/vnd.plotly.v1+json": {
       "config": {
        "plotlyServerURL": "https://plot.ly"
       },
       "data": [
        {
         "marker": {
          "color": [
           "rgb(255, 0, 0)",
           "rgb(0, 255, 0)",
           "rgb(0, 0, 255)",
           "rgb(255, 255, 0)",
           "rgb(255, 0, 255)",
           "rgb(0, 255, 255)",
           "rgb(255, 127, 0)",
           "rgb(255, 0, 127)",
           "rgb(0, 127, 255)",
           "rgb(127, 255, 0)",
           "rgb(0, 255, 127)",
           "rgb(127, 0, 255)",
           "rgb(255, 255, 127)",
           "rgb(127, 255, 255)",
           "rgb(255, 127, 255)",
           "rgb(255, 0, 0)",
           "rgb(0, 255, 0)",
           "rgb(0, 0, 255)",
           "rgb(255, 255, 0)",
           "rgb(255, 0, 255)",
           "rgb(0, 255, 255)",
           "rgb(255, 127, 0)",
           "rgb(255, 0, 127)",
           "rgb(0, 127, 255)",
           "rgb(127, 255, 0)",
           "rgb(0, 255, 127)",
           "rgb(127, 0, 255)",
           "rgb(255, 255, 127)",
           "rgb(127, 255, 255)",
           "rgb(255, 127, 255)",
           "rgb(255, 0, 0)",
           "rgb(0, 255, 0)",
           "rgb(0, 0, 255)",
           "rgb(255, 255, 0)",
           "rgb(255, 0, 255)",
           "rgb(0, 255, 255)",
           "rgb(255, 127, 0)",
           "rgb(255, 0, 127)"
          ],
          "size": [
           2.7865319842874263,
           7.503906495944685,
           7.166520181191265,
           1.080568900861248,
           4.5097708020768135,
           3.3051754184651787,
           13.47002501234686,
           6.84453152144988,
           15.110622745901491,
           88.73469660072725,
           14.247181570386884,
           1.5223632341360966,
           0.9084647719583929,
           4.588364096658728,
           15.04942184059573,
           231.35246416108058,
           11.129103532545027,
           9.038541539214487,
           0.9038048399938399,
           0.3151812527891447,
           0.6171171020857178,
           51.35994439224066,
           32.35970365324023,
           71.76084128838818,
           0.4747374073808263,
           2.410854891451547,
           20.655189936352766,
           11.166642974180178,
           2.2202006825643514,
           5.2077104014671285,
           15.681080977332488,
           32.346265882731394,
           0.9007163027138835,
           8.184006557581164,
           4.126816342192715,
           0.24118851671323363,
           1.3859243055813024,
           0.07444862668124606
          ],
          "sizemin": 4,
          "sizemode": "area",
          "sizeref": 0.04627049283221611
         },
         "mode": "markers",
         "text": [
          "Country: Australia<br>Avg Social Spending: 2.6400<br>Avg GDP: 947.4142<br>Ratio: 0.0028",
          "Country: Austria<br>Avg Social Spending: 2.7600<br>Avg GDP: 367.8084<br>Ratio: 0.0075",
          "Country: Belgium<br>Avg Social Spending: 3.1800<br>Avg GDP: 443.7300<br>Ratio: 0.0072",
          "Country: Canada<br>Avg Social Spending: 1.5133<br>Avg GDP: 1400.4968<br>Ratio: 0.0011",
          "Country: Chile<br>Avg Social Spending: 1.4333<br>Avg GDP: 317.8284<br>Ratio: 0.0045",
          "Country: Colombia<br>Avg Social Spending: 1.6600<br>Avg GDP: 502.2426<br>Ratio: 0.0033",
          "Country: Costa Rica<br>Avg Social Spending: 0.8900<br>Avg GDP: 66.0726<br>Ratio: 0.0135",
          "Country: Czechia<br>Avg Social Spending: 2.0667<br>Avg GDP: 301.9442<br>Ratio: 0.0068",
          "Country: Denmark<br>Avg Social Spending: 3.6333<br>Avg GDP: 240.4489<br>Ratio: 0.0151",
          "Country: Estonia<br>Avg Social Spending: 2.8000<br>Avg GDP: 31.5547<br>Ratio: 0.0887",
          "Country: Finland<br>Avg Social Spending: 2.9867<br>Avg GDP: 209.6321<br>Ratio: 0.0142",
          "Country: France<br>Avg Social Spending: 3.6357<br>Avg GDP: 2388.2042<br>Ratio: 0.0015",
          "Country: Germany<br>Avg Social Spending: 3.0467<br>Avg GDP: 3353.6432<br>Ratio: 0.0009",
          "Country: Greece<br>Avg Social Spending: 1.3545<br>Avg GDP: 295.2132<br>Ratio: 0.0046",
          "Country: Hungary<br>Avg Social Spending: 3.3467<br>Avg GDP: 222.3784<br>Ratio: 0.0150",
          "Country: Iceland<br>Avg Social Spending: 3.2333<br>Avg GDP: 13.9758<br>Ratio: 0.2314",
          "Country: Ireland<br>Avg Social Spending: 2.6333<br>Avg GDP: 236.6168<br>Ratio: 0.0111",
          "Country: Israel<br>Avg Social Spending: 2.2091<br>Avg GDP: 244.4079<br>Ratio: 0.0090",
          "Country: Italy<br>Avg Social Spending: 1.8909<br>Avg GDP: 2092.1653<br>Ratio: 0.0009",
          "Country: Japan<br>Avg Social Spending: 1.4429<br>Avg GDP: 4577.8647<br>Ratio: 0.0003",
          "Country: Korea<br>Avg Social Spending: 0.9733<br>Avg GDP: 1577.2263<br>Ratio: 0.0006",
          "Country: Latvia<br>Avg Social Spending: 2.1000<br>Avg GDP: 40.8879<br>Ratio: 0.0514",
          "Country: Lithuania<br>Avg Social Spending: 2.2000<br>Avg GDP: 67.9858<br>Ratio: 0.0324",
          "Country: Luxembourg<br>Avg Social Spending: 3.4263<br>Avg GDP: 47.7463<br>Ratio: 0.0718",
          "Country: Mexico<br>Avg Social Spending: 0.8947<br>Avg GDP: 1884.6984<br>Ratio: 0.0005",
          "Country: Netherlands<br>Avg Social Spending: 1.8333<br>Avg GDP: 760.4495<br>Ratio: 0.0024",
          "Country: New Zealand<br>Avg Social Spending: 2.9737<br>Avg GDP: 143.9679<br>Ratio: 0.0207",
          "Country: Norway<br>Avg Social Spending: 3.1421<br>Avg GDP: 281.3832<br>Ratio: 0.0112",
          "Country: Poland<br>Avg Social Spending: 1.7842<br>Avg GDP: 803.6258<br>Ratio: 0.0022",
          "Country: Portugal<br>Avg Social Spending: 1.4667<br>Avg GDP: 281.6337<br>Ratio: 0.0052",
          "Country: Slovak Republic<br>Avg Social Spending: 2.0067<br>Avg GDP: 127.9674<br>Ratio: 0.0157",
          "Country: Slovenia<br>Avg Social Spending: 1.9053<br>Avg GDP: 58.9021<br>Ratio: 0.0323",
          "Country: Spain<br>Avg Social Spending: 1.3211<br>Avg GDP: 1466.6689<br>Ratio: 0.0009",
          "Country: Sweden<br>Avg Social Spending: 3.3211<br>Avg GDP: 405.7979<br>Ratio: 0.0082",
          "Country: Switzerland<br>Avg Social Spending: 1.8000<br>Avg GDP: 436.1716<br>Ratio: 0.0041",
          "Country: Türkiye<br>Avg Social Spending: 0.3368<br>Avg GDP: 1396.5926<br>Ratio: 0.0002",
          "Country: United Kingdom<br>Avg Social Spending: 3.3053<br>Avg GDP: 2384.8800<br>Ratio: 0.0014",
          "Country: United States<br>Avg Social Spending: 1.1600<br>Avg GDP: 15581.2142<br>Ratio: 0.0001"
         ],
         "type": "scatter",
         "x": [
          0.0027865319842874264,
          0.007503906495944685,
          0.007166520181191265,
          0.001080568900861248,
          0.004509770802076814,
          0.0033051754184651788,
          0.01347002501234686,
          0.00684453152144988,
          0.01511062274590149,
          0.08873469660072725,
          0.014247181570386885,
          0.0015223632341360967,
          0.0009084647719583929,
          0.004588364096658727,
          0.01504942184059573,
          0.23135246416108057,
          0.011129103532545027,
          0.009038541539214486,
          0.0009038048399938399,
          0.0003151812527891447,
          0.0006171171020857178,
          0.05135994439224066,
          0.03235970365324023,
          0.07176084128838818,
          0.0004747374073808263,
          0.0024108548914515467,
          0.020655189936352767,
          0.011166642974180178,
          0.0022202006825643513,
          0.005207710401467129,
          0.01568108097733249,
          0.032346265882731394,
          0.0009007163027138834,
          0.008184006557581164,
          0.004126816342192714,
          0.00024118851671323362,
          0.0013859243055813024,
          0.00007444862668124607
         ],
         "y": [
          947.4142105263157,
          367.80842105263156,
          443.73,
          1400.496842105263,
          317.82842105263154,
          502.2426315789474,
          66.07263157894737,
          301.94421052631577,
          240.44894736842105,
          31.55473684210526,
          209.63210526315788,
          2388.204210526316,
          3353.6431578947368,
          295.21315789473687,
          222.37842105263155,
          13.97578947368421,
          236.61684210526317,
          244.4078947368421,
          2092.1652631578945,
          4577.864736842105,
          1577.2263157894736,
          40.88789473684211,
          67.9857894736842,
          47.74631578947369,
          1884.6984210526314,
          760.4494736842106,
          143.9678947368421,
          281.3831578947368,
          803.6257894736842,
          281.6336842105263,
          127.96736842105264,
          58.902105263157885,
          1466.668947368421,
          405.7978947368421,
          436.17157894736846,
          1396.5926315789475,
          2384.88,
          15581.214210526316
         ]
        }
       ],
       "layout": {
        "font": {
         "color": "black"
        },
        "plot_bgcolor": "#faf0e6",
        "showlegend": false,
        "template": {
         "data": {
          "bar": [
           {
            "error_x": {
             "color": "#2a3f5f"
            },
            "error_y": {
             "color": "#2a3f5f"
            },
            "marker": {
             "line": {
              "color": "#E5ECF6",
              "width": 0.5
             },
             "pattern": {
              "fillmode": "overlay",
              "size": 10,
              "solidity": 0.2
             }
            },
            "type": "bar"
           }
          ],
          "barpolar": [
           {
            "marker": {
             "line": {
              "color": "#E5ECF6",
              "width": 0.5
             },
             "pattern": {
              "fillmode": "overlay",
              "size": 10,
              "solidity": 0.2
             }
            },
            "type": "barpolar"
           }
          ],
          "carpet": [
           {
            "aaxis": {
             "endlinecolor": "#2a3f5f",
             "gridcolor": "white",
             "linecolor": "white",
             "minorgridcolor": "white",
             "startlinecolor": "#2a3f5f"
            },
            "baxis": {
             "endlinecolor": "#2a3f5f",
             "gridcolor": "white",
             "linecolor": "white",
             "minorgridcolor": "white",
             "startlinecolor": "#2a3f5f"
            },
            "type": "carpet"
           }
          ],
          "choropleth": [
           {
            "colorbar": {
             "outlinewidth": 0,
             "ticks": ""
            },
            "type": "choropleth"
           }
          ],
          "contour": [
           {
            "colorbar": {
             "outlinewidth": 0,
             "ticks": ""
            },
            "colorscale": [
             [
              0,
              "#0d0887"
             ],
             [
              0.1111111111111111,
              "#46039f"
             ],
             [
              0.2222222222222222,
              "#7201a8"
             ],
             [
              0.3333333333333333,
              "#9c179e"
             ],
             [
              0.4444444444444444,
              "#bd3786"
             ],
             [
              0.5555555555555556,
              "#d8576b"
             ],
             [
              0.6666666666666666,
              "#ed7953"
             ],
             [
              0.7777777777777778,
              "#fb9f3a"
             ],
             [
              0.8888888888888888,
              "#fdca26"
             ],
             [
              1,
              "#f0f921"
             ]
            ],
            "type": "contour"
           }
          ],
          "contourcarpet": [
           {
            "colorbar": {
             "outlinewidth": 0,
             "ticks": ""
            },
            "type": "contourcarpet"
           }
          ],
          "heatmap": [
           {
            "colorbar": {
             "outlinewidth": 0,
             "ticks": ""
            },
            "colorscale": [
             [
              0,
              "#0d0887"
             ],
             [
              0.1111111111111111,
              "#46039f"
             ],
             [
              0.2222222222222222,
              "#7201a8"
             ],
             [
              0.3333333333333333,
              "#9c179e"
             ],
             [
              0.4444444444444444,
              "#bd3786"
             ],
             [
              0.5555555555555556,
              "#d8576b"
             ],
             [
              0.6666666666666666,
              "#ed7953"
             ],
             [
              0.7777777777777778,
              "#fb9f3a"
             ],
             [
              0.8888888888888888,
              "#fdca26"
             ],
             [
              1,
              "#f0f921"
             ]
            ],
            "type": "heatmap"
           }
          ],
          "heatmapgl": [
           {
            "colorbar": {
             "outlinewidth": 0,
             "ticks": ""
            },
            "colorscale": [
             [
              0,
              "#0d0887"
             ],
             [
              0.1111111111111111,
              "#46039f"
             ],
             [
              0.2222222222222222,
              "#7201a8"
             ],
             [
              0.3333333333333333,
              "#9c179e"
             ],
             [
              0.4444444444444444,
              "#bd3786"
             ],
             [
              0.5555555555555556,
              "#d8576b"
             ],
             [
              0.6666666666666666,
              "#ed7953"
             ],
             [
              0.7777777777777778,
              "#fb9f3a"
             ],
             [
              0.8888888888888888,
              "#fdca26"
             ],
             [
              1,
              "#f0f921"
             ]
            ],
            "type": "heatmapgl"
           }
          ],
          "histogram": [
           {
            "marker": {
             "pattern": {
              "fillmode": "overlay",
              "size": 10,
              "solidity": 0.2
             }
            },
            "type": "histogram"
           }
          ],
          "histogram2d": [
           {
            "colorbar": {
             "outlinewidth": 0,
             "ticks": ""
            },
            "colorscale": [
             [
              0,
              "#0d0887"
             ],
             [
              0.1111111111111111,
              "#46039f"
             ],
             [
              0.2222222222222222,
              "#7201a8"
             ],
             [
              0.3333333333333333,
              "#9c179e"
             ],
             [
              0.4444444444444444,
              "#bd3786"
             ],
             [
              0.5555555555555556,
              "#d8576b"
             ],
             [
              0.6666666666666666,
              "#ed7953"
             ],
             [
              0.7777777777777778,
              "#fb9f3a"
             ],
             [
              0.8888888888888888,
              "#fdca26"
             ],
             [
              1,
              "#f0f921"
             ]
            ],
            "type": "histogram2d"
           }
          ],
          "histogram2dcontour": [
           {
            "colorbar": {
             "outlinewidth": 0,
             "ticks": ""
            },
            "colorscale": [
             [
              0,
              "#0d0887"
             ],
             [
              0.1111111111111111,
              "#46039f"
             ],
             [
              0.2222222222222222,
              "#7201a8"
             ],
             [
              0.3333333333333333,
              "#9c179e"
             ],
             [
              0.4444444444444444,
              "#bd3786"
             ],
             [
              0.5555555555555556,
              "#d8576b"
             ],
             [
              0.6666666666666666,
              "#ed7953"
             ],
             [
              0.7777777777777778,
              "#fb9f3a"
             ],
             [
              0.8888888888888888,
              "#fdca26"
             ],
             [
              1,
              "#f0f921"
             ]
            ],
            "type": "histogram2dcontour"
           }
          ],
          "mesh3d": [
           {
            "colorbar": {
             "outlinewidth": 0,
             "ticks": ""
            },
            "type": "mesh3d"
           }
          ],
          "parcoords": [
           {
            "line": {
             "colorbar": {
              "outlinewidth": 0,
              "ticks": ""
             }
            },
            "type": "parcoords"
           }
          ],
          "pie": [
           {
            "automargin": true,
            "type": "pie"
           }
          ],
          "scatter": [
           {
            "fillpattern": {
             "fillmode": "overlay",
             "size": 10,
             "solidity": 0.2
            },
            "type": "scatter"
           }
          ],
          "scatter3d": [
           {
            "line": {
             "colorbar": {
              "outlinewidth": 0,
              "ticks": ""
             }
            },
            "marker": {
             "colorbar": {
              "outlinewidth": 0,
              "ticks": ""
             }
            },
            "type": "scatter3d"
           }
          ],
          "scattercarpet": [
           {
            "marker": {
             "colorbar": {
              "outlinewidth": 0,
              "ticks": ""
             }
            },
            "type": "scattercarpet"
           }
          ],
          "scattergeo": [
           {
            "marker": {
             "colorbar": {
              "outlinewidth": 0,
              "ticks": ""
             }
            },
            "type": "scattergeo"
           }
          ],
          "scattergl": [
           {
            "marker": {
             "colorbar": {
              "outlinewidth": 0,
              "ticks": ""
             }
            },
            "type": "scattergl"
           }
          ],
          "scattermapbox": [
           {
            "marker": {
             "colorbar": {
              "outlinewidth": 0,
              "ticks": ""
             }
            },
            "type": "scattermapbox"
           }
          ],
          "scatterpolar": [
           {
            "marker": {
             "colorbar": {
              "outlinewidth": 0,
              "ticks": ""
             }
            },
            "type": "scatterpolar"
           }
          ],
          "scatterpolargl": [
           {
            "marker": {
             "colorbar": {
              "outlinewidth": 0,
              "ticks": ""
             }
            },
            "type": "scatterpolargl"
           }
          ],
          "scatterternary": [
           {
            "marker": {
             "colorbar": {
              "outlinewidth": 0,
              "ticks": ""
             }
            },
            "type": "scatterternary"
           }
          ],
          "surface": [
           {
            "colorbar": {
             "outlinewidth": 0,
             "ticks": ""
            },
            "colorscale": [
             [
              0,
              "#0d0887"
             ],
             [
              0.1111111111111111,
              "#46039f"
             ],
             [
              0.2222222222222222,
              "#7201a8"
             ],
             [
              0.3333333333333333,
              "#9c179e"
             ],
             [
              0.4444444444444444,
              "#bd3786"
             ],
             [
              0.5555555555555556,
              "#d8576b"
             ],
             [
              0.6666666666666666,
              "#ed7953"
             ],
             [
              0.7777777777777778,
              "#fb9f3a"
             ],
             [
              0.8888888888888888,
              "#fdca26"
             ],
             [
              1,
              "#f0f921"
             ]
            ],
            "type": "surface"
           }
          ],
          "table": [
           {
            "cells": {
             "fill": {
              "color": "#EBF0F8"
             },
             "line": {
              "color": "white"
             }
            },
            "header": {
             "fill": {
              "color": "#C8D4E3"
             },
             "line": {
              "color": "white"
             }
            },
            "type": "table"
           }
          ]
         },
         "layout": {
          "annotationdefaults": {
           "arrowcolor": "#2a3f5f",
           "arrowhead": 0,
           "arrowwidth": 1
          },
          "autotypenumbers": "strict",
          "coloraxis": {
           "colorbar": {
            "outlinewidth": 0,
            "ticks": ""
           }
          },
          "colorscale": {
           "diverging": [
            [
             0,
             "#8e0152"
            ],
            [
             0.1,
             "#c51b7d"
            ],
            [
             0.2,
             "#de77ae"
            ],
            [
             0.3,
             "#f1b6da"
            ],
            [
             0.4,
             "#fde0ef"
            ],
            [
             0.5,
             "#f7f7f7"
            ],
            [
             0.6,
             "#e6f5d0"
            ],
            [
             0.7,
             "#b8e186"
            ],
            [
             0.8,
             "#7fbc41"
            ],
            [
             0.9,
             "#4d9221"
            ],
            [
             1,
             "#276419"
            ]
           ],
           "sequential": [
            [
             0,
             "#0d0887"
            ],
            [
             0.1111111111111111,
             "#46039f"
            ],
            [
             0.2222222222222222,
             "#7201a8"
            ],
            [
             0.3333333333333333,
             "#9c179e"
            ],
            [
             0.4444444444444444,
             "#bd3786"
            ],
            [
             0.5555555555555556,
             "#d8576b"
            ],
            [
             0.6666666666666666,
             "#ed7953"
            ],
            [
             0.7777777777777778,
             "#fb9f3a"
            ],
            [
             0.8888888888888888,
             "#fdca26"
            ],
            [
             1,
             "#f0f921"
            ]
           ],
           "sequentialminus": [
            [
             0,
             "#0d0887"
            ],
            [
             0.1111111111111111,
             "#46039f"
            ],
            [
             0.2222222222222222,
             "#7201a8"
            ],
            [
             0.3333333333333333,
             "#9c179e"
            ],
            [
             0.4444444444444444,
             "#bd3786"
            ],
            [
             0.5555555555555556,
             "#d8576b"
            ],
            [
             0.6666666666666666,
             "#ed7953"
            ],
            [
             0.7777777777777778,
             "#fb9f3a"
            ],
            [
             0.8888888888888888,
             "#fdca26"
            ],
            [
             1,
             "#f0f921"
            ]
           ]
          },
          "colorway": [
           "#636efa",
           "#EF553B",
           "#00cc96",
           "#ab63fa",
           "#FFA15A",
           "#19d3f3",
           "#FF6692",
           "#B6E880",
           "#FF97FF",
           "#FECB52"
          ],
          "font": {
           "color": "#2a3f5f"
          },
          "geo": {
           "bgcolor": "white",
           "lakecolor": "white",
           "landcolor": "#E5ECF6",
           "showlakes": true,
           "showland": true,
           "subunitcolor": "white"
          },
          "hoverlabel": {
           "align": "left"
          },
          "hovermode": "closest",
          "mapbox": {
           "style": "light"
          },
          "paper_bgcolor": "white",
          "plot_bgcolor": "#E5ECF6",
          "polar": {
           "angularaxis": {
            "gridcolor": "white",
            "linecolor": "white",
            "ticks": ""
           },
           "bgcolor": "#E5ECF6",
           "radialaxis": {
            "gridcolor": "white",
            "linecolor": "white",
            "ticks": ""
           }
          },
          "scene": {
           "xaxis": {
            "backgroundcolor": "#E5ECF6",
            "gridcolor": "white",
            "gridwidth": 2,
            "linecolor": "white",
            "showbackground": true,
            "ticks": "",
            "zerolinecolor": "white"
           },
           "yaxis": {
            "backgroundcolor": "#E5ECF6",
            "gridcolor": "white",
            "gridwidth": 2,
            "linecolor": "white",
            "showbackground": true,
            "ticks": "",
            "zerolinecolor": "white"
           },
           "zaxis": {
            "backgroundcolor": "#E5ECF6",
            "gridcolor": "white",
            "gridwidth": 2,
            "linecolor": "white",
            "showbackground": true,
            "ticks": "",
            "zerolinecolor": "white"
           }
          },
          "shapedefaults": {
           "line": {
            "color": "#2a3f5f"
           }
          },
          "ternary": {
           "aaxis": {
            "gridcolor": "white",
            "linecolor": "white",
            "ticks": ""
           },
           "baxis": {
            "gridcolor": "white",
            "linecolor": "white",
            "ticks": ""
           },
           "bgcolor": "#E5ECF6",
           "caxis": {
            "gridcolor": "white",
            "linecolor": "white",
            "ticks": ""
           }
          },
          "title": {
           "x": 0.05
          },
          "xaxis": {
           "automargin": true,
           "gridcolor": "white",
           "linecolor": "white",
           "ticks": "",
           "title": {
            "standoff": 15
           },
           "zerolinecolor": "white",
           "zerolinewidth": 2
          },
          "yaxis": {
           "automargin": true,
           "gridcolor": "white",
           "linecolor": "white",
           "ticks": "",
           "title": {
            "standoff": 15
           },
           "zerolinecolor": "white",
           "zerolinewidth": 2
          }
         }
        },
        "title": {
         "font": {
          "family": "PT Sans Narrow"
         },
         "text": "Percentage of GDP Spent on Family Benefits"
        },
        "xaxis": {
         "tickfont": {
          "family": "PT Sans Narrow"
         },
         "title": {
          "font": {
           "family": "PT Sans Narrow"
          },
          "text": "Average Percentage of GDP spent on Family Benefits"
         }
        },
        "yaxis": {
         "tickfont": {
          "family": "PT Sans Narrow"
         },
         "title": {
          "font": {
           "family": "PT Sans Narrow"
          },
          "text": "Average GDP Over 20 Years (Billions)"
         }
        }
       }
      }
     },
     "metadata": {},
     "output_type": "display_data"
    }
   ],
   "source": [
    "import pandas as pd\n",
    "import plotly.graph_objects as go\n",
    "import numpy as np\n",
    "\n",
    "\n",
    "# Read / Cleaning the data\n",
    "social_spending = pd.read_csv(\"Data_cleaned/social_spending.csv\", header=1)\n",
    "gdp = pd.read_csv(\"Data_cleaned/gdp.csv\")\n",
    "gdp['gdp'] = gdp['gdp'].replace('..', np.nan)\n",
    "gdp['gdp'] = gdp['gdp'].str.replace(',', '')\n",
    "gdp['gdp'] = gdp['gdp'].astype(float)\n",
    "social_spending = social_spending.rename(columns={'Year': 'Country'})\n",
    "social_spending = social_spending.applymap(lambda x: x.strip() if isinstance(x, str) else x)\n",
    "social_spending = pd.melt(social_spending, id_vars=['Country'], var_name='Year', value_name='s_s')\n",
    "social_spending['Country_Year'] = social_spending['Country'] + '_' + social_spending['Year'].astype(str)\n",
    "\n",
    "merged_data = pd.merge(gdp, social_spending, on=['Country_Year'])\n",
    "merged_data['gdp'] = pd.to_numeric(merged_data['gdp'], errors='coerce')\n",
    "merged_data['s_s'] = pd.to_numeric(merged_data['s_s'], errors='coerce')\n",
    "#merged_data['gdp'] = merged_data['gdp'].fillna(merged_data['gdp'].mean())\n",
    "#merged_data['s_s'] = merged_data['s_s'].fillna(merged_data['s_s'].mean())\n",
    "\n",
    "\n",
    "average_social_spending = merged_data.groupby('Country')['s_s'].mean().reset_index()\n",
    "average_gdp = merged_data.groupby('Country')['gdp'].mean().reset_index()\n",
    "average_data = pd.merge(average_social_spending, average_gdp, on='Country', suffixes=('_s_s', '_gdp'))\n",
    "average_data['s_s_gdp_ratio'] = average_data['s_s'] / average_data['gdp']\n",
    "\n",
    "color_map = {\n",
    "    'Australia': 'rgb(255, 0, 0)',        # Red\n",
    "    'Austria': 'rgb(0, 255, 0)',          # Green\n",
    "    'Belgium': 'rgb(0, 0, 255)',          # Blue\n",
    "    'Canada': 'rgb(255, 255, 0)',         # Yellow\n",
    "    'Chile': 'rgb(255, 0, 255)',          # Magenta\n",
    "    'Colombia': 'rgb(0, 255, 255)',       # Cyan\n",
    "    'Costa Rica': 'rgb(255, 127, 0)',     # Orange\n",
    "    'Czechia': 'rgb(255, 0, 127)',        # Reddish-Pink\n",
    "    'Denmark': 'rgb(0, 127, 255)',        # Bluish\n",
    "    'Estonia': 'rgb(127, 255, 0)',        # Greenish-Yellow\n",
    "    'Finland': 'rgb(0, 255, 127)',        # Greenish\n",
    "    'France': 'rgb(127, 0, 255)',         # Purplish-Blue\n",
    "    'Germany': 'rgb(255, 255, 127)',      # Light Yellow\n",
    "    'Greece': 'rgb(127, 255, 255)',       # Light Cyan\n",
    "    'Hungary': 'rgb(255, 127, 255)',      # Light Magenta\n",
    "    'Iceland': 'rgb(255, 0, 0)',          # Red\n",
    "    'Ireland': 'rgb(0, 255, 0)',          # Green\n",
    "    'Israel': 'rgb(0, 0, 255)',           # Blue\n",
    "    'Italy': 'rgb(255, 255, 0)',          # Yellow\n",
    "    'Japan': 'rgb(255, 0, 255)',          # Magenta\n",
    "    'Korea': 'rgb(0, 255, 255)',          # Cyan\n",
    "    'Latvia': 'rgb(255, 127, 0)',         # Orange\n",
    "    'Lithuania': 'rgb(255, 0, 127)',      # Reddish-Pink\n",
    "    'Luxembourg': 'rgb(0, 127, 255)',     # Bluish\n",
    "    'Mexico': 'rgb(127, 255, 0)',         # Greenish-Yellow\n",
    "    'Netherlands': 'rgb(0, 255, 127)',    # Greenish\n",
    "    'New Zealand': 'rgb(127, 0, 255)',    # Purplish-Blue\n",
    "    'Norway': 'rgb(255, 255, 127)',      # Light Yellow\n",
    "    'Poland': 'rgb(127, 255, 255)',       # Light Cyan\n",
    "    'Portugal': 'rgb(255, 127, 255)',     # Light Magenta\n",
    "    'Slovak Republic': 'rgb(255, 0, 0)',  # Red\n",
    "    'Slovenia': 'rgb(0, 255, 0)',         # Green\n",
    "    'Spain': 'rgb(0, 0, 255)',            # Blue\n",
    "    'Sweden': 'rgb(255, 255, 0)',         # Yellow\n",
    "    'Switzerland': 'rgb(255, 0, 255)',    # Magenta\n",
    "    'Türkiye': 'rgb(0, 255, 255)',        # Cyan\n",
    "    'United Kingdom': 'rgb(255, 127, 0)', # Orange\n",
    "    'United States': 'rgb(255, 0, 127)',  # Reddish-Pink\n",
    "}\n",
    "\n",
    "average_data['color'] = average_data['Country'].map(color_map)\n",
    "bubble_sizes = average_data['s_s_gdp_ratio'] * 1000\n",
    "\n",
    "fig = go.Figure(data=go.Scatter(\n",
    "    x=average_data['s_s_gdp_ratio'],\n",
    "    y=average_data['gdp'],\n",
    "    mode='markers',\n",
    "    marker=dict(\n",
    "        size=bubble_sizes,\n",
    "        sizemode='area',\n",
    "        sizeref=2.*max(bubble_sizes)/(100**2),\n",
    "        sizemin=4,\n",
    "        color=average_data['color']\n",
    "    ),\n",
    "text = average_data.apply(lambda row: f\"Country: {row['Country']}<br>Avg Social Spending: {row['s_s']:.4f}<br>Avg GDP: {row['gdp']:.4f}<br>Ratio: {row['s_s_gdp_ratio']:.4f}\", axis=1)\n",
    "))\n",
    "\n",
    "fig.update_layout(\n",
    "    title='Percentage of GDP Spent on Family Benefits',\n",
    "    xaxis=dict(title='Average Percentage of GDP spent on Family Benefits'),  \n",
    "    yaxis=dict(title='Average GDP (Billions) Over 20 Years'),\n",
    "    showlegend=False\n",
    ")\n",
    "\n",
    "fig.update_layout(plot_bgcolor='#faf0e6', font_color='black')\n",
    "\n",
    "fig.update_layout(\n",
    "    xaxis=dict(\n",
    "        title='Average Percentage of GDP spent on Family Benefits',\n",
    "        title_font=dict(family='PT Sans Narrow'),\n",
    "        tickfont=dict(family='PT Sans Narrow')\n",
    "    ),\n",
    "    yaxis=dict(\n",
    "        title='Average GDP Over 20 Years (Billions)',\n",
    "        title_font=dict(family='PT Sans Narrow'),\n",
    "        tickfont=dict(family='PT Sans Narrow')\n",
    "    ),\n",
    "    showlegend=False,\n",
    "    plot_bgcolor='#faf0e6',\n",
    "    font_color='black'\n",
    ")\n",
    "\n",
    "fig.update_layout(title_font_family='PT Sans Narrow')\n",
    "\n",
    "\n"
   ]
  },
  {
   "cell_type": "code",
   "execution_count": 2,
   "metadata": {},
   "outputs": [
    {
     "name": "stdout",
     "output_type": "stream",
     "text": [
      "United States Results:\n",
      "Average Percentage Social Spending: 1.16\n",
      "Average GDP: 15581.214210526316\n",
      "Ratio of Average Social Spending to GDP: 7.444862668124607e-05\n"
     ]
    }
   ],
   "source": [
    "us_data = average_data[average_data['Country'] == 'United States']\n",
    "print(\"United States Results:\")\n",
    "print(\"Average Percentage Social Spending:\", us_data['s_s'].values[0])\n",
    "print(\"Average GDP:\", us_data['gdp'].values[0])\n",
    "print(\"Ratio of Average Social Spending to GDP:\", us_data['s_s_gdp_ratio'].values[0])\n"
   ]
  },
  {
   "cell_type": "code",
   "execution_count": 14,
   "metadata": {},
   "outputs": [
    {
     "data": {
      "application/vnd.plotly.v1+json": {
       "config": {
        "plotlyServerURL": "https://plot.ly"
       },
       "data": [
        {
         "cells": {
          "align": "left",
          "fill": {
           "color": "white"
          },
          "line": {
           "color": "black"
          },
          "values": [
           [
            "Australia",
            "Austria",
            "Belgium",
            "Canada",
            "Chile",
            "Colombia",
            "Costa Rica",
            "Czechia",
            "Denmark",
            "Estonia",
            "Finland",
            "France",
            "Germany",
            "Greece",
            "Hungary",
            "Iceland",
            "Ireland",
            "Israel",
            "Italy",
            "Japan",
            "Korea",
            "Latvia",
            "Lithuania",
            "Luxembourg",
            "Mexico",
            "Netherlands",
            "New Zealand",
            "Norway",
            "Poland",
            "Portugal",
            "Slovak Republic",
            "Slovenia",
            "Spain",
            "Sweden",
            "Switzerland",
            "Türkiye",
            "United Kingdom",
            "United States"
           ],
           [
            "2.640",
            "2.760",
            "3.180",
            "1.513",
            "1.433",
            "1.660",
            "0.890",
            "2.067",
            "3.633",
            "2.800",
            "2.987",
            "3.636",
            "3.047",
            "1.355",
            "3.347",
            "3.233",
            "2.633",
            "2.209",
            "1.891",
            "1.443",
            "0.973",
            "2.100",
            "2.200",
            "3.426",
            "0.895",
            "1.833",
            "2.974",
            "3.142",
            "1.784",
            "1.467",
            "2.007",
            "1.905",
            "1.321",
            "3.321",
            "1.800",
            "0.337",
            "3.305",
            "1.160"
           ],
           [
            "947.414",
            "367.808",
            "443.730",
            "1400.497",
            "317.828",
            "502.243",
            "66.073",
            "301.944",
            "240.449",
            "31.555",
            "209.632",
            "2388.204",
            "3353.643",
            "295.213",
            "222.378",
            "13.976",
            "236.617",
            "244.408",
            "2092.165",
            "4577.865",
            "1577.226",
            "40.888",
            "67.986",
            "47.746",
            "1884.698",
            "760.449",
            "143.968",
            "281.383",
            "803.626",
            "281.634",
            "127.967",
            "58.902",
            "1466.669",
            "405.798",
            "436.172",
            "1396.593",
            "2384.880",
            "15581.214"
           ],
           [
            "0.003",
            "0.008",
            "0.007",
            "0.001",
            "0.005",
            "0.003",
            "0.013",
            "0.007",
            "0.015",
            "0.089",
            "0.014",
            "0.002",
            "0.001",
            "0.005",
            "0.015",
            "0.231",
            "0.011",
            "0.009",
            "0.001",
            "0.000",
            "0.001",
            "0.051",
            "0.032",
            "0.072",
            "0.000",
            "0.002",
            "0.021",
            "0.011",
            "0.002",
            "0.005",
            "0.016",
            "0.032",
            "0.001",
            "0.008",
            "0.004",
            "0.000",
            "0.001",
            "0.000"
           ]
          ]
         },
         "header": {
          "align": "left",
          "fill": {
           "color": "#f7ebdb"
          },
          "line": {
           "color": "black"
          },
          "values": [
           "<b>Country</b>",
           "<b>Average Percentage Spent</b>",
           "<b>Average GDP (Billions)</b>",
           "<b>Percentage of Average Social Spending out of GDP (%)</b>"
          ]
         },
         "type": "table"
        }
       ],
       "layout": {
        "height": 500,
        "template": {
         "data": {
          "bar": [
           {
            "error_x": {
             "color": "#2a3f5f"
            },
            "error_y": {
             "color": "#2a3f5f"
            },
            "marker": {
             "line": {
              "color": "#E5ECF6",
              "width": 0.5
             },
             "pattern": {
              "fillmode": "overlay",
              "size": 10,
              "solidity": 0.2
             }
            },
            "type": "bar"
           }
          ],
          "barpolar": [
           {
            "marker": {
             "line": {
              "color": "#E5ECF6",
              "width": 0.5
             },
             "pattern": {
              "fillmode": "overlay",
              "size": 10,
              "solidity": 0.2
             }
            },
            "type": "barpolar"
           }
          ],
          "carpet": [
           {
            "aaxis": {
             "endlinecolor": "#2a3f5f",
             "gridcolor": "white",
             "linecolor": "white",
             "minorgridcolor": "white",
             "startlinecolor": "#2a3f5f"
            },
            "baxis": {
             "endlinecolor": "#2a3f5f",
             "gridcolor": "white",
             "linecolor": "white",
             "minorgridcolor": "white",
             "startlinecolor": "#2a3f5f"
            },
            "type": "carpet"
           }
          ],
          "choropleth": [
           {
            "colorbar": {
             "outlinewidth": 0,
             "ticks": ""
            },
            "type": "choropleth"
           }
          ],
          "contour": [
           {
            "colorbar": {
             "outlinewidth": 0,
             "ticks": ""
            },
            "colorscale": [
             [
              0,
              "#0d0887"
             ],
             [
              0.1111111111111111,
              "#46039f"
             ],
             [
              0.2222222222222222,
              "#7201a8"
             ],
             [
              0.3333333333333333,
              "#9c179e"
             ],
             [
              0.4444444444444444,
              "#bd3786"
             ],
             [
              0.5555555555555556,
              "#d8576b"
             ],
             [
              0.6666666666666666,
              "#ed7953"
             ],
             [
              0.7777777777777778,
              "#fb9f3a"
             ],
             [
              0.8888888888888888,
              "#fdca26"
             ],
             [
              1,
              "#f0f921"
             ]
            ],
            "type": "contour"
           }
          ],
          "contourcarpet": [
           {
            "colorbar": {
             "outlinewidth": 0,
             "ticks": ""
            },
            "type": "contourcarpet"
           }
          ],
          "heatmap": [
           {
            "colorbar": {
             "outlinewidth": 0,
             "ticks": ""
            },
            "colorscale": [
             [
              0,
              "#0d0887"
             ],
             [
              0.1111111111111111,
              "#46039f"
             ],
             [
              0.2222222222222222,
              "#7201a8"
             ],
             [
              0.3333333333333333,
              "#9c179e"
             ],
             [
              0.4444444444444444,
              "#bd3786"
             ],
             [
              0.5555555555555556,
              "#d8576b"
             ],
             [
              0.6666666666666666,
              "#ed7953"
             ],
             [
              0.7777777777777778,
              "#fb9f3a"
             ],
             [
              0.8888888888888888,
              "#fdca26"
             ],
             [
              1,
              "#f0f921"
             ]
            ],
            "type": "heatmap"
           }
          ],
          "heatmapgl": [
           {
            "colorbar": {
             "outlinewidth": 0,
             "ticks": ""
            },
            "colorscale": [
             [
              0,
              "#0d0887"
             ],
             [
              0.1111111111111111,
              "#46039f"
             ],
             [
              0.2222222222222222,
              "#7201a8"
             ],
             [
              0.3333333333333333,
              "#9c179e"
             ],
             [
              0.4444444444444444,
              "#bd3786"
             ],
             [
              0.5555555555555556,
              "#d8576b"
             ],
             [
              0.6666666666666666,
              "#ed7953"
             ],
             [
              0.7777777777777778,
              "#fb9f3a"
             ],
             [
              0.8888888888888888,
              "#fdca26"
             ],
             [
              1,
              "#f0f921"
             ]
            ],
            "type": "heatmapgl"
           }
          ],
          "histogram": [
           {
            "marker": {
             "pattern": {
              "fillmode": "overlay",
              "size": 10,
              "solidity": 0.2
             }
            },
            "type": "histogram"
           }
          ],
          "histogram2d": [
           {
            "colorbar": {
             "outlinewidth": 0,
             "ticks": ""
            },
            "colorscale": [
             [
              0,
              "#0d0887"
             ],
             [
              0.1111111111111111,
              "#46039f"
             ],
             [
              0.2222222222222222,
              "#7201a8"
             ],
             [
              0.3333333333333333,
              "#9c179e"
             ],
             [
              0.4444444444444444,
              "#bd3786"
             ],
             [
              0.5555555555555556,
              "#d8576b"
             ],
             [
              0.6666666666666666,
              "#ed7953"
             ],
             [
              0.7777777777777778,
              "#fb9f3a"
             ],
             [
              0.8888888888888888,
              "#fdca26"
             ],
             [
              1,
              "#f0f921"
             ]
            ],
            "type": "histogram2d"
           }
          ],
          "histogram2dcontour": [
           {
            "colorbar": {
             "outlinewidth": 0,
             "ticks": ""
            },
            "colorscale": [
             [
              0,
              "#0d0887"
             ],
             [
              0.1111111111111111,
              "#46039f"
             ],
             [
              0.2222222222222222,
              "#7201a8"
             ],
             [
              0.3333333333333333,
              "#9c179e"
             ],
             [
              0.4444444444444444,
              "#bd3786"
             ],
             [
              0.5555555555555556,
              "#d8576b"
             ],
             [
              0.6666666666666666,
              "#ed7953"
             ],
             [
              0.7777777777777778,
              "#fb9f3a"
             ],
             [
              0.8888888888888888,
              "#fdca26"
             ],
             [
              1,
              "#f0f921"
             ]
            ],
            "type": "histogram2dcontour"
           }
          ],
          "mesh3d": [
           {
            "colorbar": {
             "outlinewidth": 0,
             "ticks": ""
            },
            "type": "mesh3d"
           }
          ],
          "parcoords": [
           {
            "line": {
             "colorbar": {
              "outlinewidth": 0,
              "ticks": ""
             }
            },
            "type": "parcoords"
           }
          ],
          "pie": [
           {
            "automargin": true,
            "type": "pie"
           }
          ],
          "scatter": [
           {
            "fillpattern": {
             "fillmode": "overlay",
             "size": 10,
             "solidity": 0.2
            },
            "type": "scatter"
           }
          ],
          "scatter3d": [
           {
            "line": {
             "colorbar": {
              "outlinewidth": 0,
              "ticks": ""
             }
            },
            "marker": {
             "colorbar": {
              "outlinewidth": 0,
              "ticks": ""
             }
            },
            "type": "scatter3d"
           }
          ],
          "scattercarpet": [
           {
            "marker": {
             "colorbar": {
              "outlinewidth": 0,
              "ticks": ""
             }
            },
            "type": "scattercarpet"
           }
          ],
          "scattergeo": [
           {
            "marker": {
             "colorbar": {
              "outlinewidth": 0,
              "ticks": ""
             }
            },
            "type": "scattergeo"
           }
          ],
          "scattergl": [
           {
            "marker": {
             "colorbar": {
              "outlinewidth": 0,
              "ticks": ""
             }
            },
            "type": "scattergl"
           }
          ],
          "scattermapbox": [
           {
            "marker": {
             "colorbar": {
              "outlinewidth": 0,
              "ticks": ""
             }
            },
            "type": "scattermapbox"
           }
          ],
          "scatterpolar": [
           {
            "marker": {
             "colorbar": {
              "outlinewidth": 0,
              "ticks": ""
             }
            },
            "type": "scatterpolar"
           }
          ],
          "scatterpolargl": [
           {
            "marker": {
             "colorbar": {
              "outlinewidth": 0,
              "ticks": ""
             }
            },
            "type": "scatterpolargl"
           }
          ],
          "scatterternary": [
           {
            "marker": {
             "colorbar": {
              "outlinewidth": 0,
              "ticks": ""
             }
            },
            "type": "scatterternary"
           }
          ],
          "surface": [
           {
            "colorbar": {
             "outlinewidth": 0,
             "ticks": ""
            },
            "colorscale": [
             [
              0,
              "#0d0887"
             ],
             [
              0.1111111111111111,
              "#46039f"
             ],
             [
              0.2222222222222222,
              "#7201a8"
             ],
             [
              0.3333333333333333,
              "#9c179e"
             ],
             [
              0.4444444444444444,
              "#bd3786"
             ],
             [
              0.5555555555555556,
              "#d8576b"
             ],
             [
              0.6666666666666666,
              "#ed7953"
             ],
             [
              0.7777777777777778,
              "#fb9f3a"
             ],
             [
              0.8888888888888888,
              "#fdca26"
             ],
             [
              1,
              "#f0f921"
             ]
            ],
            "type": "surface"
           }
          ],
          "table": [
           {
            "cells": {
             "fill": {
              "color": "#EBF0F8"
             },
             "line": {
              "color": "white"
             }
            },
            "header": {
             "fill": {
              "color": "#C8D4E3"
             },
             "line": {
              "color": "white"
             }
            },
            "type": "table"
           }
          ]
         },
         "layout": {
          "annotationdefaults": {
           "arrowcolor": "#2a3f5f",
           "arrowhead": 0,
           "arrowwidth": 1
          },
          "autotypenumbers": "strict",
          "coloraxis": {
           "colorbar": {
            "outlinewidth": 0,
            "ticks": ""
           }
          },
          "colorscale": {
           "diverging": [
            [
             0,
             "#8e0152"
            ],
            [
             0.1,
             "#c51b7d"
            ],
            [
             0.2,
             "#de77ae"
            ],
            [
             0.3,
             "#f1b6da"
            ],
            [
             0.4,
             "#fde0ef"
            ],
            [
             0.5,
             "#f7f7f7"
            ],
            [
             0.6,
             "#e6f5d0"
            ],
            [
             0.7,
             "#b8e186"
            ],
            [
             0.8,
             "#7fbc41"
            ],
            [
             0.9,
             "#4d9221"
            ],
            [
             1,
             "#276419"
            ]
           ],
           "sequential": [
            [
             0,
             "#0d0887"
            ],
            [
             0.1111111111111111,
             "#46039f"
            ],
            [
             0.2222222222222222,
             "#7201a8"
            ],
            [
             0.3333333333333333,
             "#9c179e"
            ],
            [
             0.4444444444444444,
             "#bd3786"
            ],
            [
             0.5555555555555556,
             "#d8576b"
            ],
            [
             0.6666666666666666,
             "#ed7953"
            ],
            [
             0.7777777777777778,
             "#fb9f3a"
            ],
            [
             0.8888888888888888,
             "#fdca26"
            ],
            [
             1,
             "#f0f921"
            ]
           ],
           "sequentialminus": [
            [
             0,
             "#0d0887"
            ],
            [
             0.1111111111111111,
             "#46039f"
            ],
            [
             0.2222222222222222,
             "#7201a8"
            ],
            [
             0.3333333333333333,
             "#9c179e"
            ],
            [
             0.4444444444444444,
             "#bd3786"
            ],
            [
             0.5555555555555556,
             "#d8576b"
            ],
            [
             0.6666666666666666,
             "#ed7953"
            ],
            [
             0.7777777777777778,
             "#fb9f3a"
            ],
            [
             0.8888888888888888,
             "#fdca26"
            ],
            [
             1,
             "#f0f921"
            ]
           ]
          },
          "colorway": [
           "#636efa",
           "#EF553B",
           "#00cc96",
           "#ab63fa",
           "#FFA15A",
           "#19d3f3",
           "#FF6692",
           "#B6E880",
           "#FF97FF",
           "#FECB52"
          ],
          "font": {
           "color": "#2a3f5f"
          },
          "geo": {
           "bgcolor": "white",
           "lakecolor": "white",
           "landcolor": "#E5ECF6",
           "showlakes": true,
           "showland": true,
           "subunitcolor": "white"
          },
          "hoverlabel": {
           "align": "left"
          },
          "hovermode": "closest",
          "mapbox": {
           "style": "light"
          },
          "paper_bgcolor": "white",
          "plot_bgcolor": "#E5ECF6",
          "polar": {
           "angularaxis": {
            "gridcolor": "white",
            "linecolor": "white",
            "ticks": ""
           },
           "bgcolor": "#E5ECF6",
           "radialaxis": {
            "gridcolor": "white",
            "linecolor": "white",
            "ticks": ""
           }
          },
          "scene": {
           "xaxis": {
            "backgroundcolor": "#E5ECF6",
            "gridcolor": "white",
            "gridwidth": 2,
            "linecolor": "white",
            "showbackground": true,
            "ticks": "",
            "zerolinecolor": "white"
           },
           "yaxis": {
            "backgroundcolor": "#E5ECF6",
            "gridcolor": "white",
            "gridwidth": 2,
            "linecolor": "white",
            "showbackground": true,
            "ticks": "",
            "zerolinecolor": "white"
           },
           "zaxis": {
            "backgroundcolor": "#E5ECF6",
            "gridcolor": "white",
            "gridwidth": 2,
            "linecolor": "white",
            "showbackground": true,
            "ticks": "",
            "zerolinecolor": "white"
           }
          },
          "shapedefaults": {
           "line": {
            "color": "#2a3f5f"
           }
          },
          "ternary": {
           "aaxis": {
            "gridcolor": "white",
            "linecolor": "white",
            "ticks": ""
           },
           "baxis": {
            "gridcolor": "white",
            "linecolor": "white",
            "ticks": ""
           },
           "bgcolor": "#E5ECF6",
           "caxis": {
            "gridcolor": "white",
            "linecolor": "white",
            "ticks": ""
           }
          },
          "title": {
           "x": 0.05
          },
          "xaxis": {
           "automargin": true,
           "gridcolor": "white",
           "linecolor": "white",
           "ticks": "",
           "title": {
            "standoff": 15
           },
           "zerolinecolor": "white",
           "zerolinewidth": 2
          },
          "yaxis": {
           "automargin": true,
           "gridcolor": "white",
           "linecolor": "white",
           "ticks": "",
           "title": {
            "standoff": 15
           },
           "zerolinecolor": "white",
           "zerolinewidth": 2
          }
         }
        },
        "width": 800
       }
      }
     },
     "metadata": {},
     "output_type": "display_data"
    }
   ],
   "source": [
    "import plotly.graph_objects as go\n",
    "\n",
    "# Formatting function to round to three decimal places\n",
    "def format_decimal(value):\n",
    "    return f'{value:.3f}'\n",
    "\n",
    "fig = go.Figure(data=[go.Table(\n",
    "    header=dict(values=['<b>Country</b>', '<b>Average Percentage Spent</b>', '<b>Average GDP (Billions)</b>', '<b>Percentage of Average Social Spending out of GDP (%)</b>'],\n",
    "                line_color='black',\n",
    "                fill_color='#f7ebdb',\n",
    "                align='left'),\n",
    "    cells=dict(values=[average_data['Country'],\n",
    "                       average_data['s_s'].apply(format_decimal),\n",
    "                       average_data['gdp'].apply(format_decimal),\n",
    "                       average_data['s_s_gdp_ratio'].apply(format_decimal)],\n",
    "               line_color='black',\n",
    "               fill_color='white',\n",
    "               align='left'))\n",
    "])\n",
    "\n",
    "fig.update_layout(width=800, height=500)\n",
    "fig.show()\n"
   ]
  },
  {
   "cell_type": "code",
   "execution_count": 11,
   "metadata": {},
   "outputs": [
    {
     "data": {
      "application/vnd.plotly.v1+json": {
       "config": {
        "plotlyServerURL": "https://plot.ly"
       },
       "data": [
        {
         "cells": {
          "align": "left",
          "fill": {
           "color": "white"
          },
          "line": {
           "color": "black"
          },
          "values": [
           [
            "Australia",
            "Austria",
            "Belgium",
            "Canada",
            "Chile",
            "Colombia",
            "Costa Rica",
            "Czechia",
            "Denmark",
            "Estonia",
            "Finland",
            "France",
            "Germany",
            "Greece",
            "Hungary",
            "Iceland",
            "Ireland",
            "Israel",
            "Italy",
            "Japan",
            "Korea",
            "Latvia",
            "Lithuania",
            "Luxembourg",
            "Mexico",
            "Netherlands",
            "New Zealand",
            "Norway",
            "Poland",
            "Portugal",
            "Slovak Republic",
            "Slovenia",
            "Spain",
            "Sweden",
            "Switzerland",
            "Türkiye",
            "United Kingdom",
            "United States"
           ],
           [
            2.64,
            2.76,
            3.18,
            1.5133333333333332,
            1.4333333333333333,
            1.6600000000000001,
            0.89,
            2.066666666666667,
            3.6333333333333333,
            2.8000000000000003,
            2.9866666666666664,
            3.6357142857142857,
            3.046666666666667,
            1.3545454545454545,
            3.3466666666666667,
            3.2333333333333334,
            2.6333333333333333,
            2.209090909090909,
            1.8909090909090909,
            1.4428571428571428,
            0.9733333333333333,
            2.1,
            2.2,
            3.426315789473684,
            0.8947368421052632,
            1.8333333333333333,
            2.973684210526316,
            3.142105263157895,
            1.7842105263157895,
            1.4666666666666666,
            2.006666666666667,
            1.905263157894737,
            1.3210526315789475,
            3.3210526315789473,
            1.8,
            0.3368421052631579,
            3.305263157894737,
            1.16
           ],
           [
            947.4142105263157,
            367.80842105263156,
            443.73,
            1400.496842105263,
            317.82842105263154,
            502.2426315789474,
            66.07263157894737,
            301.94421052631577,
            240.44894736842105,
            31.55473684210526,
            209.63210526315788,
            2388.204210526316,
            3353.6431578947368,
            295.21315789473687,
            222.37842105263155,
            13.97578947368421,
            236.61684210526317,
            244.4078947368421,
            2092.1652631578945,
            4577.864736842105,
            1577.2263157894736,
            40.88789473684211,
            67.9857894736842,
            47.74631578947369,
            1884.6984210526314,
            760.4494736842106,
            143.9678947368421,
            281.3831578947368,
            803.6257894736842,
            281.6336842105263,
            127.96736842105264,
            58.902105263157885,
            1466.668947368421,
            405.7978947368421,
            436.17157894736846,
            1396.5926315789475,
            2384.88,
            15581.214210526316
           ],
           [
            "2.79e-03",
            "7.50e-03",
            "7.17e-03",
            "1.08e-03",
            "4.51e-03",
            "3.31e-03",
            "1.35e-02",
            "6.84e-03",
            "1.51e-02",
            "8.87e-02",
            "1.42e-02",
            "1.52e-03",
            "9.08e-04",
            "4.59e-03",
            "1.50e-02",
            "2.31e-01",
            "1.11e-02",
            "9.04e-03",
            "9.04e-04",
            "3.15e-04",
            "6.17e-04",
            "5.14e-02",
            "3.24e-02",
            "7.18e-02",
            "4.75e-04",
            "2.41e-03",
            "2.07e-02",
            "1.12e-02",
            "2.22e-03",
            "5.21e-03",
            "1.57e-02",
            "3.23e-02",
            "9.01e-04",
            "8.18e-03",
            "4.13e-03",
            "2.41e-04",
            "1.39e-03",
            "7.44e-05"
           ]
          ]
         },
         "header": {
          "align": "left",
          "fill": {
           "color": "#f7ebdb"
          },
          "line": {
           "color": "black"
          },
          "values": [
           "<b>Country</b>",
           "<b>Average Percentage Spent</b>",
           "<b>Average GDP (Billions)</b>",
           "<b>Percentage of Average Social Spending out of GDP (%)</b>"
          ]
         },
         "type": "table"
        }
       ],
       "layout": {
        "height": 500,
        "template": {
         "data": {
          "bar": [
           {
            "error_x": {
             "color": "#2a3f5f"
            },
            "error_y": {
             "color": "#2a3f5f"
            },
            "marker": {
             "line": {
              "color": "#E5ECF6",
              "width": 0.5
             },
             "pattern": {
              "fillmode": "overlay",
              "size": 10,
              "solidity": 0.2
             }
            },
            "type": "bar"
           }
          ],
          "barpolar": [
           {
            "marker": {
             "line": {
              "color": "#E5ECF6",
              "width": 0.5
             },
             "pattern": {
              "fillmode": "overlay",
              "size": 10,
              "solidity": 0.2
             }
            },
            "type": "barpolar"
           }
          ],
          "carpet": [
           {
            "aaxis": {
             "endlinecolor": "#2a3f5f",
             "gridcolor": "white",
             "linecolor": "white",
             "minorgridcolor": "white",
             "startlinecolor": "#2a3f5f"
            },
            "baxis": {
             "endlinecolor": "#2a3f5f",
             "gridcolor": "white",
             "linecolor": "white",
             "minorgridcolor": "white",
             "startlinecolor": "#2a3f5f"
            },
            "type": "carpet"
           }
          ],
          "choropleth": [
           {
            "colorbar": {
             "outlinewidth": 0,
             "ticks": ""
            },
            "type": "choropleth"
           }
          ],
          "contour": [
           {
            "colorbar": {
             "outlinewidth": 0,
             "ticks": ""
            },
            "colorscale": [
             [
              0,
              "#0d0887"
             ],
             [
              0.1111111111111111,
              "#46039f"
             ],
             [
              0.2222222222222222,
              "#7201a8"
             ],
             [
              0.3333333333333333,
              "#9c179e"
             ],
             [
              0.4444444444444444,
              "#bd3786"
             ],
             [
              0.5555555555555556,
              "#d8576b"
             ],
             [
              0.6666666666666666,
              "#ed7953"
             ],
             [
              0.7777777777777778,
              "#fb9f3a"
             ],
             [
              0.8888888888888888,
              "#fdca26"
             ],
             [
              1,
              "#f0f921"
             ]
            ],
            "type": "contour"
           }
          ],
          "contourcarpet": [
           {
            "colorbar": {
             "outlinewidth": 0,
             "ticks": ""
            },
            "type": "contourcarpet"
           }
          ],
          "heatmap": [
           {
            "colorbar": {
             "outlinewidth": 0,
             "ticks": ""
            },
            "colorscale": [
             [
              0,
              "#0d0887"
             ],
             [
              0.1111111111111111,
              "#46039f"
             ],
             [
              0.2222222222222222,
              "#7201a8"
             ],
             [
              0.3333333333333333,
              "#9c179e"
             ],
             [
              0.4444444444444444,
              "#bd3786"
             ],
             [
              0.5555555555555556,
              "#d8576b"
             ],
             [
              0.6666666666666666,
              "#ed7953"
             ],
             [
              0.7777777777777778,
              "#fb9f3a"
             ],
             [
              0.8888888888888888,
              "#fdca26"
             ],
             [
              1,
              "#f0f921"
             ]
            ],
            "type": "heatmap"
           }
          ],
          "heatmapgl": [
           {
            "colorbar": {
             "outlinewidth": 0,
             "ticks": ""
            },
            "colorscale": [
             [
              0,
              "#0d0887"
             ],
             [
              0.1111111111111111,
              "#46039f"
             ],
             [
              0.2222222222222222,
              "#7201a8"
             ],
             [
              0.3333333333333333,
              "#9c179e"
             ],
             [
              0.4444444444444444,
              "#bd3786"
             ],
             [
              0.5555555555555556,
              "#d8576b"
             ],
             [
              0.6666666666666666,
              "#ed7953"
             ],
             [
              0.7777777777777778,
              "#fb9f3a"
             ],
             [
              0.8888888888888888,
              "#fdca26"
             ],
             [
              1,
              "#f0f921"
             ]
            ],
            "type": "heatmapgl"
           }
          ],
          "histogram": [
           {
            "marker": {
             "pattern": {
              "fillmode": "overlay",
              "size": 10,
              "solidity": 0.2
             }
            },
            "type": "histogram"
           }
          ],
          "histogram2d": [
           {
            "colorbar": {
             "outlinewidth": 0,
             "ticks": ""
            },
            "colorscale": [
             [
              0,
              "#0d0887"
             ],
             [
              0.1111111111111111,
              "#46039f"
             ],
             [
              0.2222222222222222,
              "#7201a8"
             ],
             [
              0.3333333333333333,
              "#9c179e"
             ],
             [
              0.4444444444444444,
              "#bd3786"
             ],
             [
              0.5555555555555556,
              "#d8576b"
             ],
             [
              0.6666666666666666,
              "#ed7953"
             ],
             [
              0.7777777777777778,
              "#fb9f3a"
             ],
             [
              0.8888888888888888,
              "#fdca26"
             ],
             [
              1,
              "#f0f921"
             ]
            ],
            "type": "histogram2d"
           }
          ],
          "histogram2dcontour": [
           {
            "colorbar": {
             "outlinewidth": 0,
             "ticks": ""
            },
            "colorscale": [
             [
              0,
              "#0d0887"
             ],
             [
              0.1111111111111111,
              "#46039f"
             ],
             [
              0.2222222222222222,
              "#7201a8"
             ],
             [
              0.3333333333333333,
              "#9c179e"
             ],
             [
              0.4444444444444444,
              "#bd3786"
             ],
             [
              0.5555555555555556,
              "#d8576b"
             ],
             [
              0.6666666666666666,
              "#ed7953"
             ],
             [
              0.7777777777777778,
              "#fb9f3a"
             ],
             [
              0.8888888888888888,
              "#fdca26"
             ],
             [
              1,
              "#f0f921"
             ]
            ],
            "type": "histogram2dcontour"
           }
          ],
          "mesh3d": [
           {
            "colorbar": {
             "outlinewidth": 0,
             "ticks": ""
            },
            "type": "mesh3d"
           }
          ],
          "parcoords": [
           {
            "line": {
             "colorbar": {
              "outlinewidth": 0,
              "ticks": ""
             }
            },
            "type": "parcoords"
           }
          ],
          "pie": [
           {
            "automargin": true,
            "type": "pie"
           }
          ],
          "scatter": [
           {
            "fillpattern": {
             "fillmode": "overlay",
             "size": 10,
             "solidity": 0.2
            },
            "type": "scatter"
           }
          ],
          "scatter3d": [
           {
            "line": {
             "colorbar": {
              "outlinewidth": 0,
              "ticks": ""
             }
            },
            "marker": {
             "colorbar": {
              "outlinewidth": 0,
              "ticks": ""
             }
            },
            "type": "scatter3d"
           }
          ],
          "scattercarpet": [
           {
            "marker": {
             "colorbar": {
              "outlinewidth": 0,
              "ticks": ""
             }
            },
            "type": "scattercarpet"
           }
          ],
          "scattergeo": [
           {
            "marker": {
             "colorbar": {
              "outlinewidth": 0,
              "ticks": ""
             }
            },
            "type": "scattergeo"
           }
          ],
          "scattergl": [
           {
            "marker": {
             "colorbar": {
              "outlinewidth": 0,
              "ticks": ""
             }
            },
            "type": "scattergl"
           }
          ],
          "scattermapbox": [
           {
            "marker": {
             "colorbar": {
              "outlinewidth": 0,
              "ticks": ""
             }
            },
            "type": "scattermapbox"
           }
          ],
          "scatterpolar": [
           {
            "marker": {
             "colorbar": {
              "outlinewidth": 0,
              "ticks": ""
             }
            },
            "type": "scatterpolar"
           }
          ],
          "scatterpolargl": [
           {
            "marker": {
             "colorbar": {
              "outlinewidth": 0,
              "ticks": ""
             }
            },
            "type": "scatterpolargl"
           }
          ],
          "scatterternary": [
           {
            "marker": {
             "colorbar": {
              "outlinewidth": 0,
              "ticks": ""
             }
            },
            "type": "scatterternary"
           }
          ],
          "surface": [
           {
            "colorbar": {
             "outlinewidth": 0,
             "ticks": ""
            },
            "colorscale": [
             [
              0,
              "#0d0887"
             ],
             [
              0.1111111111111111,
              "#46039f"
             ],
             [
              0.2222222222222222,
              "#7201a8"
             ],
             [
              0.3333333333333333,
              "#9c179e"
             ],
             [
              0.4444444444444444,
              "#bd3786"
             ],
             [
              0.5555555555555556,
              "#d8576b"
             ],
             [
              0.6666666666666666,
              "#ed7953"
             ],
             [
              0.7777777777777778,
              "#fb9f3a"
             ],
             [
              0.8888888888888888,
              "#fdca26"
             ],
             [
              1,
              "#f0f921"
             ]
            ],
            "type": "surface"
           }
          ],
          "table": [
           {
            "cells": {
             "fill": {
              "color": "#EBF0F8"
             },
             "line": {
              "color": "white"
             }
            },
            "header": {
             "fill": {
              "color": "#C8D4E3"
             },
             "line": {
              "color": "white"
             }
            },
            "type": "table"
           }
          ]
         },
         "layout": {
          "annotationdefaults": {
           "arrowcolor": "#2a3f5f",
           "arrowhead": 0,
           "arrowwidth": 1
          },
          "autotypenumbers": "strict",
          "coloraxis": {
           "colorbar": {
            "outlinewidth": 0,
            "ticks": ""
           }
          },
          "colorscale": {
           "diverging": [
            [
             0,
             "#8e0152"
            ],
            [
             0.1,
             "#c51b7d"
            ],
            [
             0.2,
             "#de77ae"
            ],
            [
             0.3,
             "#f1b6da"
            ],
            [
             0.4,
             "#fde0ef"
            ],
            [
             0.5,
             "#f7f7f7"
            ],
            [
             0.6,
             "#e6f5d0"
            ],
            [
             0.7,
             "#b8e186"
            ],
            [
             0.8,
             "#7fbc41"
            ],
            [
             0.9,
             "#4d9221"
            ],
            [
             1,
             "#276419"
            ]
           ],
           "sequential": [
            [
             0,
             "#0d0887"
            ],
            [
             0.1111111111111111,
             "#46039f"
            ],
            [
             0.2222222222222222,
             "#7201a8"
            ],
            [
             0.3333333333333333,
             "#9c179e"
            ],
            [
             0.4444444444444444,
             "#bd3786"
            ],
            [
             0.5555555555555556,
             "#d8576b"
            ],
            [
             0.6666666666666666,
             "#ed7953"
            ],
            [
             0.7777777777777778,
             "#fb9f3a"
            ],
            [
             0.8888888888888888,
             "#fdca26"
            ],
            [
             1,
             "#f0f921"
            ]
           ],
           "sequentialminus": [
            [
             0,
             "#0d0887"
            ],
            [
             0.1111111111111111,
             "#46039f"
            ],
            [
             0.2222222222222222,
             "#7201a8"
            ],
            [
             0.3333333333333333,
             "#9c179e"
            ],
            [
             0.4444444444444444,
             "#bd3786"
            ],
            [
             0.5555555555555556,
             "#d8576b"
            ],
            [
             0.6666666666666666,
             "#ed7953"
            ],
            [
             0.7777777777777778,
             "#fb9f3a"
            ],
            [
             0.8888888888888888,
             "#fdca26"
            ],
            [
             1,
             "#f0f921"
            ]
           ]
          },
          "colorway": [
           "#636efa",
           "#EF553B",
           "#00cc96",
           "#ab63fa",
           "#FFA15A",
           "#19d3f3",
           "#FF6692",
           "#B6E880",
           "#FF97FF",
           "#FECB52"
          ],
          "font": {
           "color": "#2a3f5f"
          },
          "geo": {
           "bgcolor": "white",
           "lakecolor": "white",
           "landcolor": "#E5ECF6",
           "showlakes": true,
           "showland": true,
           "subunitcolor": "white"
          },
          "hoverlabel": {
           "align": "left"
          },
          "hovermode": "closest",
          "mapbox": {
           "style": "light"
          },
          "paper_bgcolor": "white",
          "plot_bgcolor": "#E5ECF6",
          "polar": {
           "angularaxis": {
            "gridcolor": "white",
            "linecolor": "white",
            "ticks": ""
           },
           "bgcolor": "#E5ECF6",
           "radialaxis": {
            "gridcolor": "white",
            "linecolor": "white",
            "ticks": ""
           }
          },
          "scene": {
           "xaxis": {
            "backgroundcolor": "#E5ECF6",
            "gridcolor": "white",
            "gridwidth": 2,
            "linecolor": "white",
            "showbackground": true,
            "ticks": "",
            "zerolinecolor": "white"
           },
           "yaxis": {
            "backgroundcolor": "#E5ECF6",
            "gridcolor": "white",
            "gridwidth": 2,
            "linecolor": "white",
            "showbackground": true,
            "ticks": "",
            "zerolinecolor": "white"
           },
           "zaxis": {
            "backgroundcolor": "#E5ECF6",
            "gridcolor": "white",
            "gridwidth": 2,
            "linecolor": "white",
            "showbackground": true,
            "ticks": "",
            "zerolinecolor": "white"
           }
          },
          "shapedefaults": {
           "line": {
            "color": "#2a3f5f"
           }
          },
          "ternary": {
           "aaxis": {
            "gridcolor": "white",
            "linecolor": "white",
            "ticks": ""
           },
           "baxis": {
            "gridcolor": "white",
            "linecolor": "white",
            "ticks": ""
           },
           "bgcolor": "#E5ECF6",
           "caxis": {
            "gridcolor": "white",
            "linecolor": "white",
            "ticks": ""
           }
          },
          "title": {
           "x": 0.05
          },
          "xaxis": {
           "automargin": true,
           "gridcolor": "white",
           "linecolor": "white",
           "ticks": "",
           "title": {
            "standoff": 15
           },
           "zerolinecolor": "white",
           "zerolinewidth": 2
          },
          "yaxis": {
           "automargin": true,
           "gridcolor": "white",
           "linecolor": "white",
           "ticks": "",
           "title": {
            "standoff": 15
           },
           "zerolinecolor": "white",
           "zerolinewidth": 2
          }
         }
        },
        "width": 800
       }
      }
     },
     "metadata": {},
     "output_type": "display_data"
    }
   ],
   "source": [
    "import plotly.graph_objects as go\n",
    "\n",
    "fig = go.Figure(data=[go.Table(\n",
    "    header=dict(values=['<b>Country</b>', '<b>Average Percentage Spent</b>', '<b>Average GDP (Billions)</b>', '<b>Percentage of Average Social Spending out of GDP (%)</b>'],\n",
    "                line_color='black',\n",
    "                fill_color='#f7ebdb',\n",
    "                align='left'),\n",
    "    cells=dict(values=[average_data['Country'],\n",
    "                       average_data['s_s'],\n",
    "                       average_data['gdp'],\n",
    "                       average_data['s_s_gdp_ratio'].apply(lambda x: f'{x:.2e}')],\n",
    "               line_color='black',\n",
    "               fill_color='white',\n",
    "               align='left'))\n",
    "])\n",
    "\n",
    "fig.update_layout(width=800, height=500)\n",
    "fig.show()\n"
   ]
  },
  {
   "cell_type": "code",
   "execution_count": 4,
   "metadata": {},
   "outputs": [
    {
     "name": "stdout",
     "output_type": "stream",
     "text": [
      "Iceland Results:\n",
      "Average Percentage Social Spending: 3.2333333333333334\n",
      "Average GDP: 13.97578947368421\n",
      "Ratio of Average Social Spending to GDP: 0.23135246416108057\n"
     ]
    }
   ],
   "source": [
    "iceland_data = average_data[average_data['Country'] == 'Iceland']\n",
    "print(\"Iceland Results:\")\n",
    "print(\"Average Percentage Social Spending:\", iceland_data['s_s'].values[0])\n",
    "print(\"Average GDP:\", iceland_data['gdp'].values[0])\n",
    "print(\"Ratio of Average Social Spending to GDP:\", iceland_data['s_s_gdp_ratio'].values[0])"
   ]
  },
  {
   "cell_type": "code",
   "execution_count": 5,
   "metadata": {},
   "outputs": [
    {
     "name": "stderr",
     "output_type": "stream",
     "text": [
      "/var/folders/x3/1m329lgj7sl4y1pqkx_p_f_80000gn/T/ipykernel_91665/1528611557.py:13: FutureWarning:\n",
      "\n",
      "DataFrame.applymap has been deprecated. Use DataFrame.map instead.\n",
      "\n"
     ]
    },
    {
     "data": {
      "application/vnd.plotly.v1+json": {
       "config": {
        "plotlyServerURL": "https://plot.ly"
       },
       "data": [
        {
         "marker": {
          "color": [
           "rgb(255, 0, 0)",
           "rgb(0, 255, 0)",
           "rgb(0, 0, 255)",
           "rgb(255, 255, 0)",
           "rgb(255, 0, 255)",
           "rgb(0, 255, 255)",
           "rgb(255, 127, 0)",
           "rgb(255, 0, 127)",
           "rgb(0, 127, 255)",
           "rgb(127, 255, 0)",
           "rgb(0, 255, 127)",
           "rgb(127, 0, 255)",
           "rgb(255, 255, 127)",
           "rgb(127, 255, 255)",
           "rgb(255, 127, 255)",
           "rgb(255, 0, 0)",
           "rgb(0, 255, 0)",
           "rgb(0, 0, 255)",
           "rgb(255, 255, 0)",
           "rgb(255, 0, 255)",
           "rgb(0, 255, 255)",
           "rgb(255, 127, 0)",
           "rgb(255, 0, 127)",
           "rgb(0, 127, 255)",
           "rgb(127, 255, 0)",
           "rgb(0, 255, 127)",
           "rgb(127, 0, 255)",
           "rgb(255, 255, 127)",
           "rgb(127, 255, 255)",
           "rgb(255, 127, 255)",
           "rgb(255, 0, 0)",
           "rgb(0, 255, 0)",
           "rgb(0, 0, 255)",
           "rgb(255, 255, 0)",
           "rgb(255, 0, 255)",
           "rgb(0, 255, 255)",
           "rgb(255, 127, 0)",
           "rgb(255, 0, 127)"
          ],
          "size": [
           278.65319842874266,
           750.3906495944684,
           716.6520181191265,
           108.05689008612481,
           450.97708020768135,
           330.5175418465179,
           1347.002501234686,
           684.453152144988,
           1511.062274590149,
           8873.469660072726,
           1424.7181570386883,
           152.23632341360968,
           90.8464771958393,
           458.8364096658727,
           1504.942184059573,
           23135.246416108057,
           1112.9103532545025,
           903.8541539214486,
           90.38048399938398,
           31.518125278914468,
           61.71171020857179,
           5135.994439224066,
           3235.970365324023,
           7176.084128838818,
           47.47374073808263,
           241.08548914515467,
           2065.5189936352767,
           1116.664297418018,
           222.02006825643514,
           520.7710401467128,
           1568.108097733249,
           3234.6265882731395,
           90.07163027138834,
           818.4006557581164,
           412.6816342192715,
           24.118851671323362,
           138.59243055813025,
           7.444862668124607
          ],
          "sizemin": 4,
          "sizemode": "area",
          "sizeref": 4.627049283221611
         },
         "mode": "markers",
         "text": [
          "Country: Australia<br>Avg Social Spending: 2.64<br>Avg GDP: 947.4142105263157<br>Ratio: 0.2787",
          "Country: Austria<br>Avg Social Spending: 2.76<br>Avg GDP: 367.80842105263156<br>Ratio: 0.7504",
          "Country: Belgium<br>Avg Social Spending: 3.18<br>Avg GDP: 443.73<br>Ratio: 0.7167",
          "Country: Canada<br>Avg Social Spending: 1.5133333333333332<br>Avg GDP: 1,400.496842105263<br>Ratio: 0.1081",
          "Country: Chile<br>Avg Social Spending: 1.4333333333333333<br>Avg GDP: 317.82842105263154<br>Ratio: 0.4510",
          "Country: Colombia<br>Avg Social Spending: 1.6600000000000001<br>Avg GDP: 502.2426315789474<br>Ratio: 0.3305",
          "Country: Costa Rica<br>Avg Social Spending: 0.89<br>Avg GDP: 66.07263157894737<br>Ratio: 1.3470",
          "Country: Czechia<br>Avg Social Spending: 2.066666666666667<br>Avg GDP: 301.94421052631577<br>Ratio: 0.6845",
          "Country: Denmark<br>Avg Social Spending: 3.6333333333333333<br>Avg GDP: 240.44894736842105<br>Ratio: 1.5111",
          "Country: Estonia<br>Avg Social Spending: 2.8000000000000003<br>Avg GDP: 31.55473684210526<br>Ratio: 8.8735",
          "Country: Finland<br>Avg Social Spending: 2.9866666666666664<br>Avg GDP: 209.63210526315788<br>Ratio: 1.4247",
          "Country: France<br>Avg Social Spending: 3.6357142857142857<br>Avg GDP: 2,388.204210526316<br>Ratio: 0.1522",
          "Country: Germany<br>Avg Social Spending: 3.046666666666667<br>Avg GDP: 3,353.6431578947368<br>Ratio: 0.0908",
          "Country: Greece<br>Avg Social Spending: 1.3545454545454545<br>Avg GDP: 295.21315789473687<br>Ratio: 0.4588",
          "Country: Hungary<br>Avg Social Spending: 3.3466666666666667<br>Avg GDP: 222.37842105263155<br>Ratio: 1.5049",
          "Country: Iceland<br>Avg Social Spending: 3.2333333333333334<br>Avg GDP: 13.97578947368421<br>Ratio: 23.1352",
          "Country: Ireland<br>Avg Social Spending: 2.6333333333333333<br>Avg GDP: 236.61684210526317<br>Ratio: 1.1129",
          "Country: Israel<br>Avg Social Spending: 2.209090909090909<br>Avg GDP: 244.4078947368421<br>Ratio: 0.9039",
          "Country: Italy<br>Avg Social Spending: 1.8909090909090909<br>Avg GDP: 2,092.1652631578945<br>Ratio: 0.0904",
          "Country: Japan<br>Avg Social Spending: 1.4428571428571428<br>Avg GDP: 4,577.864736842105<br>Ratio: 0.0315",
          "Country: Korea<br>Avg Social Spending: 0.9733333333333333<br>Avg GDP: 1,577.2263157894736<br>Ratio: 0.0617",
          "Country: Latvia<br>Avg Social Spending: 2.1<br>Avg GDP: 40.88789473684211<br>Ratio: 5.1360",
          "Country: Lithuania<br>Avg Social Spending: 2.2<br>Avg GDP: 67.9857894736842<br>Ratio: 3.2360",
          "Country: Luxembourg<br>Avg Social Spending: 3.426315789473684<br>Avg GDP: 47.74631578947369<br>Ratio: 7.1761",
          "Country: Mexico<br>Avg Social Spending: 0.8947368421052632<br>Avg GDP: 1,884.6984210526314<br>Ratio: 0.0475",
          "Country: Netherlands<br>Avg Social Spending: 1.8333333333333333<br>Avg GDP: 760.4494736842106<br>Ratio: 0.2411",
          "Country: New Zealand<br>Avg Social Spending: 2.973684210526316<br>Avg GDP: 143.9678947368421<br>Ratio: 2.0655",
          "Country: Norway<br>Avg Social Spending: 3.142105263157895<br>Avg GDP: 281.3831578947368<br>Ratio: 1.1167",
          "Country: Poland<br>Avg Social Spending: 1.7842105263157895<br>Avg GDP: 803.6257894736842<br>Ratio: 0.2220",
          "Country: Portugal<br>Avg Social Spending: 1.4666666666666666<br>Avg GDP: 281.6336842105263<br>Ratio: 0.5208",
          "Country: Slovak Republic<br>Avg Social Spending: 2.006666666666667<br>Avg GDP: 127.96736842105264<br>Ratio: 1.5681",
          "Country: Slovenia<br>Avg Social Spending: 1.905263157894737<br>Avg GDP: 58.902105263157885<br>Ratio: 3.2346",
          "Country: Spain<br>Avg Social Spending: 1.3210526315789475<br>Avg GDP: 1,466.668947368421<br>Ratio: 0.0901",
          "Country: Sweden<br>Avg Social Spending: 3.3210526315789473<br>Avg GDP: 405.7978947368421<br>Ratio: 0.8184",
          "Country: Switzerland<br>Avg Social Spending: 1.8<br>Avg GDP: 436.17157894736846<br>Ratio: 0.4127",
          "Country: Türkiye<br>Avg Social Spending: 0.3368421052631579<br>Avg GDP: 1,396.5926315789475<br>Ratio: 0.0241",
          "Country: United Kingdom<br>Avg Social Spending: 3.305263157894737<br>Avg GDP: 2,384.88<br>Ratio: 0.1386",
          "Country: United States<br>Avg Social Spending: 1.16<br>Avg GDP: 15,581.214210526316<br>Ratio: 0.0074"
         ],
         "type": "scatter",
         "x": [
          0.27865319842874264,
          0.7503906495944684,
          0.7166520181191265,
          0.1080568900861248,
          0.45097708020768135,
          0.3305175418465179,
          1.347002501234686,
          0.684453152144988,
          1.511062274590149,
          8.873469660072725,
          1.4247181570386884,
          0.15223632341360968,
          0.0908464771958393,
          0.4588364096658727,
          1.5049421840595731,
          23.135246416108057,
          1.1129103532545026,
          0.9038541539214486,
          0.09038048399938399,
          0.03151812527891447,
          0.06171171020857179,
          5.135994439224066,
          3.235970365324023,
          7.176084128838818,
          0.04747374073808263,
          0.24108548914515468,
          2.0655189936352767,
          1.1166642974180179,
          0.22202006825643514,
          0.5207710401467128,
          1.5681080977332489,
          3.2346265882731395,
          0.09007163027138834,
          0.8184006557581164,
          0.41268163421927145,
          0.02411885167132336,
          0.13859243055813025,
          0.007444862668124607
         ],
         "y": [
          947.4142105263157,
          367.80842105263156,
          443.73,
          1400.496842105263,
          317.82842105263154,
          502.2426315789474,
          66.07263157894737,
          301.94421052631577,
          240.44894736842105,
          31.55473684210526,
          209.63210526315788,
          2388.204210526316,
          3353.6431578947368,
          295.21315789473687,
          222.37842105263155,
          13.97578947368421,
          236.61684210526317,
          244.4078947368421,
          2092.1652631578945,
          4577.864736842105,
          1577.2263157894736,
          40.88789473684211,
          67.9857894736842,
          47.74631578947369,
          1884.6984210526314,
          760.4494736842106,
          143.9678947368421,
          281.3831578947368,
          803.6257894736842,
          281.6336842105263,
          127.96736842105264,
          58.902105263157885,
          1466.668947368421,
          405.7978947368421,
          436.17157894736846,
          1396.5926315789475,
          2384.88,
          15581.214210526316
         ]
        }
       ],
       "layout": {
        "plot_bgcolor": "#faf0e6",
        "showlegend": false,
        "template": {
         "data": {
          "bar": [
           {
            "error_x": {
             "color": "#2a3f5f"
            },
            "error_y": {
             "color": "#2a3f5f"
            },
            "marker": {
             "line": {
              "color": "#E5ECF6",
              "width": 0.5
             },
             "pattern": {
              "fillmode": "overlay",
              "size": 10,
              "solidity": 0.2
             }
            },
            "type": "bar"
           }
          ],
          "barpolar": [
           {
            "marker": {
             "line": {
              "color": "#E5ECF6",
              "width": 0.5
             },
             "pattern": {
              "fillmode": "overlay",
              "size": 10,
              "solidity": 0.2
             }
            },
            "type": "barpolar"
           }
          ],
          "carpet": [
           {
            "aaxis": {
             "endlinecolor": "#2a3f5f",
             "gridcolor": "white",
             "linecolor": "white",
             "minorgridcolor": "white",
             "startlinecolor": "#2a3f5f"
            },
            "baxis": {
             "endlinecolor": "#2a3f5f",
             "gridcolor": "white",
             "linecolor": "white",
             "minorgridcolor": "white",
             "startlinecolor": "#2a3f5f"
            },
            "type": "carpet"
           }
          ],
          "choropleth": [
           {
            "colorbar": {
             "outlinewidth": 0,
             "ticks": ""
            },
            "type": "choropleth"
           }
          ],
          "contour": [
           {
            "colorbar": {
             "outlinewidth": 0,
             "ticks": ""
            },
            "colorscale": [
             [
              0,
              "#0d0887"
             ],
             [
              0.1111111111111111,
              "#46039f"
             ],
             [
              0.2222222222222222,
              "#7201a8"
             ],
             [
              0.3333333333333333,
              "#9c179e"
             ],
             [
              0.4444444444444444,
              "#bd3786"
             ],
             [
              0.5555555555555556,
              "#d8576b"
             ],
             [
              0.6666666666666666,
              "#ed7953"
             ],
             [
              0.7777777777777778,
              "#fb9f3a"
             ],
             [
              0.8888888888888888,
              "#fdca26"
             ],
             [
              1,
              "#f0f921"
             ]
            ],
            "type": "contour"
           }
          ],
          "contourcarpet": [
           {
            "colorbar": {
             "outlinewidth": 0,
             "ticks": ""
            },
            "type": "contourcarpet"
           }
          ],
          "heatmap": [
           {
            "colorbar": {
             "outlinewidth": 0,
             "ticks": ""
            },
            "colorscale": [
             [
              0,
              "#0d0887"
             ],
             [
              0.1111111111111111,
              "#46039f"
             ],
             [
              0.2222222222222222,
              "#7201a8"
             ],
             [
              0.3333333333333333,
              "#9c179e"
             ],
             [
              0.4444444444444444,
              "#bd3786"
             ],
             [
              0.5555555555555556,
              "#d8576b"
             ],
             [
              0.6666666666666666,
              "#ed7953"
             ],
             [
              0.7777777777777778,
              "#fb9f3a"
             ],
             [
              0.8888888888888888,
              "#fdca26"
             ],
             [
              1,
              "#f0f921"
             ]
            ],
            "type": "heatmap"
           }
          ],
          "heatmapgl": [
           {
            "colorbar": {
             "outlinewidth": 0,
             "ticks": ""
            },
            "colorscale": [
             [
              0,
              "#0d0887"
             ],
             [
              0.1111111111111111,
              "#46039f"
             ],
             [
              0.2222222222222222,
              "#7201a8"
             ],
             [
              0.3333333333333333,
              "#9c179e"
             ],
             [
              0.4444444444444444,
              "#bd3786"
             ],
             [
              0.5555555555555556,
              "#d8576b"
             ],
             [
              0.6666666666666666,
              "#ed7953"
             ],
             [
              0.7777777777777778,
              "#fb9f3a"
             ],
             [
              0.8888888888888888,
              "#fdca26"
             ],
             [
              1,
              "#f0f921"
             ]
            ],
            "type": "heatmapgl"
           }
          ],
          "histogram": [
           {
            "marker": {
             "pattern": {
              "fillmode": "overlay",
              "size": 10,
              "solidity": 0.2
             }
            },
            "type": "histogram"
           }
          ],
          "histogram2d": [
           {
            "colorbar": {
             "outlinewidth": 0,
             "ticks": ""
            },
            "colorscale": [
             [
              0,
              "#0d0887"
             ],
             [
              0.1111111111111111,
              "#46039f"
             ],
             [
              0.2222222222222222,
              "#7201a8"
             ],
             [
              0.3333333333333333,
              "#9c179e"
             ],
             [
              0.4444444444444444,
              "#bd3786"
             ],
             [
              0.5555555555555556,
              "#d8576b"
             ],
             [
              0.6666666666666666,
              "#ed7953"
             ],
             [
              0.7777777777777778,
              "#fb9f3a"
             ],
             [
              0.8888888888888888,
              "#fdca26"
             ],
             [
              1,
              "#f0f921"
             ]
            ],
            "type": "histogram2d"
           }
          ],
          "histogram2dcontour": [
           {
            "colorbar": {
             "outlinewidth": 0,
             "ticks": ""
            },
            "colorscale": [
             [
              0,
              "#0d0887"
             ],
             [
              0.1111111111111111,
              "#46039f"
             ],
             [
              0.2222222222222222,
              "#7201a8"
             ],
             [
              0.3333333333333333,
              "#9c179e"
             ],
             [
              0.4444444444444444,
              "#bd3786"
             ],
             [
              0.5555555555555556,
              "#d8576b"
             ],
             [
              0.6666666666666666,
              "#ed7953"
             ],
             [
              0.7777777777777778,
              "#fb9f3a"
             ],
             [
              0.8888888888888888,
              "#fdca26"
             ],
             [
              1,
              "#f0f921"
             ]
            ],
            "type": "histogram2dcontour"
           }
          ],
          "mesh3d": [
           {
            "colorbar": {
             "outlinewidth": 0,
             "ticks": ""
            },
            "type": "mesh3d"
           }
          ],
          "parcoords": [
           {
            "line": {
             "colorbar": {
              "outlinewidth": 0,
              "ticks": ""
             }
            },
            "type": "parcoords"
           }
          ],
          "pie": [
           {
            "automargin": true,
            "type": "pie"
           }
          ],
          "scatter": [
           {
            "fillpattern": {
             "fillmode": "overlay",
             "size": 10,
             "solidity": 0.2
            },
            "type": "scatter"
           }
          ],
          "scatter3d": [
           {
            "line": {
             "colorbar": {
              "outlinewidth": 0,
              "ticks": ""
             }
            },
            "marker": {
             "colorbar": {
              "outlinewidth": 0,
              "ticks": ""
             }
            },
            "type": "scatter3d"
           }
          ],
          "scattercarpet": [
           {
            "marker": {
             "colorbar": {
              "outlinewidth": 0,
              "ticks": ""
             }
            },
            "type": "scattercarpet"
           }
          ],
          "scattergeo": [
           {
            "marker": {
             "colorbar": {
              "outlinewidth": 0,
              "ticks": ""
             }
            },
            "type": "scattergeo"
           }
          ],
          "scattergl": [
           {
            "marker": {
             "colorbar": {
              "outlinewidth": 0,
              "ticks": ""
             }
            },
            "type": "scattergl"
           }
          ],
          "scattermapbox": [
           {
            "marker": {
             "colorbar": {
              "outlinewidth": 0,
              "ticks": ""
             }
            },
            "type": "scattermapbox"
           }
          ],
          "scatterpolar": [
           {
            "marker": {
             "colorbar": {
              "outlinewidth": 0,
              "ticks": ""
             }
            },
            "type": "scatterpolar"
           }
          ],
          "scatterpolargl": [
           {
            "marker": {
             "colorbar": {
              "outlinewidth": 0,
              "ticks": ""
             }
            },
            "type": "scatterpolargl"
           }
          ],
          "scatterternary": [
           {
            "marker": {
             "colorbar": {
              "outlinewidth": 0,
              "ticks": ""
             }
            },
            "type": "scatterternary"
           }
          ],
          "surface": [
           {
            "colorbar": {
             "outlinewidth": 0,
             "ticks": ""
            },
            "colorscale": [
             [
              0,
              "#0d0887"
             ],
             [
              0.1111111111111111,
              "#46039f"
             ],
             [
              0.2222222222222222,
              "#7201a8"
             ],
             [
              0.3333333333333333,
              "#9c179e"
             ],
             [
              0.4444444444444444,
              "#bd3786"
             ],
             [
              0.5555555555555556,
              "#d8576b"
             ],
             [
              0.6666666666666666,
              "#ed7953"
             ],
             [
              0.7777777777777778,
              "#fb9f3a"
             ],
             [
              0.8888888888888888,
              "#fdca26"
             ],
             [
              1,
              "#f0f921"
             ]
            ],
            "type": "surface"
           }
          ],
          "table": [
           {
            "cells": {
             "fill": {
              "color": "#EBF0F8"
             },
             "line": {
              "color": "white"
             }
            },
            "header": {
             "fill": {
              "color": "#C8D4E3"
             },
             "line": {
              "color": "white"
             }
            },
            "type": "table"
           }
          ]
         },
         "layout": {
          "annotationdefaults": {
           "arrowcolor": "#2a3f5f",
           "arrowhead": 0,
           "arrowwidth": 1
          },
          "autotypenumbers": "strict",
          "coloraxis": {
           "colorbar": {
            "outlinewidth": 0,
            "ticks": ""
           }
          },
          "colorscale": {
           "diverging": [
            [
             0,
             "#8e0152"
            ],
            [
             0.1,
             "#c51b7d"
            ],
            [
             0.2,
             "#de77ae"
            ],
            [
             0.3,
             "#f1b6da"
            ],
            [
             0.4,
             "#fde0ef"
            ],
            [
             0.5,
             "#f7f7f7"
            ],
            [
             0.6,
             "#e6f5d0"
            ],
            [
             0.7,
             "#b8e186"
            ],
            [
             0.8,
             "#7fbc41"
            ],
            [
             0.9,
             "#4d9221"
            ],
            [
             1,
             "#276419"
            ]
           ],
           "sequential": [
            [
             0,
             "#0d0887"
            ],
            [
             0.1111111111111111,
             "#46039f"
            ],
            [
             0.2222222222222222,
             "#7201a8"
            ],
            [
             0.3333333333333333,
             "#9c179e"
            ],
            [
             0.4444444444444444,
             "#bd3786"
            ],
            [
             0.5555555555555556,
             "#d8576b"
            ],
            [
             0.6666666666666666,
             "#ed7953"
            ],
            [
             0.7777777777777778,
             "#fb9f3a"
            ],
            [
             0.8888888888888888,
             "#fdca26"
            ],
            [
             1,
             "#f0f921"
            ]
           ],
           "sequentialminus": [
            [
             0,
             "#0d0887"
            ],
            [
             0.1111111111111111,
             "#46039f"
            ],
            [
             0.2222222222222222,
             "#7201a8"
            ],
            [
             0.3333333333333333,
             "#9c179e"
            ],
            [
             0.4444444444444444,
             "#bd3786"
            ],
            [
             0.5555555555555556,
             "#d8576b"
            ],
            [
             0.6666666666666666,
             "#ed7953"
            ],
            [
             0.7777777777777778,
             "#fb9f3a"
            ],
            [
             0.8888888888888888,
             "#fdca26"
            ],
            [
             1,
             "#f0f921"
            ]
           ]
          },
          "colorway": [
           "#636efa",
           "#EF553B",
           "#00cc96",
           "#ab63fa",
           "#FFA15A",
           "#19d3f3",
           "#FF6692",
           "#B6E880",
           "#FF97FF",
           "#FECB52"
          ],
          "font": {
           "color": "#2a3f5f"
          },
          "geo": {
           "bgcolor": "white",
           "lakecolor": "white",
           "landcolor": "#E5ECF6",
           "showlakes": true,
           "showland": true,
           "subunitcolor": "white"
          },
          "hoverlabel": {
           "align": "left"
          },
          "hovermode": "closest",
          "mapbox": {
           "style": "light"
          },
          "paper_bgcolor": "white",
          "plot_bgcolor": "#E5ECF6",
          "polar": {
           "angularaxis": {
            "gridcolor": "white",
            "linecolor": "white",
            "ticks": ""
           },
           "bgcolor": "#E5ECF6",
           "radialaxis": {
            "gridcolor": "white",
            "linecolor": "white",
            "ticks": ""
           }
          },
          "scene": {
           "xaxis": {
            "backgroundcolor": "#E5ECF6",
            "gridcolor": "white",
            "gridwidth": 2,
            "linecolor": "white",
            "showbackground": true,
            "ticks": "",
            "zerolinecolor": "white"
           },
           "yaxis": {
            "backgroundcolor": "#E5ECF6",
            "gridcolor": "white",
            "gridwidth": 2,
            "linecolor": "white",
            "showbackground": true,
            "ticks": "",
            "zerolinecolor": "white"
           },
           "zaxis": {
            "backgroundcolor": "#E5ECF6",
            "gridcolor": "white",
            "gridwidth": 2,
            "linecolor": "white",
            "showbackground": true,
            "ticks": "",
            "zerolinecolor": "white"
           }
          },
          "shapedefaults": {
           "line": {
            "color": "#2a3f5f"
           }
          },
          "ternary": {
           "aaxis": {
            "gridcolor": "white",
            "linecolor": "white",
            "ticks": ""
           },
           "baxis": {
            "gridcolor": "white",
            "linecolor": "white",
            "ticks": ""
           },
           "bgcolor": "#E5ECF6",
           "caxis": {
            "gridcolor": "white",
            "linecolor": "white",
            "ticks": ""
           }
          },
          "title": {
           "x": 0.05
          },
          "xaxis": {
           "automargin": true,
           "gridcolor": "white",
           "linecolor": "white",
           "ticks": "",
           "title": {
            "standoff": 15
           },
           "zerolinecolor": "white",
           "zerolinewidth": 2
          },
          "yaxis": {
           "automargin": true,
           "gridcolor": "white",
           "linecolor": "white",
           "ticks": "",
           "title": {
            "standoff": 15
           },
           "zerolinecolor": "white",
           "zerolinewidth": 2
          }
         }
        },
        "title": {
         "text": "Figure 3: Ratio of GDP Spent on Family Benefits"
        },
        "xaxis": {
         "title": {
          "text": "Ratio of GDP spent on Family Benefits"
         }
        },
        "yaxis": {
         "title": {
          "text": "Ratio GDP (Billions) Over 20 Years"
         }
        }
       }
      }
     },
     "metadata": {},
     "output_type": "display_data"
    }
   ],
   "source": [
    "\n",
    "import pandas as pd\n",
    "import plotly.graph_objects as go\n",
    "import numpy as np\n",
    "\n",
    "\n",
    "# Read / Cleaning the data\n",
    "social_spending = pd.read_csv(\"Data_cleaned/social_spending.csv\", header=1)\n",
    "gdp = pd.read_csv(\"Data_cleaned/gdp.csv\")\n",
    "gdp['gdp'] = gdp['gdp'].replace('..', np.nan)\n",
    "gdp['gdp'] = gdp['gdp'].str.replace(',', '')\n",
    "gdp['gdp'] = gdp['gdp'].astype(float)\n",
    "social_spending = social_spending.rename(columns={'Year': 'Country'})\n",
    "social_spending = social_spending.applymap(lambda x: x.strip() if isinstance(x, str) else x)\n",
    "social_spending = pd.melt(social_spending, id_vars=['Country'], var_name='Year', value_name='s_s')\n",
    "social_spending['Country_Year'] = social_spending['Country'] + '_' + social_spending['Year'].astype(str)\n",
    "\n",
    "merged_data = pd.merge(gdp, social_spending, on=['Country_Year'])\n",
    "merged_data['gdp'] = pd.to_numeric(merged_data['gdp'], errors='coerce')\n",
    "merged_data['s_s'] = pd.to_numeric(merged_data['s_s'], errors='coerce')\n",
    "#merged_data['gdp'] = merged_data['gdp'].fillna(merged_data['gdp'].mean())\n",
    "#merged_data['s_s'] = merged_data['s_s'].fillna(merged_data['s_s'].mean())\n",
    "\n",
    "\n",
    "average_social_spending = merged_data.groupby('Country')['s_s'].mean().reset_index()\n",
    "average_gdp = merged_data.groupby('Country')['gdp'].mean().reset_index()\n",
    "average_data = pd.merge(average_social_spending, average_gdp, on='Country', suffixes=('_s_s', '_gdp'))\n",
    "average_data['s_s_gdp_ratio'] = average_data['s_s'] / average_data['gdp'] * 100\n",
    "\n",
    "color_map = {\n",
    "    'Australia': 'rgb(255, 0, 0)',        # Red\n",
    "    'Austria': 'rgb(0, 255, 0)',          # Green\n",
    "    'Belgium': 'rgb(0, 0, 255)',          # Blue\n",
    "    'Canada': 'rgb(255, 255, 0)',         # Yellow\n",
    "    'Chile': 'rgb(255, 0, 255)',          # Magenta\n",
    "    'Colombia': 'rgb(0, 255, 255)',       # Cyan\n",
    "    'Costa Rica': 'rgb(255, 127, 0)',     # Orange\n",
    "    'Czechia': 'rgb(255, 0, 127)',        # Reddish-Pink\n",
    "    'Denmark': 'rgb(0, 127, 255)',        # Bluish\n",
    "    'Estonia': 'rgb(127, 255, 0)',        # Greenish-Yellow\n",
    "    'Finland': 'rgb(0, 255, 127)',        # Greenish\n",
    "    'France': 'rgb(127, 0, 255)',         # Purplish-Blue\n",
    "    'Germany': 'rgb(255, 255, 127)',      # Light Yellow\n",
    "    'Greece': 'rgb(127, 255, 255)',       # Light Cyan\n",
    "    'Hungary': 'rgb(255, 127, 255)',      # Light Magenta\n",
    "    'Iceland': 'rgb(255, 0, 0)',          # Red\n",
    "    'Ireland': 'rgb(0, 255, 0)',          # Green\n",
    "    'Israel': 'rgb(0, 0, 255)',           # Blue\n",
    "    'Italy': 'rgb(255, 255, 0)',          # Yellow\n",
    "    'Japan': 'rgb(255, 0, 255)',          # Magenta\n",
    "    'Korea': 'rgb(0, 255, 255)',          # Cyan\n",
    "    'Latvia': 'rgb(255, 127, 0)',         # Orange\n",
    "    'Lithuania': 'rgb(255, 0, 127)',      # Reddish-Pink\n",
    "    'Luxembourg': 'rgb(0, 127, 255)',     # Bluish\n",
    "    'Mexico': 'rgb(127, 255, 0)',         # Greenish-Yellow\n",
    "    'Netherlands': 'rgb(0, 255, 127)',    # Greenish\n",
    "    'New Zealand': 'rgb(127, 0, 255)',    # Purplish-Blue\n",
    "    'Norway': 'rgb(255, 255, 127)',      # Light Yellow\n",
    "    'Poland': 'rgb(127, 255, 255)',       # Light Cyan\n",
    "    'Portugal': 'rgb(255, 127, 255)',     # Light Magenta\n",
    "    'Slovak Republic': 'rgb(255, 0, 0)',  # Red\n",
    "    'Slovenia': 'rgb(0, 255, 0)',         # Green\n",
    "    'Spain': 'rgb(0, 0, 255)',            # Blue\n",
    "    'Sweden': 'rgb(255, 255, 0)',         # Yellow\n",
    "    'Switzerland': 'rgb(255, 0, 255)',    # Magenta\n",
    "    'Türkiye': 'rgb(0, 255, 255)',        # Cyan\n",
    "    'United Kingdom': 'rgb(255, 127, 0)', # Orange\n",
    "    'United States': 'rgb(255, 0, 127)',  # Reddish-Pink\n",
    "}\n",
    "\n",
    "average_data['color'] = average_data['Country'].map(color_map)\n",
    "bubble_sizes = average_data['s_s_gdp_ratio'] * 1000\n",
    "\n",
    "fig = go.Figure(data=go.Scatter(\n",
    "    x=average_data['s_s_gdp_ratio'],\n",
    "    y=average_data['gdp'],\n",
    "    mode='markers',\n",
    "    marker=dict(\n",
    "        size=bubble_sizes,\n",
    "        sizemode='area',\n",
    "        sizeref=2.*max(bubble_sizes)/(100**2),\n",
    "        sizemin=4,\n",
    "        color=average_data['color']\n",
    "    ),\n",
    "    text=average_data.apply(lambda row: f\"Country: {row['Country']}<br>Avg Social Spending: {row['s_s']:,}<br>Avg GDP: {row['gdp']:,}<br>Ratio: {row['s_s_gdp_ratio']:.4f}\", axis=1),\n",
    "))\n",
    "\n",
    "fig.update_layout(\n",
    "    title='Figure 3: Ratio of GDP Spent on Family Benefits',\n",
    "    xaxis=dict(title='Ratio of GDP spent on Family Benefits'),  \n",
    "    yaxis=dict(title='Ratio GDP (Billions) Over 20 Years'),\n",
    "    showlegend=False\n",
    ")\n",
    "\n",
    "fig.update_layout(plot_bgcolor='#faf0e6')\n",
    "\n",
    "\n",
    "fig.show()\n"
   ]
  }
 ],
 "metadata": {
  "kernelspec": {
   "display_name": "base",
   "language": "python",
   "name": "python3"
  },
  "language_info": {
   "codemirror_mode": {
    "name": "ipython",
    "version": 3
   },
   "file_extension": ".py",
   "mimetype": "text/x-python",
   "name": "python",
   "nbconvert_exporter": "python",
   "pygments_lexer": "ipython3",
   "version": "3.11.5"
  }
 },
 "nbformat": 4,
 "nbformat_minor": 2
}
