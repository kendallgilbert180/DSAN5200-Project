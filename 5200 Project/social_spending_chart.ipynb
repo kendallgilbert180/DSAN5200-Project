{
 "cells": [
  {
   "cell_type": "code",
   "execution_count": 2,
   "metadata": {},
   "outputs": [
    {
     "name": "stderr",
     "output_type": "stream",
     "text": [
      "/var/folders/x3/1m329lgj7sl4y1pqkx_p_f_80000gn/T/ipykernel_54529/3726998272.py:10: FutureWarning: DataFrame.applymap has been deprecated. Use DataFrame.map instead.\n",
      "  social_spending = social_spending.applymap(lambda x: x.strip() if isinstance(x, str) else x)\n"
     ]
    },
    {
     "data": {
      "application/vnd.plotly.v1+json": {
       "config": {
        "plotlyServerURL": "https://plot.ly"
       },
       "data": [
        {
         "marker": {
          "color": [
           "rgb(255, 0, 0)",
           "rgb(0, 255, 0)",
           "rgb(0, 0, 255)",
           "rgb(255, 255, 0)",
           "rgb(255, 0, 255)",
           "rgb(0, 255, 255)",
           "rgb(255, 127, 0)",
           "rgb(255, 0, 127)",
           "rgb(0, 127, 255)",
           "rgb(127, 255, 0)",
           "rgb(0, 255, 127)",
           "rgb(127, 0, 255)",
           "rgb(255, 255, 127)",
           "rgb(127, 255, 255)",
           "rgb(255, 127, 255)",
           "rgb(255, 0, 0)",
           "rgb(0, 255, 0)",
           "rgb(0, 0, 255)",
           "rgb(255, 255, 0)",
           "rgb(255, 0, 255)",
           "rgb(0, 255, 255)",
           "rgb(255, 127, 0)",
           "rgb(255, 0, 127)",
           "rgb(0, 127, 255)",
           "rgb(127, 255, 0)",
           "rgb(0, 255, 127)",
           "rgb(127, 0, 255)",
           "rgb(255, 255, 127)",
           "rgb(127, 255, 255)",
           "rgb(255, 127, 255)",
           "rgb(255, 0, 0)",
           "rgb(0, 255, 0)",
           "rgb(0, 0, 255)",
           "rgb(255, 255, 0)",
           "rgb(255, 0, 255)",
           "rgb(0, 255, 255)",
           "rgb(255, 127, 0)",
           "rgb(255, 0, 127)"
          ],
          "size": [
           4.233878446331913,
           7.202918190513033,
           6.717762860280571,
           4.743073343392594,
           5.040221199431283,
           3.8466747643643338,
           23.106403697024597,
           6.961304347936994,
           13.885557359994058,
           81.18419243371139,
           13.491451280778522,
           11.664342335191481,
           10.267316305183874,
           5.8429093575039115,
           13.996195523953638,
           216.3010671305779,
           10.773932844094752,
           9.08170567573778,
           7.267468744029081,
           5.895193175183026,
           3.9387262633592104,
           52.74134762792658,
           32.75622236996216,
           71.76084128838818,
           3.194642857333672,
           2.6656317963874105,
           20.655189936352766,
           11.166642974180178,
           3.115897407153976,
           5.351136665295609,
           16.05532058577995,
           32.346265882731394,
           4.197960096377372,
           8.184006557581164,
           4.126816342192715,
           0.8013428719224563,
           11.801386555326742,
           4.949175548563701
          ],
          "sizemin": 4,
          "sizemode": "area",
          "sizeref": 0.04326021342611558
         },
         "mode": "markers",
         "text": [
          "Country: Australia<br>Avg Social Spending: 2.5545571245186136<br>Avg GDP: 603.3609979360165<br>Ratio: 0.0042",
          "Country: Austria<br>Avg Social Spending: 2.6492939666238766<br>Avg GDP: 367.80842105263156<br>Ratio: 0.0072",
          "Country: Belgium<br>Avg Social Spending: 2.980872913992298<br>Avg GDP: 443.73<br>Ratio: 0.0067",
          "Country: Canada<br>Avg Social Spending: 1.6650834403080872<br>Avg GDP: 351.0558070175439<br>Ratio: 0.0047",
          "Country: Chile<br>Avg Social Spending: 1.6019255455712453<br>Avg GDP: 317.82842105263154<br>Ratio: 0.0050",
          "Country: Colombia<br>Avg Social Spending: 1.9319640564826703<br>Avg GDP: 502.2426315789474<br>Ratio: 0.0038",
          "Country: Costa Rica<br>Avg Social Spending: 1.5267008985879333<br>Avg GDP: 66.07263157894737<br>Ratio: 0.0231",
          "Country: Czechia<br>Avg Social Spending: 2.101925545571245<br>Avg GDP: 301.94421052631577<br>Ratio: 0.0070",
          "Country: Denmark<br>Avg Social Spending: 3.338767650834403<br>Avg GDP: 240.44894736842105<br>Ratio: 0.0139",
          "Country: Estonia<br>Avg Social Spending: 2.5617458279845957<br>Avg GDP: 31.55473684210526<br>Ratio: 0.0812",
          "Country: Finland<br>Avg Social Spending: 2.8282413350449294<br>Avg GDP: 209.63210526315788<br>Ratio: 0.0135",
          "Country: France<br>Avg Social Spending: 3.266880616174583<br>Avg GDP: 280.074137254902<br>Ratio: 0.0117",
          "Country: Germany<br>Avg Social Spending: 2.8756097560975613<br>Avg GDP: 280.074137254902<br>Ratio: 0.0103",
          "Country: Greece<br>Avg Social Spending: 1.7249037227214377<br>Avg GDP: 295.21315789473687<br>Ratio: 0.0058",
          "Country: Hungary<br>Avg Social Spending: 3.1124518613607193<br>Avg GDP: 222.37842105263155<br>Ratio: 0.0140",
          "Country: Iceland<br>Avg Social Spending: 3.0229781771501925<br>Avg GDP: 13.97578947368421<br>Ratio: 0.2163",
          "Country: Ireland<br>Avg Social Spending: 2.549293966623877<br>Avg GDP: 236.61684210526317<br>Ratio: 0.0108",
          "Country: Israel<br>Avg Social Spending: 2.219640564826701<br>Avg GDP: 244.4078947368421<br>Ratio: 0.0091",
          "Country: Italy<br>Avg Social Spending: 2.035430038510911<br>Avg GDP: 280.074137254902<br>Ratio: 0.0073",
          "Country: Japan<br>Avg Social Spending: 1.6510911424903723<br>Avg GDP: 280.074137254902<br>Ratio: 0.0059",
          "Country: Korea<br>Avg Social Spending: 1.2387676508344032<br>Avg GDP: 314.5097089783282<br>Ratio: 0.0039",
          "Country: Latvia<br>Avg Social Spending: 2.156482670089859<br>Avg GDP: 40.88789473684211<br>Ratio: 0.0527",
          "Country: Lithuania<br>Avg Social Spending: 2.2269576379974327<br>Avg GDP: 67.9857894736842<br>Ratio: 0.0328",
          "Country: Luxembourg<br>Avg Social Spending: 3.426315789473684<br>Avg GDP: 47.74631578947369<br>Ratio: 0.0718",
          "Country: Mexico<br>Avg Social Spending: 0.8947368421052632<br>Avg GDP: 280.074137254902<br>Ratio: 0.0032",
          "Country: Netherlands<br>Avg Social Spending: 1.9177150192554557<br>Avg GDP: 719.422323013416<br>Ratio: 0.0027",
          "Country: New Zealand<br>Avg Social Spending: 2.973684210526316<br>Avg GDP: 143.9678947368421<br>Ratio: 0.0207",
          "Country: Norway<br>Avg Social Spending: 3.142105263157895<br>Avg GDP: 281.3831578947368<br>Ratio: 0.0112",
          "Country: Poland<br>Avg Social Spending: 1.7842105263157895<br>Avg GDP: 572.6152992776057<br>Ratio: 0.0031",
          "Country: Portugal<br>Avg Social Spending: 1.5070603337612323<br>Avg GDP: 281.6336842105263<br>Ratio: 0.0054",
          "Country: Slovak Republic<br>Avg Social Spending: 2.0545571245186136<br>Avg GDP: 127.96736842105264<br>Ratio: 0.0161",
          "Country: Slovenia<br>Avg Social Spending: 1.905263157894737<br>Avg GDP: 58.902105263157885<br>Ratio: 0.0323",
          "Country: Spain<br>Avg Social Spending: 1.3210526315789475<br>Avg GDP: 314.6891826625387<br>Ratio: 0.0042",
          "Country: Sweden<br>Avg Social Spending: 3.3210526315789473<br>Avg GDP: 405.7978947368421<br>Ratio: 0.0082",
          "Country: Switzerland<br>Avg Social Spending: 1.8<br>Avg GDP: 436.17157894736846<br>Ratio: 0.0041",
          "Country: Türkiye<br>Avg Social Spending: 0.3368421052631579<br>Avg GDP: 420.3470412796698<br>Ratio: 0.0008",
          "Country: United Kingdom<br>Avg Social Spending: 3.305263157894737<br>Avg GDP: 280.074137254902<br>Ratio: 0.0118",
          "Country: United States<br>Avg Social Spending: 1.3861360718870348<br>Avg GDP: 280.074137254902<br>Ratio: 0.0049"
         ],
         "type": "scatter",
         "x": [
          0.004233878446331912,
          0.007202918190513033,
          0.006717762860280571,
          0.004743073343392594,
          0.005040221199431283,
          0.0038466747643643336,
          0.023106403697024595,
          0.006961304347936994,
          0.013885557359994059,
          0.08118419243371139,
          0.013491451280778522,
          0.011664342335191482,
          0.010267316305183873,
          0.005842909357503911,
          0.013996195523953639,
          0.2163010671305779,
          0.010773932844094752,
          0.00908170567573778,
          0.007267468744029081,
          0.005895193175183026,
          0.00393872626335921,
          0.05274134762792658,
          0.03275622236996216,
          0.07176084128838818,
          0.003194642857333672,
          0.0026656317963874103,
          0.020655189936352767,
          0.011166642974180178,
          0.0031158974071539757,
          0.005351136665295609,
          0.01605532058577995,
          0.032346265882731394,
          0.004197960096377372,
          0.008184006557581164,
          0.004126816342192714,
          0.0008013428719224564,
          0.011801386555326742,
          0.004949175548563701
         ],
         "y": [
          603.3609979360165,
          367.80842105263156,
          443.73,
          351.0558070175439,
          317.82842105263154,
          502.2426315789474,
          66.07263157894737,
          301.94421052631577,
          240.44894736842105,
          31.55473684210526,
          209.63210526315788,
          280.074137254902,
          280.074137254902,
          295.21315789473687,
          222.37842105263155,
          13.97578947368421,
          236.61684210526317,
          244.4078947368421,
          280.074137254902,
          280.074137254902,
          314.5097089783282,
          40.88789473684211,
          67.9857894736842,
          47.74631578947369,
          280.074137254902,
          719.422323013416,
          143.9678947368421,
          281.3831578947368,
          572.6152992776057,
          281.6336842105263,
          127.96736842105264,
          58.902105263157885,
          314.6891826625387,
          405.7978947368421,
          436.17157894736846,
          420.3470412796698,
          280.074137254902,
          280.074137254902
         ]
        }
       ],
       "layout": {
        "showlegend": false,
        "template": {
         "data": {
          "bar": [
           {
            "error_x": {
             "color": "#2a3f5f"
            },
            "error_y": {
             "color": "#2a3f5f"
            },
            "marker": {
             "line": {
              "color": "#E5ECF6",
              "width": 0.5
             },
             "pattern": {
              "fillmode": "overlay",
              "size": 10,
              "solidity": 0.2
             }
            },
            "type": "bar"
           }
          ],
          "barpolar": [
           {
            "marker": {
             "line": {
              "color": "#E5ECF6",
              "width": 0.5
             },
             "pattern": {
              "fillmode": "overlay",
              "size": 10,
              "solidity": 0.2
             }
            },
            "type": "barpolar"
           }
          ],
          "carpet": [
           {
            "aaxis": {
             "endlinecolor": "#2a3f5f",
             "gridcolor": "white",
             "linecolor": "white",
             "minorgridcolor": "white",
             "startlinecolor": "#2a3f5f"
            },
            "baxis": {
             "endlinecolor": "#2a3f5f",
             "gridcolor": "white",
             "linecolor": "white",
             "minorgridcolor": "white",
             "startlinecolor": "#2a3f5f"
            },
            "type": "carpet"
           }
          ],
          "choropleth": [
           {
            "colorbar": {
             "outlinewidth": 0,
             "ticks": ""
            },
            "type": "choropleth"
           }
          ],
          "contour": [
           {
            "colorbar": {
             "outlinewidth": 0,
             "ticks": ""
            },
            "colorscale": [
             [
              0,
              "#0d0887"
             ],
             [
              0.1111111111111111,
              "#46039f"
             ],
             [
              0.2222222222222222,
              "#7201a8"
             ],
             [
              0.3333333333333333,
              "#9c179e"
             ],
             [
              0.4444444444444444,
              "#bd3786"
             ],
             [
              0.5555555555555556,
              "#d8576b"
             ],
             [
              0.6666666666666666,
              "#ed7953"
             ],
             [
              0.7777777777777778,
              "#fb9f3a"
             ],
             [
              0.8888888888888888,
              "#fdca26"
             ],
             [
              1,
              "#f0f921"
             ]
            ],
            "type": "contour"
           }
          ],
          "contourcarpet": [
           {
            "colorbar": {
             "outlinewidth": 0,
             "ticks": ""
            },
            "type": "contourcarpet"
           }
          ],
          "heatmap": [
           {
            "colorbar": {
             "outlinewidth": 0,
             "ticks": ""
            },
            "colorscale": [
             [
              0,
              "#0d0887"
             ],
             [
              0.1111111111111111,
              "#46039f"
             ],
             [
              0.2222222222222222,
              "#7201a8"
             ],
             [
              0.3333333333333333,
              "#9c179e"
             ],
             [
              0.4444444444444444,
              "#bd3786"
             ],
             [
              0.5555555555555556,
              "#d8576b"
             ],
             [
              0.6666666666666666,
              "#ed7953"
             ],
             [
              0.7777777777777778,
              "#fb9f3a"
             ],
             [
              0.8888888888888888,
              "#fdca26"
             ],
             [
              1,
              "#f0f921"
             ]
            ],
            "type": "heatmap"
           }
          ],
          "heatmapgl": [
           {
            "colorbar": {
             "outlinewidth": 0,
             "ticks": ""
            },
            "colorscale": [
             [
              0,
              "#0d0887"
             ],
             [
              0.1111111111111111,
              "#46039f"
             ],
             [
              0.2222222222222222,
              "#7201a8"
             ],
             [
              0.3333333333333333,
              "#9c179e"
             ],
             [
              0.4444444444444444,
              "#bd3786"
             ],
             [
              0.5555555555555556,
              "#d8576b"
             ],
             [
              0.6666666666666666,
              "#ed7953"
             ],
             [
              0.7777777777777778,
              "#fb9f3a"
             ],
             [
              0.8888888888888888,
              "#fdca26"
             ],
             [
              1,
              "#f0f921"
             ]
            ],
            "type": "heatmapgl"
           }
          ],
          "histogram": [
           {
            "marker": {
             "pattern": {
              "fillmode": "overlay",
              "size": 10,
              "solidity": 0.2
             }
            },
            "type": "histogram"
           }
          ],
          "histogram2d": [
           {
            "colorbar": {
             "outlinewidth": 0,
             "ticks": ""
            },
            "colorscale": [
             [
              0,
              "#0d0887"
             ],
             [
              0.1111111111111111,
              "#46039f"
             ],
             [
              0.2222222222222222,
              "#7201a8"
             ],
             [
              0.3333333333333333,
              "#9c179e"
             ],
             [
              0.4444444444444444,
              "#bd3786"
             ],
             [
              0.5555555555555556,
              "#d8576b"
             ],
             [
              0.6666666666666666,
              "#ed7953"
             ],
             [
              0.7777777777777778,
              "#fb9f3a"
             ],
             [
              0.8888888888888888,
              "#fdca26"
             ],
             [
              1,
              "#f0f921"
             ]
            ],
            "type": "histogram2d"
           }
          ],
          "histogram2dcontour": [
           {
            "colorbar": {
             "outlinewidth": 0,
             "ticks": ""
            },
            "colorscale": [
             [
              0,
              "#0d0887"
             ],
             [
              0.1111111111111111,
              "#46039f"
             ],
             [
              0.2222222222222222,
              "#7201a8"
             ],
             [
              0.3333333333333333,
              "#9c179e"
             ],
             [
              0.4444444444444444,
              "#bd3786"
             ],
             [
              0.5555555555555556,
              "#d8576b"
             ],
             [
              0.6666666666666666,
              "#ed7953"
             ],
             [
              0.7777777777777778,
              "#fb9f3a"
             ],
             [
              0.8888888888888888,
              "#fdca26"
             ],
             [
              1,
              "#f0f921"
             ]
            ],
            "type": "histogram2dcontour"
           }
          ],
          "mesh3d": [
           {
            "colorbar": {
             "outlinewidth": 0,
             "ticks": ""
            },
            "type": "mesh3d"
           }
          ],
          "parcoords": [
           {
            "line": {
             "colorbar": {
              "outlinewidth": 0,
              "ticks": ""
             }
            },
            "type": "parcoords"
           }
          ],
          "pie": [
           {
            "automargin": true,
            "type": "pie"
           }
          ],
          "scatter": [
           {
            "fillpattern": {
             "fillmode": "overlay",
             "size": 10,
             "solidity": 0.2
            },
            "type": "scatter"
           }
          ],
          "scatter3d": [
           {
            "line": {
             "colorbar": {
              "outlinewidth": 0,
              "ticks": ""
             }
            },
            "marker": {
             "colorbar": {
              "outlinewidth": 0,
              "ticks": ""
             }
            },
            "type": "scatter3d"
           }
          ],
          "scattercarpet": [
           {
            "marker": {
             "colorbar": {
              "outlinewidth": 0,
              "ticks": ""
             }
            },
            "type": "scattercarpet"
           }
          ],
          "scattergeo": [
           {
            "marker": {
             "colorbar": {
              "outlinewidth": 0,
              "ticks": ""
             }
            },
            "type": "scattergeo"
           }
          ],
          "scattergl": [
           {
            "marker": {
             "colorbar": {
              "outlinewidth": 0,
              "ticks": ""
             }
            },
            "type": "scattergl"
           }
          ],
          "scattermapbox": [
           {
            "marker": {
             "colorbar": {
              "outlinewidth": 0,
              "ticks": ""
             }
            },
            "type": "scattermapbox"
           }
          ],
          "scatterpolar": [
           {
            "marker": {
             "colorbar": {
              "outlinewidth": 0,
              "ticks": ""
             }
            },
            "type": "scatterpolar"
           }
          ],
          "scatterpolargl": [
           {
            "marker": {
             "colorbar": {
              "outlinewidth": 0,
              "ticks": ""
             }
            },
            "type": "scatterpolargl"
           }
          ],
          "scatterternary": [
           {
            "marker": {
             "colorbar": {
              "outlinewidth": 0,
              "ticks": ""
             }
            },
            "type": "scatterternary"
           }
          ],
          "surface": [
           {
            "colorbar": {
             "outlinewidth": 0,
             "ticks": ""
            },
            "colorscale": [
             [
              0,
              "#0d0887"
             ],
             [
              0.1111111111111111,
              "#46039f"
             ],
             [
              0.2222222222222222,
              "#7201a8"
             ],
             [
              0.3333333333333333,
              "#9c179e"
             ],
             [
              0.4444444444444444,
              "#bd3786"
             ],
             [
              0.5555555555555556,
              "#d8576b"
             ],
             [
              0.6666666666666666,
              "#ed7953"
             ],
             [
              0.7777777777777778,
              "#fb9f3a"
             ],
             [
              0.8888888888888888,
              "#fdca26"
             ],
             [
              1,
              "#f0f921"
             ]
            ],
            "type": "surface"
           }
          ],
          "table": [
           {
            "cells": {
             "fill": {
              "color": "#EBF0F8"
             },
             "line": {
              "color": "white"
             }
            },
            "header": {
             "fill": {
              "color": "#C8D4E3"
             },
             "line": {
              "color": "white"
             }
            },
            "type": "table"
           }
          ]
         },
         "layout": {
          "annotationdefaults": {
           "arrowcolor": "#2a3f5f",
           "arrowhead": 0,
           "arrowwidth": 1
          },
          "autotypenumbers": "strict",
          "coloraxis": {
           "colorbar": {
            "outlinewidth": 0,
            "ticks": ""
           }
          },
          "colorscale": {
           "diverging": [
            [
             0,
             "#8e0152"
            ],
            [
             0.1,
             "#c51b7d"
            ],
            [
             0.2,
             "#de77ae"
            ],
            [
             0.3,
             "#f1b6da"
            ],
            [
             0.4,
             "#fde0ef"
            ],
            [
             0.5,
             "#f7f7f7"
            ],
            [
             0.6,
             "#e6f5d0"
            ],
            [
             0.7,
             "#b8e186"
            ],
            [
             0.8,
             "#7fbc41"
            ],
            [
             0.9,
             "#4d9221"
            ],
            [
             1,
             "#276419"
            ]
           ],
           "sequential": [
            [
             0,
             "#0d0887"
            ],
            [
             0.1111111111111111,
             "#46039f"
            ],
            [
             0.2222222222222222,
             "#7201a8"
            ],
            [
             0.3333333333333333,
             "#9c179e"
            ],
            [
             0.4444444444444444,
             "#bd3786"
            ],
            [
             0.5555555555555556,
             "#d8576b"
            ],
            [
             0.6666666666666666,
             "#ed7953"
            ],
            [
             0.7777777777777778,
             "#fb9f3a"
            ],
            [
             0.8888888888888888,
             "#fdca26"
            ],
            [
             1,
             "#f0f921"
            ]
           ],
           "sequentialminus": [
            [
             0,
             "#0d0887"
            ],
            [
             0.1111111111111111,
             "#46039f"
            ],
            [
             0.2222222222222222,
             "#7201a8"
            ],
            [
             0.3333333333333333,
             "#9c179e"
            ],
            [
             0.4444444444444444,
             "#bd3786"
            ],
            [
             0.5555555555555556,
             "#d8576b"
            ],
            [
             0.6666666666666666,
             "#ed7953"
            ],
            [
             0.7777777777777778,
             "#fb9f3a"
            ],
            [
             0.8888888888888888,
             "#fdca26"
            ],
            [
             1,
             "#f0f921"
            ]
           ]
          },
          "colorway": [
           "#636efa",
           "#EF553B",
           "#00cc96",
           "#ab63fa",
           "#FFA15A",
           "#19d3f3",
           "#FF6692",
           "#B6E880",
           "#FF97FF",
           "#FECB52"
          ],
          "font": {
           "color": "#2a3f5f"
          },
          "geo": {
           "bgcolor": "white",
           "lakecolor": "white",
           "landcolor": "#E5ECF6",
           "showlakes": true,
           "showland": true,
           "subunitcolor": "white"
          },
          "hoverlabel": {
           "align": "left"
          },
          "hovermode": "closest",
          "mapbox": {
           "style": "light"
          },
          "paper_bgcolor": "white",
          "plot_bgcolor": "#E5ECF6",
          "polar": {
           "angularaxis": {
            "gridcolor": "white",
            "linecolor": "white",
            "ticks": ""
           },
           "bgcolor": "#E5ECF6",
           "radialaxis": {
            "gridcolor": "white",
            "linecolor": "white",
            "ticks": ""
           }
          },
          "scene": {
           "xaxis": {
            "backgroundcolor": "#E5ECF6",
            "gridcolor": "white",
            "gridwidth": 2,
            "linecolor": "white",
            "showbackground": true,
            "ticks": "",
            "zerolinecolor": "white"
           },
           "yaxis": {
            "backgroundcolor": "#E5ECF6",
            "gridcolor": "white",
            "gridwidth": 2,
            "linecolor": "white",
            "showbackground": true,
            "ticks": "",
            "zerolinecolor": "white"
           },
           "zaxis": {
            "backgroundcolor": "#E5ECF6",
            "gridcolor": "white",
            "gridwidth": 2,
            "linecolor": "white",
            "showbackground": true,
            "ticks": "",
            "zerolinecolor": "white"
           }
          },
          "shapedefaults": {
           "line": {
            "color": "#2a3f5f"
           }
          },
          "ternary": {
           "aaxis": {
            "gridcolor": "white",
            "linecolor": "white",
            "ticks": ""
           },
           "baxis": {
            "gridcolor": "white",
            "linecolor": "white",
            "ticks": ""
           },
           "bgcolor": "#E5ECF6",
           "caxis": {
            "gridcolor": "white",
            "linecolor": "white",
            "ticks": ""
           }
          },
          "title": {
           "x": 0.05
          },
          "xaxis": {
           "automargin": true,
           "gridcolor": "white",
           "linecolor": "white",
           "ticks": "",
           "title": {
            "standoff": 15
           },
           "zerolinecolor": "white",
           "zerolinewidth": 2
          },
          "yaxis": {
           "automargin": true,
           "gridcolor": "white",
           "linecolor": "white",
           "ticks": "",
           "title": {
            "standoff": 15
           },
           "zerolinecolor": "white",
           "zerolinewidth": 2
          }
         }
        },
        "title": {
         "text": "Bubble Chart: Average Social Spending vs. GDP"
        },
        "xaxis": {
         "title": {
          "text": "% of GDP spent towards social benefits"
         }
        },
        "yaxis": {
         "title": {
          "text": "Average GDP"
         }
        }
       }
      }
     },
     "metadata": {},
     "output_type": "display_data"
    }
   ],
   "source": [
    "import pandas as pd\n",
    "import plotly.graph_objects as go\n",
    "\n",
    "# Read the data\n",
    "social_spending = pd.read_csv(\"/Users/kendallgilbert/Desktop/social_spending.csv\", header=1)\n",
    "gdp = pd.read_csv(\"/Users/kendallgilbert/Desktop/DSAN5200-Project/5200 Project/Data_cleaned/gdp.csv\")\n",
    "\n",
    "# Clean and merge the data\n",
    "social_spending = social_spending.rename(columns={'Year': 'Country'})\n",
    "social_spending = social_spending.applymap(lambda x: x.strip() if isinstance(x, str) else x)\n",
    "social_spending = pd.melt(social_spending, id_vars=['Country'], var_name='Year', value_name='s_s')\n",
    "social_spending['Country_Year'] = social_spending['Country'] + '_' + social_spending['Year'].astype(str)\n",
    "\n",
    "merged_data = pd.merge(gdp, social_spending, on=['Country_Year'])\n",
    "merged_data['gdp'] = pd.to_numeric(merged_data['gdp'], errors='coerce')\n",
    "merged_data['s_s'] = pd.to_numeric(merged_data['s_s'], errors='coerce')\n",
    "merged_data['gdp'] = merged_data['gdp'].fillna(merged_data['gdp'].mean())\n",
    "merged_data['s_s'] = merged_data['s_s'].fillna(merged_data['s_s'].mean())\n",
    "\n",
    "\n",
    "# Calculate the average social spending over all years for each country\n",
    "average_social_spending = merged_data.groupby('Country')['s_s'].mean().reset_index()\n",
    "\n",
    "# Calculate the average GDP over all years for each country\n",
    "average_gdp = merged_data.groupby('Country')['gdp'].mean().reset_index()\n",
    "\n",
    "# Merge the average social spending and average GDP data\n",
    "average_data = pd.merge(average_social_spending, average_gdp, on='Country', suffixes=('_s_s', '_gdp'))\n",
    "\n",
    "# Calculate the ratio of average social spending to average GDP\n",
    "average_data['s_s_gdp_ratio'] = average_data['s_s'] / average_data['gdp']\n",
    "\n",
    "color_map = {\n",
    "    'Australia': 'rgb(255, 0, 0)',        # Red\n",
    "    'Austria': 'rgb(0, 255, 0)',          # Green\n",
    "    'Belgium': 'rgb(0, 0, 255)',          # Blue\n",
    "    'Canada': 'rgb(255, 255, 0)',         # Yellow\n",
    "    'Chile': 'rgb(255, 0, 255)',          # Magenta\n",
    "    'Colombia': 'rgb(0, 255, 255)',       # Cyan\n",
    "    'Costa Rica': 'rgb(255, 127, 0)',     # Orange\n",
    "    'Czechia': 'rgb(255, 0, 127)',        # Reddish-Pink\n",
    "    'Denmark': 'rgb(0, 127, 255)',        # Bluish\n",
    "    'Estonia': 'rgb(127, 255, 0)',        # Greenish-Yellow\n",
    "    'Finland': 'rgb(0, 255, 127)',        # Greenish\n",
    "    'France': 'rgb(127, 0, 255)',         # Purplish-Blue\n",
    "    'Germany': 'rgb(255, 255, 127)',      # Light Yellow\n",
    "    'Greece': 'rgb(127, 255, 255)',       # Light Cyan\n",
    "    'Hungary': 'rgb(255, 127, 255)',      # Light Magenta\n",
    "    'Iceland': 'rgb(255, 0, 0)',          # Red\n",
    "    'Ireland': 'rgb(0, 255, 0)',          # Green\n",
    "    'Israel': 'rgb(0, 0, 255)',           # Blue\n",
    "    'Italy': 'rgb(255, 255, 0)',          # Yellow\n",
    "    'Japan': 'rgb(255, 0, 255)',          # Magenta\n",
    "    'Korea': 'rgb(0, 255, 255)',          # Cyan\n",
    "    'Latvia': 'rgb(255, 127, 0)',         # Orange\n",
    "    'Lithuania': 'rgb(255, 0, 127)',      # Reddish-Pink\n",
    "    'Luxembourg': 'rgb(0, 127, 255)',     # Bluish\n",
    "    'Mexico': 'rgb(127, 255, 0)',         # Greenish-Yellow\n",
    "    'Netherlands': 'rgb(0, 255, 127)',    # Greenish\n",
    "    'New Zealand': 'rgb(127, 0, 255)',    # Purplish-Blue\n",
    "    'Norway': 'rgb(255, 255, 127)',      # Light Yellow\n",
    "    'Poland': 'rgb(127, 255, 255)',       # Light Cyan\n",
    "    'Portugal': 'rgb(255, 127, 255)',     # Light Magenta\n",
    "    'Slovak Republic': 'rgb(255, 0, 0)',  # Red\n",
    "    'Slovenia': 'rgb(0, 255, 0)',         # Green\n",
    "    'Spain': 'rgb(0, 0, 255)',            # Blue\n",
    "    'Sweden': 'rgb(255, 255, 0)',         # Yellow\n",
    "    'Switzerland': 'rgb(255, 0, 255)',    # Magenta\n",
    "    'Türkiye': 'rgb(0, 255, 255)',        # Cyan\n",
    "    'United Kingdom': 'rgb(255, 127, 0)', # Orange\n",
    "    'United States': 'rgb(255, 0, 127)',  # Reddish-Pink\n",
    "    # Add more country-color mappings as needed\n",
    "}\n",
    "\n",
    "average_data['color'] = average_data['Country'].map(color_map)\n",
    "\n",
    "# Define bubble sizes based on the ratio of average social spending to GDP\n",
    "bubble_sizes = average_data['s_s_gdp_ratio'] * 1000\n",
    "\n",
    "# Create the bubble chart\n",
    "fig = go.Figure(data=go.Scatter(\n",
    "    x=average_data['s_s_gdp_ratio'],  # Swapping X and Y values\n",
    "    y=average_data['gdp'],  # Swapping X and Y values\n",
    "    mode='markers',\n",
    "    marker=dict(\n",
    "        size=bubble_sizes,\n",
    "        sizemode='area',\n",
    "        sizeref=2.*max(bubble_sizes)/(100**2),  # Reference scale for bubble sizes\n",
    "        sizemin=4,  # Minimum size of the bubble\n",
    "        color=average_data['color']\n",
    "    ),\n",
    "    text=average_data.apply(lambda row: f\"Country: {row['Country']}<br>Avg Social Spending: {row['s_s']:,}<br>Avg GDP: {row['gdp']:,}<br>Ratio: {row['s_s_gdp_ratio']:.4f}\", axis=1),  # Adjust format to include four decimal places\n",
    "))\n",
    "\n",
    "# Update layout\n",
    "fig.update_layout(\n",
    "    title='Bubble Chart: Average Social Spending vs. GDP',\n",
    "    xaxis=dict(title='% of GDP spent towards social benefits'),  # Adjust X-axis label\n",
    "    yaxis=dict(title='Average GDP'),  # Adjust Y-axis label\n",
    "    showlegend=False\n",
    ")\n",
    "\n",
    "# Show the plot\n",
    "fig.show()\n"
   ]
  },
  {
   "cell_type": "code",
   "execution_count": 85,
   "metadata": {},
   "outputs": [
    {
     "name": "stdout",
     "output_type": "stream",
     "text": [
      "United States Results:\n",
      "Average Social Spending: 1.3861360718870348\n",
      "Average GDP: 280.074137254902\n",
      "Ratio of Average Social Spending to GDP: 0.004949175548563701\n"
     ]
    }
   ],
   "source": [
    "us_data = average_data[average_data['Country'] == 'United States']\n",
    "print(\"United States Results:\")\n",
    "print(\"Average Social Spending:\", us_data['s_s'].values[0])\n",
    "print(\"Average GDP:\", us_data['gdp'].values[0])\n",
    "print(\"Ratio of Average Social Spending to GDP:\", us_data['s_s_gdp_ratio'].values[0])\n"
   ]
  },
  {
   "cell_type": "code",
   "execution_count": 4,
   "metadata": {},
   "outputs": [
    {
     "name": "stdout",
     "output_type": "stream",
     "text": [
      "IcelandResults:\n",
      "Average Social Spending: 3.0229781771501925\n",
      "Average GDP: 13.97578947368421\n",
      "Ratio of Average Social Spending to GDP: 0.2163010671305779\n"
     ]
    }
   ],
   "source": [
    "iceland_data = average_data[average_data['Country'] == 'Iceland']\n",
    "print(\"IcelandResults:\")\n",
    "print(\"Average Social Spending:\", iceland_data['s_s'].values[0])\n",
    "print(\"Average GDP:\", iceland_data['gdp'].values[0])\n",
    "print(\"Ratio of Average Social Spending to GDP:\", iceland_data['s_s_gdp_ratio'].values[0])"
   ]
  }
 ],
 "metadata": {
  "kernelspec": {
   "display_name": "base",
   "language": "python",
   "name": "python3"
  },
  "language_info": {
   "codemirror_mode": {
    "name": "ipython",
    "version": 3
   },
   "file_extension": ".py",
   "mimetype": "text/x-python",
   "name": "python",
   "nbconvert_exporter": "python",
   "pygments_lexer": "ipython3",
   "version": "3.11.5"
  }
 },
 "nbformat": 4,
 "nbformat_minor": 2
}
