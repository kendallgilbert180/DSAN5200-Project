{
 "cells": [
  {
   "cell_type": "code",
   "execution_count": 31,
   "metadata": {},
   "outputs": [
    {
     "name": "stderr",
     "output_type": "stream",
     "text": [
      "/var/folders/x3/1m329lgj7sl4y1pqkx_p_f_80000gn/T/ipykernel_61512/3171546669.py:9: FutureWarning: DataFrame.applymap has been deprecated. Use DataFrame.map instead.\n",
      "  education = education.applymap(lambda x: x.strip() if isinstance(x, str) else x)\n"
     ]
    },
    {
     "data": {
      "text/html": [
       "<div>\n",
       "<style scoped>\n",
       "    .dataframe tbody tr th:only-of-type {\n",
       "        vertical-align: middle;\n",
       "    }\n",
       "\n",
       "    .dataframe tbody tr th {\n",
       "        vertical-align: top;\n",
       "    }\n",
       "\n",
       "    .dataframe thead th {\n",
       "        text-align: right;\n",
       "    }\n",
       "</style>\n",
       "<table border=\"1\" class=\"dataframe\">\n",
       "  <thead>\n",
       "    <tr style=\"text-align: right;\">\n",
       "      <th></th>\n",
       "      <th>Country</th>\n",
       "      <th>Bachelor’s or equivalent level</th>\n",
       "      <th>Master’s or equivalent level</th>\n",
       "      <th>gdp</th>\n",
       "    </tr>\n",
       "  </thead>\n",
       "  <tbody>\n",
       "    <tr>\n",
       "      <th>0</th>\n",
       "      <td>Australia</td>\n",
       "      <td>252506</td>\n",
       "      <td>122642</td>\n",
       "      <td>1646.96</td>\n",
       "    </tr>\n",
       "    <tr>\n",
       "      <th>1</th>\n",
       "      <td>Austria</td>\n",
       "      <td>33770</td>\n",
       "      <td>27988</td>\n",
       "      <td>567.99</td>\n",
       "    </tr>\n",
       "    <tr>\n",
       "      <th>2</th>\n",
       "      <td>Belgium</td>\n",
       "      <td>69889</td>\n",
       "      <td>44605</td>\n",
       "      <td>719.59</td>\n",
       "    </tr>\n",
       "    <tr>\n",
       "      <th>3</th>\n",
       "      <td>Canada</td>\n",
       "      <td>219192</td>\n",
       "      <td>71091</td>\n",
       "      <td>2133.08</td>\n",
       "    </tr>\n",
       "    <tr>\n",
       "      <th>4</th>\n",
       "      <td>Chile</td>\n",
       "      <td>131092</td>\n",
       "      <td>52980</td>\n",
       "      <td>568.19</td>\n",
       "    </tr>\n",
       "    <tr>\n",
       "      <th>5</th>\n",
       "      <td>Colombia</td>\n",
       "      <td>260366</td>\n",
       "      <td>112291</td>\n",
       "      <td>906.03</td>\n",
       "    </tr>\n",
       "    <tr>\n",
       "      <th>6</th>\n",
       "      <td>Costa Rica</td>\n",
       "      <td>41199</td>\n",
       "      <td>4837</td>\n",
       "      <td>122.15</td>\n",
       "    </tr>\n",
       "    <tr>\n",
       "      <th>7</th>\n",
       "      <td>Czechia</td>\n",
       "      <td>36622</td>\n",
       "      <td>28201</td>\n",
       "      <td>508.67</td>\n",
       "    </tr>\n",
       "    <tr>\n",
       "      <th>8</th>\n",
       "      <td>Denmark</td>\n",
       "      <td>46184</td>\n",
       "      <td>25480</td>\n",
       "      <td>409.26</td>\n",
       "    </tr>\n",
       "    <tr>\n",
       "      <th>9</th>\n",
       "      <td>Estonia</td>\n",
       "      <td>5520</td>\n",
       "      <td>3873</td>\n",
       "      <td>59.43</td>\n",
       "    </tr>\n",
       "    <tr>\n",
       "      <th>10</th>\n",
       "      <td>Finland</td>\n",
       "      <td>37917</td>\n",
       "      <td>20341</td>\n",
       "      <td>320.21</td>\n",
       "    </tr>\n",
       "    <tr>\n",
       "      <th>11</th>\n",
       "      <td>France</td>\n",
       "      <td>305232</td>\n",
       "      <td>339359</td>\n",
       "      <td>3648.08</td>\n",
       "    </tr>\n",
       "    <tr>\n",
       "      <th>12</th>\n",
       "      <td>Germany</td>\n",
       "      <td>388732</td>\n",
       "      <td>223691</td>\n",
       "      <td>5153.14</td>\n",
       "    </tr>\n",
       "    <tr>\n",
       "      <th>13</th>\n",
       "      <td>Greece</td>\n",
       "      <td>56857</td>\n",
       "      <td>22950</td>\n",
       "      <td>348.98</td>\n",
       "    </tr>\n",
       "    <tr>\n",
       "      <th>14</th>\n",
       "      <td>Hungary</td>\n",
       "      <td>45024</td>\n",
       "      <td>21565</td>\n",
       "      <td>375.23</td>\n",
       "    </tr>\n",
       "    <tr>\n",
       "      <th>15</th>\n",
       "      <td>Iceland</td>\n",
       "      <td>3303</td>\n",
       "      <td>1776</td>\n",
       "      <td>22.90</td>\n",
       "    </tr>\n",
       "    <tr>\n",
       "      <th>16</th>\n",
       "      <td>Ireland</td>\n",
       "      <td>48954</td>\n",
       "      <td>30420</td>\n",
       "      <td>574.39</td>\n",
       "    </tr>\n",
       "    <tr>\n",
       "      <th>17</th>\n",
       "      <td>Israel</td>\n",
       "      <td>56215</td>\n",
       "      <td>26289</td>\n",
       "      <td>433.32</td>\n",
       "    </tr>\n",
       "    <tr>\n",
       "      <th>18</th>\n",
       "      <td>Italy</td>\n",
       "      <td>254776</td>\n",
       "      <td>189598</td>\n",
       "      <td>2950.84</td>\n",
       "    </tr>\n",
       "    <tr>\n",
       "      <th>19</th>\n",
       "      <td>Japan</td>\n",
       "      <td>579213</td>\n",
       "      <td>104165</td>\n",
       "      <td>5599.03</td>\n",
       "    </tr>\n",
       "    <tr>\n",
       "      <th>20</th>\n",
       "      <td>Korea</td>\n",
       "      <td>355340</td>\n",
       "      <td>78808</td>\n",
       "      <td>2514.52</td>\n",
       "    </tr>\n",
       "    <tr>\n",
       "      <th>21</th>\n",
       "      <td>Latvia</td>\n",
       "      <td>7150</td>\n",
       "      <td>4345</td>\n",
       "      <td>69.31</td>\n",
       "    </tr>\n",
       "    <tr>\n",
       "      <th>22</th>\n",
       "      <td>Lithuania</td>\n",
       "      <td>16254</td>\n",
       "      <td>6987</td>\n",
       "      <td>129.99</td>\n",
       "    </tr>\n",
       "    <tr>\n",
       "      <th>23</th>\n",
       "      <td>Luxembourg</td>\n",
       "      <td>643</td>\n",
       "      <td>992</td>\n",
       "      <td>88.30</td>\n",
       "    </tr>\n",
       "    <tr>\n",
       "      <th>24</th>\n",
       "      <td>Mexico</td>\n",
       "      <td>689242</td>\n",
       "      <td>136975</td>\n",
       "      <td>2677.52</td>\n",
       "    </tr>\n",
       "    <tr>\n",
       "      <th>25</th>\n",
       "      <td>Netherlands</td>\n",
       "      <td>114065</td>\n",
       "      <td>56213</td>\n",
       "      <td>1186.87</td>\n",
       "    </tr>\n",
       "    <tr>\n",
       "      <th>26</th>\n",
       "      <td>New Zealand</td>\n",
       "      <td>42890</td>\n",
       "      <td>8048</td>\n",
       "      <td>246.33</td>\n",
       "    </tr>\n",
       "    <tr>\n",
       "      <th>27</th>\n",
       "      <td>Norway</td>\n",
       "      <td>35461</td>\n",
       "      <td>18533</td>\n",
       "      <td>482.47</td>\n",
       "    </tr>\n",
       "    <tr>\n",
       "      <th>28</th>\n",
       "      <td>Poland</td>\n",
       "      <td>268005</td>\n",
       "      <td>132134</td>\n",
       "      <td>1527.35</td>\n",
       "    </tr>\n",
       "    <tr>\n",
       "      <th>29</th>\n",
       "      <td>Portugal</td>\n",
       "      <td>55566</td>\n",
       "      <td>28112</td>\n",
       "      <td>401.86</td>\n",
       "    </tr>\n",
       "    <tr>\n",
       "      <th>30</th>\n",
       "      <td>Slovak Republic</td>\n",
       "      <td>18358</td>\n",
       "      <td>18954</td>\n",
       "      <td>205.88</td>\n",
       "    </tr>\n",
       "    <tr>\n",
       "      <th>31</th>\n",
       "      <td>Slovenia</td>\n",
       "      <td>8982</td>\n",
       "      <td>5057</td>\n",
       "      <td>98.03</td>\n",
       "    </tr>\n",
       "    <tr>\n",
       "      <th>32</th>\n",
       "      <td>Spain</td>\n",
       "      <td>197334</td>\n",
       "      <td>158469</td>\n",
       "      <td>2068.30</td>\n",
       "    </tr>\n",
       "    <tr>\n",
       "      <th>33</th>\n",
       "      <td>Sweden</td>\n",
       "      <td>40302</td>\n",
       "      <td>32423</td>\n",
       "      <td>660.10</td>\n",
       "    </tr>\n",
       "    <tr>\n",
       "      <th>34</th>\n",
       "      <td>Switzerland</td>\n",
       "      <td>63945</td>\n",
       "      <td>28344</td>\n",
       "      <td>710.32</td>\n",
       "    </tr>\n",
       "    <tr>\n",
       "      <th>35</th>\n",
       "      <td>Türkiye</td>\n",
       "      <td>553351</td>\n",
       "      <td>92699</td>\n",
       "      <td>2662.21</td>\n",
       "    </tr>\n",
       "    <tr>\n",
       "      <th>36</th>\n",
       "      <td>United Kingdom</td>\n",
       "      <td>447788</td>\n",
       "      <td>318351</td>\n",
       "      <td>3541.78</td>\n",
       "    </tr>\n",
       "    <tr>\n",
       "      <th>37</th>\n",
       "      <td>United States</td>\n",
       "      <td>2066445</td>\n",
       "      <td>988535</td>\n",
       "      <td>23594.03</td>\n",
       "    </tr>\n",
       "  </tbody>\n",
       "</table>\n",
       "</div>"
      ],
      "text/plain": [
       "            Country  Bachelor’s or equivalent level  \\\n",
       "0         Australia                          252506   \n",
       "1           Austria                           33770   \n",
       "2           Belgium                           69889   \n",
       "3            Canada                          219192   \n",
       "4             Chile                          131092   \n",
       "5          Colombia                          260366   \n",
       "6        Costa Rica                           41199   \n",
       "7           Czechia                           36622   \n",
       "8           Denmark                           46184   \n",
       "9           Estonia                            5520   \n",
       "10          Finland                           37917   \n",
       "11           France                          305232   \n",
       "12          Germany                          388732   \n",
       "13           Greece                           56857   \n",
       "14          Hungary                           45024   \n",
       "15          Iceland                            3303   \n",
       "16          Ireland                           48954   \n",
       "17           Israel                           56215   \n",
       "18            Italy                          254776   \n",
       "19            Japan                          579213   \n",
       "20            Korea                          355340   \n",
       "21           Latvia                            7150   \n",
       "22        Lithuania                           16254   \n",
       "23       Luxembourg                             643   \n",
       "24           Mexico                          689242   \n",
       "25      Netherlands                          114065   \n",
       "26      New Zealand                           42890   \n",
       "27           Norway                           35461   \n",
       "28           Poland                          268005   \n",
       "29         Portugal                           55566   \n",
       "30  Slovak Republic                           18358   \n",
       "31         Slovenia                            8982   \n",
       "32            Spain                          197334   \n",
       "33           Sweden                           40302   \n",
       "34      Switzerland                           63945   \n",
       "35          Türkiye                          553351   \n",
       "36   United Kingdom                          447788   \n",
       "37    United States                         2066445   \n",
       "\n",
       "    Master’s or equivalent level       gdp  \n",
       "0                         122642   1646.96  \n",
       "1                          27988    567.99  \n",
       "2                          44605    719.59  \n",
       "3                          71091   2133.08  \n",
       "4                          52980    568.19  \n",
       "5                         112291    906.03  \n",
       "6                           4837    122.15  \n",
       "7                          28201    508.67  \n",
       "8                          25480    409.26  \n",
       "9                           3873     59.43  \n",
       "10                         20341    320.21  \n",
       "11                        339359   3648.08  \n",
       "12                        223691   5153.14  \n",
       "13                         22950    348.98  \n",
       "14                         21565    375.23  \n",
       "15                          1776     22.90  \n",
       "16                         30420    574.39  \n",
       "17                         26289    433.32  \n",
       "18                        189598   2950.84  \n",
       "19                        104165   5599.03  \n",
       "20                         78808   2514.52  \n",
       "21                          4345     69.31  \n",
       "22                          6987    129.99  \n",
       "23                           992     88.30  \n",
       "24                        136975   2677.52  \n",
       "25                         56213   1186.87  \n",
       "26                          8048    246.33  \n",
       "27                         18533    482.47  \n",
       "28                        132134   1527.35  \n",
       "29                         28112    401.86  \n",
       "30                         18954    205.88  \n",
       "31                          5057     98.03  \n",
       "32                        158469   2068.30  \n",
       "33                         32423    660.10  \n",
       "34                         28344    710.32  \n",
       "35                         92699   2662.21  \n",
       "36                        318351   3541.78  \n",
       "37                        988535  23594.03  "
      ]
     },
     "execution_count": 31,
     "metadata": {},
     "output_type": "execute_result"
    }
   ],
   "source": [
    "import pandas as pd\n",
    "import plotly.graph_objects as go\n",
    "import numpy as np\n",
    "\n",
    "# Read / Cleaning the data\n",
    "education = pd.read_csv(\"Data_cleaned/education.csv\", header=1)\n",
    "education\n",
    "\n",
    "education = education.applymap(lambda x: x.strip() if isinstance(x, str) else x)\n",
    "\n",
    "gdp = pd.read_csv(\"Data_cleaned/gdp.csv\")\n",
    "gdp['gdp'] = gdp['gdp'].replace('..', np.nan)\n",
    "gdp['gdp'] = gdp['gdp'].str.replace(',', '')\n",
    "gdp['gdp'] = gdp['gdp'].astype(float)\n",
    "gdp[['Country', 'Year']] = gdp['Country_Year'].str.split('_', expand=True)\n",
    "gdp_2001 = gdp[gdp['Year'] == '2021']\n",
    "\n",
    "education_gdp = pd.merge(gdp_2001, education, on=['Country'])\n",
    "\n",
    "\n",
    "\n",
    "education_gdp = education_gdp[['Country', 'Bachelor’s or equivalent level', 'Master’s or equivalent level', 'gdp']]\n",
    "education_gdp"
   ]
  },
  {
   "cell_type": "code",
   "execution_count": 32,
   "metadata": {},
   "outputs": [
    {
     "data": {
      "text/plain": [
       "array(['Australia', 'Austria', 'Belgium', 'Canada', 'Chile', 'Colombia',\n",
       "       'Costa Rica', 'Czechia', 'Denmark', 'Estonia', 'Finland', 'France',\n",
       "       'Germany', 'Greece', 'Hungary', 'Iceland', 'Ireland', 'Israel',\n",
       "       'Italy', 'Japan', 'Korea', 'Latvia', 'Lithuania', 'Luxembourg',\n",
       "       'Mexico', 'Netherlands', 'New Zealand', 'Norway', 'Poland',\n",
       "       'Portugal', 'Slovak Republic', 'Slovenia', 'Spain', 'Sweden',\n",
       "       'Switzerland', 'Türkiye', 'United Kingdom', 'United States'],\n",
       "      dtype=object)"
      ]
     },
     "execution_count": 32,
     "metadata": {},
     "output_type": "execute_result"
    }
   ],
   "source": [
    "unique_countries = education_gdp['Country'].unique()\n",
    "unique_countries"
   ]
  },
  {
   "cell_type": "code",
   "execution_count": 33,
   "metadata": {},
   "outputs": [
    {
     "name": "stdout",
     "output_type": "stream",
     "text": [
      "['Oceania' 'Europe' 'North America' 'South America' 'Middle East' 'Asia'\n",
      " nan]\n"
     ]
    }
   ],
   "source": [
    "country_to_region = {\n",
    "    'USA': 'North America',\n",
    "    'Canada': 'North America',\n",
    "    'Germany': 'Europe',\n",
    "    'France': 'Europe',\n",
    "    'Australia': 'Oceania',\n",
    "    'Austria': 'Europe',\n",
    "    'Belgium': 'Europe',\n",
    "    'Chile': 'South America',\n",
    "    'Colombia': 'South America',\n",
    "    'Costa Rica': 'North America',\n",
    "    'Czechia': 'Europe',\n",
    "    'Denmark': 'Europe',\n",
    "    'Estonia': 'Europe',\n",
    "    'Finland': 'Europe',\n",
    "    'Greece': 'Europe',\n",
    "    'Hungary': 'Europe',\n",
    "    'Iceland': 'Europe',\n",
    "    'Ireland': 'Europe',\n",
    "    'Israel': 'Middle East',\n",
    "    'Italy': 'Europe',\n",
    "    'Japan': 'Asia',\n",
    "    'Korea': 'Asia',\n",
    "    'Latvia': 'Europe',\n",
    "    'Lithuania': 'Europe',\n",
    "    'Luxembourg': 'Europe',\n",
    "    'Mexico': 'North America',\n",
    "    'Netherlands': 'Europe',\n",
    "    'New Zealand': 'Oceania',\n",
    "    'Norway': 'Europe',\n",
    "    'Poland': 'Europe',\n",
    "    'Portugal': 'Europe',\n",
    "    'Slovak Republic': 'Europe',\n",
    "    'Slovenia': 'Europe',\n",
    "    'Spain': 'Europe',\n",
    "    'Sweden': 'Europe',\n",
    "    'Switzerland': 'Europe',\n",
    "    'Turkey': 'Europe',\n",
    "    'United Kingdom': 'Europe',\n",
    "    'United States': 'North America'\n",
    "}\n",
    "\n",
    "\n",
    "education_gdp['Region'] = education_gdp['Country'].map(country_to_region)\n",
    "unique_regions = education_gdp['Region'].unique()\n",
    "print(unique_regions)\n"
   ]
  },
  {
   "cell_type": "code",
   "execution_count": 38,
   "metadata": {},
   "outputs": [
    {
     "data": {
      "text/html": [
       "<div>\n",
       "<style scoped>\n",
       "    .dataframe tbody tr th:only-of-type {\n",
       "        vertical-align: middle;\n",
       "    }\n",
       "\n",
       "    .dataframe tbody tr th {\n",
       "        vertical-align: top;\n",
       "    }\n",
       "\n",
       "    .dataframe thead th {\n",
       "        text-align: right;\n",
       "    }\n",
       "</style>\n",
       "<table border=\"1\" class=\"dataframe\">\n",
       "  <thead>\n",
       "    <tr style=\"text-align: right;\">\n",
       "      <th></th>\n",
       "      <th>Bachelor’s or equivalent level</th>\n",
       "      <th>Master’s or equivalent level</th>\n",
       "      <th>gdp</th>\n",
       "      <th>Region</th>\n",
       "    </tr>\n",
       "  </thead>\n",
       "  <tbody>\n",
       "    <tr>\n",
       "      <th>0</th>\n",
       "      <td>252506</td>\n",
       "      <td>122642</td>\n",
       "      <td>1646.96</td>\n",
       "      <td>Oceania</td>\n",
       "    </tr>\n",
       "    <tr>\n",
       "      <th>1</th>\n",
       "      <td>33770</td>\n",
       "      <td>27988</td>\n",
       "      <td>567.99</td>\n",
       "      <td>Europe</td>\n",
       "    </tr>\n",
       "    <tr>\n",
       "      <th>2</th>\n",
       "      <td>69889</td>\n",
       "      <td>44605</td>\n",
       "      <td>719.59</td>\n",
       "      <td>Europe</td>\n",
       "    </tr>\n",
       "    <tr>\n",
       "      <th>3</th>\n",
       "      <td>219192</td>\n",
       "      <td>71091</td>\n",
       "      <td>2133.08</td>\n",
       "      <td>North America</td>\n",
       "    </tr>\n",
       "    <tr>\n",
       "      <th>4</th>\n",
       "      <td>131092</td>\n",
       "      <td>52980</td>\n",
       "      <td>568.19</td>\n",
       "      <td>South America</td>\n",
       "    </tr>\n",
       "    <tr>\n",
       "      <th>5</th>\n",
       "      <td>260366</td>\n",
       "      <td>112291</td>\n",
       "      <td>906.03</td>\n",
       "      <td>South America</td>\n",
       "    </tr>\n",
       "    <tr>\n",
       "      <th>6</th>\n",
       "      <td>41199</td>\n",
       "      <td>4837</td>\n",
       "      <td>122.15</td>\n",
       "      <td>North America</td>\n",
       "    </tr>\n",
       "    <tr>\n",
       "      <th>7</th>\n",
       "      <td>36622</td>\n",
       "      <td>28201</td>\n",
       "      <td>508.67</td>\n",
       "      <td>Europe</td>\n",
       "    </tr>\n",
       "    <tr>\n",
       "      <th>8</th>\n",
       "      <td>46184</td>\n",
       "      <td>25480</td>\n",
       "      <td>409.26</td>\n",
       "      <td>Europe</td>\n",
       "    </tr>\n",
       "    <tr>\n",
       "      <th>9</th>\n",
       "      <td>5520</td>\n",
       "      <td>3873</td>\n",
       "      <td>59.43</td>\n",
       "      <td>Europe</td>\n",
       "    </tr>\n",
       "    <tr>\n",
       "      <th>10</th>\n",
       "      <td>37917</td>\n",
       "      <td>20341</td>\n",
       "      <td>320.21</td>\n",
       "      <td>Europe</td>\n",
       "    </tr>\n",
       "    <tr>\n",
       "      <th>11</th>\n",
       "      <td>305232</td>\n",
       "      <td>339359</td>\n",
       "      <td>3648.08</td>\n",
       "      <td>Europe</td>\n",
       "    </tr>\n",
       "    <tr>\n",
       "      <th>12</th>\n",
       "      <td>388732</td>\n",
       "      <td>223691</td>\n",
       "      <td>5153.14</td>\n",
       "      <td>Europe</td>\n",
       "    </tr>\n",
       "    <tr>\n",
       "      <th>13</th>\n",
       "      <td>56857</td>\n",
       "      <td>22950</td>\n",
       "      <td>348.98</td>\n",
       "      <td>Europe</td>\n",
       "    </tr>\n",
       "    <tr>\n",
       "      <th>14</th>\n",
       "      <td>45024</td>\n",
       "      <td>21565</td>\n",
       "      <td>375.23</td>\n",
       "      <td>Europe</td>\n",
       "    </tr>\n",
       "    <tr>\n",
       "      <th>15</th>\n",
       "      <td>3303</td>\n",
       "      <td>1776</td>\n",
       "      <td>22.90</td>\n",
       "      <td>Europe</td>\n",
       "    </tr>\n",
       "    <tr>\n",
       "      <th>16</th>\n",
       "      <td>48954</td>\n",
       "      <td>30420</td>\n",
       "      <td>574.39</td>\n",
       "      <td>Europe</td>\n",
       "    </tr>\n",
       "    <tr>\n",
       "      <th>17</th>\n",
       "      <td>56215</td>\n",
       "      <td>26289</td>\n",
       "      <td>433.32</td>\n",
       "      <td>Middle East</td>\n",
       "    </tr>\n",
       "    <tr>\n",
       "      <th>18</th>\n",
       "      <td>254776</td>\n",
       "      <td>189598</td>\n",
       "      <td>2950.84</td>\n",
       "      <td>Europe</td>\n",
       "    </tr>\n",
       "    <tr>\n",
       "      <th>19</th>\n",
       "      <td>579213</td>\n",
       "      <td>104165</td>\n",
       "      <td>5599.03</td>\n",
       "      <td>Asia</td>\n",
       "    </tr>\n",
       "    <tr>\n",
       "      <th>20</th>\n",
       "      <td>355340</td>\n",
       "      <td>78808</td>\n",
       "      <td>2514.52</td>\n",
       "      <td>Asia</td>\n",
       "    </tr>\n",
       "    <tr>\n",
       "      <th>21</th>\n",
       "      <td>7150</td>\n",
       "      <td>4345</td>\n",
       "      <td>69.31</td>\n",
       "      <td>Europe</td>\n",
       "    </tr>\n",
       "    <tr>\n",
       "      <th>22</th>\n",
       "      <td>16254</td>\n",
       "      <td>6987</td>\n",
       "      <td>129.99</td>\n",
       "      <td>Europe</td>\n",
       "    </tr>\n",
       "    <tr>\n",
       "      <th>23</th>\n",
       "      <td>643</td>\n",
       "      <td>992</td>\n",
       "      <td>88.30</td>\n",
       "      <td>Europe</td>\n",
       "    </tr>\n",
       "    <tr>\n",
       "      <th>24</th>\n",
       "      <td>689242</td>\n",
       "      <td>136975</td>\n",
       "      <td>2677.52</td>\n",
       "      <td>North America</td>\n",
       "    </tr>\n",
       "    <tr>\n",
       "      <th>25</th>\n",
       "      <td>114065</td>\n",
       "      <td>56213</td>\n",
       "      <td>1186.87</td>\n",
       "      <td>Europe</td>\n",
       "    </tr>\n",
       "    <tr>\n",
       "      <th>26</th>\n",
       "      <td>42890</td>\n",
       "      <td>8048</td>\n",
       "      <td>246.33</td>\n",
       "      <td>Oceania</td>\n",
       "    </tr>\n",
       "    <tr>\n",
       "      <th>27</th>\n",
       "      <td>35461</td>\n",
       "      <td>18533</td>\n",
       "      <td>482.47</td>\n",
       "      <td>Europe</td>\n",
       "    </tr>\n",
       "    <tr>\n",
       "      <th>28</th>\n",
       "      <td>268005</td>\n",
       "      <td>132134</td>\n",
       "      <td>1527.35</td>\n",
       "      <td>Europe</td>\n",
       "    </tr>\n",
       "    <tr>\n",
       "      <th>29</th>\n",
       "      <td>55566</td>\n",
       "      <td>28112</td>\n",
       "      <td>401.86</td>\n",
       "      <td>Europe</td>\n",
       "    </tr>\n",
       "    <tr>\n",
       "      <th>30</th>\n",
       "      <td>18358</td>\n",
       "      <td>18954</td>\n",
       "      <td>205.88</td>\n",
       "      <td>Europe</td>\n",
       "    </tr>\n",
       "    <tr>\n",
       "      <th>31</th>\n",
       "      <td>8982</td>\n",
       "      <td>5057</td>\n",
       "      <td>98.03</td>\n",
       "      <td>Europe</td>\n",
       "    </tr>\n",
       "    <tr>\n",
       "      <th>32</th>\n",
       "      <td>197334</td>\n",
       "      <td>158469</td>\n",
       "      <td>2068.30</td>\n",
       "      <td>Europe</td>\n",
       "    </tr>\n",
       "    <tr>\n",
       "      <th>33</th>\n",
       "      <td>40302</td>\n",
       "      <td>32423</td>\n",
       "      <td>660.10</td>\n",
       "      <td>Europe</td>\n",
       "    </tr>\n",
       "    <tr>\n",
       "      <th>34</th>\n",
       "      <td>63945</td>\n",
       "      <td>28344</td>\n",
       "      <td>710.32</td>\n",
       "      <td>Europe</td>\n",
       "    </tr>\n",
       "    <tr>\n",
       "      <th>35</th>\n",
       "      <td>553351</td>\n",
       "      <td>92699</td>\n",
       "      <td>2662.21</td>\n",
       "      <td>NaN</td>\n",
       "    </tr>\n",
       "    <tr>\n",
       "      <th>36</th>\n",
       "      <td>447788</td>\n",
       "      <td>318351</td>\n",
       "      <td>3541.78</td>\n",
       "      <td>Europe</td>\n",
       "    </tr>\n",
       "    <tr>\n",
       "      <th>37</th>\n",
       "      <td>2066445</td>\n",
       "      <td>988535</td>\n",
       "      <td>23594.03</td>\n",
       "      <td>North America</td>\n",
       "    </tr>\n",
       "  </tbody>\n",
       "</table>\n",
       "</div>"
      ],
      "text/plain": [
       "    Bachelor’s or equivalent level  Master’s or equivalent level       gdp  \\\n",
       "0                           252506                        122642   1646.96   \n",
       "1                            33770                         27988    567.99   \n",
       "2                            69889                         44605    719.59   \n",
       "3                           219192                         71091   2133.08   \n",
       "4                           131092                         52980    568.19   \n",
       "5                           260366                        112291    906.03   \n",
       "6                            41199                          4837    122.15   \n",
       "7                            36622                         28201    508.67   \n",
       "8                            46184                         25480    409.26   \n",
       "9                             5520                          3873     59.43   \n",
       "10                           37917                         20341    320.21   \n",
       "11                          305232                        339359   3648.08   \n",
       "12                          388732                        223691   5153.14   \n",
       "13                           56857                         22950    348.98   \n",
       "14                           45024                         21565    375.23   \n",
       "15                            3303                          1776     22.90   \n",
       "16                           48954                         30420    574.39   \n",
       "17                           56215                         26289    433.32   \n",
       "18                          254776                        189598   2950.84   \n",
       "19                          579213                        104165   5599.03   \n",
       "20                          355340                         78808   2514.52   \n",
       "21                            7150                          4345     69.31   \n",
       "22                           16254                          6987    129.99   \n",
       "23                             643                           992     88.30   \n",
       "24                          689242                        136975   2677.52   \n",
       "25                          114065                         56213   1186.87   \n",
       "26                           42890                          8048    246.33   \n",
       "27                           35461                         18533    482.47   \n",
       "28                          268005                        132134   1527.35   \n",
       "29                           55566                         28112    401.86   \n",
       "30                           18358                         18954    205.88   \n",
       "31                            8982                          5057     98.03   \n",
       "32                          197334                        158469   2068.30   \n",
       "33                           40302                         32423    660.10   \n",
       "34                           63945                         28344    710.32   \n",
       "35                          553351                         92699   2662.21   \n",
       "36                          447788                        318351   3541.78   \n",
       "37                         2066445                        988535  23594.03   \n",
       "\n",
       "           Region  \n",
       "0         Oceania  \n",
       "1          Europe  \n",
       "2          Europe  \n",
       "3   North America  \n",
       "4   South America  \n",
       "5   South America  \n",
       "6   North America  \n",
       "7          Europe  \n",
       "8          Europe  \n",
       "9          Europe  \n",
       "10         Europe  \n",
       "11         Europe  \n",
       "12         Europe  \n",
       "13         Europe  \n",
       "14         Europe  \n",
       "15         Europe  \n",
       "16         Europe  \n",
       "17    Middle East  \n",
       "18         Europe  \n",
       "19           Asia  \n",
       "20           Asia  \n",
       "21         Europe  \n",
       "22         Europe  \n",
       "23         Europe  \n",
       "24  North America  \n",
       "25         Europe  \n",
       "26        Oceania  \n",
       "27         Europe  \n",
       "28         Europe  \n",
       "29         Europe  \n",
       "30         Europe  \n",
       "31         Europe  \n",
       "32         Europe  \n",
       "33         Europe  \n",
       "34         Europe  \n",
       "35            NaN  \n",
       "36         Europe  \n",
       "37  North America  "
      ]
     },
     "execution_count": 38,
     "metadata": {},
     "output_type": "execute_result"
    }
   ],
   "source": [
    "#education_gdp['Region'] = education_gdp['Country'].map(country_to_region)\n",
    "#education_gdp.drop(columns=['Country'], inplace=True)\n",
    "education_gdp\n"
   ]
  },
  {
   "cell_type": "code",
   "execution_count": 46,
   "metadata": {},
   "outputs": [],
   "source": [
    "import pandas as pd\n",
    "import plotly.express as px\n",
    "average_gdp_by_region = education_gdp.groupby('Region')['gdp'].mean().reset_index()\n",
    "sum_by_region = education_gdp.groupby('Region')[['Bachelor’s or equivalent level', 'Master’s or equivalent level']].sum()\n",
    "sum_by_region\n",
    "test  = pd.merge(average_gdp_by_region,sum_by_region, on='Region' )\n"
   ]
  },
  {
   "cell_type": "code",
   "execution_count": 51,
   "metadata": {},
   "outputs": [
    {
     "data": {
      "application/vnd.plotly.v1+json": {
       "config": {
        "plotlyServerURL": "https://plot.ly"
       },
       "data": [
        {
         "alignmentgroup": "True",
         "base": [
          4056.7749999999996,
          1031.895,
          433.32,
          7131.695,
          946.645,
          737.11
         ],
         "customdata": [
          [
           "Bachelor’s or equivalent level",
           4056.7749999999996
          ],
          [
           "Bachelor’s or equivalent level",
           1031.895
          ],
          [
           "Bachelor’s or equivalent level",
           433.32
          ],
          [
           "Bachelor’s or equivalent level",
           7131.695
          ],
          [
           "Bachelor’s or equivalent level",
           946.645
          ],
          [
           "Bachelor’s or equivalent level",
           737.11
          ],
          [
           "Master’s or equivalent level",
           4056.7749999999996
          ],
          [
           "Master’s or equivalent level",
           1031.895
          ],
          [
           "Master’s or equivalent level",
           433.32
          ],
          [
           "Master’s or equivalent level",
           7131.695
          ],
          [
           "Master’s or equivalent level",
           946.645
          ],
          [
           "Master’s or equivalent level",
           737.11
          ]
         ],
         "hovertemplate": "Region: %{x}<br>Education Level: %{customdata[0]}<br>Total Count: %{y}<br>Average GDP: $%{customdata[1]:,.2f}",
         "legendgroup": "Bachelor’s or equivalent level",
         "marker": {
          "color": "#636efa",
          "pattern": {
           "shape": ""
          }
         },
         "name": "Bachelor’s or equivalent level",
         "offsetgroup": "Bachelor’s or equivalent level",
         "orientation": "v",
         "showlegend": true,
         "textposition": "auto",
         "type": "bar",
         "width": [
          0.5,
          0.5,
          0.15,
          0.6,
          0.3,
          0.2
         ],
         "x": [
          "Asia",
          "Europe",
          "Middle East",
          "North America",
          "Oceania",
          "South America"
         ],
         "xaxis": "x",
         "y": [
          934553,
          2606633,
          56215,
          3016078,
          295396,
          391458
         ],
         "yaxis": "y"
        },
        {
         "alignmentgroup": "True",
         "base": [
          4056.7749999999996,
          1031.895,
          433.32,
          7131.695,
          946.645,
          737.11
         ],
         "customdata": [
          [
           "Bachelor’s or equivalent level",
           4056.7749999999996
          ],
          [
           "Bachelor’s or equivalent level",
           1031.895
          ],
          [
           "Bachelor’s or equivalent level",
           433.32
          ],
          [
           "Bachelor’s or equivalent level",
           7131.695
          ],
          [
           "Bachelor’s or equivalent level",
           946.645
          ],
          [
           "Bachelor’s or equivalent level",
           737.11
          ],
          [
           "Master’s or equivalent level",
           4056.7749999999996
          ],
          [
           "Master’s or equivalent level",
           1031.895
          ],
          [
           "Master’s or equivalent level",
           433.32
          ],
          [
           "Master’s or equivalent level",
           7131.695
          ],
          [
           "Master’s or equivalent level",
           946.645
          ],
          [
           "Master’s or equivalent level",
           737.11
          ]
         ],
         "hovertemplate": "Region: %{x}<br>Education Level: %{customdata[0]}<br>Total Count: %{y}<br>Average GDP: $%{customdata[1]:,.2f}",
         "legendgroup": "Master’s or equivalent level",
         "marker": {
          "color": "#EF553B",
          "pattern": {
           "shape": ""
          }
         },
         "name": "Master’s or equivalent level",
         "offsetgroup": "Master’s or equivalent level",
         "orientation": "v",
         "showlegend": true,
         "textposition": "auto",
         "type": "bar",
         "width": [
          0.5,
          0.5,
          0.15,
          0.6,
          0.3,
          0.2
         ],
         "x": [
          "Asia",
          "Europe",
          "Middle East",
          "North America",
          "Oceania",
          "South America"
         ],
         "xaxis": "x",
         "y": [
          182973,
          1788761,
          26289,
          1201438,
          130690,
          165271
         ],
         "yaxis": "y"
        }
       ],
       "layout": {
        "barmode": "group",
        "legend": {
         "title": {
          "text": "Education Level"
         },
         "tracegroupgap": 0
        },
        "template": {
         "data": {
          "bar": [
           {
            "error_x": {
             "color": "#2a3f5f"
            },
            "error_y": {
             "color": "#2a3f5f"
            },
            "marker": {
             "line": {
              "color": "#E5ECF6",
              "width": 0.5
             },
             "pattern": {
              "fillmode": "overlay",
              "size": 10,
              "solidity": 0.2
             }
            },
            "type": "bar"
           }
          ],
          "barpolar": [
           {
            "marker": {
             "line": {
              "color": "#E5ECF6",
              "width": 0.5
             },
             "pattern": {
              "fillmode": "overlay",
              "size": 10,
              "solidity": 0.2
             }
            },
            "type": "barpolar"
           }
          ],
          "carpet": [
           {
            "aaxis": {
             "endlinecolor": "#2a3f5f",
             "gridcolor": "white",
             "linecolor": "white",
             "minorgridcolor": "white",
             "startlinecolor": "#2a3f5f"
            },
            "baxis": {
             "endlinecolor": "#2a3f5f",
             "gridcolor": "white",
             "linecolor": "white",
             "minorgridcolor": "white",
             "startlinecolor": "#2a3f5f"
            },
            "type": "carpet"
           }
          ],
          "choropleth": [
           {
            "colorbar": {
             "outlinewidth": 0,
             "ticks": ""
            },
            "type": "choropleth"
           }
          ],
          "contour": [
           {
            "colorbar": {
             "outlinewidth": 0,
             "ticks": ""
            },
            "colorscale": [
             [
              0,
              "#0d0887"
             ],
             [
              0.1111111111111111,
              "#46039f"
             ],
             [
              0.2222222222222222,
              "#7201a8"
             ],
             [
              0.3333333333333333,
              "#9c179e"
             ],
             [
              0.4444444444444444,
              "#bd3786"
             ],
             [
              0.5555555555555556,
              "#d8576b"
             ],
             [
              0.6666666666666666,
              "#ed7953"
             ],
             [
              0.7777777777777778,
              "#fb9f3a"
             ],
             [
              0.8888888888888888,
              "#fdca26"
             ],
             [
              1,
              "#f0f921"
             ]
            ],
            "type": "contour"
           }
          ],
          "contourcarpet": [
           {
            "colorbar": {
             "outlinewidth": 0,
             "ticks": ""
            },
            "type": "contourcarpet"
           }
          ],
          "heatmap": [
           {
            "colorbar": {
             "outlinewidth": 0,
             "ticks": ""
            },
            "colorscale": [
             [
              0,
              "#0d0887"
             ],
             [
              0.1111111111111111,
              "#46039f"
             ],
             [
              0.2222222222222222,
              "#7201a8"
             ],
             [
              0.3333333333333333,
              "#9c179e"
             ],
             [
              0.4444444444444444,
              "#bd3786"
             ],
             [
              0.5555555555555556,
              "#d8576b"
             ],
             [
              0.6666666666666666,
              "#ed7953"
             ],
             [
              0.7777777777777778,
              "#fb9f3a"
             ],
             [
              0.8888888888888888,
              "#fdca26"
             ],
             [
              1,
              "#f0f921"
             ]
            ],
            "type": "heatmap"
           }
          ],
          "heatmapgl": [
           {
            "colorbar": {
             "outlinewidth": 0,
             "ticks": ""
            },
            "colorscale": [
             [
              0,
              "#0d0887"
             ],
             [
              0.1111111111111111,
              "#46039f"
             ],
             [
              0.2222222222222222,
              "#7201a8"
             ],
             [
              0.3333333333333333,
              "#9c179e"
             ],
             [
              0.4444444444444444,
              "#bd3786"
             ],
             [
              0.5555555555555556,
              "#d8576b"
             ],
             [
              0.6666666666666666,
              "#ed7953"
             ],
             [
              0.7777777777777778,
              "#fb9f3a"
             ],
             [
              0.8888888888888888,
              "#fdca26"
             ],
             [
              1,
              "#f0f921"
             ]
            ],
            "type": "heatmapgl"
           }
          ],
          "histogram": [
           {
            "marker": {
             "pattern": {
              "fillmode": "overlay",
              "size": 10,
              "solidity": 0.2
             }
            },
            "type": "histogram"
           }
          ],
          "histogram2d": [
           {
            "colorbar": {
             "outlinewidth": 0,
             "ticks": ""
            },
            "colorscale": [
             [
              0,
              "#0d0887"
             ],
             [
              0.1111111111111111,
              "#46039f"
             ],
             [
              0.2222222222222222,
              "#7201a8"
             ],
             [
              0.3333333333333333,
              "#9c179e"
             ],
             [
              0.4444444444444444,
              "#bd3786"
             ],
             [
              0.5555555555555556,
              "#d8576b"
             ],
             [
              0.6666666666666666,
              "#ed7953"
             ],
             [
              0.7777777777777778,
              "#fb9f3a"
             ],
             [
              0.8888888888888888,
              "#fdca26"
             ],
             [
              1,
              "#f0f921"
             ]
            ],
            "type": "histogram2d"
           }
          ],
          "histogram2dcontour": [
           {
            "colorbar": {
             "outlinewidth": 0,
             "ticks": ""
            },
            "colorscale": [
             [
              0,
              "#0d0887"
             ],
             [
              0.1111111111111111,
              "#46039f"
             ],
             [
              0.2222222222222222,
              "#7201a8"
             ],
             [
              0.3333333333333333,
              "#9c179e"
             ],
             [
              0.4444444444444444,
              "#bd3786"
             ],
             [
              0.5555555555555556,
              "#d8576b"
             ],
             [
              0.6666666666666666,
              "#ed7953"
             ],
             [
              0.7777777777777778,
              "#fb9f3a"
             ],
             [
              0.8888888888888888,
              "#fdca26"
             ],
             [
              1,
              "#f0f921"
             ]
            ],
            "type": "histogram2dcontour"
           }
          ],
          "mesh3d": [
           {
            "colorbar": {
             "outlinewidth": 0,
             "ticks": ""
            },
            "type": "mesh3d"
           }
          ],
          "parcoords": [
           {
            "line": {
             "colorbar": {
              "outlinewidth": 0,
              "ticks": ""
             }
            },
            "type": "parcoords"
           }
          ],
          "pie": [
           {
            "automargin": true,
            "type": "pie"
           }
          ],
          "scatter": [
           {
            "fillpattern": {
             "fillmode": "overlay",
             "size": 10,
             "solidity": 0.2
            },
            "type": "scatter"
           }
          ],
          "scatter3d": [
           {
            "line": {
             "colorbar": {
              "outlinewidth": 0,
              "ticks": ""
             }
            },
            "marker": {
             "colorbar": {
              "outlinewidth": 0,
              "ticks": ""
             }
            },
            "type": "scatter3d"
           }
          ],
          "scattercarpet": [
           {
            "marker": {
             "colorbar": {
              "outlinewidth": 0,
              "ticks": ""
             }
            },
            "type": "scattercarpet"
           }
          ],
          "scattergeo": [
           {
            "marker": {
             "colorbar": {
              "outlinewidth": 0,
              "ticks": ""
             }
            },
            "type": "scattergeo"
           }
          ],
          "scattergl": [
           {
            "marker": {
             "colorbar": {
              "outlinewidth": 0,
              "ticks": ""
             }
            },
            "type": "scattergl"
           }
          ],
          "scattermapbox": [
           {
            "marker": {
             "colorbar": {
              "outlinewidth": 0,
              "ticks": ""
             }
            },
            "type": "scattermapbox"
           }
          ],
          "scatterpolar": [
           {
            "marker": {
             "colorbar": {
              "outlinewidth": 0,
              "ticks": ""
             }
            },
            "type": "scatterpolar"
           }
          ],
          "scatterpolargl": [
           {
            "marker": {
             "colorbar": {
              "outlinewidth": 0,
              "ticks": ""
             }
            },
            "type": "scatterpolargl"
           }
          ],
          "scatterternary": [
           {
            "marker": {
             "colorbar": {
              "outlinewidth": 0,
              "ticks": ""
             }
            },
            "type": "scatterternary"
           }
          ],
          "surface": [
           {
            "colorbar": {
             "outlinewidth": 0,
             "ticks": ""
            },
            "colorscale": [
             [
              0,
              "#0d0887"
             ],
             [
              0.1111111111111111,
              "#46039f"
             ],
             [
              0.2222222222222222,
              "#7201a8"
             ],
             [
              0.3333333333333333,
              "#9c179e"
             ],
             [
              0.4444444444444444,
              "#bd3786"
             ],
             [
              0.5555555555555556,
              "#d8576b"
             ],
             [
              0.6666666666666666,
              "#ed7953"
             ],
             [
              0.7777777777777778,
              "#fb9f3a"
             ],
             [
              0.8888888888888888,
              "#fdca26"
             ],
             [
              1,
              "#f0f921"
             ]
            ],
            "type": "surface"
           }
          ],
          "table": [
           {
            "cells": {
             "fill": {
              "color": "#EBF0F8"
             },
             "line": {
              "color": "white"
             }
            },
            "header": {
             "fill": {
              "color": "#C8D4E3"
             },
             "line": {
              "color": "white"
             }
            },
            "type": "table"
           }
          ]
         },
         "layout": {
          "annotationdefaults": {
           "arrowcolor": "#2a3f5f",
           "arrowhead": 0,
           "arrowwidth": 1
          },
          "autotypenumbers": "strict",
          "coloraxis": {
           "colorbar": {
            "outlinewidth": 0,
            "ticks": ""
           }
          },
          "colorscale": {
           "diverging": [
            [
             0,
             "#8e0152"
            ],
            [
             0.1,
             "#c51b7d"
            ],
            [
             0.2,
             "#de77ae"
            ],
            [
             0.3,
             "#f1b6da"
            ],
            [
             0.4,
             "#fde0ef"
            ],
            [
             0.5,
             "#f7f7f7"
            ],
            [
             0.6,
             "#e6f5d0"
            ],
            [
             0.7,
             "#b8e186"
            ],
            [
             0.8,
             "#7fbc41"
            ],
            [
             0.9,
             "#4d9221"
            ],
            [
             1,
             "#276419"
            ]
           ],
           "sequential": [
            [
             0,
             "#0d0887"
            ],
            [
             0.1111111111111111,
             "#46039f"
            ],
            [
             0.2222222222222222,
             "#7201a8"
            ],
            [
             0.3333333333333333,
             "#9c179e"
            ],
            [
             0.4444444444444444,
             "#bd3786"
            ],
            [
             0.5555555555555556,
             "#d8576b"
            ],
            [
             0.6666666666666666,
             "#ed7953"
            ],
            [
             0.7777777777777778,
             "#fb9f3a"
            ],
            [
             0.8888888888888888,
             "#fdca26"
            ],
            [
             1,
             "#f0f921"
            ]
           ],
           "sequentialminus": [
            [
             0,
             "#0d0887"
            ],
            [
             0.1111111111111111,
             "#46039f"
            ],
            [
             0.2222222222222222,
             "#7201a8"
            ],
            [
             0.3333333333333333,
             "#9c179e"
            ],
            [
             0.4444444444444444,
             "#bd3786"
            ],
            [
             0.5555555555555556,
             "#d8576b"
            ],
            [
             0.6666666666666666,
             "#ed7953"
            ],
            [
             0.7777777777777778,
             "#fb9f3a"
            ],
            [
             0.8888888888888888,
             "#fdca26"
            ],
            [
             1,
             "#f0f921"
            ]
           ]
          },
          "colorway": [
           "#636efa",
           "#EF553B",
           "#00cc96",
           "#ab63fa",
           "#FFA15A",
           "#19d3f3",
           "#FF6692",
           "#B6E880",
           "#FF97FF",
           "#FECB52"
          ],
          "font": {
           "color": "#2a3f5f"
          },
          "geo": {
           "bgcolor": "white",
           "lakecolor": "white",
           "landcolor": "#E5ECF6",
           "showlakes": true,
           "showland": true,
           "subunitcolor": "white"
          },
          "hoverlabel": {
           "align": "left"
          },
          "hovermode": "closest",
          "mapbox": {
           "style": "light"
          },
          "paper_bgcolor": "white",
          "plot_bgcolor": "#E5ECF6",
          "polar": {
           "angularaxis": {
            "gridcolor": "white",
            "linecolor": "white",
            "ticks": ""
           },
           "bgcolor": "#E5ECF6",
           "radialaxis": {
            "gridcolor": "white",
            "linecolor": "white",
            "ticks": ""
           }
          },
          "scene": {
           "xaxis": {
            "backgroundcolor": "#E5ECF6",
            "gridcolor": "white",
            "gridwidth": 2,
            "linecolor": "white",
            "showbackground": true,
            "ticks": "",
            "zerolinecolor": "white"
           },
           "yaxis": {
            "backgroundcolor": "#E5ECF6",
            "gridcolor": "white",
            "gridwidth": 2,
            "linecolor": "white",
            "showbackground": true,
            "ticks": "",
            "zerolinecolor": "white"
           },
           "zaxis": {
            "backgroundcolor": "#E5ECF6",
            "gridcolor": "white",
            "gridwidth": 2,
            "linecolor": "white",
            "showbackground": true,
            "ticks": "",
            "zerolinecolor": "white"
           }
          },
          "shapedefaults": {
           "line": {
            "color": "#2a3f5f"
           }
          },
          "ternary": {
           "aaxis": {
            "gridcolor": "white",
            "linecolor": "white",
            "ticks": ""
           },
           "baxis": {
            "gridcolor": "white",
            "linecolor": "white",
            "ticks": ""
           },
           "bgcolor": "#E5ECF6",
           "caxis": {
            "gridcolor": "white",
            "linecolor": "white",
            "ticks": ""
           }
          },
          "title": {
           "x": 0.05
          },
          "xaxis": {
           "automargin": true,
           "gridcolor": "white",
           "linecolor": "white",
           "ticks": "",
           "title": {
            "standoff": 15
           },
           "zerolinecolor": "white",
           "zerolinewidth": 2
          },
          "yaxis": {
           "automargin": true,
           "gridcolor": "white",
           "linecolor": "white",
           "ticks": "",
           "title": {
            "standoff": 15
           },
           "zerolinecolor": "white",
           "zerolinewidth": 2
          }
         }
        },
        "title": {
         "text": "Total Bachelor's and Master's Degrees by Region"
        },
        "xaxis": {
         "anchor": "y",
         "domain": [
          0,
          1
         ],
         "title": {
          "text": "Region"
         }
        },
        "yaxis": {
         "anchor": "x",
         "domain": [
          0,
          1
         ],
         "title": {
          "text": "Total Count"
         }
        }
       }
      }
     },
     "metadata": {},
     "output_type": "display_data"
    }
   ],
   "source": [
    "import pandas as pd\n",
    "import plotly.express as px\n",
    "\n",
    "melted_test = test.melt(id_vars=['Region', 'gdp'], value_vars=['Bachelor’s or equivalent level', 'Master’s or equivalent level'], \n",
    "                        var_name='Education Level', value_name='Total Count')\n",
    "\n",
    "fig = px.bar(melted_test, x='Region', y='Total Count', color='Education Level',\n",
    "             title='Total Bachelor\\'s and Master\\'s Degrees by Region',\n",
    "             hover_data={'Region': True, 'Total Count': True, 'gdp': True},\n",
    "             labels={'Total Count': 'Total Count', 'Education Level': 'Education Level'},\n",
    "             barmode='group',\n",
    "             base='gdp')\n",
    "\n",
    "fig.update_traces(customdata=melted_test[['Education Level', 'gdp']], \n",
    "                  width=[0.5, 0.5, 0.15, 0.6, 0.3, 0.2],\n",
    "                  hovertemplate='<br>'.join([\n",
    "                      'Region: %{x}',\n",
    "                      'Education Level: %{customdata[0]}',\n",
    "                      'Total Count: %{y}',\n",
    "                      'Average GDP: $%{customdata[1]:,.2f}'\n",
    "                  ]))\n",
    "\n",
    "fig.show()\n"
   ]
  }
 ],
 "metadata": {
  "kernelspec": {
   "display_name": "base",
   "language": "python",
   "name": "python3"
  },
  "language_info": {
   "codemirror_mode": {
    "name": "ipython",
    "version": 3
   },
   "file_extension": ".py",
   "mimetype": "text/x-python",
   "name": "python",
   "nbconvert_exporter": "python",
   "pygments_lexer": "ipython3",
   "version": "3.11.5"
  }
 },
 "nbformat": 4,
 "nbformat_minor": 2
}
