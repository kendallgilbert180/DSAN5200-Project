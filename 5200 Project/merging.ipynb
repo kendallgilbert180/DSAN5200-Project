{
 "cells": [
  {
   "cell_type": "code",
   "execution_count": 32,
   "metadata": {},
   "outputs": [
    {
     "name": "stdout",
     "output_type": "stream",
     "text": [
      "     Unnamed: 0 population    Country  Year\n",
      "588         588   23491000  Australia  2014\n",
      "589         589         ..    Austria  2014\n",
      "590         590         ..    Belgium  2014\n",
      "591         591         ..     Canada  2014\n",
      "592         592         ..      Chile  2014\n"
     ]
    }
   ],
   "source": [
    "import pandas as pd\n",
    "\n",
    "# Read the CSV file into a DataFrame\n",
    "df1 = pd.read_csv(\"Data_cleaned/pop.csv\")\n",
    "\n",
    "# Split the \"Country_Year\" column into separate \"Country\" and \"Year\" columns\n",
    "df1[['Country', 'Year']] = df1['Country_Year'].str.split('_', expand=True)\n",
    "\n",
    "# Drop the \"Country_Year\" column\n",
    "df1.drop(columns=['Country_Year'], inplace=True)\n",
    "\n",
    "# Filter the DataFrame to include rows where the year is 2014\n",
    "df_2014 = df1[df1['Year'] == '2014'].copy()\n",
    "\n",
    "# Display the DataFrame containing data for the year 2014\n",
    "print(df_2014.head())\n",
    "\n"
   ]
  },
  {
   "cell_type": "code",
   "execution_count": 34,
   "metadata": {},
   "outputs": [
    {
     "name": "stdout",
     "output_type": "stream",
     "text": [
      "      Country Bachelor’s or equivalent level Master’s or equivalent level\n",
      "1   Australia                       930,675                      233,268 \n",
      "2     Austria                       179,406                      139,697 \n",
      "3     Belgium                       362,780                       92,959 \n",
      "12     France                       961,447                      854,784 \n",
      "13    Germany                     1,734,827                      962,201 \n"
     ]
    }
   ],
   "source": [
    "import pandas as pd\n",
    "\n",
    "# Read the CSV file into a DataFrame\n",
    "df2 = pd.read_csv(\"Data_Uncleaned/2014.csv\", header=1)\n",
    "\n",
    "# Rename the column 'Education level' to 'Country'\n",
    "df2.rename(columns={'Education level': 'Country'}, inplace=True)\n",
    "\n",
    "# Define the list of countries to keep\n",
    "countries_to_keep = ['Latvia', 'France', 'Greece', 'Luxembourg', 'Italy', 'Hungary', \n",
    "                     'Australia', 'Poland', 'Spain', 'Germany', 'Slovak Republic', \n",
    "                     'Slovenia', 'Belgium', 'Austria', 'Japan', 'New Zealand']\n",
    "\n",
    "# Filter the DataFrame to only include the specified countries\n",
    "df2_filtered = df2[df2['Country'].isin(countries_to_keep)].copy()\n",
    "\n",
    "# Display the filtered DataFrame\n",
    "print(df2_filtered.head())\n"
   ]
  },
  {
   "cell_type": "code",
   "execution_count": null,
   "metadata": {},
   "outputs": [],
   "source": [
    "# Assuming df_2014 contains the population data for 2014\n",
    "\n",
    "# Merge df_2014 with df2_filtered on the \"Country\" column\n",
    "merged_df = pd.merge(df2_filtered, df_2014, on='Country', how='left')\n",
    "\n",
    "\n",
    "merged_df['Population_2014'] = df_2014['population']\n",
    "\n",
    "\n",
    "# Calculate the percentage of masters/bachelors of the population\n",
    "merged_df['Masters_Percentage'] = (merged_df[\"Master's of equivalent level\"] / merged_df['Population_2014']) * 100\n",
    "merged_df['Bachelors_Percentage'] = (merged_df[\"Bachelor's or equivalent level\"] / merged_df['Population_2014']) * 100\n",
    "\n",
    "\n"
   ]
  },
  {
   "cell_type": "code",
   "execution_count": 41,
   "metadata": {},
   "outputs": [
    {
     "ename": "KeyError",
     "evalue": "\"Master's of equivalent level\"",
     "output_type": "error",
     "traceback": [
      "\u001b[0;31m---------------------------------------------------------------------------\u001b[0m",
      "\u001b[0;31mKeyError\u001b[0m                                  Traceback (most recent call last)",
      "File \u001b[0;32m~/anaconda3/lib/python3.11/site-packages/pandas/core/indexes/base.py:3791\u001b[0m, in \u001b[0;36mIndex.get_loc\u001b[0;34m(self, key)\u001b[0m\n\u001b[1;32m   3790\u001b[0m \u001b[38;5;28;01mtry\u001b[39;00m:\n\u001b[0;32m-> 3791\u001b[0m     \u001b[38;5;28;01mreturn\u001b[39;00m \u001b[38;5;28mself\u001b[39m\u001b[38;5;241m.\u001b[39m_engine\u001b[38;5;241m.\u001b[39mget_loc(casted_key)\n\u001b[1;32m   3792\u001b[0m \u001b[38;5;28;01mexcept\u001b[39;00m \u001b[38;5;167;01mKeyError\u001b[39;00m \u001b[38;5;28;01mas\u001b[39;00m err:\n",
      "File \u001b[0;32mindex.pyx:152\u001b[0m, in \u001b[0;36mpandas._libs.index.IndexEngine.get_loc\u001b[0;34m()\u001b[0m\n",
      "File \u001b[0;32mindex.pyx:181\u001b[0m, in \u001b[0;36mpandas._libs.index.IndexEngine.get_loc\u001b[0;34m()\u001b[0m\n",
      "File \u001b[0;32mpandas/_libs/hashtable_class_helper.pxi:7080\u001b[0m, in \u001b[0;36mpandas._libs.hashtable.PyObjectHashTable.get_item\u001b[0;34m()\u001b[0m\n",
      "File \u001b[0;32mpandas/_libs/hashtable_class_helper.pxi:7088\u001b[0m, in \u001b[0;36mpandas._libs.hashtable.PyObjectHashTable.get_item\u001b[0;34m()\u001b[0m\n",
      "\u001b[0;31mKeyError\u001b[0m: \"Master's of equivalent level\"",
      "\nThe above exception was the direct cause of the following exception:\n",
      "\u001b[0;31mKeyError\u001b[0m                                  Traceback (most recent call last)",
      "Cell \u001b[0;32mIn[41], line 27\u001b[0m\n\u001b[1;32m     24\u001b[0m df_2014[\u001b[38;5;124m'\u001b[39m\u001b[38;5;124mPopulation_2014\u001b[39m\u001b[38;5;124m'\u001b[39m] \u001b[38;5;241m=\u001b[39m df_2014[\u001b[38;5;124m'\u001b[39m\u001b[38;5;124mCountry\u001b[39m\u001b[38;5;124m'\u001b[39m]\u001b[38;5;241m.\u001b[39mmap(population_dict)\n\u001b[1;32m     26\u001b[0m \u001b[38;5;66;03m# Calculate the percentage of masters/bachelors of the population\u001b[39;00m\n\u001b[0;32m---> 27\u001b[0m df_2014[\u001b[38;5;124m'\u001b[39m\u001b[38;5;124mMasters_Percentage\u001b[39m\u001b[38;5;124m'\u001b[39m] \u001b[38;5;241m=\u001b[39m (df_2014[\u001b[38;5;124m\"\u001b[39m\u001b[38;5;124mMaster\u001b[39m\u001b[38;5;124m'\u001b[39m\u001b[38;5;124ms of equivalent level\u001b[39m\u001b[38;5;124m\"\u001b[39m] \u001b[38;5;241m/\u001b[39m df_2014[\u001b[38;5;124m'\u001b[39m\u001b[38;5;124mPopulation_2014\u001b[39m\u001b[38;5;124m'\u001b[39m]) \u001b[38;5;241m*\u001b[39m \u001b[38;5;241m100\u001b[39m\n\u001b[1;32m     28\u001b[0m df_2014[\u001b[38;5;124m'\u001b[39m\u001b[38;5;124mBachelors_Percentage\u001b[39m\u001b[38;5;124m'\u001b[39m] \u001b[38;5;241m=\u001b[39m (df_2014[\u001b[38;5;124m\"\u001b[39m\u001b[38;5;124mBachelor\u001b[39m\u001b[38;5;124m'\u001b[39m\u001b[38;5;124ms or equivalent level\u001b[39m\u001b[38;5;124m\"\u001b[39m] \u001b[38;5;241m/\u001b[39m df_2014[\u001b[38;5;124m'\u001b[39m\u001b[38;5;124mPopulation_2014\u001b[39m\u001b[38;5;124m'\u001b[39m]) \u001b[38;5;241m*\u001b[39m \u001b[38;5;241m100\u001b[39m\n\u001b[1;32m     30\u001b[0m \u001b[38;5;66;03m# Display the resulting DataFrame\u001b[39;00m\n",
      "File \u001b[0;32m~/anaconda3/lib/python3.11/site-packages/pandas/core/frame.py:3893\u001b[0m, in \u001b[0;36mDataFrame.__getitem__\u001b[0;34m(self, key)\u001b[0m\n\u001b[1;32m   3891\u001b[0m \u001b[38;5;28;01mif\u001b[39;00m \u001b[38;5;28mself\u001b[39m\u001b[38;5;241m.\u001b[39mcolumns\u001b[38;5;241m.\u001b[39mnlevels \u001b[38;5;241m>\u001b[39m \u001b[38;5;241m1\u001b[39m:\n\u001b[1;32m   3892\u001b[0m     \u001b[38;5;28;01mreturn\u001b[39;00m \u001b[38;5;28mself\u001b[39m\u001b[38;5;241m.\u001b[39m_getitem_multilevel(key)\n\u001b[0;32m-> 3893\u001b[0m indexer \u001b[38;5;241m=\u001b[39m \u001b[38;5;28mself\u001b[39m\u001b[38;5;241m.\u001b[39mcolumns\u001b[38;5;241m.\u001b[39mget_loc(key)\n\u001b[1;32m   3894\u001b[0m \u001b[38;5;28;01mif\u001b[39;00m is_integer(indexer):\n\u001b[1;32m   3895\u001b[0m     indexer \u001b[38;5;241m=\u001b[39m [indexer]\n",
      "File \u001b[0;32m~/anaconda3/lib/python3.11/site-packages/pandas/core/indexes/base.py:3798\u001b[0m, in \u001b[0;36mIndex.get_loc\u001b[0;34m(self, key)\u001b[0m\n\u001b[1;32m   3793\u001b[0m     \u001b[38;5;28;01mif\u001b[39;00m \u001b[38;5;28misinstance\u001b[39m(casted_key, \u001b[38;5;28mslice\u001b[39m) \u001b[38;5;129;01mor\u001b[39;00m (\n\u001b[1;32m   3794\u001b[0m         \u001b[38;5;28misinstance\u001b[39m(casted_key, abc\u001b[38;5;241m.\u001b[39mIterable)\n\u001b[1;32m   3795\u001b[0m         \u001b[38;5;129;01mand\u001b[39;00m \u001b[38;5;28many\u001b[39m(\u001b[38;5;28misinstance\u001b[39m(x, \u001b[38;5;28mslice\u001b[39m) \u001b[38;5;28;01mfor\u001b[39;00m x \u001b[38;5;129;01min\u001b[39;00m casted_key)\n\u001b[1;32m   3796\u001b[0m     ):\n\u001b[1;32m   3797\u001b[0m         \u001b[38;5;28;01mraise\u001b[39;00m InvalidIndexError(key)\n\u001b[0;32m-> 3798\u001b[0m     \u001b[38;5;28;01mraise\u001b[39;00m \u001b[38;5;167;01mKeyError\u001b[39;00m(key) \u001b[38;5;28;01mfrom\u001b[39;00m \u001b[38;5;21;01merr\u001b[39;00m\n\u001b[1;32m   3799\u001b[0m \u001b[38;5;28;01mexcept\u001b[39;00m \u001b[38;5;167;01mTypeError\u001b[39;00m:\n\u001b[1;32m   3800\u001b[0m     \u001b[38;5;66;03m# If we have a listlike key, _check_indexing_error will raise\u001b[39;00m\n\u001b[1;32m   3801\u001b[0m     \u001b[38;5;66;03m#  InvalidIndexError. Otherwise we fall through and re-raise\u001b[39;00m\n\u001b[1;32m   3802\u001b[0m     \u001b[38;5;66;03m#  the TypeError.\u001b[39;00m\n\u001b[1;32m   3803\u001b[0m     \u001b[38;5;28mself\u001b[39m\u001b[38;5;241m.\u001b[39m_check_indexing_error(key)\n",
      "\u001b[0;31mKeyError\u001b[0m: \"Master's of equivalent level\""
     ]
    }
   ],
   "source": [
    "population_dict = {\n",
    "    'Latvia': 2000000,\n",
    "    'France': 67000000,\n",
    "    'Greece': 10700000,\n",
    "    'Luxembourg': 600000,\n",
    "    'Italy': 60700000,\n",
    "    'Hungary': 9800000,\n",
    "    'Australia': 23800000,\n",
    "    'Poland': 38000000,\n",
    "    'Spain': 46500000,\n",
    "    'Germany': 80800000,\n",
    "    'Slovak Republic': 5400000,\n",
    "    'Slovenia': 2000000,\n",
    "    'Belgium': 11400000,\n",
    "    'Austria': 8500000,\n",
    "    'Japan': 127000000,\n",
    "    'New Zealand': 4500000\n",
    "}\n",
    "\n",
    "# Add a new column \"Population_2014\" to df_2014 based on the population dictionary\n",
    "df_2014['Population_2014'] = df_2014['Country'].map(population_dict)\n",
    "\n",
    "# Calculate the percentage of masters/bachelors of the population\n",
    "df_2014['Masters_Percentage'] = (df_2014[\"Master's of equivalent level\"] / df_2014['Population_2014']) * 100\n",
    "df_2014['Bachelors_Percentage'] = (df_2014[\"Bachelor's or equivalent level\"] / df_2014['Population_2014']) * 100\n",
    "\n",
    "# Display the resulting DataFrame\n",
    "print(df_2014.head())\n",
    "\n"
   ]
  }
 ],
 "metadata": {
  "kernelspec": {
   "display_name": "base",
   "language": "python",
   "name": "python3"
  },
  "language_info": {
   "codemirror_mode": {
    "name": "ipython",
    "version": 3
   },
   "file_extension": ".py",
   "mimetype": "text/x-python",
   "name": "python",
   "nbconvert_exporter": "python",
   "pygments_lexer": "ipython3",
   "version": "3.11.5"
  }
 },
 "nbformat": 4,
 "nbformat_minor": 2
}
