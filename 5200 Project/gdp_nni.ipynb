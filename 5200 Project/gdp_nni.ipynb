{
 "cells": [
  {
   "cell_type": "markdown",
   "metadata": {},
   "source": [
    "---\n",
    "title: Cleaning\n",
    "format: html\n",
    "code-fold: true\n",
    "---\n",
    "\n",
    "## Cleaning and Tidying Datasets\n",
    "\n",
    "Fertility Data set"
   ]
  },
  {
   "cell_type": "code",
   "execution_count": 2,
   "metadata": {},
   "outputs": [
    {
     "name": "stderr",
     "output_type": "stream",
     "text": [
      "/var/folders/x3/1m329lgj7sl4y1pqkx_p_f_80000gn/T/ipykernel_48183/2892379672.py:5: FutureWarning: DataFrame.applymap has been deprecated. Use DataFrame.map instead.\n",
      "  fertility = fertility.applymap(lambda x: x.strip() if isinstance(x, str) else x)\n"
     ]
    },
    {
     "data": {
      "text/html": [
       "<div>\n",
       "<style scoped>\n",
       "    .dataframe tbody tr th:only-of-type {\n",
       "        vertical-align: middle;\n",
       "    }\n",
       "\n",
       "    .dataframe tbody tr th {\n",
       "        vertical-align: top;\n",
       "    }\n",
       "\n",
       "    .dataframe thead th {\n",
       "        text-align: right;\n",
       "    }\n",
       "</style>\n",
       "<table border=\"1\" class=\"dataframe\">\n",
       "  <thead>\n",
       "    <tr style=\"text-align: right;\">\n",
       "      <th></th>\n",
       "      <th>fertility_rate</th>\n",
       "      <th>Country_Year</th>\n",
       "    </tr>\n",
       "  </thead>\n",
       "  <tbody>\n",
       "    <tr>\n",
       "      <th>0</th>\n",
       "      <td>1.9</td>\n",
       "      <td>Australia_1990</td>\n",
       "    </tr>\n",
       "    <tr>\n",
       "      <th>1</th>\n",
       "      <td>1.46</td>\n",
       "      <td>Austria_1990</td>\n",
       "    </tr>\n",
       "    <tr>\n",
       "      <th>2</th>\n",
       "      <td>1.62</td>\n",
       "      <td>Belgium_1990</td>\n",
       "    </tr>\n",
       "    <tr>\n",
       "      <th>3</th>\n",
       "      <td>1.71</td>\n",
       "      <td>Canada_1990</td>\n",
       "    </tr>\n",
       "    <tr>\n",
       "      <th>4</th>\n",
       "      <td>2.58</td>\n",
       "      <td>Chile_1990</td>\n",
       "    </tr>\n",
       "    <tr>\n",
       "      <th>...</th>\n",
       "      <td>...</td>\n",
       "      <td>...</td>\n",
       "    </tr>\n",
       "    <tr>\n",
       "      <th>1645</th>\n",
       "      <td>..</td>\n",
       "      <td>Indonesia_2022</td>\n",
       "    </tr>\n",
       "    <tr>\n",
       "      <th>1646</th>\n",
       "      <td>..</td>\n",
       "      <td>Malta_2022</td>\n",
       "    </tr>\n",
       "    <tr>\n",
       "      <th>1647</th>\n",
       "      <td>..</td>\n",
       "      <td>Romania_2022</td>\n",
       "    </tr>\n",
       "    <tr>\n",
       "      <th>1648</th>\n",
       "      <td>..</td>\n",
       "      <td>Russia_2022</td>\n",
       "    </tr>\n",
       "    <tr>\n",
       "      <th>1649</th>\n",
       "      <td>..</td>\n",
       "      <td>South Africa_2022</td>\n",
       "    </tr>\n",
       "  </tbody>\n",
       "</table>\n",
       "<p>1650 rows × 2 columns</p>\n",
       "</div>"
      ],
      "text/plain": [
       "     fertility_rate       Country_Year\n",
       "0               1.9     Australia_1990\n",
       "1              1.46       Austria_1990\n",
       "2              1.62       Belgium_1990\n",
       "3              1.71        Canada_1990\n",
       "4              2.58         Chile_1990\n",
       "...             ...                ...\n",
       "1645             ..     Indonesia_2022\n",
       "1646             ..         Malta_2022\n",
       "1647             ..       Romania_2022\n",
       "1648             ..        Russia_2022\n",
       "1649             ..  South Africa_2022\n",
       "\n",
       "[1650 rows x 2 columns]"
      ]
     },
     "execution_count": 2,
     "metadata": {},
     "output_type": "execute_result"
    }
   ],
   "source": [
    "#Fertility \n",
    "import pandas as pd\n",
    "fertility = pd.read_csv(\"Data_Uncleaned/Fertility.csv\")\n",
    "fertility = fertility.rename(columns={'Year': 'Country'})\n",
    "fertility = fertility.applymap(lambda x: x.strip() if isinstance(x, str) else x)\n",
    "fertility = pd.melt(fertility, id_vars=['Country'], var_name='Year', value_name='fertility_rate')\n",
    "#Joining country and year to make easy when merging\n",
    "fertility['Country_Year'] = fertility['Country'] + '_' + fertility['Year'].astype(str)\n",
    "fertility = fertility.drop(columns=['Country', 'Year'])\n",
    "fertility"
   ]
  },
  {
   "cell_type": "markdown",
   "metadata": {},
   "source": [
    "GDP Dataset"
   ]
  },
  {
   "cell_type": "code",
   "execution_count": 3,
   "metadata": {},
   "outputs": [
    {
     "name": "stderr",
     "output_type": "stream",
     "text": [
      "/var/folders/x3/1m329lgj7sl4y1pqkx_p_f_80000gn/T/ipykernel_48183/262549689.py:4: FutureWarning: DataFrame.applymap has been deprecated. Use DataFrame.map instead.\n",
      "  gdp = gdp.applymap(lambda x: x.strip() if isinstance(x, str) else x)\n"
     ]
    },
    {
     "data": {
      "text/html": [
       "<div>\n",
       "<style scoped>\n",
       "    .dataframe tbody tr th:only-of-type {\n",
       "        vertical-align: middle;\n",
       "    }\n",
       "\n",
       "    .dataframe tbody tr th {\n",
       "        vertical-align: top;\n",
       "    }\n",
       "\n",
       "    .dataframe thead th {\n",
       "        text-align: right;\n",
       "    }\n",
       "</style>\n",
       "<table border=\"1\" class=\"dataframe\">\n",
       "  <thead>\n",
       "    <tr style=\"text-align: right;\">\n",
       "      <th></th>\n",
       "      <th>gdp</th>\n",
       "      <th>Country_Year</th>\n",
       "    </tr>\n",
       "  </thead>\n",
       "  <tbody>\n",
       "    <tr>\n",
       "      <th>0</th>\n",
       "      <td>539.15</td>\n",
       "      <td>Australia_2000</td>\n",
       "    </tr>\n",
       "    <tr>\n",
       "      <th>1</th>\n",
       "      <td>235.38</td>\n",
       "      <td>Austria_2000</td>\n",
       "    </tr>\n",
       "    <tr>\n",
       "      <th>2</th>\n",
       "      <td>284.86</td>\n",
       "      <td>Belgium_2000</td>\n",
       "    </tr>\n",
       "    <tr>\n",
       "      <th>3</th>\n",
       "      <td>901</td>\n",
       "      <td>Canada_2000</td>\n",
       "    </tr>\n",
       "    <tr>\n",
       "      <th>4</th>\n",
       "      <td>145.36</td>\n",
       "      <td>Chile_2000</td>\n",
       "    </tr>\n",
       "    <tr>\n",
       "      <th>...</th>\n",
       "      <td>...</td>\n",
       "      <td>...</td>\n",
       "    </tr>\n",
       "    <tr>\n",
       "      <th>1075</th>\n",
       "      <td>32,775.12</td>\n",
       "      <td>China_2023</td>\n",
       "    </tr>\n",
       "    <tr>\n",
       "      <th>1076</th>\n",
       "      <td>..</td>\n",
       "      <td>India_2023</td>\n",
       "    </tr>\n",
       "    <tr>\n",
       "      <th>1077</th>\n",
       "      <td>4,378.31</td>\n",
       "      <td>Indonesia_2023</td>\n",
       "    </tr>\n",
       "    <tr>\n",
       "      <th>1078</th>\n",
       "      <td>..</td>\n",
       "      <td>Russia_2023</td>\n",
       "    </tr>\n",
       "    <tr>\n",
       "      <th>1079</th>\n",
       "      <td>..</td>\n",
       "      <td>South Africa_2023</td>\n",
       "    </tr>\n",
       "  </tbody>\n",
       "</table>\n",
       "<p>1080 rows × 2 columns</p>\n",
       "</div>"
      ],
      "text/plain": [
       "            gdp       Country_Year\n",
       "0        539.15     Australia_2000\n",
       "1        235.38       Austria_2000\n",
       "2        284.86       Belgium_2000\n",
       "3           901        Canada_2000\n",
       "4        145.36         Chile_2000\n",
       "...         ...                ...\n",
       "1075  32,775.12         China_2023\n",
       "1076         ..         India_2023\n",
       "1077   4,378.31     Indonesia_2023\n",
       "1078         ..        Russia_2023\n",
       "1079         ..  South Africa_2023\n",
       "\n",
       "[1080 rows x 2 columns]"
      ]
     },
     "execution_count": 3,
     "metadata": {},
     "output_type": "execute_result"
    }
   ],
   "source": [
    "#Importing Data into Python Environment\n",
    "gdp = pd.read_csv(\"Data_Uncleaned/GDP.csv\")\n",
    "gdp = gdp.rename(columns={'Time': 'Country'})\n",
    "gdp = gdp.applymap(lambda x: x.strip() if isinstance(x, str) else x)\n",
    "gdp = pd.melt(gdp, id_vars=['Country'], var_name='Year', value_name='gdp')\n",
    "gdp['Country_Year'] = gdp['Country'] + '_' + gdp['Year'].astype(str)\n",
    "gdp = gdp.drop(columns=['Country', 'Year'])\n",
    "gdp"
   ]
  },
  {
   "cell_type": "markdown",
   "metadata": {},
   "source": [
    "Immigration Inflow Dataset"
   ]
  },
  {
   "cell_type": "code",
   "execution_count": 4,
   "metadata": {},
   "outputs": [
    {
     "name": "stderr",
     "output_type": "stream",
     "text": [
      "/var/folders/x3/1m329lgj7sl4y1pqkx_p_f_80000gn/T/ipykernel_48183/31041099.py:10: FutureWarning: DataFrame.applymap has been deprecated. Use DataFrame.map instead.\n",
      "  immigration = immigration.applymap(lambda x: x.strip() if isinstance(x, str) else x)\n"
     ]
    },
    {
     "data": {
      "text/html": [
       "<div>\n",
       "<style scoped>\n",
       "    .dataframe tbody tr th:only-of-type {\n",
       "        vertical-align: middle;\n",
       "    }\n",
       "\n",
       "    .dataframe tbody tr th {\n",
       "        vertical-align: top;\n",
       "    }\n",
       "\n",
       "    .dataframe thead th {\n",
       "        text-align: right;\n",
       "    }\n",
       "</style>\n",
       "<table border=\"1\" class=\"dataframe\">\n",
       "  <thead>\n",
       "    <tr style=\"text-align: right;\">\n",
       "      <th></th>\n",
       "      <th>immigration_rate</th>\n",
       "      <th>Country_Year</th>\n",
       "    </tr>\n",
       "  </thead>\n",
       "  <tbody>\n",
       "    <tr>\n",
       "      <th>0</th>\n",
       "      <td>2000</td>\n",
       "      <td>Year_2000</td>\n",
       "    </tr>\n",
       "    <tr>\n",
       "      <th>1</th>\n",
       "      <td>107148</td>\n",
       "      <td>Australia_2000</td>\n",
       "    </tr>\n",
       "    <tr>\n",
       "      <th>2</th>\n",
       "      <td>65954</td>\n",
       "      <td>Austria_2000</td>\n",
       "    </tr>\n",
       "    <tr>\n",
       "      <th>3</th>\n",
       "      <td>57295</td>\n",
       "      <td>Belgium_2000</td>\n",
       "    </tr>\n",
       "    <tr>\n",
       "      <th>4</th>\n",
       "      <td>227455</td>\n",
       "      <td>Canada_2000</td>\n",
       "    </tr>\n",
       "    <tr>\n",
       "      <th>...</th>\n",
       "      <td>...</td>\n",
       "      <td>...</td>\n",
       "    </tr>\n",
       "    <tr>\n",
       "      <th>846</th>\n",
       "      <td>..</td>\n",
       "      <td>Switzerland_2022</td>\n",
       "    </tr>\n",
       "    <tr>\n",
       "      <th>847</th>\n",
       "      <td>..</td>\n",
       "      <td>Türkiye_2022</td>\n",
       "    </tr>\n",
       "    <tr>\n",
       "      <th>848</th>\n",
       "      <td>..</td>\n",
       "      <td>United Kingdom_2022</td>\n",
       "    </tr>\n",
       "    <tr>\n",
       "      <th>849</th>\n",
       "      <td>..</td>\n",
       "      <td>United States_2022</td>\n",
       "    </tr>\n",
       "    <tr>\n",
       "      <th>850</th>\n",
       "      <td>NaN</td>\n",
       "      <td>NaN</td>\n",
       "    </tr>\n",
       "  </tbody>\n",
       "</table>\n",
       "<p>851 rows × 2 columns</p>\n",
       "</div>"
      ],
      "text/plain": [
       "    immigration_rate         Country_Year\n",
       "0               2000            Year_2000\n",
       "1             107148       Australia_2000\n",
       "2              65954         Austria_2000\n",
       "3              57295         Belgium_2000\n",
       "4             227455          Canada_2000\n",
       "..               ...                  ...\n",
       "846               ..     Switzerland_2022\n",
       "847               ..         Türkiye_2022\n",
       "848               ..  United Kingdom_2022\n",
       "849               ..   United States_2022\n",
       "850              NaN                  NaN\n",
       "\n",
       "[851 rows x 2 columns]"
      ]
     },
     "execution_count": 4,
     "metadata": {},
     "output_type": "execute_result"
    }
   ],
   "source": [
    "#Importing Data into Python Environment\n",
    "immigration = pd.read_csv(\"Data_Uncleaned/immigration.csv\")\n",
    "\n",
    "new_header = immigration.iloc[0] #Grabbing the first row for the header\n",
    "mpa = immigration[1:] #Taking the data less the header row\n",
    "immigration.columns = new_header #Setting the header row as the df header\n",
    "immigration = immigration.rename(columns={'Year': 'Country', 2000.0: 2000, 2005.0: 2005, 2010.0: 2010, 2011.0: 2011, 2012.0: 2012, 2013.0: 2013, 2014.0: 2014, 2015.0: 2015,2016.0: 2016,2017.0: 2017,\n",
    "                          2018.0: 2018,2019.0: 2019,2020.0: 2020,})\n",
    "\n",
    "immigration = immigration.applymap(lambda x: x.strip() if isinstance(x, str) else x)\n",
    "immigration = pd.melt(immigration, id_vars=['Country'], var_name='Year', value_name='immigration_rate')\n",
    "\n",
    "immigration['Country_Year'] = immigration['Country'] + '_' + immigration['Year'].astype(str)\n",
    "immigration = immigration.drop(columns=['Country', 'Year'])\n",
    "immigration\n"
   ]
  },
  {
   "cell_type": "markdown",
   "metadata": {},
   "source": [
    "Infant Mortality "
   ]
  },
  {
   "cell_type": "code",
   "execution_count": 5,
   "metadata": {},
   "outputs": [
    {
     "name": "stderr",
     "output_type": "stream",
     "text": [
      "/var/folders/x3/1m329lgj7sl4y1pqkx_p_f_80000gn/T/ipykernel_48183/2863281320.py:2: FutureWarning: DataFrame.applymap has been deprecated. Use DataFrame.map instead.\n",
      "  i_m = i_m.applymap(lambda x: x.strip() if isinstance(x, str) else x)\n"
     ]
    },
    {
     "data": {
      "text/html": [
       "<div>\n",
       "<style scoped>\n",
       "    .dataframe tbody tr th:only-of-type {\n",
       "        vertical-align: middle;\n",
       "    }\n",
       "\n",
       "    .dataframe tbody tr th {\n",
       "        vertical-align: top;\n",
       "    }\n",
       "\n",
       "    .dataframe thead th {\n",
       "        text-align: right;\n",
       "    }\n",
       "</style>\n",
       "<table border=\"1\" class=\"dataframe\">\n",
       "  <thead>\n",
       "    <tr style=\"text-align: right;\">\n",
       "      <th></th>\n",
       "      <th>mortality_rate</th>\n",
       "      <th>Country_Year</th>\n",
       "    </tr>\n",
       "  </thead>\n",
       "  <tbody>\n",
       "    <tr>\n",
       "      <th>0</th>\n",
       "      <td>8.2</td>\n",
       "      <td>Australia_1990</td>\n",
       "    </tr>\n",
       "    <tr>\n",
       "      <th>1</th>\n",
       "      <td>7.8</td>\n",
       "      <td>Austria_1990</td>\n",
       "    </tr>\n",
       "    <tr>\n",
       "      <th>2</th>\n",
       "      <td>8</td>\n",
       "      <td>Belgium_1990</td>\n",
       "    </tr>\n",
       "    <tr>\n",
       "      <th>3</th>\n",
       "      <td>6.8</td>\n",
       "      <td>Canada_1990</td>\n",
       "    </tr>\n",
       "    <tr>\n",
       "      <th>4</th>\n",
       "      <td>16</td>\n",
       "      <td>Chile_1990</td>\n",
       "    </tr>\n",
       "    <tr>\n",
       "      <th>...</th>\n",
       "      <td>...</td>\n",
       "      <td>...</td>\n",
       "    </tr>\n",
       "    <tr>\n",
       "      <th>1315</th>\n",
       "      <td>..</td>\n",
       "      <td>China_2019</td>\n",
       "    </tr>\n",
       "    <tr>\n",
       "      <th>1316</th>\n",
       "      <td>..</td>\n",
       "      <td>India_2019</td>\n",
       "    </tr>\n",
       "    <tr>\n",
       "      <th>1317</th>\n",
       "      <td>..</td>\n",
       "      <td>Indonesia_2019</td>\n",
       "    </tr>\n",
       "    <tr>\n",
       "      <th>1318</th>\n",
       "      <td>..</td>\n",
       "      <td>Russia_2019</td>\n",
       "    </tr>\n",
       "    <tr>\n",
       "      <th>1319</th>\n",
       "      <td>..</td>\n",
       "      <td>South Africa_2019</td>\n",
       "    </tr>\n",
       "  </tbody>\n",
       "</table>\n",
       "<p>1320 rows × 2 columns</p>\n",
       "</div>"
      ],
      "text/plain": [
       "     mortality_rate       Country_Year\n",
       "0               8.2     Australia_1990\n",
       "1               7.8       Austria_1990\n",
       "2                 8       Belgium_1990\n",
       "3               6.8        Canada_1990\n",
       "4                16         Chile_1990\n",
       "...             ...                ...\n",
       "1315             ..         China_2019\n",
       "1316             ..         India_2019\n",
       "1317             ..     Indonesia_2019\n",
       "1318             ..        Russia_2019\n",
       "1319             ..  South Africa_2019\n",
       "\n",
       "[1320 rows x 2 columns]"
      ]
     },
     "execution_count": 5,
     "metadata": {},
     "output_type": "execute_result"
    }
   ],
   "source": [
    "\n",
    "i_m = pd.read_csv(\"Data_Uncleaned/infant_mortality.csv\", header=1)\n",
    "i_m = i_m.applymap(lambda x: x.strip() if isinstance(x, str) else x)\n",
    "i_m = i_m.rename(columns={'Year': 'Country'})\n",
    "i_m = pd.melt(i_m, id_vars=['Country'], var_name='Year', value_name='mortality_rate')\n",
    "\n",
    "i_m['Country_Year'] = i_m['Country'] + '_' + i_m['Year'].astype(str)\n",
    "i_m = i_m.drop(columns=['Country', 'Year'])\n",
    "i_m"
   ]
  },
  {
   "cell_type": "markdown",
   "metadata": {},
   "source": [
    "NEt National Income Dataset"
   ]
  },
  {
   "cell_type": "code",
   "execution_count": 6,
   "metadata": {},
   "outputs": [
    {
     "name": "stderr",
     "output_type": "stream",
     "text": [
      "/var/folders/x3/1m329lgj7sl4y1pqkx_p_f_80000gn/T/ipykernel_48183/3140687827.py:2: FutureWarning: DataFrame.applymap has been deprecated. Use DataFrame.map instead.\n",
      "  nni = nni.applymap(lambda x: x.strip() if isinstance(x, str) else x)\n"
     ]
    },
    {
     "data": {
      "text/html": [
       "<div>\n",
       "<style scoped>\n",
       "    .dataframe tbody tr th:only-of-type {\n",
       "        vertical-align: middle;\n",
       "    }\n",
       "\n",
       "    .dataframe tbody tr th {\n",
       "        vertical-align: top;\n",
       "    }\n",
       "\n",
       "    .dataframe thead th {\n",
       "        text-align: right;\n",
       "    }\n",
       "</style>\n",
       "<table border=\"1\" class=\"dataframe\">\n",
       "  <thead>\n",
       "    <tr style=\"text-align: right;\">\n",
       "      <th></th>\n",
       "      <th>nni</th>\n",
       "      <th>Country_Year</th>\n",
       "    </tr>\n",
       "  </thead>\n",
       "  <tbody>\n",
       "    <tr>\n",
       "      <th>0</th>\n",
       "      <td>31,878.30</td>\n",
       "      <td>Australia_2003</td>\n",
       "    </tr>\n",
       "    <tr>\n",
       "      <th>1</th>\n",
       "      <td>37,926.00</td>\n",
       "      <td>Austria_2003</td>\n",
       "    </tr>\n",
       "    <tr>\n",
       "      <th>2</th>\n",
       "      <td>12,755.70</td>\n",
       "      <td>Chile_2003</td>\n",
       "    </tr>\n",
       "    <tr>\n",
       "      <th>3</th>\n",
       "      <td>19,612.70</td>\n",
       "      <td>Czechia_2003</td>\n",
       "    </tr>\n",
       "    <tr>\n",
       "      <th>4</th>\n",
       "      <td>36,006.90</td>\n",
       "      <td>Denmark_2003</td>\n",
       "    </tr>\n",
       "    <tr>\n",
       "      <th>...</th>\n",
       "      <td>...</td>\n",
       "      <td>...</td>\n",
       "    </tr>\n",
       "    <tr>\n",
       "      <th>675</th>\n",
       "      <td>..</td>\n",
       "      <td>United Kingdom_2022</td>\n",
       "    </tr>\n",
       "    <tr>\n",
       "      <th>676</th>\n",
       "      <td>35,081.90</td>\n",
       "      <td>Euro area_2022</td>\n",
       "    </tr>\n",
       "    <tr>\n",
       "      <th>677</th>\n",
       "      <td>33,795.30</td>\n",
       "      <td>European Union_2022</td>\n",
       "    </tr>\n",
       "    <tr>\n",
       "      <th>678</th>\n",
       "      <td>..</td>\n",
       "      <td>Russia_2022</td>\n",
       "    </tr>\n",
       "    <tr>\n",
       "      <th>679</th>\n",
       "      <td>11,683.50</td>\n",
       "      <td>South Africa_2022</td>\n",
       "    </tr>\n",
       "  </tbody>\n",
       "</table>\n",
       "<p>680 rows × 2 columns</p>\n",
       "</div>"
      ],
      "text/plain": [
       "           nni         Country_Year\n",
       "0    31,878.30       Australia_2003\n",
       "1    37,926.00         Austria_2003\n",
       "2    12,755.70           Chile_2003\n",
       "3    19,612.70         Czechia_2003\n",
       "4    36,006.90         Denmark_2003\n",
       "..         ...                  ...\n",
       "675         ..  United Kingdom_2022\n",
       "676  35,081.90       Euro area_2022\n",
       "677  33,795.30  European Union_2022\n",
       "678         ..          Russia_2022\n",
       "679  11,683.50    South Africa_2022\n",
       "\n",
       "[680 rows x 2 columns]"
      ]
     },
     "execution_count": 6,
     "metadata": {},
     "output_type": "execute_result"
    }
   ],
   "source": [
    "\n",
    "nni = pd.read_csv(\"Data_Uncleaned/NNI.csv\")\n",
    "nni = nni.applymap(lambda x: x.strip() if isinstance(x, str) else x)\n",
    "nni = nni.rename(columns={'Year': 'Country'})\n",
    "nni = pd.melt(nni, id_vars=['Country'], var_name='Year', value_name='nni')\n",
    "nni['Country_Year'] = nni['Country'] + '_' + nni['Year'].astype(str)\n",
    "nni = nni.drop(columns=['Country', 'Year'])\n",
    "nni\n"
   ]
  },
  {
   "cell_type": "markdown",
   "metadata": {},
   "source": [
    "Population Dataset"
   ]
  },
  {
   "cell_type": "code",
   "execution_count": 7,
   "metadata": {},
   "outputs": [
    {
     "name": "stderr",
     "output_type": "stream",
     "text": [
      "/var/folders/x3/1m329lgj7sl4y1pqkx_p_f_80000gn/T/ipykernel_48183/2836068908.py:2: FutureWarning: DataFrame.applymap has been deprecated. Use DataFrame.map instead.\n",
      "  pop = pop.applymap(lambda x: x.strip() if isinstance(x, str) else x)\n"
     ]
    },
    {
     "data": {
      "text/html": [
       "<div>\n",
       "<style scoped>\n",
       "    .dataframe tbody tr th:only-of-type {\n",
       "        vertical-align: middle;\n",
       "    }\n",
       "\n",
       "    .dataframe tbody tr th {\n",
       "        vertical-align: top;\n",
       "    }\n",
       "\n",
       "    .dataframe thead th {\n",
       "        text-align: right;\n",
       "    }\n",
       "</style>\n",
       "<table border=\"1\" class=\"dataframe\">\n",
       "  <thead>\n",
       "    <tr style=\"text-align: right;\">\n",
       "      <th></th>\n",
       "      <th>population</th>\n",
       "      <th>Country_Year</th>\n",
       "    </tr>\n",
       "  </thead>\n",
       "  <tbody>\n",
       "    <tr>\n",
       "      <th>0</th>\n",
       "      <td>19029000</td>\n",
       "      <td>Australia_2000</td>\n",
       "    </tr>\n",
       "    <tr>\n",
       "      <th>1</th>\n",
       "      <td>8011566</td>\n",
       "      <td>Austria_2000</td>\n",
       "    </tr>\n",
       "    <tr>\n",
       "      <th>2</th>\n",
       "      <td>10251250</td>\n",
       "      <td>Belgium_2000</td>\n",
       "    </tr>\n",
       "    <tr>\n",
       "      <th>3</th>\n",
       "      <td>30685730</td>\n",
       "      <td>Canada_2000</td>\n",
       "    </tr>\n",
       "    <tr>\n",
       "      <th>4</th>\n",
       "      <td>15397780</td>\n",
       "      <td>Chile_2000</td>\n",
       "    </tr>\n",
       "    <tr>\n",
       "      <th>...</th>\n",
       "      <td>...</td>\n",
       "      <td>...</td>\n",
       "    </tr>\n",
       "    <tr>\n",
       "      <th>625</th>\n",
       "      <td>..</td>\n",
       "      <td>China_2014</td>\n",
       "    </tr>\n",
       "    <tr>\n",
       "      <th>626</th>\n",
       "      <td>..</td>\n",
       "      <td>India_2014</td>\n",
       "    </tr>\n",
       "    <tr>\n",
       "      <th>627</th>\n",
       "      <td>..</td>\n",
       "      <td>Indonesia_2014</td>\n",
       "    </tr>\n",
       "    <tr>\n",
       "      <th>628</th>\n",
       "      <td>..</td>\n",
       "      <td>Russia_2014</td>\n",
       "    </tr>\n",
       "    <tr>\n",
       "      <th>629</th>\n",
       "      <td>..</td>\n",
       "      <td>South Africa_2014</td>\n",
       "    </tr>\n",
       "  </tbody>\n",
       "</table>\n",
       "<p>630 rows × 2 columns</p>\n",
       "</div>"
      ],
      "text/plain": [
       "    population       Country_Year\n",
       "0     19029000     Australia_2000\n",
       "1      8011566       Austria_2000\n",
       "2     10251250       Belgium_2000\n",
       "3     30685730        Canada_2000\n",
       "4     15397780         Chile_2000\n",
       "..         ...                ...\n",
       "625         ..         China_2014\n",
       "626         ..         India_2014\n",
       "627         ..     Indonesia_2014\n",
       "628         ..        Russia_2014\n",
       "629         ..  South Africa_2014\n",
       "\n",
       "[630 rows x 2 columns]"
      ]
     },
     "execution_count": 7,
     "metadata": {},
     "output_type": "execute_result"
    }
   ],
   "source": [
    "pop = pd.read_csv(\"Data_Uncleaned/population.csv\")\n",
    "pop = pop.applymap(lambda x: x.strip() if isinstance(x, str) else x)\n",
    "pop = pop.rename(columns={'Time': 'Country'})\n",
    "pop = pd.melt(pop, id_vars=['Country'], var_name='Year', value_name='population')\n",
    "pop['Country_Year'] = pop['Country'] + '_' + pop['Year'].astype(str)\n",
    "pop = pop.drop(columns=['Country', 'Year'])\n",
    "pop"
   ]
  },
  {
   "cell_type": "markdown",
   "metadata": {},
   "source": [
    "Working Population Dataset"
   ]
  },
  {
   "cell_type": "code",
   "execution_count": 8,
   "metadata": {},
   "outputs": [
    {
     "name": "stderr",
     "output_type": "stream",
     "text": [
      "/var/folders/x3/1m329lgj7sl4y1pqkx_p_f_80000gn/T/ipykernel_48183/707146143.py:2: FutureWarning: DataFrame.applymap has been deprecated. Use DataFrame.map instead.\n",
      "  pop_working = pop_working.applymap(lambda x: x.strip() if isinstance(x, str) else x)\n"
     ]
    },
    {
     "data": {
      "text/html": [
       "<div>\n",
       "<style scoped>\n",
       "    .dataframe tbody tr th:only-of-type {\n",
       "        vertical-align: middle;\n",
       "    }\n",
       "\n",
       "    .dataframe tbody tr th {\n",
       "        vertical-align: top;\n",
       "    }\n",
       "\n",
       "    .dataframe thead th {\n",
       "        text-align: right;\n",
       "    }\n",
       "</style>\n",
       "<table border=\"1\" class=\"dataframe\">\n",
       "  <thead>\n",
       "    <tr style=\"text-align: right;\">\n",
       "      <th></th>\n",
       "      <th>population</th>\n",
       "      <th>Country_Year</th>\n",
       "    </tr>\n",
       "  </thead>\n",
       "  <tbody>\n",
       "    <tr>\n",
       "      <th>0</th>\n",
       "      <td>11,814</td>\n",
       "      <td>Australia_2011</td>\n",
       "    </tr>\n",
       "    <tr>\n",
       "      <th>1</th>\n",
       "      <td>4,246</td>\n",
       "      <td>Austria_2011</td>\n",
       "    </tr>\n",
       "    <tr>\n",
       "      <th>2</th>\n",
       "      <td>4,856</td>\n",
       "      <td>Belgium_2011</td>\n",
       "    </tr>\n",
       "    <tr>\n",
       "      <th>3</th>\n",
       "      <td>18,670</td>\n",
       "      <td>Canada_2011</td>\n",
       "    </tr>\n",
       "    <tr>\n",
       "      <th>4</th>\n",
       "      <td>8,306</td>\n",
       "      <td>Chile_2011</td>\n",
       "    </tr>\n",
       "    <tr>\n",
       "      <th>...</th>\n",
       "      <td>...</td>\n",
       "      <td>...</td>\n",
       "    </tr>\n",
       "    <tr>\n",
       "      <th>624</th>\n",
       "      <td>NaN</td>\n",
       "      <td>European Union_Unnamed: 14</td>\n",
       "    </tr>\n",
       "    <tr>\n",
       "      <th>625</th>\n",
       "      <td>NaN</td>\n",
       "      <td>OECD_Unnamed: 14</td>\n",
       "    </tr>\n",
       "    <tr>\n",
       "      <th>626</th>\n",
       "      <td>NaN</td>\n",
       "      <td>Brazil_Unnamed: 14</td>\n",
       "    </tr>\n",
       "    <tr>\n",
       "      <th>627</th>\n",
       "      <td>NaN</td>\n",
       "      <td>Russia_Unnamed: 14</td>\n",
       "    </tr>\n",
       "    <tr>\n",
       "      <th>628</th>\n",
       "      <td>NaN</td>\n",
       "      <td>NaN</td>\n",
       "    </tr>\n",
       "  </tbody>\n",
       "</table>\n",
       "<p>616 rows × 2 columns</p>\n",
       "</div>"
      ],
      "text/plain": [
       "    population                Country_Year\n",
       "0       11,814              Australia_2011\n",
       "1        4,246                Austria_2011\n",
       "2        4,856                Belgium_2011\n",
       "3       18,670                 Canada_2011\n",
       "4        8,306                  Chile_2011\n",
       "..         ...                         ...\n",
       "624        NaN  European Union_Unnamed: 14\n",
       "625        NaN            OECD_Unnamed: 14\n",
       "626        NaN          Brazil_Unnamed: 14\n",
       "627        NaN          Russia_Unnamed: 14\n",
       "628        NaN                         NaN\n",
       "\n",
       "[616 rows x 2 columns]"
      ]
     },
     "execution_count": 8,
     "metadata": {},
     "output_type": "execute_result"
    }
   ],
   "source": [
    "pop_working = pd.read_csv(\"Data_Uncleaned/population_working.csv\")\n",
    "pop_working = pop_working.applymap(lambda x: x.strip() if isinstance(x, str) else x)\n",
    "pop_working = pop_working.rename(columns={'Time period': 'Country'})\n",
    "pop_working = pd.melt(pop_working, id_vars=['Country'], var_name='Year', value_name='population')\n",
    "pop_working = pop_working[pop_working.Country != '© Terms & conditions']\n",
    "pop_working = pop_working[pop_working.Country != 'Unnamed: 14']\n",
    "pop_working['Country_Year'] = pop_working['Country'] + '_' + pop_working['Year'].astype(str)\n",
    "pop_working = pop_working.drop(columns=['Country', 'Year'])\n",
    "pop_working\n"
   ]
  },
  {
   "cell_type": "code",
   "execution_count": 9,
   "metadata": {},
   "outputs": [
    {
     "name": "stderr",
     "output_type": "stream",
     "text": [
      "/var/folders/x3/1m329lgj7sl4y1pqkx_p_f_80000gn/T/ipykernel_48183/2264265670.py:2: FutureWarning: DataFrame.applymap has been deprecated. Use DataFrame.map instead.\n",
      "  l_e = l_e.applymap(lambda x: x.strip() if isinstance(x, str) else x)\n"
     ]
    },
    {
     "data": {
      "text/html": [
       "<div>\n",
       "<style scoped>\n",
       "    .dataframe tbody tr th:only-of-type {\n",
       "        vertical-align: middle;\n",
       "    }\n",
       "\n",
       "    .dataframe tbody tr th {\n",
       "        vertical-align: top;\n",
       "    }\n",
       "\n",
       "    .dataframe thead th {\n",
       "        text-align: right;\n",
       "    }\n",
       "</style>\n",
       "<table border=\"1\" class=\"dataframe\">\n",
       "  <thead>\n",
       "    <tr style=\"text-align: right;\">\n",
       "      <th></th>\n",
       "      <th>Country</th>\n",
       "      <th>Year</th>\n",
       "      <th>age</th>\n",
       "    </tr>\n",
       "  </thead>\n",
       "  <tbody>\n",
       "    <tr>\n",
       "      <th>0</th>\n",
       "      <td>Australia</td>\n",
       "      <td>2010</td>\n",
       "      <td>81.7</td>\n",
       "    </tr>\n",
       "    <tr>\n",
       "      <th>1</th>\n",
       "      <td>Austria</td>\n",
       "      <td>2010</td>\n",
       "      <td>80.7</td>\n",
       "    </tr>\n",
       "    <tr>\n",
       "      <th>2</th>\n",
       "      <td>Belgium</td>\n",
       "      <td>2010</td>\n",
       "      <td>80.3</td>\n",
       "    </tr>\n",
       "    <tr>\n",
       "      <th>3</th>\n",
       "      <td>Canada</td>\n",
       "      <td>2010</td>\n",
       "      <td>81.4</td>\n",
       "    </tr>\n",
       "    <tr>\n",
       "      <th>4</th>\n",
       "      <td>Chile</td>\n",
       "      <td>2010</td>\n",
       "      <td>78.7</td>\n",
       "    </tr>\n",
       "    <tr>\n",
       "      <th>...</th>\n",
       "      <td>...</td>\n",
       "      <td>...</td>\n",
       "      <td>...</td>\n",
       "    </tr>\n",
       "    <tr>\n",
       "      <th>632</th>\n",
       "      <td>Indonesia</td>\n",
       "      <td>2022</td>\n",
       "      <td>67.6</td>\n",
       "    </tr>\n",
       "    <tr>\n",
       "      <th>633</th>\n",
       "      <td>Peru</td>\n",
       "      <td>2022</td>\n",
       "      <td>72.4</td>\n",
       "    </tr>\n",
       "    <tr>\n",
       "      <th>634</th>\n",
       "      <td>Romania</td>\n",
       "      <td>2022</td>\n",
       "      <td>75.3</td>\n",
       "    </tr>\n",
       "    <tr>\n",
       "      <th>635</th>\n",
       "      <td>Russia</td>\n",
       "      <td>2022</td>\n",
       "      <td>..</td>\n",
       "    </tr>\n",
       "    <tr>\n",
       "      <th>636</th>\n",
       "      <td>South Africa</td>\n",
       "      <td>2022</td>\n",
       "      <td>62.3</td>\n",
       "    </tr>\n",
       "  </tbody>\n",
       "</table>\n",
       "<p>637 rows × 3 columns</p>\n",
       "</div>"
      ],
      "text/plain": [
       "          Country  Year   age\n",
       "0       Australia  2010  81.7\n",
       "1         Austria  2010  80.7\n",
       "2         Belgium  2010  80.3\n",
       "3          Canada  2010  81.4\n",
       "4           Chile  2010  78.7\n",
       "..            ...   ...   ...\n",
       "632     Indonesia  2022  67.6\n",
       "633          Peru  2022  72.4\n",
       "634       Romania  2022  75.3\n",
       "635        Russia  2022    ..\n",
       "636  South Africa  2022  62.3\n",
       "\n",
       "[637 rows x 3 columns]"
      ]
     },
     "execution_count": 9,
     "metadata": {},
     "output_type": "execute_result"
    }
   ],
   "source": [
    "l_e = pd.read_csv(\"Data_Uncleaned/life_expectancy.csv\", header = 1)\n",
    "l_e = l_e.applymap(lambda x: x.strip() if isinstance(x, str) else x)\n",
    "l_e = l_e.rename(columns={'Year': 'Country'})\n",
    "l_e = pd.melt(l_e, id_vars=['Country'], var_name='Year', value_name='age')\n",
    "l_e\n"
   ]
  },
  {
   "cell_type": "code",
   "execution_count": 10,
   "metadata": {},
   "outputs": [
    {
     "data": {
      "application/vnd.plotly.v1+json": {
       "config": {
        "plotlyServerURL": "https://plot.ly"
       },
       "data": [
        {
         "coloraxis": "coloraxis",
         "geo": "geo",
         "hovertemplate": "<b>%{hovertext}</b><br><br>Year=2000<br>Country=%{location}<br>GDP=%{z}<extra></extra>",
         "hovertext": [
          "Australia",
          "Austria",
          "Belgium",
          "Brazil",
          "Canada",
          "Chile",
          "China",
          "Colombia",
          "Costa Rica",
          "Czechia",
          "Denmark",
          "Estonia",
          "Euro area",
          "Finland",
          "France",
          "Germany",
          "Greece",
          "Hungary",
          "Iceland",
          "India",
          "Indonesia",
          "Ireland",
          "Israel",
          "Italy",
          "Japan",
          "Korea",
          "Latvia",
          "Lithuania",
          "Luxembourg",
          "Mexico",
          "Netherlands",
          "New Zealand",
          "Norway",
          "Poland",
          "Portugal",
          "Russia",
          "Slovak Republic",
          "Slovenia",
          "South Africa",
          "Spain",
          "Sweden",
          "Switzerland",
          "Türkiye",
          "United Kingdom",
          "United States"
         ],
         "locationmode": "country names",
         "locations": [
          "Australia",
          "Austria",
          "Belgium",
          "Brazil",
          "Canada",
          "Chile",
          "China",
          "Colombia",
          "Costa Rica",
          "Czechia",
          "Denmark",
          "Estonia",
          "Euro area",
          "Finland",
          "France",
          "Germany",
          "Greece",
          "Hungary",
          "Iceland",
          "India",
          "Indonesia",
          "Ireland",
          "Israel",
          "Italy",
          "Japan",
          "Korea",
          "Latvia",
          "Lithuania",
          "Luxembourg",
          "Mexico",
          "Netherlands",
          "New Zealand",
          "Norway",
          "Poland",
          "Portugal",
          "Russia",
          "Slovak Republic",
          "Slovenia",
          "South Africa",
          "Spain",
          "Sweden",
          "Switzerland",
          "Türkiye",
          "United Kingdom",
          "United States"
         ],
         "name": "",
         "type": "choropleth",
         "z": [
          539.15,
          235.38,
          284.86,
          1581.94,
          901,
          145.36,
          3683.44,
          262.51,
          31.92,
          166.52,
          153.04,
          13.16,
          8131.84,
          138.66,
          1589.45,
          2236.36,
          210.92,
          121.05,
          8.38,
          2182.19,
          1096.68,
          114.95,
          161.81,
          1541.76,
          3461.2,
          871.48,
          19.04,
          29.56,
          24.05,
          1154.35,
          507.62,
          82.94,
          166.11,
          408.35,
          194.26,
          1073.59,
          61.31,
          35.81,
          381.72,
          875.74,
          262.81,
          263.63,
          609.01,
          1562.41,
          10250.95
         ]
        }
       ],
       "frames": [
        {
         "data": [
          {
           "coloraxis": "coloraxis",
           "geo": "geo",
           "hovertemplate": "<b>%{hovertext}</b><br><br>Year=2000<br>Country=%{location}<br>GDP=%{z}<extra></extra>",
           "hovertext": [
            "Australia",
            "Austria",
            "Belgium",
            "Brazil",
            "Canada",
            "Chile",
            "China",
            "Colombia",
            "Costa Rica",
            "Czechia",
            "Denmark",
            "Estonia",
            "Euro area",
            "Finland",
            "France",
            "Germany",
            "Greece",
            "Hungary",
            "Iceland",
            "India",
            "Indonesia",
            "Ireland",
            "Israel",
            "Italy",
            "Japan",
            "Korea",
            "Latvia",
            "Lithuania",
            "Luxembourg",
            "Mexico",
            "Netherlands",
            "New Zealand",
            "Norway",
            "Poland",
            "Portugal",
            "Russia",
            "Slovak Republic",
            "Slovenia",
            "South Africa",
            "Spain",
            "Sweden",
            "Switzerland",
            "Türkiye",
            "United Kingdom",
            "United States"
           ],
           "locationmode": "country names",
           "locations": [
            "Australia",
            "Austria",
            "Belgium",
            "Brazil",
            "Canada",
            "Chile",
            "China",
            "Colombia",
            "Costa Rica",
            "Czechia",
            "Denmark",
            "Estonia",
            "Euro area",
            "Finland",
            "France",
            "Germany",
            "Greece",
            "Hungary",
            "Iceland",
            "India",
            "Indonesia",
            "Ireland",
            "Israel",
            "Italy",
            "Japan",
            "Korea",
            "Latvia",
            "Lithuania",
            "Luxembourg",
            "Mexico",
            "Netherlands",
            "New Zealand",
            "Norway",
            "Poland",
            "Portugal",
            "Russia",
            "Slovak Republic",
            "Slovenia",
            "South Africa",
            "Spain",
            "Sweden",
            "Switzerland",
            "Türkiye",
            "United Kingdom",
            "United States"
           ],
           "name": "",
           "type": "choropleth",
           "z": [
            539.15,
            235.38,
            284.86,
            1581.94,
            901,
            145.36,
            3683.44,
            262.51,
            31.92,
            166.52,
            153.04,
            13.16,
            8131.84,
            138.66,
            1589.45,
            2236.36,
            210.92,
            121.05,
            8.38,
            2182.19,
            1096.68,
            114.95,
            161.81,
            1541.76,
            3461.2,
            871.48,
            19.04,
            29.56,
            24.05,
            1154.35,
            507.62,
            82.94,
            166.11,
            408.35,
            194.26,
            1073.59,
            61.31,
            35.81,
            381.72,
            875.74,
            262.81,
            263.63,
            609.01,
            1562.41,
            10250.95
           ]
          }
         ],
         "name": "2000"
        },
        {
         "data": [
          {
           "coloraxis": "coloraxis",
           "geo": "geo",
           "hovertemplate": "<b>%{hovertext}</b><br><br>Year=2001<br>Country=%{location}<br>GDP=%{z}<extra></extra>",
           "hovertext": [
            "Australia",
            "Austria",
            "Belgium",
            "Brazil",
            "Canada",
            "Chile",
            "China",
            "Colombia",
            "Costa Rica",
            "Czechia",
            "Denmark",
            "Estonia",
            "Euro area",
            "Finland",
            "France",
            "Germany",
            "Greece",
            "Hungary",
            "Iceland",
            "India",
            "Indonesia",
            "Ireland",
            "Israel",
            "Italy",
            "Japan",
            "Korea",
            "Latvia",
            "Lithuania",
            "Luxembourg",
            "Mexico",
            "Netherlands",
            "New Zealand",
            "Norway",
            "Poland",
            "Portugal",
            "Russia",
            "Slovak Republic",
            "Slovenia",
            "South Africa",
            "Spain",
            "Sweden",
            "Switzerland",
            "Türkiye",
            "United Kingdom",
            "United States"
           ],
           "locationmode": "country names",
           "locations": [
            "Australia",
            "Austria",
            "Belgium",
            "Brazil",
            "Canada",
            "Chile",
            "China",
            "Colombia",
            "Costa Rica",
            "Czechia",
            "Denmark",
            "Estonia",
            "Euro area",
            "Finland",
            "France",
            "Germany",
            "Greece",
            "Hungary",
            "Iceland",
            "India",
            "Indonesia",
            "Ireland",
            "Israel",
            "Italy",
            "Japan",
            "Korea",
            "Latvia",
            "Lithuania",
            "Luxembourg",
            "Mexico",
            "Netherlands",
            "New Zealand",
            "Norway",
            "Poland",
            "Portugal",
            "Russia",
            "Slovak Republic",
            "Slovenia",
            "South Africa",
            "Spain",
            "Sweden",
            "Switzerland",
            "Türkiye",
            "United Kingdom",
            "United States"
           ],
           "name": "",
           "type": "choropleth",
           "z": [
            569.81,
            238.95,
            296.22,
            1640.06,
            937.79,
            153.32,
            4080.39,
            272.92,
            33.78,
            180.08,
            157.79,
            14.32,
            8545.02,
            144.25,
            1687.22,
            2336.84,
            227.68,
            134.6,
            9.09,
            2338.99,
            1162.25,
            125.95,
            165.74,
            1597.67,
            3552.84,
            934.35,
            21.14,
            32.76,
            24.79,
            1175.04,
            532.57,
            87.39,
            170.77,
            425.43,
            202.39,
            1153,
            66.64,
            37.76,
            400.86,
            937.76,
            266.31,
            273.45,
            595.9,
            1650.36,
            10581.93
           ]
          }
         ],
         "name": "2001"
        },
        {
         "data": [
          {
           "coloraxis": "coloraxis",
           "geo": "geo",
           "hovertemplate": "<b>%{hovertext}</b><br><br>Year=2002<br>Country=%{location}<br>GDP=%{z}<extra></extra>",
           "hovertext": [
            "Australia",
            "Austria",
            "Belgium",
            "Brazil",
            "Canada",
            "Chile",
            "China",
            "Colombia",
            "Costa Rica",
            "Czechia",
            "Denmark",
            "Estonia",
            "Euro area",
            "Finland",
            "France",
            "Germany",
            "Greece",
            "Hungary",
            "Iceland",
            "India",
            "Indonesia",
            "Ireland",
            "Israel",
            "Italy",
            "Japan",
            "Korea",
            "Latvia",
            "Lithuania",
            "Luxembourg",
            "Mexico",
            "Netherlands",
            "New Zealand",
            "Norway",
            "Poland",
            "Portugal",
            "Russia",
            "Slovak Republic",
            "Slovenia",
            "South Africa",
            "Spain",
            "Sweden",
            "Switzerland",
            "Türkiye",
            "United Kingdom",
            "United States"
           ],
           "locationmode": "country names",
           "locations": [
            "Australia",
            "Austria",
            "Belgium",
            "Brazil",
            "Canada",
            "Chile",
            "China",
            "Colombia",
            "Costa Rica",
            "Czechia",
            "Denmark",
            "Estonia",
            "Euro area",
            "Finland",
            "France",
            "Germany",
            "Greece",
            "Hungary",
            "Iceland",
            "India",
            "Indonesia",
            "Ireland",
            "Israel",
            "Italy",
            "Japan",
            "Korea",
            "Latvia",
            "Lithuania",
            "Luxembourg",
            "Mexico",
            "Netherlands",
            "New Zealand",
            "Norway",
            "Poland",
            "Portugal",
            "Russia",
            "Slovak Republic",
            "Slovenia",
            "South Africa",
            "Spain",
            "Sweden",
            "Switzerland",
            "Türkiye",
            "United Kingdom",
            "United States"
           ],
           "name": "",
           "type": "choropleth",
           "z": [
            600.91,
            251.98,
            312.9,
            1716.48,
            971.01,
            160.69,
            4522.48,
            284.12,
            35.47,
            186.12,
            164.72,
            16.09,
            8920.89,
            148.76,
            1762.93,
            2406.9,
            246.56,
            147.57,
            9.38,
            2465.81,
            1233.47,
            138.49,
            171.11,
            1639.68,
            3647.93,
            1019.45,
            23.29,
            36.09,
            26.14,
            1194.4,
            556.29,
            92.03,
            172.71,
            451.28,
            212.11,
            1253.12,
            71.58,
            40.37,
            422.18,
            1009.75,
            276.02,
            281.96,
            612.45,
            1727.03,
            10929.11
           ]
          }
         ],
         "name": "2002"
        },
        {
         "data": [
          {
           "coloraxis": "coloraxis",
           "geo": "geo",
           "hovertemplate": "<b>%{hovertext}</b><br><br>Year=2003<br>Country=%{location}<br>GDP=%{z}<extra></extra>",
           "hovertext": [
            "Australia",
            "Austria",
            "Belgium",
            "Brazil",
            "Canada",
            "Chile",
            "China",
            "Colombia",
            "Costa Rica",
            "Czechia",
            "Denmark",
            "Estonia",
            "Euro area",
            "Finland",
            "France",
            "Germany",
            "Greece",
            "Hungary",
            "Iceland",
            "India",
            "Indonesia",
            "Ireland",
            "Israel",
            "Italy",
            "Japan",
            "Korea",
            "Latvia",
            "Lithuania",
            "Luxembourg",
            "Mexico",
            "Netherlands",
            "New Zealand",
            "Norway",
            "Poland",
            "Portugal",
            "Russia",
            "Slovak Republic",
            "Slovenia",
            "South Africa",
            "Spain",
            "Sweden",
            "Switzerland",
            "Türkiye",
            "United Kingdom",
            "United States"
           ],
           "locationmode": "country names",
           "locations": [
            "Australia",
            "Austria",
            "Belgium",
            "Brazil",
            "Canada",
            "Chile",
            "China",
            "Colombia",
            "Costa Rica",
            "Czechia",
            "Denmark",
            "Estonia",
            "Euro area",
            "Finland",
            "France",
            "Germany",
            "Greece",
            "Hungary",
            "Iceland",
            "India",
            "Indonesia",
            "Ireland",
            "Israel",
            "Italy",
            "Japan",
            "Korea",
            "Latvia",
            "Lithuania",
            "Luxembourg",
            "Mexico",
            "Netherlands",
            "New Zealand",
            "Norway",
            "Poland",
            "Portugal",
            "Russia",
            "Slovak Republic",
            "Slovenia",
            "South Africa",
            "Spain",
            "Sweden",
            "Switzerland",
            "Türkiye",
            "United Kingdom",
            "United States"
           ],
           "name": "",
           "type": "choropleth",
           "z": [
            639.13,
            261.07,
            320.98,
            1770.33,
            1023.69,
            171.61,
            5074.66,
            301.08,
            37.74,
            199.18,
            166.15,
            18,
            9116.5,
            151.45,
            1753.7,
            2468.58,
            261.16,
            156.8,
            9.47,
            2712.12,
            1317.94,
            145.01,
            164.97,
            1673.46,
            3753.92,
            1058.22,
            25.31,
            41.22,
            27.19,
            1242.56,
            554.12,
            96.6,
            176.59,
            469.5,
            218.09,
            1437.84,
            76.2,
            42.14,
            443.2,
            1056.7,
            285.02,
            284.29,
            641.1,
            1808.37,
            11456.45
           ]
          }
         ],
         "name": "2003"
        },
        {
         "data": [
          {
           "coloraxis": "coloraxis",
           "geo": "geo",
           "hovertemplate": "<b>%{hovertext}</b><br><br>Year=2004<br>Country=%{location}<br>GDP=%{z}<extra></extra>",
           "hovertext": [
            "Australia",
            "Austria",
            "Belgium",
            "Brazil",
            "Canada",
            "Chile",
            "China",
            "Colombia",
            "Costa Rica",
            "Czechia",
            "Denmark",
            "Estonia",
            "Euro area",
            "Finland",
            "France",
            "Germany",
            "Greece",
            "Hungary",
            "Iceland",
            "India",
            "Indonesia",
            "Ireland",
            "Israel",
            "Italy",
            "Japan",
            "Korea",
            "Latvia",
            "Lithuania",
            "Luxembourg",
            "Mexico",
            "Netherlands",
            "New Zealand",
            "Norway",
            "Poland",
            "Portugal",
            "Russia",
            "Slovak Republic",
            "Slovenia",
            "South Africa",
            "Spain",
            "Sweden",
            "Switzerland",
            "Türkiye",
            "United Kingdom",
            "United States"
           ],
           "locationmode": "country names",
           "locations": [
            "Australia",
            "Austria",
            "Belgium",
            "Brazil",
            "Canada",
            "Chile",
            "China",
            "Colombia",
            "Costa Rica",
            "Czechia",
            "Denmark",
            "Estonia",
            "Euro area",
            "Finland",
            "France",
            "Germany",
            "Greece",
            "Hungary",
            "Iceland",
            "India",
            "Indonesia",
            "Ireland",
            "Israel",
            "Italy",
            "Japan",
            "Korea",
            "Latvia",
            "Lithuania",
            "Luxembourg",
            "Mexico",
            "Netherlands",
            "New Zealand",
            "Norway",
            "Poland",
            "Portugal",
            "Russia",
            "Slovak Republic",
            "Slovenia",
            "South Africa",
            "Spain",
            "Sweden",
            "Switzerland",
            "Türkiye",
            "United Kingdom",
            "United States"
           ],
           "name": "",
           "type": "choropleth",
           "z": [
            678.09,
            276.01,
            334.14,
            1922.56,
            1083.62,
            187.97,
            5737.9,
            325.65,
            40.46,
            213.45,
            178.02,
            19.81,
            9525.12,
            163.13,
            1822.29,
            2585.63,
            278.93,
            164.44,
            10.4,
            3005.57,
            1421.4,
            157.66,
            177.33,
            1704.92,
            3938.96,
            1143.11,
            27.79,
            44.01,
            29.64,
            1321.4,
            583.06,
            102.58,
            195.95,
            509.89,
            225.18,
            1582.51,
            81.8,
            45.46,
            475.83,
            1122.17,
            304.52,
            296.89,
            735.79,
            1922.94,
            12217.2
           ]
          }
         ],
         "name": "2004"
        },
        {
         "data": [
          {
           "coloraxis": "coloraxis",
           "geo": "geo",
           "hovertemplate": "<b>%{hovertext}</b><br><br>Year=2005<br>Country=%{location}<br>GDP=%{z}<extra></extra>",
           "hovertext": [
            "Australia",
            "Austria",
            "Belgium",
            "Brazil",
            "Canada",
            "Chile",
            "China",
            "Colombia",
            "Costa Rica",
            "Czechia",
            "Denmark",
            "Estonia",
            "Euro area",
            "Finland",
            "France",
            "Germany",
            "Greece",
            "Hungary",
            "Iceland",
            "India",
            "Indonesia",
            "Ireland",
            "Israel",
            "Italy",
            "Japan",
            "Korea",
            "Latvia",
            "Lithuania",
            "Luxembourg",
            "Mexico",
            "Netherlands",
            "New Zealand",
            "Norway",
            "Poland",
            "Portugal",
            "Russia",
            "Slovak Republic",
            "Slovenia",
            "South Africa",
            "Spain",
            "Sweden",
            "Switzerland",
            "Türkiye",
            "United Kingdom",
            "United States"
           ],
           "locationmode": "country names",
           "locations": [
            "Australia",
            "Austria",
            "Belgium",
            "Brazil",
            "Canada",
            "Chile",
            "China",
            "Colombia",
            "Costa Rica",
            "Czechia",
            "Denmark",
            "Estonia",
            "Euro area",
            "Finland",
            "France",
            "Germany",
            "Greece",
            "Hungary",
            "Iceland",
            "India",
            "Indonesia",
            "Ireland",
            "Israel",
            "Italy",
            "Japan",
            "Korea",
            "Latvia",
            "Lithuania",
            "Luxembourg",
            "Mexico",
            "Netherlands",
            "New Zealand",
            "Norway",
            "Poland",
            "Portugal",
            "Russia",
            "Slovak Republic",
            "Slovenia",
            "South Africa",
            "Spain",
            "Sweden",
            "Switzerland",
            "Türkiye",
            "United Kingdom",
            "United States"
           ],
           "name": "",
           "type": "choropleth",
           "z": [
            719.98,
            288.09,
            347.66,
            2046.34,
            1171.34,
            205.18,
            6592.14,
            351.67,
            43.39,
            225.62,
            185.07,
            22.54,
            9903.08,
            168.15,
            1926.88,
            2622.04,
            281.03,
            172.57,
            11.07,
            3343.22,
            1549.43,
            168.34,
            177.61,
            1746.66,
            4110.44,
            1213.62,
            31.15,
            48.21,
            32,
            1403.09,
            614.04,
            106.15,
            221.76,
            530.38,
            238.69,
            1822.44,
            89.4,
            47.72,
            516.65,
            1205.13,
            309.21,
            308.83,
            815.1,
            1976.7,
            13039.2
           ]
          }
         ],
         "name": "2005"
        },
        {
         "data": [
          {
           "coloraxis": "coloraxis",
           "geo": "geo",
           "hovertemplate": "<b>%{hovertext}</b><br><br>Year=2006<br>Country=%{location}<br>GDP=%{z}<extra></extra>",
           "hovertext": [
            "Australia",
            "Austria",
            "Belgium",
            "Brazil",
            "Canada",
            "Chile",
            "China",
            "Colombia",
            "Costa Rica",
            "Czechia",
            "Denmark",
            "Estonia",
            "Euro area",
            "Finland",
            "France",
            "Germany",
            "Greece",
            "Hungary",
            "Iceland",
            "India",
            "Indonesia",
            "Ireland",
            "Israel",
            "Italy",
            "Japan",
            "Korea",
            "Latvia",
            "Lithuania",
            "Luxembourg",
            "Mexico",
            "Netherlands",
            "New Zealand",
            "Norway",
            "Poland",
            "Portugal",
            "Russia",
            "Slovak Republic",
            "Slovenia",
            "South Africa",
            "Spain",
            "Sweden",
            "Switzerland",
            "Türkiye",
            "United Kingdom",
            "United States"
           ],
           "locationmode": "country names",
           "locations": [
            "Australia",
            "Austria",
            "Belgium",
            "Brazil",
            "Canada",
            "Chile",
            "China",
            "Colombia",
            "Costa Rica",
            "Czechia",
            "Denmark",
            "Estonia",
            "Euro area",
            "Finland",
            "France",
            "Germany",
            "Greece",
            "Hungary",
            "Iceland",
            "India",
            "Indonesia",
            "Ireland",
            "Israel",
            "Italy",
            "Japan",
            "Korea",
            "Latvia",
            "Lithuania",
            "Luxembourg",
            "Mexico",
            "Netherlands",
            "New Zealand",
            "Norway",
            "Poland",
            "Portugal",
            "Russia",
            "Slovak Republic",
            "Slovenia",
            "South Africa",
            "Spain",
            "Sweden",
            "Switzerland",
            "Türkiye",
            "United Kingdom",
            "United States"
           ],
           "name": "",
           "type": "choropleth",
           "z": [
            776.41,
            311.41,
            371.91,
            2193.06,
            1241.62,
            256.07,
            7660,
            386.87,
            48.01,
            244.95,
            203,
            26.05,
            10762.01,
            181.45,
            2065.68,
            2813.99,
            314.62,
            185.15,
            12.06,
            3696.92,
            1685.1,
            189.03,
            185.77,
            1886.97,
            4300.32,
            1302.23,
            35.18,
            53.9,
            37.28,
            1559.65,
            670.41,
            116.1,
            253.4,
            577.93,
            259.72,
            2291.24,
            101.63,
            51.62,
            562.43,
            1363.89,
            342.61,
            346.32,
            945.29,
            2113.5,
            13815.58
           ]
          }
         ],
         "name": "2006"
        },
        {
         "data": [
          {
           "coloraxis": "coloraxis",
           "geo": "geo",
           "hovertemplate": "<b>%{hovertext}</b><br><br>Year=2007<br>Country=%{location}<br>GDP=%{z}<extra></extra>",
           "hovertext": [
            "Australia",
            "Austria",
            "Belgium",
            "Brazil",
            "Canada",
            "Chile",
            "China",
            "Colombia",
            "Costa Rica",
            "Czechia",
            "Denmark",
            "Estonia",
            "Euro area",
            "Finland",
            "France",
            "Germany",
            "Greece",
            "Hungary",
            "Iceland",
            "India",
            "Indonesia",
            "Ireland",
            "Israel",
            "Italy",
            "Japan",
            "Korea",
            "Latvia",
            "Lithuania",
            "Luxembourg",
            "Mexico",
            "Netherlands",
            "New Zealand",
            "Norway",
            "Poland",
            "Portugal",
            "Russia",
            "Slovak Republic",
            "Slovenia",
            "South Africa",
            "Spain",
            "Sweden",
            "Switzerland",
            "Türkiye",
            "United Kingdom",
            "United States"
           ],
           "locationmode": "country names",
           "locations": [
            "Australia",
            "Austria",
            "Belgium",
            "Brazil",
            "Canada",
            "Chile",
            "China",
            "Colombia",
            "Costa Rica",
            "Czechia",
            "Denmark",
            "Estonia",
            "Euro area",
            "Finland",
            "France",
            "Germany",
            "Greece",
            "Hungary",
            "Iceland",
            "India",
            "Indonesia",
            "Ireland",
            "Israel",
            "Italy",
            "Japan",
            "Korea",
            "Latvia",
            "Lithuania",
            "Luxembourg",
            "Mexico",
            "Netherlands",
            "New Zealand",
            "Norway",
            "Poland",
            "Portugal",
            "Russia",
            "Slovak Republic",
            "Slovenia",
            "South Africa",
            "Spain",
            "Sweden",
            "Switzerland",
            "Türkiye",
            "United Kingdom",
            "United States"
           ],
           "name": "",
           "type": "choropleth",
           "z": [
            826.93,
            327.17,
            391.02,
            2389.04,
            1301.59,
            278.37,
            8986.56,
            424.09,
            53.36,
            270.74,
            213.08,
            29.76,
            11447.14,
            200.16,
            2184.81,
            2985.92,
            324.02,
            192.05,
            12.92,
            4122.65,
            1840.45,
            205.8,
            202.28,
            1995.61,
            4482.08,
            1414.99,
            40.14,
            61.71,
            40.86,
            1635.08,
            719.96,
            123.98,
            264.57,
            640.68,
            271.36,
            2553.61,
            114.09,
            55.65,
            608.6,
            1468.83,
            374.29,
            384.57,
            1043,
            2178.38,
            14474.23
           ]
          }
         ],
         "name": "2007"
        },
        {
         "data": [
          {
           "coloraxis": "coloraxis",
           "geo": "geo",
           "hovertemplate": "<b>%{hovertext}</b><br><br>Year=2008<br>Country=%{location}<br>GDP=%{z}<extra></extra>",
           "hovertext": [
            "Australia",
            "Austria",
            "Belgium",
            "Brazil",
            "Canada",
            "Chile",
            "China",
            "Colombia",
            "Costa Rica",
            "Czechia",
            "Denmark",
            "Estonia",
            "Euro area",
            "Finland",
            "France",
            "Germany",
            "Greece",
            "Hungary",
            "Iceland",
            "India",
            "Indonesia",
            "Ireland",
            "Israel",
            "Italy",
            "Japan",
            "Korea",
            "Latvia",
            "Lithuania",
            "Luxembourg",
            "Mexico",
            "Netherlands",
            "New Zealand",
            "Norway",
            "Poland",
            "Portugal",
            "Russia",
            "Slovak Republic",
            "Slovenia",
            "South Africa",
            "Spain",
            "Sweden",
            "Switzerland",
            "Türkiye",
            "United Kingdom",
            "United States"
           ],
           "locationmode": "country names",
           "locations": [
            "Australia",
            "Austria",
            "Belgium",
            "Brazil",
            "Canada",
            "Chile",
            "China",
            "Colombia",
            "Costa Rica",
            "Czechia",
            "Denmark",
            "Estonia",
            "Euro area",
            "Finland",
            "France",
            "Germany",
            "Greece",
            "Hungary",
            "Iceland",
            "India",
            "Indonesia",
            "Ireland",
            "Israel",
            "Italy",
            "Japan",
            "Korea",
            "Latvia",
            "Lithuania",
            "Luxembourg",
            "Mexico",
            "Netherlands",
            "New Zealand",
            "Norway",
            "Poland",
            "Portugal",
            "Russia",
            "Slovak Republic",
            "Slovenia",
            "South Africa",
            "Spain",
            "Sweden",
            "Switzerland",
            "Türkiye",
            "United Kingdom",
            "United States"
           ],
           "name": "",
           "type": "choropleth",
           "z": [
            852.86,
            343.81,
            405.73,
            2558.9,
            1342.4,
            275.75,
            10042.81,
            446.42,
            56.96,
            290.5,
            226.77,
            30.49,
            11933.27,
            212.98,
            2259.26,
            3103.96,
            341.82,
            208.01,
            13.88,
            4344.05,
            1988.55,
            198.3,
            204.63,
            2089.72,
            4517.27,
            1469,
            42.62,
            66.27,
            44.45,
            1730.73,
            763.41,
            127.06,
            295.98,
            697.83,
            281.54,
            3091.46,
            127.63,
            59.84,
            640.06,
            1528.58,
            388.68,
            411.51,
            1139.55,
            2271.08,
            14769.86
           ]
          }
         ],
         "name": "2008"
        },
        {
         "data": [
          {
           "coloraxis": "coloraxis",
           "geo": "geo",
           "hovertemplate": "<b>%{hovertext}</b><br><br>Year=2009<br>Country=%{location}<br>GDP=%{z}<extra></extra>",
           "hovertext": [
            "Australia",
            "Austria",
            "Belgium",
            "Brazil",
            "Canada",
            "Chile",
            "China",
            "Colombia",
            "Costa Rica",
            "Czechia",
            "Denmark",
            "Estonia",
            "Euro area",
            "Finland",
            "France",
            "Germany",
            "Greece",
            "Hungary",
            "Iceland",
            "India",
            "Indonesia",
            "Ireland",
            "Israel",
            "Italy",
            "Japan",
            "Korea",
            "Latvia",
            "Lithuania",
            "Luxembourg",
            "Mexico",
            "Netherlands",
            "New Zealand",
            "Norway",
            "Poland",
            "Portugal",
            "Russia",
            "Slovak Republic",
            "Slovenia",
            "South Africa",
            "Spain",
            "Sweden",
            "Switzerland",
            "Türkiye",
            "United Kingdom",
            "United States"
           ],
           "locationmode": "country names",
           "locations": [
            "Australia",
            "Austria",
            "Belgium",
            "Brazil",
            "Canada",
            "Chile",
            "China",
            "Colombia",
            "Costa Rica",
            "Czechia",
            "Denmark",
            "Estonia",
            "Euro area",
            "Finland",
            "France",
            "Germany",
            "Greece",
            "Hungary",
            "Iceland",
            "India",
            "Indonesia",
            "Ireland",
            "Israel",
            "Italy",
            "Japan",
            "Korea",
            "Latvia",
            "Lithuania",
            "Luxembourg",
            "Mexico",
            "Netherlands",
            "New Zealand",
            "Norway",
            "Poland",
            "Portugal",
            "Russia",
            "Slovak Republic",
            "Slovenia",
            "South Africa",
            "Spain",
            "Sweden",
            "Switzerland",
            "Türkiye",
            "United Kingdom",
            "United States"
           ],
           "name": "",
           "type": "choropleth",
           "z": [
            904.21,
            341.38,
            407.55,
            2572.06,
            1307,
            271.33,
            11057.12,
            454.4,
            56.82,
            289.93,
            222.75,
            27.33,
            11662.6,
            202.72,
            2243.85,
            3015.21,
            337.19,
            207.69,
            13.33,
            4699.35,
            2051.98,
            188.08,
            209.39,
            2044.81,
            4295.63,
            1454.99,
            36.46,
            57.3,
            43.24,
            1701.57,
            736.52,
            132.02,
            268.57,
            734.01,
            279.62,
            2973.73,
            124.32,
            56.17,
            634.26,
            1487.85,
            374.53,
            410.2,
            1112.44,
            2181.12,
            14478.07
           ]
          }
         ],
         "name": "2009"
        },
        {
         "data": [
          {
           "coloraxis": "coloraxis",
           "geo": "geo",
           "hovertemplate": "<b>%{hovertext}</b><br><br>Year=2010<br>Country=%{location}<br>GDP=%{z}<extra></extra>",
           "hovertext": [
            "Australia",
            "Austria",
            "Belgium",
            "Brazil",
            "Canada",
            "Chile",
            "China",
            "Colombia",
            "Costa Rica",
            "Czechia",
            "Denmark",
            "Estonia",
            "Euro area",
            "Finland",
            "France",
            "Germany",
            "Greece",
            "Hungary",
            "Iceland",
            "India",
            "Indonesia",
            "Ireland",
            "Israel",
            "Italy",
            "Japan",
            "Korea",
            "Latvia",
            "Lithuania",
            "Luxembourg",
            "Mexico",
            "Netherlands",
            "New Zealand",
            "Norway",
            "Poland",
            "Portugal",
            "Russia",
            "Slovak Republic",
            "Slovenia",
            "South Africa",
            "Spain",
            "Sweden",
            "Switzerland",
            "Türkiye",
            "United Kingdom",
            "United States"
           ],
           "locationmode": "country names",
           "locations": [
            "Australia",
            "Austria",
            "Belgium",
            "Brazil",
            "Canada",
            "Chile",
            "China",
            "Colombia",
            "Costa Rica",
            "Czechia",
            "Denmark",
            "Estonia",
            "Euro area",
            "Finland",
            "France",
            "Germany",
            "Greece",
            "Hungary",
            "Iceland",
            "India",
            "Indonesia",
            "Ireland",
            "Israel",
            "Italy",
            "Japan",
            "Korea",
            "Latvia",
            "Lithuania",
            "Luxembourg",
            "Mexico",
            "Netherlands",
            "New Zealand",
            "Norway",
            "Poland",
            "Portugal",
            "Russia",
            "Slovak Republic",
            "Slovenia",
            "South Africa",
            "Spain",
            "Sweden",
            "Switzerland",
            "Türkiye",
            "United Kingdom",
            "United States"
           ],
           "name": "",
           "type": "choropleth",
           "z": [
            943.49,
            351.28,
            434.01,
            2798.92,
            1363.58,
            307.86,
            12380.17,
            480.53,
            60.59,
            292,
            238.53,
            28.78,
            12021.29,
            208.9,
            2334.27,
            3184.88,
            310.38,
            217.39,
            12.65,
            5170.61,
            2057.21,
            197.01,
            223.84,
            2083.74,
            4525.4,
            1572.68,
            37.13,
            62.23,
            45.8,
            1807.63,
            748.29,
            135.8,
            284.65,
            794.61,
            288.19,
            3143.87,
            136.93,
            57,
            661.39,
            1475.43,
            395.91,
            425.93,
            1268.55,
            2290.2,
            15048.97
           ]
          }
         ],
         "name": "2010"
        },
        {
         "data": [
          {
           "coloraxis": "coloraxis",
           "geo": "geo",
           "hovertemplate": "<b>%{hovertext}</b><br><br>Year=2011<br>Country=%{location}<br>GDP=%{z}<extra></extra>",
           "hovertext": [
            "Australia",
            "Austria",
            "Belgium",
            "Brazil",
            "Canada",
            "Chile",
            "China",
            "Colombia",
            "Costa Rica",
            "Czechia",
            "Denmark",
            "Estonia",
            "Euro area",
            "Finland",
            "France",
            "Germany",
            "Greece",
            "Hungary",
            "Iceland",
            "India",
            "Indonesia",
            "Ireland",
            "Israel",
            "Italy",
            "Japan",
            "Korea",
            "Latvia",
            "Lithuania",
            "Luxembourg",
            "Mexico",
            "Netherlands",
            "New Zealand",
            "Norway",
            "Poland",
            "Portugal",
            "Russia",
            "Slovak Republic",
            "Slovenia",
            "South Africa",
            "Spain",
            "Sweden",
            "Switzerland",
            "Türkiye",
            "United Kingdom",
            "United States"
           ],
           "locationmode": "country names",
           "locations": [
            "Australia",
            "Austria",
            "Belgium",
            "Brazil",
            "Canada",
            "Chile",
            "China",
            "Colombia",
            "Costa Rica",
            "Czechia",
            "Denmark",
            "Estonia",
            "Euro area",
            "Finland",
            "France",
            "Germany",
            "Greece",
            "Hungary",
            "Iceland",
            "India",
            "Indonesia",
            "Ireland",
            "Israel",
            "Italy",
            "Japan",
            "Korea",
            "Latvia",
            "Lithuania",
            "Luxembourg",
            "Mexico",
            "Netherlands",
            "New Zealand",
            "Norway",
            "Poland",
            "Portugal",
            "Russia",
            "Slovak Republic",
            "Slovenia",
            "South Africa",
            "Spain",
            "Sweden",
            "Switzerland",
            "Türkiye",
            "United Kingdom",
            "United States"
           ],
           "name": "",
           "type": "choropleth",
           "z": [
            993.25,
            373.03,
            451.93,
            2970.63,
            1430.81,
            349.15,
            13844.37,
            524.6,
            64.57,
            304.4,
            247.35,
            32.6,
            12554.02,
            220.47,
            2446.47,
            3415.02,
            285.08,
            229.64,
            13.06,
            5618.38,
            2229.51,
            206.64,
            242.55,
            2173.17,
            4629.4,
            1625.28,
            39.65,
            69.3,
            48.97,
            1989.89,
            777.88,
            143.37,
            309.37,
            862.45,
            282.62,
            3259.32,
            141.76,
            59.39,
            696.53,
            1489.59,
            421.52,
            454.91,
            1454.11,
            2354.77,
            15599.73
           ]
          }
         ],
         "name": "2011"
        },
        {
         "data": [
          {
           "coloraxis": "coloraxis",
           "geo": "geo",
           "hovertemplate": "<b>%{hovertext}</b><br><br>Year=2012<br>Country=%{location}<br>GDP=%{z}<extra></extra>",
           "hovertext": [
            "Australia",
            "Austria",
            "Belgium",
            "Brazil",
            "Canada",
            "Chile",
            "China",
            "Colombia",
            "Costa Rica",
            "Czechia",
            "Denmark",
            "Estonia",
            "Euro area",
            "Finland",
            "France",
            "Germany",
            "Greece",
            "Hungary",
            "Iceland",
            "India",
            "Indonesia",
            "Ireland",
            "Israel",
            "Italy",
            "Japan",
            "Korea",
            "Latvia",
            "Lithuania",
            "Luxembourg",
            "Mexico",
            "Netherlands",
            "New Zealand",
            "Norway",
            "Poland",
            "Portugal",
            "Russia",
            "Slovak Republic",
            "Slovenia",
            "South Africa",
            "Spain",
            "Sweden",
            "Switzerland",
            "Türkiye",
            "United Kingdom",
            "United States"
           ],
           "locationmode": "country names",
           "locations": [
            "Australia",
            "Austria",
            "Belgium",
            "Brazil",
            "Canada",
            "Chile",
            "China",
            "Colombia",
            "Costa Rica",
            "Czechia",
            "Denmark",
            "Estonia",
            "Euro area",
            "Finland",
            "France",
            "Germany",
            "Greece",
            "Hungary",
            "Iceland",
            "India",
            "Indonesia",
            "Ireland",
            "Israel",
            "Italy",
            "Japan",
            "Korea",
            "Latvia",
            "Lithuania",
            "Luxembourg",
            "Mexico",
            "Netherlands",
            "New Zealand",
            "Norway",
            "Poland",
            "Portugal",
            "Russia",
            "Slovak Republic",
            "Slovenia",
            "South Africa",
            "Spain",
            "Sweden",
            "Switzerland",
            "Türkiye",
            "United Kingdom",
            "United States"
           ],
           "name": "",
           "type": "choropleth",
           "z": [
            998.27,
            391.64,
            469.72,
            2998.53,
            1468.09,
            374.32,
            15124.54,
            548.25,
            69.07,
            307.49,
            250.52,
            34.38,
            12706.79,
            221.29,
            2474.01,
            3487.23,
            275.14,
            230.82,
            13.47,
            6153.16,
            2413.44,
            212.88,
            256.31,
            2172.38,
            4799.61,
            1684.56,
            43.31,
            73.81,
            51.31,
            2103.29,
            792.04,
            145.42,
            330.09,
            897.88,
            277.99,
            3480.3,
            145.97,
            59.75,
            698.22,
            1483.65,
            432.49,
            475.34,
            1550.69,
            2442.46,
            16253.97
           ]
          }
         ],
         "name": "2012"
        },
        {
         "data": [
          {
           "coloraxis": "coloraxis",
           "geo": "geo",
           "hovertemplate": "<b>%{hovertext}</b><br><br>Year=2013<br>Country=%{location}<br>GDP=%{z}<extra></extra>",
           "hovertext": [
            "Australia",
            "Austria",
            "Belgium",
            "Brazil",
            "Canada",
            "Chile",
            "China",
            "Colombia",
            "Costa Rica",
            "Czechia",
            "Denmark",
            "Estonia",
            "Euro area",
            "Finland",
            "France",
            "Germany",
            "Greece",
            "Hungary",
            "Iceland",
            "India",
            "Indonesia",
            "Ireland",
            "Israel",
            "Italy",
            "Japan",
            "Korea",
            "Latvia",
            "Lithuania",
            "Luxembourg",
            "Mexico",
            "Netherlands",
            "New Zealand",
            "Norway",
            "Poland",
            "Portugal",
            "Russia",
            "Slovak Republic",
            "Slovenia",
            "South Africa",
            "Spain",
            "Sweden",
            "Switzerland",
            "Türkiye",
            "United Kingdom",
            "United States"
           ],
           "locationmode": "country names",
           "locations": [
            "Australia",
            "Austria",
            "Belgium",
            "Brazil",
            "Canada",
            "Chile",
            "China",
            "Colombia",
            "Costa Rica",
            "Czechia",
            "Denmark",
            "Estonia",
            "Euro area",
            "Finland",
            "France",
            "Germany",
            "Greece",
            "Hungary",
            "Iceland",
            "India",
            "Indonesia",
            "Ireland",
            "Israel",
            "Italy",
            "Japan",
            "Korea",
            "Latvia",
            "Lithuania",
            "Luxembourg",
            "Mexico",
            "Netherlands",
            "New Zealand",
            "Norway",
            "Poland",
            "Portugal",
            "Russia",
            "Slovak Republic",
            "Slovenia",
            "South Africa",
            "Spain",
            "Sweden",
            "Switzerland",
            "Türkiye",
            "United Kingdom",
            "United States"
           ],
           "name": "",
           "type": "choropleth",
           "z": [
            1105.43,
            406.37,
            487.34,
            3133.89,
            1554.12,
            392.67,
            16185.06,
            585.89,
            73.21,
            324.03,
            262.37,
            36.2,
            13151.1,
            225.68,
            2608.52,
            3628.56,
            284.95,
            242.86,
            14.38,
            6477.52,
            2535.04,
            221.01,
            279.9,
            2187.38,
            5021.59,
            1726.9,
            45.56,
            79.03,
            54.84,
            2150.33,
            827.48,
            161,
            342.25,
            925.13,
            292.14,
            3741.78,
            151.68,
            61.74,
            730.52,
            1512.56,
            444.62,
            498.76,
            1703.67,
            2562.2,
            16880.68
           ]
          }
         ],
         "name": "2013"
        },
        {
         "data": [
          {
           "coloraxis": "coloraxis",
           "geo": "geo",
           "hovertemplate": "<b>%{hovertext}</b><br><br>Year=2014<br>Country=%{location}<br>GDP=%{z}<extra></extra>",
           "hovertext": [
            "Australia",
            "Austria",
            "Belgium",
            "Brazil",
            "Canada",
            "Chile",
            "China",
            "Colombia",
            "Costa Rica",
            "Czechia",
            "Denmark",
            "Estonia",
            "Euro area",
            "Finland",
            "France",
            "Germany",
            "Greece",
            "Hungary",
            "Iceland",
            "India",
            "Indonesia",
            "Ireland",
            "Israel",
            "Italy",
            "Japan",
            "Korea",
            "Latvia",
            "Lithuania",
            "Luxembourg",
            "Mexico",
            "Netherlands",
            "New Zealand",
            "Norway",
            "Poland",
            "Portugal",
            "Russia",
            "Slovak Republic",
            "Slovenia",
            "South Africa",
            "Spain",
            "Sweden",
            "Switzerland",
            "Türkiye",
            "United Kingdom",
            "United States"
           ],
           "locationmode": "country names",
           "locations": [
            "Australia",
            "Austria",
            "Belgium",
            "Brazil",
            "Canada",
            "Chile",
            "China",
            "Colombia",
            "Costa Rica",
            "Czechia",
            "Denmark",
            "Estonia",
            "Euro area",
            "Finland",
            "France",
            "Germany",
            "Greece",
            "Hungary",
            "Iceland",
            "India",
            "Indonesia",
            "Ireland",
            "Israel",
            "Italy",
            "Japan",
            "Korea",
            "Latvia",
            "Lithuania",
            "Luxembourg",
            "Mexico",
            "Netherlands",
            "New Zealand",
            "Norway",
            "Poland",
            "Portugal",
            "Russia",
            "Slovak Republic",
            "Slovenia",
            "South Africa",
            "Spain",
            "Sweden",
            "Switzerland",
            "Türkiye",
            "United Kingdom",
            "United States"
           ],
           "name": "",
           "type": "choropleth",
           "z": [
            1118.59,
            417.06,
            503.62,
            3187.16,
            1621.4,
            402.9,
            17121.28,
            618.79,
            79.27,
            342.1,
            270.33,
            38.05,
            13523.41,
            228.06,
            2662.03,
            3807.11,
            290.01,
            253.48,
            15.06,
            6781.02,
            2622.25,
            238.66,
            285.2,
            2200.26,
            5034.45,
            1792.6,
            47.48,
            82.65,
            58.58,
            2254.44,
            830.32,
            168.46,
            340.77,
            962.32,
            298.95,
            3763.54,
            157.3,
            63.65,
            741.92,
            1558.99,
            457.51,
            519.3,
            1860.47,
            2666.66,
            17608.14
           ]
          }
         ],
         "name": "2014"
        },
        {
         "data": [
          {
           "coloraxis": "coloraxis",
           "geo": "geo",
           "hovertemplate": "<b>%{hovertext}</b><br><br>Year=2015<br>Country=%{location}<br>GDP=%{z}<extra></extra>",
           "hovertext": [
            "Australia",
            "Austria",
            "Belgium",
            "Brazil",
            "Canada",
            "Chile",
            "China",
            "Colombia",
            "Costa Rica",
            "Czechia",
            "Denmark",
            "Estonia",
            "Euro area",
            "Finland",
            "France",
            "Germany",
            "Greece",
            "Hungary",
            "Iceland",
            "India",
            "Indonesia",
            "Ireland",
            "Israel",
            "Italy",
            "Japan",
            "Korea",
            "Latvia",
            "Lithuania",
            "Luxembourg",
            "Mexico",
            "Netherlands",
            "New Zealand",
            "Norway",
            "Poland",
            "Portugal",
            "Russia",
            "Slovak Republic",
            "Slovenia",
            "South Africa",
            "Spain",
            "Sweden",
            "Switzerland",
            "Türkiye",
            "United Kingdom",
            "United States"
           ],
           "locationmode": "country names",
           "locations": [
            "Australia",
            "Austria",
            "Belgium",
            "Brazil",
            "Canada",
            "Chile",
            "China",
            "Colombia",
            "Costa Rica",
            "Czechia",
            "Denmark",
            "Estonia",
            "Euro area",
            "Finland",
            "France",
            "Germany",
            "Greece",
            "Hungary",
            "Iceland",
            "India",
            "Indonesia",
            "Ireland",
            "Israel",
            "Italy",
            "Japan",
            "Korea",
            "Latvia",
            "Lithuania",
            "Luxembourg",
            "Mexico",
            "Netherlands",
            "New Zealand",
            "Norway",
            "Poland",
            "Portugal",
            "Russia",
            "Slovak Republic",
            "Slovenia",
            "South Africa",
            "Spain",
            "Sweden",
            "Switzerland",
            "Türkiye",
            "United Kingdom",
            "United States"
           ],
           "name": "",
           "type": "choropleth",
           "z": [
            1125.7,
            430.98,
            520.88,
            3014.75,
            1594.85,
            405.5,
            17796.75,
            624.12,
            85.24,
            357.5,
            278.75,
            38.38,
            13934.14,
            232.87,
            2718.5,
            3889.08,
            289.57,
            263.78,
            16.28,
            7159.8,
            2647.71,
            325.44,
            299.86,
            2240.92,
            5199.92,
            1933.59,
            49.38,
            83.76,
            61.44,
            2309.02,
            851.88,
            172.8,
            315.15,
            1018.9,
            307.23,
            3526.23,
            163.01,
            65.27,
            758.9,
            1621.83,
            481.17,
            540.55,
            2022.4,
            2767.23,
            18295.02
           ]
          }
         ],
         "name": "2015"
        },
        {
         "data": [
          {
           "coloraxis": "coloraxis",
           "geo": "geo",
           "hovertemplate": "<b>%{hovertext}</b><br><br>Year=2016<br>Country=%{location}<br>GDP=%{z}<extra></extra>",
           "hovertext": [
            "Australia",
            "Austria",
            "Belgium",
            "Brazil",
            "Canada",
            "Chile",
            "China",
            "Colombia",
            "Costa Rica",
            "Czechia",
            "Denmark",
            "Estonia",
            "Euro area",
            "Finland",
            "France",
            "Germany",
            "Greece",
            "Hungary",
            "Iceland",
            "India",
            "Indonesia",
            "Ireland",
            "Israel",
            "Italy",
            "Japan",
            "Korea",
            "Latvia",
            "Lithuania",
            "Luxembourg",
            "Mexico",
            "Netherlands",
            "New Zealand",
            "Norway",
            "Poland",
            "Portugal",
            "Russia",
            "Slovak Republic",
            "Slovenia",
            "South Africa",
            "Spain",
            "Sweden",
            "Switzerland",
            "Türkiye",
            "United Kingdom",
            "United States"
           ],
           "locationmode": "country names",
           "locations": [
            "Australia",
            "Austria",
            "Belgium",
            "Brazil",
            "Canada",
            "Chile",
            "China",
            "Colombia",
            "Costa Rica",
            "Czechia",
            "Denmark",
            "Estonia",
            "Euro area",
            "Finland",
            "France",
            "Germany",
            "Greece",
            "Hungary",
            "Iceland",
            "India",
            "Indonesia",
            "Ireland",
            "Israel",
            "Italy",
            "Japan",
            "Korea",
            "Latvia",
            "Lithuania",
            "Luxembourg",
            "Mexico",
            "Netherlands",
            "New Zealand",
            "Norway",
            "Poland",
            "Portugal",
            "Russia",
            "Slovak Republic",
            "Slovenia",
            "South Africa",
            "Spain",
            "Sweden",
            "Switzerland",
            "Türkiye",
            "United Kingdom",
            "United States"
           ],
           "name": "",
           "type": "choropleth",
           "z": [
            1213.23,
            460.28,
            550.68,
            2939.09,
            1678.09,
            424.83,
            18712.1,
            665.4,
            93.45,
            381.42,
            297.72,
            41.2,
            14823.34,
            246.93,
            2864.11,
            4165.17,
            296.47,
            274.22,
            17.94,
            7735,
            2744.9,
            339.58,
            325.37,
            2420.67,
            5158.9,
            2026.97,
            52.36,
            88.7,
            65.98,
            2457.81,
            890.49,
            188.31,
            310.3,
            1069.46,
            326.36,
            3538.98,
            161.5,
            70.08,
            772.77,
            1734.12,
            500.42,
            563.95,
            2116.4,
            2892.3,
            18804.91
           ]
          }
         ],
         "name": "2016"
        },
        {
         "data": [
          {
           "coloraxis": "coloraxis",
           "geo": "geo",
           "hovertemplate": "<b>%{hovertext}</b><br><br>Year=2017<br>Country=%{location}<br>GDP=%{z}<extra></extra>",
           "hovertext": [
            "Australia",
            "Austria",
            "Belgium",
            "Brazil",
            "Canada",
            "Chile",
            "China",
            "Colombia",
            "Costa Rica",
            "Czechia",
            "Denmark",
            "Estonia",
            "Euro area",
            "Finland",
            "France",
            "Germany",
            "Greece",
            "Hungary",
            "Iceland",
            "India",
            "Indonesia",
            "Ireland",
            "Israel",
            "Italy",
            "Japan",
            "Korea",
            "Latvia",
            "Lithuania",
            "Luxembourg",
            "Mexico",
            "Netherlands",
            "New Zealand",
            "Norway",
            "Poland",
            "Portugal",
            "Russia",
            "Slovak Republic",
            "Slovenia",
            "South Africa",
            "Spain",
            "Sweden",
            "Switzerland",
            "Türkiye",
            "United Kingdom",
            "United States"
           ],
           "locationmode": "country names",
           "locations": [
            "Australia",
            "Austria",
            "Belgium",
            "Brazil",
            "Canada",
            "Chile",
            "China",
            "Colombia",
            "Costa Rica",
            "Czechia",
            "Denmark",
            "Estonia",
            "Euro area",
            "Finland",
            "France",
            "Germany",
            "Greece",
            "Hungary",
            "Iceland",
            "India",
            "Indonesia",
            "Ireland",
            "Israel",
            "Italy",
            "Japan",
            "Korea",
            "Latvia",
            "Lithuania",
            "Luxembourg",
            "Mexico",
            "Netherlands",
            "New Zealand",
            "Norway",
            "Poland",
            "Portugal",
            "Russia",
            "Slovak Republic",
            "Slovenia",
            "South Africa",
            "Spain",
            "Sweden",
            "Switzerland",
            "Türkiye",
            "United Kingdom",
            "United States"
           ],
           "name": "",
           "type": "choropleth",
           "z": [
            1248.37,
            476.59,
            573.79,
            3017.72,
            1765.76,
            450.89,
            19887.04,
            693.12,
            100.72,
            411.33,
            319.13,
            44.56,
            15566.8,
            262.03,
            2983.01,
            4386.73,
            307.64,
            288.71,
            19.11,
            8276.93,
            2894.13,
            375.79,
            342.75,
            2517.18,
            5262.25,
            2103.65,
            55.69,
            95.49,
            68.57,
            2528.31,
            943.74,
            203.17,
            340.84,
            1137.65,
            340.37,
            3807.1,
            163.95,
            75.44,
            790.17,
            1842.77,
            522.48,
            576.36,
            2264.27,
            3041.89,
            19612.1
           ]
          }
         ],
         "name": "2017"
        },
        {
         "data": [
          {
           "coloraxis": "coloraxis",
           "geo": "geo",
           "hovertemplate": "<b>%{hovertext}</b><br><br>Year=2018<br>Country=%{location}<br>GDP=%{z}<extra></extra>",
           "hovertext": [
            "Australia",
            "Austria",
            "Belgium",
            "Brazil",
            "Canada",
            "Chile",
            "China",
            "Colombia",
            "Costa Rica",
            "Czechia",
            "Denmark",
            "Estonia",
            "Euro area",
            "Finland",
            "France",
            "Germany",
            "Greece",
            "Hungary",
            "Iceland",
            "India",
            "Indonesia",
            "Ireland",
            "Israel",
            "Italy",
            "Japan",
            "Korea",
            "Latvia",
            "Lithuania",
            "Luxembourg",
            "Mexico",
            "Netherlands",
            "New Zealand",
            "Norway",
            "Poland",
            "Portugal",
            "Russia",
            "Slovak Republic",
            "Slovenia",
            "South Africa",
            "Spain",
            "Sweden",
            "Switzerland",
            "Türkiye",
            "United Kingdom",
            "United States"
           ],
           "locationmode": "country names",
           "locations": [
            "Australia",
            "Austria",
            "Belgium",
            "Brazil",
            "Canada",
            "Chile",
            "China",
            "Colombia",
            "Costa Rica",
            "Czechia",
            "Denmark",
            "Estonia",
            "Euro area",
            "Finland",
            "France",
            "Germany",
            "Greece",
            "Hungary",
            "Iceland",
            "India",
            "Indonesia",
            "Ireland",
            "Israel",
            "Italy",
            "Japan",
            "Korea",
            "Latvia",
            "Lithuania",
            "Luxembourg",
            "Mexico",
            "Netherlands",
            "New Zealand",
            "Norway",
            "Poland",
            "Portugal",
            "Russia",
            "Slovak Republic",
            "Slovenia",
            "South Africa",
            "Spain",
            "Sweden",
            "Switzerland",
            "Türkiye",
            "United Kingdom",
            "United States"
           ],
           "name": "",
           "type": "choropleth",
           "z": [
            1326.2,
            503.36,
            600.27,
            3146.42,
            1852.99,
            478.09,
            21739.73,
            747.1,
            106.58,
            437.36,
            333.04,
            48.13,
            16260.92,
            273.46,
            3125.38,
            4576.06,
            317.88,
            311.93,
            20.17,
            9022.94,
            3117.05,
            413.32,
            355.91,
            2600.33,
            5344.06,
            2220.44,
            59.51,
            101.91,
            70.83,
            2606.27,
            996.45,
            208.27,
            373.18,
            1216.24,
            359.2,
            4231.84,
            170.86,
            80.82,
            821.76,
            1905.45,
            544.59,
            601.87,
            2303.77,
            3129.65,
            20656.52
           ]
          }
         ],
         "name": "2018"
        },
        {
         "data": [
          {
           "coloraxis": "coloraxis",
           "geo": "geo",
           "hovertemplate": "<b>%{hovertext}</b><br><br>Year=2019<br>Country=%{location}<br>GDP=%{z}<extra></extra>",
           "hovertext": [
            "Australia",
            "Austria",
            "Belgium",
            "Brazil",
            "Canada",
            "Chile",
            "China",
            "Colombia",
            "Costa Rica",
            "Czechia",
            "Denmark",
            "Estonia",
            "Euro area",
            "Finland",
            "France",
            "Germany",
            "Greece",
            "Hungary",
            "Iceland",
            "India",
            "Indonesia",
            "Ireland",
            "Israel",
            "Italy",
            "Japan",
            "Korea",
            "Latvia",
            "Lithuania",
            "Luxembourg",
            "Mexico",
            "Netherlands",
            "New Zealand",
            "Norway",
            "Poland",
            "Portugal",
            "Russia",
            "Slovak Republic",
            "Slovenia",
            "South Africa",
            "Spain",
            "Sweden",
            "Switzerland",
            "Türkiye",
            "United Kingdom",
            "United States"
           ],
           "locationmode": "country names",
           "locations": [
            "Australia",
            "Austria",
            "Belgium",
            "Brazil",
            "Canada",
            "Chile",
            "China",
            "Colombia",
            "Costa Rica",
            "Czechia",
            "Denmark",
            "Estonia",
            "Euro area",
            "Finland",
            "France",
            "Germany",
            "Greece",
            "Hungary",
            "Iceland",
            "India",
            "Indonesia",
            "Ireland",
            "Israel",
            "Italy",
            "Japan",
            "Korea",
            "Latvia",
            "Lithuania",
            "Luxembourg",
            "Mexico",
            "Netherlands",
            "New Zealand",
            "Norway",
            "Poland",
            "Portugal",
            "Russia",
            "Slovak Republic",
            "Slovenia",
            "South Africa",
            "Spain",
            "Sweden",
            "Switzerland",
            "Türkiye",
            "United Kingdom",
            "United States"
           ],
           "name": "",
           "type": "choropleth",
           "z": [
            1360.01,
            537.9,
            650.52,
            3241.96,
            1899.69,
            492.24,
            23446.56,
            807.59,
            116.69,
            478.74,
            353.44,
            52.87,
            17490.2,
            290.27,
            3452.96,
            4840.31,
            338.92,
            343.48,
            21.82,
            9540.39,
            3332.23,
            448.73,
            373.23,
            2775.61,
            5404.46,
            2270.67,
            63.72,
            113.38,
            75.27,
            2638.76,
            1059.59,
            224.88,
            379.38,
            1347.32,
            389.29,
            4398.12,
            185.13,
            89.27,
            838.68,
            2061.66,
            588.26,
            632.27,
            2350.31,
            3335.88,
            21521.4
           ]
          }
         ],
         "name": "2019"
        },
        {
         "data": [
          {
           "coloraxis": "coloraxis",
           "geo": "geo",
           "hovertemplate": "<b>%{hovertext}</b><br><br>Year=2020<br>Country=%{location}<br>GDP=%{z}<extra></extra>",
           "hovertext": [
            "Australia",
            "Austria",
            "Belgium",
            "Brazil",
            "Canada",
            "Chile",
            "China",
            "Colombia",
            "Costa Rica",
            "Czechia",
            "Denmark",
            "Estonia",
            "Euro area",
            "Finland",
            "France",
            "Germany",
            "Greece",
            "Hungary",
            "Iceland",
            "India",
            "Indonesia",
            "Ireland",
            "Israel",
            "Italy",
            "Japan",
            "Korea",
            "Latvia",
            "Lithuania",
            "Luxembourg",
            "Mexico",
            "Netherlands",
            "New Zealand",
            "Norway",
            "Poland",
            "Portugal",
            "Russia",
            "Slovak Republic",
            "Slovenia",
            "South Africa",
            "Spain",
            "Sweden",
            "Switzerland",
            "Türkiye",
            "United Kingdom",
            "United States"
           ],
           "locationmode": "country names",
           "locations": [
            "Australia",
            "Austria",
            "Belgium",
            "Brazil",
            "Canada",
            "Chile",
            "China",
            "Colombia",
            "Costa Rica",
            "Czechia",
            "Denmark",
            "Estonia",
            "Euro area",
            "Finland",
            "France",
            "Germany",
            "Greece",
            "Hungary",
            "Iceland",
            "India",
            "Indonesia",
            "Ireland",
            "Israel",
            "Italy",
            "Japan",
            "Korea",
            "Latvia",
            "Lithuania",
            "Luxembourg",
            "Mexico",
            "Netherlands",
            "New Zealand",
            "Norway",
            "Poland",
            "Portugal",
            "Russia",
            "Slovak Republic",
            "Slovenia",
            "South Africa",
            "Spain",
            "Sweden",
            "Switzerland",
            "Türkiye",
            "United Kingdom",
            "United States"
           ],
           "name": "",
           "type": "choropleth",
           "z": [
            1459.58,
            522.62,
            643.35,
            3176.65,
            1847.84,
            491.48,
            24284.24,
            785.74,
            111.26,
            469.88,
            364.63,
            53.24,
            16976.27,
            296.76,
            3344.39,
            4815.44,
            311.2,
            341.41,
            20.39,
            9101.32,
            3305.99,
            483.91,
            378.29,
            2627.33,
            5358.32,
            2340.03,
            64.11,
            115.06,
            76.98,
            2453.58,
            1065.12,
            230.5,
            361.02,
            1376.57,
            369.41,
            4367.29,
            191.06,
            88.39,
            798.96,
            1845.71,
            597.29,
            630.57,
            2391.49,
            3220.3,
            21322.95
           ]
          }
         ],
         "name": "2020"
        },
        {
         "data": [
          {
           "coloraxis": "coloraxis",
           "geo": "geo",
           "hovertemplate": "<b>%{hovertext}</b><br><br>Year=2021<br>Country=%{location}<br>GDP=%{z}<extra></extra>",
           "hovertext": [
            "Australia",
            "Austria",
            "Belgium",
            "Brazil",
            "Canada",
            "Chile",
            "China",
            "Colombia",
            "Costa Rica",
            "Czechia",
            "Denmark",
            "Estonia",
            "Euro area",
            "Finland",
            "France",
            "Germany",
            "Greece",
            "Hungary",
            "Iceland",
            "India",
            "Indonesia",
            "Ireland",
            "Israel",
            "Italy",
            "Japan",
            "Korea",
            "Latvia",
            "Lithuania",
            "Luxembourg",
            "Mexico",
            "Netherlands",
            "New Zealand",
            "Norway",
            "Poland",
            "Portugal",
            "Russia",
            "Slovak Republic",
            "Slovenia",
            "South Africa",
            "Spain",
            "Sweden",
            "Switzerland",
            "Türkiye",
            "United Kingdom",
            "United States"
           ],
           "locationmode": "country names",
           "locations": [
            "Australia",
            "Austria",
            "Belgium",
            "Brazil",
            "Canada",
            "Chile",
            "China",
            "Colombia",
            "Costa Rica",
            "Czechia",
            "Denmark",
            "Estonia",
            "Euro area",
            "Finland",
            "France",
            "Germany",
            "Greece",
            "Hungary",
            "Iceland",
            "India",
            "Indonesia",
            "Ireland",
            "Israel",
            "Italy",
            "Japan",
            "Korea",
            "Latvia",
            "Lithuania",
            "Luxembourg",
            "Mexico",
            "Netherlands",
            "New Zealand",
            "Norway",
            "Poland",
            "Portugal",
            "Russia",
            "Slovak Republic",
            "Slovenia",
            "South Africa",
            "Spain",
            "Sweden",
            "Switzerland",
            "Türkiye",
            "United Kingdom",
            "United States"
           ],
           "name": "",
           "type": "choropleth",
           "z": [
            1646.96,
            567.99,
            719.59,
            null,
            2133.08,
            568.19,
            27519.11,
            906.03,
            122.15,
            508.67,
            409.26,
            59.43,
            18662.55,
            320.21,
            3648.08,
            5153.14,
            348.98,
            375.23,
            22.9,
            10370.92,
            3582.45,
            574.39,
            433.32,
            2950.84,
            5599.03,
            2514.52,
            69.31,
            129.99,
            88.3,
            2677.52,
            1186.87,
            246.33,
            482.47,
            1527.35,
            401.86,
            null,
            205.88,
            98.03,
            874.12,
            2068.3,
            660.1,
            710.32,
            2662.21,
            3541.78,
            23594.03
           ]
          }
         ],
         "name": "2021"
        },
        {
         "data": [
          {
           "coloraxis": "coloraxis",
           "geo": "geo",
           "hovertemplate": "<b>%{hovertext}</b><br><br>Year=2022<br>Country=%{location}<br>GDP=%{z}<extra></extra>",
           "hovertext": [
            "Australia",
            "Austria",
            "Belgium",
            "Brazil",
            "Canada",
            "Chile",
            "China",
            "Colombia",
            "Costa Rica",
            "Czechia",
            "Denmark",
            "Estonia",
            "Euro area",
            "Finland",
            "France",
            "Germany",
            "Greece",
            "Hungary",
            "Iceland",
            "India",
            "Indonesia",
            "Ireland",
            "Israel",
            "Italy",
            "Japan",
            "Korea",
            "Latvia",
            "Lithuania",
            "Luxembourg",
            "Mexico",
            "Netherlands",
            "New Zealand",
            "Norway",
            "Poland",
            "Portugal",
            "Russia",
            "Slovak Republic",
            "Slovenia",
            "South Africa",
            "Spain",
            "Sweden",
            "Switzerland",
            "Türkiye",
            "United Kingdom",
            "United States"
           ],
           "locationmode": "country names",
           "locations": [
            "Australia",
            "Austria",
            "Belgium",
            "Brazil",
            "Canada",
            "Chile",
            "China",
            "Colombia",
            "Costa Rica",
            "Czechia",
            "Denmark",
            "Estonia",
            "Euro area",
            "Finland",
            "France",
            "Germany",
            "Greece",
            "Hungary",
            "Iceland",
            "India",
            "Indonesia",
            "Ireland",
            "Israel",
            "Italy",
            "Japan",
            "Korea",
            "Latvia",
            "Lithuania",
            "Luxembourg",
            "Mexico",
            "Netherlands",
            "New Zealand",
            "Norway",
            "Poland",
            "Portugal",
            "Russia",
            "Slovak Republic",
            "Slovenia",
            "South Africa",
            "Spain",
            "Sweden",
            "Switzerland",
            "Türkiye",
            "United Kingdom",
            "United States"
           ],
           "name": "",
           "type": "choropleth",
           "z": [
            1866.63,
            641.75,
            797.6,
            null,
            2415.84,
            616.27,
            30199.68,
            1092.24,
            135.64,
            551.77,
            460.16,
            64.67,
            20571.23,
            347.81,
            3914.74,
            5582.29,
            405.84,
            421.01,
            27.44,
            null,
            4038.17,
            686.13,
            498.27,
            3295.26,
            5895.69,
            2667.44,
            77.25,
            144.33,
            95.65,
            3042.14,
            1319.46,
            267.11,
            678.06,
            1716.25,
            463.07,
            null,
            222.77,
            108.31,
            953.54,
            2326.11,
            714.04,
            796.37,
            3259.42,
            3847.92,
            25744.11
           ]
          }
         ],
         "name": "2022"
        },
        {
         "data": [
          {
           "coloraxis": "coloraxis",
           "geo": "geo",
           "hovertemplate": "<b>%{hovertext}</b><br><br>Year=2023<br>Country=%{location}<br>GDP=%{z}<extra></extra>",
           "hovertext": [
            "Australia",
            "Austria",
            "Belgium",
            "Brazil",
            "Canada",
            "Chile",
            "China",
            "Colombia",
            "Costa Rica",
            "Czechia",
            "Denmark",
            "Estonia",
            "Euro area",
            "Finland",
            "France",
            "Germany",
            "Greece",
            "Hungary",
            "Iceland",
            "India",
            "Indonesia",
            "Ireland",
            "Israel",
            "Italy",
            "Japan",
            "Korea",
            "Latvia",
            "Lithuania",
            "Luxembourg",
            "Mexico",
            "Netherlands",
            "New Zealand",
            "Norway",
            "Poland",
            "Portugal",
            "Russia",
            "Slovak Republic",
            "Slovenia",
            "South Africa",
            "Spain",
            "Sweden",
            "Switzerland",
            "Türkiye",
            "United Kingdom",
            "United States"
           ],
           "locationmode": "country names",
           "locations": [
            "Australia",
            "Austria",
            "Belgium",
            "Brazil",
            "Canada",
            "Chile",
            "China",
            "Colombia",
            "Costa Rica",
            "Czechia",
            "Denmark",
            "Estonia",
            "Euro area",
            "Finland",
            "France",
            "Germany",
            "Greece",
            "Hungary",
            "Iceland",
            "India",
            "Indonesia",
            "Ireland",
            "Israel",
            "Italy",
            "Japan",
            "Korea",
            "Latvia",
            "Lithuania",
            "Luxembourg",
            "Mexico",
            "Netherlands",
            "New Zealand",
            "Norway",
            "Poland",
            "Portugal",
            "Russia",
            "Slovak Republic",
            "Slovenia",
            "South Africa",
            "Spain",
            "Sweden",
            "Switzerland",
            "Türkiye",
            "United Kingdom",
            "United States"
           ],
           "name": "",
           "type": "choropleth",
           "z": [
            null,
            668.88,
            823.42,
            null,
            2542.62,
            null,
            32775.12,
            null,
            null,
            579.6,
            453.16,
            66.34,
            21494.53,
            360.08,
            4134.31,
            5797.39,
            422.52,
            436.56,
            null,
            null,
            4378.31,
            667.74,
            528.68,
            3424.22,
            null,
            null,
            79.39,
            148.23,
            95.37,
            null,
            1390.38,
            null,
            700.82,
            1789.87,
            507.84,
            null,
            238.98,
            115.46,
            null,
            2544.51,
            733.04,
            831.81,
            null,
            3990.98,
            null
           ]
          }
         ],
         "name": "2023"
        }
       ],
       "layout": {
        "coloraxis": {
         "colorbar": {
          "title": {
           "text": "GDP"
          }
         },
         "colorscale": [
          [
           0,
           "rgb(255,255,217)"
          ],
          [
           0.125,
           "rgb(237,248,177)"
          ],
          [
           0.25,
           "rgb(199,233,180)"
          ],
          [
           0.375,
           "rgb(127,205,187)"
          ],
          [
           0.5,
           "rgb(65,182,196)"
          ],
          [
           0.625,
           "rgb(29,145,192)"
          ],
          [
           0.75,
           "rgb(34,94,168)"
          ],
          [
           0.875,
           "rgb(37,52,148)"
          ],
          [
           1,
           "rgb(8,29,88)"
          ]
         ]
        },
        "geo": {
         "center": {},
         "domain": {
          "x": [
           0,
           1
          ],
          "y": [
           0,
           1
          ]
         }
        },
        "legend": {
         "tracegroupgap": 0
        },
        "sliders": [
         {
          "active": 0,
          "currentvalue": {
           "prefix": "Year="
          },
          "len": 0.9,
          "pad": {
           "b": 10,
           "t": 60
          },
          "steps": [
           {
            "args": [
             [
              "2000"
             ],
             {
              "frame": {
               "duration": 0,
               "redraw": true
              },
              "fromcurrent": true,
              "mode": "immediate",
              "transition": {
               "duration": 0,
               "easing": "linear"
              }
             }
            ],
            "label": "2000",
            "method": "animate"
           },
           {
            "args": [
             [
              "2001"
             ],
             {
              "frame": {
               "duration": 0,
               "redraw": true
              },
              "fromcurrent": true,
              "mode": "immediate",
              "transition": {
               "duration": 0,
               "easing": "linear"
              }
             }
            ],
            "label": "2001",
            "method": "animate"
           },
           {
            "args": [
             [
              "2002"
             ],
             {
              "frame": {
               "duration": 0,
               "redraw": true
              },
              "fromcurrent": true,
              "mode": "immediate",
              "transition": {
               "duration": 0,
               "easing": "linear"
              }
             }
            ],
            "label": "2002",
            "method": "animate"
           },
           {
            "args": [
             [
              "2003"
             ],
             {
              "frame": {
               "duration": 0,
               "redraw": true
              },
              "fromcurrent": true,
              "mode": "immediate",
              "transition": {
               "duration": 0,
               "easing": "linear"
              }
             }
            ],
            "label": "2003",
            "method": "animate"
           },
           {
            "args": [
             [
              "2004"
             ],
             {
              "frame": {
               "duration": 0,
               "redraw": true
              },
              "fromcurrent": true,
              "mode": "immediate",
              "transition": {
               "duration": 0,
               "easing": "linear"
              }
             }
            ],
            "label": "2004",
            "method": "animate"
           },
           {
            "args": [
             [
              "2005"
             ],
             {
              "frame": {
               "duration": 0,
               "redraw": true
              },
              "fromcurrent": true,
              "mode": "immediate",
              "transition": {
               "duration": 0,
               "easing": "linear"
              }
             }
            ],
            "label": "2005",
            "method": "animate"
           },
           {
            "args": [
             [
              "2006"
             ],
             {
              "frame": {
               "duration": 0,
               "redraw": true
              },
              "fromcurrent": true,
              "mode": "immediate",
              "transition": {
               "duration": 0,
               "easing": "linear"
              }
             }
            ],
            "label": "2006",
            "method": "animate"
           },
           {
            "args": [
             [
              "2007"
             ],
             {
              "frame": {
               "duration": 0,
               "redraw": true
              },
              "fromcurrent": true,
              "mode": "immediate",
              "transition": {
               "duration": 0,
               "easing": "linear"
              }
             }
            ],
            "label": "2007",
            "method": "animate"
           },
           {
            "args": [
             [
              "2008"
             ],
             {
              "frame": {
               "duration": 0,
               "redraw": true
              },
              "fromcurrent": true,
              "mode": "immediate",
              "transition": {
               "duration": 0,
               "easing": "linear"
              }
             }
            ],
            "label": "2008",
            "method": "animate"
           },
           {
            "args": [
             [
              "2009"
             ],
             {
              "frame": {
               "duration": 0,
               "redraw": true
              },
              "fromcurrent": true,
              "mode": "immediate",
              "transition": {
               "duration": 0,
               "easing": "linear"
              }
             }
            ],
            "label": "2009",
            "method": "animate"
           },
           {
            "args": [
             [
              "2010"
             ],
             {
              "frame": {
               "duration": 0,
               "redraw": true
              },
              "fromcurrent": true,
              "mode": "immediate",
              "transition": {
               "duration": 0,
               "easing": "linear"
              }
             }
            ],
            "label": "2010",
            "method": "animate"
           },
           {
            "args": [
             [
              "2011"
             ],
             {
              "frame": {
               "duration": 0,
               "redraw": true
              },
              "fromcurrent": true,
              "mode": "immediate",
              "transition": {
               "duration": 0,
               "easing": "linear"
              }
             }
            ],
            "label": "2011",
            "method": "animate"
           },
           {
            "args": [
             [
              "2012"
             ],
             {
              "frame": {
               "duration": 0,
               "redraw": true
              },
              "fromcurrent": true,
              "mode": "immediate",
              "transition": {
               "duration": 0,
               "easing": "linear"
              }
             }
            ],
            "label": "2012",
            "method": "animate"
           },
           {
            "args": [
             [
              "2013"
             ],
             {
              "frame": {
               "duration": 0,
               "redraw": true
              },
              "fromcurrent": true,
              "mode": "immediate",
              "transition": {
               "duration": 0,
               "easing": "linear"
              }
             }
            ],
            "label": "2013",
            "method": "animate"
           },
           {
            "args": [
             [
              "2014"
             ],
             {
              "frame": {
               "duration": 0,
               "redraw": true
              },
              "fromcurrent": true,
              "mode": "immediate",
              "transition": {
               "duration": 0,
               "easing": "linear"
              }
             }
            ],
            "label": "2014",
            "method": "animate"
           },
           {
            "args": [
             [
              "2015"
             ],
             {
              "frame": {
               "duration": 0,
               "redraw": true
              },
              "fromcurrent": true,
              "mode": "immediate",
              "transition": {
               "duration": 0,
               "easing": "linear"
              }
             }
            ],
            "label": "2015",
            "method": "animate"
           },
           {
            "args": [
             [
              "2016"
             ],
             {
              "frame": {
               "duration": 0,
               "redraw": true
              },
              "fromcurrent": true,
              "mode": "immediate",
              "transition": {
               "duration": 0,
               "easing": "linear"
              }
             }
            ],
            "label": "2016",
            "method": "animate"
           },
           {
            "args": [
             [
              "2017"
             ],
             {
              "frame": {
               "duration": 0,
               "redraw": true
              },
              "fromcurrent": true,
              "mode": "immediate",
              "transition": {
               "duration": 0,
               "easing": "linear"
              }
             }
            ],
            "label": "2017",
            "method": "animate"
           },
           {
            "args": [
             [
              "2018"
             ],
             {
              "frame": {
               "duration": 0,
               "redraw": true
              },
              "fromcurrent": true,
              "mode": "immediate",
              "transition": {
               "duration": 0,
               "easing": "linear"
              }
             }
            ],
            "label": "2018",
            "method": "animate"
           },
           {
            "args": [
             [
              "2019"
             ],
             {
              "frame": {
               "duration": 0,
               "redraw": true
              },
              "fromcurrent": true,
              "mode": "immediate",
              "transition": {
               "duration": 0,
               "easing": "linear"
              }
             }
            ],
            "label": "2019",
            "method": "animate"
           },
           {
            "args": [
             [
              "2020"
             ],
             {
              "frame": {
               "duration": 0,
               "redraw": true
              },
              "fromcurrent": true,
              "mode": "immediate",
              "transition": {
               "duration": 0,
               "easing": "linear"
              }
             }
            ],
            "label": "2020",
            "method": "animate"
           },
           {
            "args": [
             [
              "2021"
             ],
             {
              "frame": {
               "duration": 0,
               "redraw": true
              },
              "fromcurrent": true,
              "mode": "immediate",
              "transition": {
               "duration": 0,
               "easing": "linear"
              }
             }
            ],
            "label": "2021",
            "method": "animate"
           },
           {
            "args": [
             [
              "2022"
             ],
             {
              "frame": {
               "duration": 0,
               "redraw": true
              },
              "fromcurrent": true,
              "mode": "immediate",
              "transition": {
               "duration": 0,
               "easing": "linear"
              }
             }
            ],
            "label": "2022",
            "method": "animate"
           },
           {
            "args": [
             [
              "2023"
             ],
             {
              "frame": {
               "duration": 0,
               "redraw": true
              },
              "fromcurrent": true,
              "mode": "immediate",
              "transition": {
               "duration": 0,
               "easing": "linear"
              }
             }
            ],
            "label": "2023",
            "method": "animate"
           }
          ],
          "x": 0.1,
          "xanchor": "left",
          "y": 0,
          "yanchor": "top"
         }
        ],
        "template": {
         "data": {
          "bar": [
           {
            "error_x": {
             "color": "#2a3f5f"
            },
            "error_y": {
             "color": "#2a3f5f"
            },
            "marker": {
             "line": {
              "color": "#E5ECF6",
              "width": 0.5
             },
             "pattern": {
              "fillmode": "overlay",
              "size": 10,
              "solidity": 0.2
             }
            },
            "type": "bar"
           }
          ],
          "barpolar": [
           {
            "marker": {
             "line": {
              "color": "#E5ECF6",
              "width": 0.5
             },
             "pattern": {
              "fillmode": "overlay",
              "size": 10,
              "solidity": 0.2
             }
            },
            "type": "barpolar"
           }
          ],
          "carpet": [
           {
            "aaxis": {
             "endlinecolor": "#2a3f5f",
             "gridcolor": "white",
             "linecolor": "white",
             "minorgridcolor": "white",
             "startlinecolor": "#2a3f5f"
            },
            "baxis": {
             "endlinecolor": "#2a3f5f",
             "gridcolor": "white",
             "linecolor": "white",
             "minorgridcolor": "white",
             "startlinecolor": "#2a3f5f"
            },
            "type": "carpet"
           }
          ],
          "choropleth": [
           {
            "colorbar": {
             "outlinewidth": 0,
             "ticks": ""
            },
            "type": "choropleth"
           }
          ],
          "contour": [
           {
            "colorbar": {
             "outlinewidth": 0,
             "ticks": ""
            },
            "colorscale": [
             [
              0,
              "#0d0887"
             ],
             [
              0.1111111111111111,
              "#46039f"
             ],
             [
              0.2222222222222222,
              "#7201a8"
             ],
             [
              0.3333333333333333,
              "#9c179e"
             ],
             [
              0.4444444444444444,
              "#bd3786"
             ],
             [
              0.5555555555555556,
              "#d8576b"
             ],
             [
              0.6666666666666666,
              "#ed7953"
             ],
             [
              0.7777777777777778,
              "#fb9f3a"
             ],
             [
              0.8888888888888888,
              "#fdca26"
             ],
             [
              1,
              "#f0f921"
             ]
            ],
            "type": "contour"
           }
          ],
          "contourcarpet": [
           {
            "colorbar": {
             "outlinewidth": 0,
             "ticks": ""
            },
            "type": "contourcarpet"
           }
          ],
          "heatmap": [
           {
            "colorbar": {
             "outlinewidth": 0,
             "ticks": ""
            },
            "colorscale": [
             [
              0,
              "#0d0887"
             ],
             [
              0.1111111111111111,
              "#46039f"
             ],
             [
              0.2222222222222222,
              "#7201a8"
             ],
             [
              0.3333333333333333,
              "#9c179e"
             ],
             [
              0.4444444444444444,
              "#bd3786"
             ],
             [
              0.5555555555555556,
              "#d8576b"
             ],
             [
              0.6666666666666666,
              "#ed7953"
             ],
             [
              0.7777777777777778,
              "#fb9f3a"
             ],
             [
              0.8888888888888888,
              "#fdca26"
             ],
             [
              1,
              "#f0f921"
             ]
            ],
            "type": "heatmap"
           }
          ],
          "heatmapgl": [
           {
            "colorbar": {
             "outlinewidth": 0,
             "ticks": ""
            },
            "colorscale": [
             [
              0,
              "#0d0887"
             ],
             [
              0.1111111111111111,
              "#46039f"
             ],
             [
              0.2222222222222222,
              "#7201a8"
             ],
             [
              0.3333333333333333,
              "#9c179e"
             ],
             [
              0.4444444444444444,
              "#bd3786"
             ],
             [
              0.5555555555555556,
              "#d8576b"
             ],
             [
              0.6666666666666666,
              "#ed7953"
             ],
             [
              0.7777777777777778,
              "#fb9f3a"
             ],
             [
              0.8888888888888888,
              "#fdca26"
             ],
             [
              1,
              "#f0f921"
             ]
            ],
            "type": "heatmapgl"
           }
          ],
          "histogram": [
           {
            "marker": {
             "pattern": {
              "fillmode": "overlay",
              "size": 10,
              "solidity": 0.2
             }
            },
            "type": "histogram"
           }
          ],
          "histogram2d": [
           {
            "colorbar": {
             "outlinewidth": 0,
             "ticks": ""
            },
            "colorscale": [
             [
              0,
              "#0d0887"
             ],
             [
              0.1111111111111111,
              "#46039f"
             ],
             [
              0.2222222222222222,
              "#7201a8"
             ],
             [
              0.3333333333333333,
              "#9c179e"
             ],
             [
              0.4444444444444444,
              "#bd3786"
             ],
             [
              0.5555555555555556,
              "#d8576b"
             ],
             [
              0.6666666666666666,
              "#ed7953"
             ],
             [
              0.7777777777777778,
              "#fb9f3a"
             ],
             [
              0.8888888888888888,
              "#fdca26"
             ],
             [
              1,
              "#f0f921"
             ]
            ],
            "type": "histogram2d"
           }
          ],
          "histogram2dcontour": [
           {
            "colorbar": {
             "outlinewidth": 0,
             "ticks": ""
            },
            "colorscale": [
             [
              0,
              "#0d0887"
             ],
             [
              0.1111111111111111,
              "#46039f"
             ],
             [
              0.2222222222222222,
              "#7201a8"
             ],
             [
              0.3333333333333333,
              "#9c179e"
             ],
             [
              0.4444444444444444,
              "#bd3786"
             ],
             [
              0.5555555555555556,
              "#d8576b"
             ],
             [
              0.6666666666666666,
              "#ed7953"
             ],
             [
              0.7777777777777778,
              "#fb9f3a"
             ],
             [
              0.8888888888888888,
              "#fdca26"
             ],
             [
              1,
              "#f0f921"
             ]
            ],
            "type": "histogram2dcontour"
           }
          ],
          "mesh3d": [
           {
            "colorbar": {
             "outlinewidth": 0,
             "ticks": ""
            },
            "type": "mesh3d"
           }
          ],
          "parcoords": [
           {
            "line": {
             "colorbar": {
              "outlinewidth": 0,
              "ticks": ""
             }
            },
            "type": "parcoords"
           }
          ],
          "pie": [
           {
            "automargin": true,
            "type": "pie"
           }
          ],
          "scatter": [
           {
            "fillpattern": {
             "fillmode": "overlay",
             "size": 10,
             "solidity": 0.2
            },
            "type": "scatter"
           }
          ],
          "scatter3d": [
           {
            "line": {
             "colorbar": {
              "outlinewidth": 0,
              "ticks": ""
             }
            },
            "marker": {
             "colorbar": {
              "outlinewidth": 0,
              "ticks": ""
             }
            },
            "type": "scatter3d"
           }
          ],
          "scattercarpet": [
           {
            "marker": {
             "colorbar": {
              "outlinewidth": 0,
              "ticks": ""
             }
            },
            "type": "scattercarpet"
           }
          ],
          "scattergeo": [
           {
            "marker": {
             "colorbar": {
              "outlinewidth": 0,
              "ticks": ""
             }
            },
            "type": "scattergeo"
           }
          ],
          "scattergl": [
           {
            "marker": {
             "colorbar": {
              "outlinewidth": 0,
              "ticks": ""
             }
            },
            "type": "scattergl"
           }
          ],
          "scattermapbox": [
           {
            "marker": {
             "colorbar": {
              "outlinewidth": 0,
              "ticks": ""
             }
            },
            "type": "scattermapbox"
           }
          ],
          "scatterpolar": [
           {
            "marker": {
             "colorbar": {
              "outlinewidth": 0,
              "ticks": ""
             }
            },
            "type": "scatterpolar"
           }
          ],
          "scatterpolargl": [
           {
            "marker": {
             "colorbar": {
              "outlinewidth": 0,
              "ticks": ""
             }
            },
            "type": "scatterpolargl"
           }
          ],
          "scatterternary": [
           {
            "marker": {
             "colorbar": {
              "outlinewidth": 0,
              "ticks": ""
             }
            },
            "type": "scatterternary"
           }
          ],
          "surface": [
           {
            "colorbar": {
             "outlinewidth": 0,
             "ticks": ""
            },
            "colorscale": [
             [
              0,
              "#0d0887"
             ],
             [
              0.1111111111111111,
              "#46039f"
             ],
             [
              0.2222222222222222,
              "#7201a8"
             ],
             [
              0.3333333333333333,
              "#9c179e"
             ],
             [
              0.4444444444444444,
              "#bd3786"
             ],
             [
              0.5555555555555556,
              "#d8576b"
             ],
             [
              0.6666666666666666,
              "#ed7953"
             ],
             [
              0.7777777777777778,
              "#fb9f3a"
             ],
             [
              0.8888888888888888,
              "#fdca26"
             ],
             [
              1,
              "#f0f921"
             ]
            ],
            "type": "surface"
           }
          ],
          "table": [
           {
            "cells": {
             "fill": {
              "color": "#EBF0F8"
             },
             "line": {
              "color": "white"
             }
            },
            "header": {
             "fill": {
              "color": "#C8D4E3"
             },
             "line": {
              "color": "white"
             }
            },
            "type": "table"
           }
          ]
         },
         "layout": {
          "annotationdefaults": {
           "arrowcolor": "#2a3f5f",
           "arrowhead": 0,
           "arrowwidth": 1
          },
          "autotypenumbers": "strict",
          "coloraxis": {
           "colorbar": {
            "outlinewidth": 0,
            "ticks": ""
           }
          },
          "colorscale": {
           "diverging": [
            [
             0,
             "#8e0152"
            ],
            [
             0.1,
             "#c51b7d"
            ],
            [
             0.2,
             "#de77ae"
            ],
            [
             0.3,
             "#f1b6da"
            ],
            [
             0.4,
             "#fde0ef"
            ],
            [
             0.5,
             "#f7f7f7"
            ],
            [
             0.6,
             "#e6f5d0"
            ],
            [
             0.7,
             "#b8e186"
            ],
            [
             0.8,
             "#7fbc41"
            ],
            [
             0.9,
             "#4d9221"
            ],
            [
             1,
             "#276419"
            ]
           ],
           "sequential": [
            [
             0,
             "#0d0887"
            ],
            [
             0.1111111111111111,
             "#46039f"
            ],
            [
             0.2222222222222222,
             "#7201a8"
            ],
            [
             0.3333333333333333,
             "#9c179e"
            ],
            [
             0.4444444444444444,
             "#bd3786"
            ],
            [
             0.5555555555555556,
             "#d8576b"
            ],
            [
             0.6666666666666666,
             "#ed7953"
            ],
            [
             0.7777777777777778,
             "#fb9f3a"
            ],
            [
             0.8888888888888888,
             "#fdca26"
            ],
            [
             1,
             "#f0f921"
            ]
           ],
           "sequentialminus": [
            [
             0,
             "#0d0887"
            ],
            [
             0.1111111111111111,
             "#46039f"
            ],
            [
             0.2222222222222222,
             "#7201a8"
            ],
            [
             0.3333333333333333,
             "#9c179e"
            ],
            [
             0.4444444444444444,
             "#bd3786"
            ],
            [
             0.5555555555555556,
             "#d8576b"
            ],
            [
             0.6666666666666666,
             "#ed7953"
            ],
            [
             0.7777777777777778,
             "#fb9f3a"
            ],
            [
             0.8888888888888888,
             "#fdca26"
            ],
            [
             1,
             "#f0f921"
            ]
           ]
          },
          "colorway": [
           "#636efa",
           "#EF553B",
           "#00cc96",
           "#ab63fa",
           "#FFA15A",
           "#19d3f3",
           "#FF6692",
           "#B6E880",
           "#FF97FF",
           "#FECB52"
          ],
          "font": {
           "color": "#2a3f5f"
          },
          "geo": {
           "bgcolor": "white",
           "lakecolor": "white",
           "landcolor": "#E5ECF6",
           "showlakes": true,
           "showland": true,
           "subunitcolor": "white"
          },
          "hoverlabel": {
           "align": "left"
          },
          "hovermode": "closest",
          "mapbox": {
           "style": "light"
          },
          "paper_bgcolor": "white",
          "plot_bgcolor": "#E5ECF6",
          "polar": {
           "angularaxis": {
            "gridcolor": "white",
            "linecolor": "white",
            "ticks": ""
           },
           "bgcolor": "#E5ECF6",
           "radialaxis": {
            "gridcolor": "white",
            "linecolor": "white",
            "ticks": ""
           }
          },
          "scene": {
           "xaxis": {
            "backgroundcolor": "#E5ECF6",
            "gridcolor": "white",
            "gridwidth": 2,
            "linecolor": "white",
            "showbackground": true,
            "ticks": "",
            "zerolinecolor": "white"
           },
           "yaxis": {
            "backgroundcolor": "#E5ECF6",
            "gridcolor": "white",
            "gridwidth": 2,
            "linecolor": "white",
            "showbackground": true,
            "ticks": "",
            "zerolinecolor": "white"
           },
           "zaxis": {
            "backgroundcolor": "#E5ECF6",
            "gridcolor": "white",
            "gridwidth": 2,
            "linecolor": "white",
            "showbackground": true,
            "ticks": "",
            "zerolinecolor": "white"
           }
          },
          "shapedefaults": {
           "line": {
            "color": "#2a3f5f"
           }
          },
          "ternary": {
           "aaxis": {
            "gridcolor": "white",
            "linecolor": "white",
            "ticks": ""
           },
           "baxis": {
            "gridcolor": "white",
            "linecolor": "white",
            "ticks": ""
           },
           "bgcolor": "#E5ECF6",
           "caxis": {
            "gridcolor": "white",
            "linecolor": "white",
            "ticks": ""
           }
          },
          "title": {
           "x": 0.05
          },
          "xaxis": {
           "automargin": true,
           "gridcolor": "white",
           "linecolor": "white",
           "ticks": "",
           "title": {
            "standoff": 15
           },
           "zerolinecolor": "white",
           "zerolinewidth": 2
          },
          "yaxis": {
           "automargin": true,
           "gridcolor": "white",
           "linecolor": "white",
           "ticks": "",
           "title": {
            "standoff": 15
           },
           "zerolinecolor": "white",
           "zerolinewidth": 2
          }
         }
        },
        "title": {
         "text": "GDP Choropleth Map by Country and Year"
        },
        "updatemenus": [
         {
          "buttons": [
           {
            "args": [
             null,
             {
              "frame": {
               "duration": 500,
               "redraw": true
              },
              "fromcurrent": true,
              "mode": "immediate",
              "transition": {
               "duration": 500,
               "easing": "linear"
              }
             }
            ],
            "label": "&#9654;",
            "method": "animate"
           },
           {
            "args": [
             [
              null
             ],
             {
              "frame": {
               "duration": 0,
               "redraw": true
              },
              "fromcurrent": true,
              "mode": "immediate",
              "transition": {
               "duration": 0,
               "easing": "linear"
              }
             }
            ],
            "label": "&#9724;",
            "method": "animate"
           }
          ],
          "direction": "left",
          "pad": {
           "r": 10,
           "t": 70
          },
          "showactive": false,
          "type": "buttons",
          "x": 0.1,
          "xanchor": "right",
          "y": 0,
          "yanchor": "top"
         }
        ]
       }
      }
     },
     "metadata": {},
     "output_type": "display_data"
    }
   ],
   "source": [
    "import pandas as pd\n",
    "import plotly.express as px\n",
    "\n",
    "# Sample merged DataFrame\n",
    "gdp[['Country', 'Year']] = gdp['Country_Year'].str.split('_', expand=True)\n",
    "gdp.drop(columns=['Country_Year'], inplace=True)\n",
    "gdp['gdp'] = pd.to_numeric(gdp['gdp'].str.replace(',', ''), errors='coerce')\n",
    "gdp.dropna(inplace=True)\n",
    "heatmap_data = gdp.pivot(index='Year', columns='Country')\n",
    "data_to_plot = heatmap_data['gdp']\n",
    "data_to_plot.reset_index(inplace=True)\n",
    "data_to_plot_melted = pd.melt(data_to_plot, id_vars=['Year'], var_name='Country', value_name='GDP')\n",
    "\n",
    "# Create choropleth map\n",
    "fig = px.choropleth(data_to_plot_melted, \n",
    "                    locations='Country',\n",
    "                    locationmode='country names',\n",
    "                    color='GDP',\n",
    "                    hover_name='Country',\n",
    "                    animation_frame='Year',\n",
    "                    color_continuous_scale='YlGnBu',\n",
    "                    title='GDP Choropleth Map by Country and Year')\n",
    "fig.show()\n"
   ]
  },
  {
   "cell_type": "code",
   "execution_count": 11,
   "metadata": {},
   "outputs": [
    {
     "data": {
      "application/vnd.plotly.v1+json": {
       "config": {
        "plotlyServerURL": "https://plot.ly"
       },
       "data": [
        {
         "coloraxis": "coloraxis",
         "geo": "geo",
         "hovertemplate": "<b>%{hovertext}</b><br><br>Year=2003<br>Country=%{location}<br>nni=%{z}<extra></extra>",
         "hovertext": [
          "Australia",
          "Austria",
          "Chile",
          "Czechia",
          "Denmark",
          "Estonia",
          "Euro area",
          "European Union",
          "Finland",
          "France",
          "Germany",
          "Greece",
          "Hungary",
          "Ireland",
          "Israel",
          "Italy",
          "Japan",
          "Korea",
          "Latvia",
          "Lithuania",
          "Luxembourg",
          "Mexico",
          "Netherlands",
          "New Zealand",
          "Norway",
          "Portugal",
          "Russia",
          "Slovak Republic",
          "Slovenia",
          "South Africa",
          "Spain",
          "Sweden",
          "Switzerland",
          "United Kingdom"
         ],
         "locationmode": "country names",
         "locations": [
          "Australia",
          "Austria",
          "Chile",
          "Czechia",
          "Denmark",
          "Estonia",
          "Euro area",
          "European Union",
          "Finland",
          "France",
          "Germany",
          "Greece",
          "Hungary",
          "Ireland",
          "Israel",
          "Italy",
          "Japan",
          "Korea",
          "Latvia",
          "Lithuania",
          "Luxembourg",
          "Mexico",
          "Netherlands",
          "New Zealand",
          "Norway",
          "Portugal",
          "Russia",
          "Slovak Republic",
          "Slovenia",
          "South Africa",
          "Spain",
          "Sweden",
          "Switzerland",
          "United Kingdom"
         ],
         "name": "",
         "type": "choropleth",
         "z": [
          31878.3,
          37926,
          12755.7,
          19612.7,
          36006.9,
          14994.5,
          31980.1,
          28602.5,
          33937.7,
          32461.9,
          33387.8,
          null,
          17306.6,
          36376.5,
          21731.7,
          34179.6,
          30503.2,
          null,
          11267.1,
          13509.7,
          61373.3,
          14720.1,
          37835.2,
          24986.9,
          43783,
          23565.5,
          12644.7,
          14235.2,
          22205.1,
          9591.6,
          29725.6,
          35481,
          47429.9,
          33342.8
         ]
        }
       ],
       "frames": [
        {
         "data": [
          {
           "coloraxis": "coloraxis",
           "geo": "geo",
           "hovertemplate": "<b>%{hovertext}</b><br><br>Year=2003<br>Country=%{location}<br>nni=%{z}<extra></extra>",
           "hovertext": [
            "Australia",
            "Austria",
            "Chile",
            "Czechia",
            "Denmark",
            "Estonia",
            "Euro area",
            "European Union",
            "Finland",
            "France",
            "Germany",
            "Greece",
            "Hungary",
            "Ireland",
            "Israel",
            "Italy",
            "Japan",
            "Korea",
            "Latvia",
            "Lithuania",
            "Luxembourg",
            "Mexico",
            "Netherlands",
            "New Zealand",
            "Norway",
            "Portugal",
            "Russia",
            "Slovak Republic",
            "Slovenia",
            "South Africa",
            "Spain",
            "Sweden",
            "Switzerland",
            "United Kingdom"
           ],
           "locationmode": "country names",
           "locations": [
            "Australia",
            "Austria",
            "Chile",
            "Czechia",
            "Denmark",
            "Estonia",
            "Euro area",
            "European Union",
            "Finland",
            "France",
            "Germany",
            "Greece",
            "Hungary",
            "Ireland",
            "Israel",
            "Italy",
            "Japan",
            "Korea",
            "Latvia",
            "Lithuania",
            "Luxembourg",
            "Mexico",
            "Netherlands",
            "New Zealand",
            "Norway",
            "Portugal",
            "Russia",
            "Slovak Republic",
            "Slovenia",
            "South Africa",
            "Spain",
            "Sweden",
            "Switzerland",
            "United Kingdom"
           ],
           "name": "",
           "type": "choropleth",
           "z": [
            31878.3,
            37926,
            12755.7,
            19612.7,
            36006.9,
            14994.5,
            31980.1,
            28602.5,
            33937.7,
            32461.9,
            33387.8,
            null,
            17306.6,
            36376.5,
            21731.7,
            34179.6,
            30503.2,
            null,
            11267.1,
            13509.7,
            61373.3,
            14720.1,
            37835.2,
            24986.9,
            43783,
            23565.5,
            12644.7,
            14235.2,
            22205.1,
            9591.6,
            29725.6,
            35481,
            47429.9,
            33342.8
           ]
          }
         ],
         "name": "2003"
        },
        {
         "data": [
          {
           "coloraxis": "coloraxis",
           "geo": "geo",
           "hovertemplate": "<b>%{hovertext}</b><br><br>Year=2004<br>Country=%{location}<br>nni=%{z}<extra></extra>",
           "hovertext": [
            "Australia",
            "Austria",
            "Chile",
            "Czechia",
            "Denmark",
            "Estonia",
            "Euro area",
            "European Union",
            "Finland",
            "France",
            "Germany",
            "Greece",
            "Hungary",
            "Ireland",
            "Israel",
            "Italy",
            "Japan",
            "Korea",
            "Latvia",
            "Lithuania",
            "Luxembourg",
            "Mexico",
            "Netherlands",
            "New Zealand",
            "Norway",
            "Portugal",
            "Russia",
            "Slovak Republic",
            "Slovenia",
            "South Africa",
            "Spain",
            "Sweden",
            "Switzerland",
            "United Kingdom"
           ],
           "locationmode": "country names",
           "locations": [
            "Australia",
            "Austria",
            "Chile",
            "Czechia",
            "Denmark",
            "Estonia",
            "Euro area",
            "European Union",
            "Finland",
            "France",
            "Germany",
            "Greece",
            "Hungary",
            "Ireland",
            "Israel",
            "Italy",
            "Japan",
            "Korea",
            "Latvia",
            "Lithuania",
            "Luxembourg",
            "Mexico",
            "Netherlands",
            "New Zealand",
            "Norway",
            "Portugal",
            "Russia",
            "Slovak Republic",
            "Slovenia",
            "South Africa",
            "Spain",
            "Sweden",
            "Switzerland",
            "United Kingdom"
           ],
           "name": "",
           "type": "choropleth",
           "z": [
            32669,
            38818.3,
            14006.8,
            20490.2,
            37522.4,
            16209.3,
            32559.9,
            29336.6,
            35433.1,
            33048.2,
            34514.7,
            null,
            18264.6,
            36771,
            22267.8,
            34391.5,
            31248.3,
            null,
            12386.8,
            15218.1,
            71638.6,
            15069.2,
            38249.5,
            25476.4,
            47007.5,
            23819.6,
            14571.2,
            15609,
            22861.8,
            10011.1,
            30032.9,
            36339,
            48085.8,
            34006.9
           ]
          }
         ],
         "name": "2004"
        },
        {
         "data": [
          {
           "coloraxis": "coloraxis",
           "geo": "geo",
           "hovertemplate": "<b>%{hovertext}</b><br><br>Year=2005<br>Country=%{location}<br>nni=%{z}<extra></extra>",
           "hovertext": [
            "Australia",
            "Austria",
            "Chile",
            "Czechia",
            "Denmark",
            "Estonia",
            "Euro area",
            "European Union",
            "Finland",
            "France",
            "Germany",
            "Greece",
            "Hungary",
            "Ireland",
            "Israel",
            "Italy",
            "Japan",
            "Korea",
            "Latvia",
            "Lithuania",
            "Luxembourg",
            "Mexico",
            "Netherlands",
            "New Zealand",
            "Norway",
            "Portugal",
            "Russia",
            "Slovak Republic",
            "Slovenia",
            "South Africa",
            "Spain",
            "Sweden",
            "Switzerland",
            "United Kingdom"
           ],
           "locationmode": "country names",
           "locations": [
            "Australia",
            "Austria",
            "Chile",
            "Czechia",
            "Denmark",
            "Estonia",
            "Euro area",
            "European Union",
            "Finland",
            "France",
            "Germany",
            "Greece",
            "Hungary",
            "Ireland",
            "Israel",
            "Italy",
            "Japan",
            "Korea",
            "Latvia",
            "Lithuania",
            "Luxembourg",
            "Mexico",
            "Netherlands",
            "New Zealand",
            "Norway",
            "Portugal",
            "Russia",
            "Slovak Republic",
            "Slovenia",
            "South Africa",
            "Spain",
            "Sweden",
            "Switzerland",
            "United Kingdom"
           ],
           "name": "",
           "type": "choropleth",
           "z": [
            33708.4,
            39266.2,
            15096.1,
            21694.9,
            39141.2,
            18328.5,
            32602.6,
            29652.2,
            35637.8,
            33252,
            34677.2,
            null,
            18884.7,
            38019.2,
            23185.6,
            34261.1,
            31797.1,
            null,
            14166.9,
            16975.8,
            74114.7,
            14997.6,
            38983.9,
            25610.5,
            51881.9,
            23841.9,
            16352.6,
            17284.1,
            23472.8,
            10532.5,
            30399.4,
            37284.7,
            50199.2,
            34805.6
           ]
          }
         ],
         "name": "2005"
        },
        {
         "data": [
          {
           "coloraxis": "coloraxis",
           "geo": "geo",
           "hovertemplate": "<b>%{hovertext}</b><br><br>Year=2006<br>Country=%{location}<br>nni=%{z}<extra></extra>",
           "hovertext": [
            "Australia",
            "Austria",
            "Chile",
            "Czechia",
            "Denmark",
            "Estonia",
            "Euro area",
            "European Union",
            "Finland",
            "France",
            "Germany",
            "Greece",
            "Hungary",
            "Ireland",
            "Israel",
            "Italy",
            "Japan",
            "Korea",
            "Latvia",
            "Lithuania",
            "Luxembourg",
            "Mexico",
            "Netherlands",
            "New Zealand",
            "Norway",
            "Portugal",
            "Russia",
            "Slovak Republic",
            "Slovenia",
            "South Africa",
            "Spain",
            "Sweden",
            "Switzerland",
            "United Kingdom"
           ],
           "locationmode": "country names",
           "locations": [
            "Australia",
            "Austria",
            "Chile",
            "Czechia",
            "Denmark",
            "Estonia",
            "Euro area",
            "European Union",
            "Finland",
            "France",
            "Germany",
            "Greece",
            "Hungary",
            "Ireland",
            "Israel",
            "Italy",
            "Japan",
            "Korea",
            "Latvia",
            "Lithuania",
            "Luxembourg",
            "Mexico",
            "Netherlands",
            "New Zealand",
            "Norway",
            "Portugal",
            "Russia",
            "Slovak Republic",
            "Slovenia",
            "South Africa",
            "Spain",
            "Sweden",
            "Switzerland",
            "United Kingdom"
           ],
           "name": "",
           "type": "choropleth",
           "z": [
            34780.5,
            40694.5,
            16820.8,
            22395.9,
            40751.9,
            20405.5,
            33641.5,
            30517.1,
            36715,
            33687.7,
            36347.2,
            28354.1,
            19423.3,
            38786.3,
            24248.9,
            34499.8,
            31877.5,
            null,
            15611.2,
            18202.8,
            69512.4,
            15796.7,
            40934.2,
            25607.5,
            54856.2,
            23780.7,
            18457.7,
            18823.7,
            24657.5,
            11076.2,
            30998.1,
            39519.8,
            51570.2,
            34726
           ]
          }
         ],
         "name": "2006"
        },
        {
         "data": [
          {
           "coloraxis": "coloraxis",
           "geo": "geo",
           "hovertemplate": "<b>%{hovertext}</b><br><br>Year=2007<br>Country=%{location}<br>nni=%{z}<extra></extra>",
           "hovertext": [
            "Australia",
            "Austria",
            "Chile",
            "Czechia",
            "Denmark",
            "Estonia",
            "Euro area",
            "European Union",
            "Finland",
            "France",
            "Germany",
            "Greece",
            "Hungary",
            "Ireland",
            "Israel",
            "Italy",
            "Japan",
            "Korea",
            "Latvia",
            "Lithuania",
            "Luxembourg",
            "Mexico",
            "Netherlands",
            "New Zealand",
            "Norway",
            "Portugal",
            "Russia",
            "Slovak Republic",
            "Slovenia",
            "South Africa",
            "Spain",
            "Sweden",
            "Switzerland",
            "United Kingdom"
           ],
           "locationmode": "country names",
           "locations": [
            "Australia",
            "Austria",
            "Chile",
            "Czechia",
            "Denmark",
            "Estonia",
            "Euro area",
            "European Union",
            "Finland",
            "France",
            "Germany",
            "Greece",
            "Hungary",
            "Ireland",
            "Israel",
            "Italy",
            "Japan",
            "Korea",
            "Latvia",
            "Lithuania",
            "Luxembourg",
            "Mexico",
            "Netherlands",
            "New Zealand",
            "Norway",
            "Portugal",
            "Russia",
            "Slovak Republic",
            "Slovenia",
            "South Africa",
            "Spain",
            "Sweden",
            "Switzerland",
            "United Kingdom"
           ],
           "name": "",
           "type": "choropleth",
           "z": [
            36050.2,
            41934.3,
            17888.6,
            23642.6,
            40240.2,
            22114.5,
            34422.7,
            31423,
            38226.9,
            34356.9,
            37434.9,
            28977.5,
            19193.2,
            39046.7,
            25231.4,
            34727.1,
            32186.2,
            null,
            18108.3,
            20284.5,
            79034.4,
            15863.3,
            42142.1,
            26985.8,
            54761.1,
            24438.2,
            20613.3,
            21018.2,
            26280.5,
            11382.7,
            31352.9,
            41025.5,
            48917.3,
            35063.8
           ]
          }
         ],
         "name": "2007"
        },
        {
         "data": [
          {
           "coloraxis": "coloraxis",
           "geo": "geo",
           "hovertemplate": "<b>%{hovertext}</b><br><br>Year=2008<br>Country=%{location}<br>nni=%{z}<extra></extra>",
           "hovertext": [
            "Australia",
            "Austria",
            "Chile",
            "Czechia",
            "Denmark",
            "Estonia",
            "Euro area",
            "European Union",
            "Finland",
            "France",
            "Germany",
            "Greece",
            "Hungary",
            "Ireland",
            "Israel",
            "Italy",
            "Japan",
            "Korea",
            "Latvia",
            "Lithuania",
            "Luxembourg",
            "Mexico",
            "Netherlands",
            "New Zealand",
            "Norway",
            "Portugal",
            "Russia",
            "Slovak Republic",
            "Slovenia",
            "South Africa",
            "Spain",
            "Sweden",
            "Switzerland",
            "United Kingdom"
           ],
           "locationmode": "country names",
           "locations": [
            "Australia",
            "Austria",
            "Chile",
            "Czechia",
            "Denmark",
            "Estonia",
            "Euro area",
            "European Union",
            "Finland",
            "France",
            "Germany",
            "Greece",
            "Hungary",
            "Ireland",
            "Israel",
            "Italy",
            "Japan",
            "Korea",
            "Latvia",
            "Lithuania",
            "Luxembourg",
            "Mexico",
            "Netherlands",
            "New Zealand",
            "Norway",
            "Portugal",
            "Russia",
            "Slovak Republic",
            "Slovenia",
            "South Africa",
            "Spain",
            "Sweden",
            "Switzerland",
            "United Kingdom"
           ],
           "name": "",
           "type": "choropleth",
           "z": [
            36742.4,
            42473.6,
            17329.5,
            23792.1,
            39965.2,
            21243.4,
            33573.1,
            30912.3,
            37617.7,
            34028,
            37253.7,
            28358.4,
            19492.7,
            36532.7,
            24980.5,
            33304.4,
            30649.9,
            null,
            17919.4,
            21524.8,
            72239.4,
            15608.3,
            40926.8,
            25797.9,
            57293.3,
            23911.2,
            21890,
            22171.7,
            26841.9,
            11192.3,
            30723.3,
            40351.3,
            44781.5,
            34074.3
           ]
          }
         ],
         "name": "2008"
        },
        {
         "data": [
          {
           "coloraxis": "coloraxis",
           "geo": "geo",
           "hovertemplate": "<b>%{hovertext}</b><br><br>Year=2009<br>Country=%{location}<br>nni=%{z}<extra></extra>",
           "hovertext": [
            "Australia",
            "Austria",
            "Chile",
            "Czechia",
            "Denmark",
            "Estonia",
            "Euro area",
            "European Union",
            "Finland",
            "France",
            "Germany",
            "Greece",
            "Hungary",
            "Ireland",
            "Israel",
            "Italy",
            "Japan",
            "Korea",
            "Latvia",
            "Lithuania",
            "Luxembourg",
            "Mexico",
            "Netherlands",
            "New Zealand",
            "Norway",
            "Portugal",
            "Russia",
            "Slovak Republic",
            "Slovenia",
            "South Africa",
            "Spain",
            "Sweden",
            "Switzerland",
            "United Kingdom"
           ],
           "locationmode": "country names",
           "locations": [
            "Australia",
            "Austria",
            "Chile",
            "Czechia",
            "Denmark",
            "Estonia",
            "Euro area",
            "European Union",
            "Finland",
            "France",
            "Germany",
            "Greece",
            "Hungary",
            "Ireland",
            "Israel",
            "Italy",
            "Japan",
            "Korea",
            "Latvia",
            "Lithuania",
            "Luxembourg",
            "Mexico",
            "Netherlands",
            "New Zealand",
            "Norway",
            "Portugal",
            "Russia",
            "Slovak Republic",
            "Slovenia",
            "South Africa",
            "Spain",
            "Sweden",
            "Switzerland",
            "United Kingdom"
           ],
           "name": "",
           "type": "choropleth",
           "z": [
            36266.5,
            40203.6,
            17260,
            22201,
            37605.5,
            18225.2,
            32399,
            29770.3,
            34257.7,
            32897.3,
            35806.5,
            27098.7,
            18459.6,
            32940.7,
            25268.2,
            31764.2,
            28858.3,
            null,
            16953.6,
            18712.2,
            51766.9,
            14063.8,
            39167.1,
            26512.4,
            50435.6,
            23487.9,
            17918.5,
            20736.2,
            24888.9,
            11131.4,
            29685.5,
            37334.6,
            47550.9,
            32347.7
           ]
          }
         ],
         "name": "2009"
        },
        {
         "data": [
          {
           "coloraxis": "coloraxis",
           "geo": "geo",
           "hovertemplate": "<b>%{hovertext}</b><br><br>Year=2010<br>Country=%{location}<br>nni=%{z}<extra></extra>",
           "hovertext": [
            "Australia",
            "Austria",
            "Chile",
            "Czechia",
            "Denmark",
            "Estonia",
            "Euro area",
            "European Union",
            "Finland",
            "France",
            "Germany",
            "Greece",
            "Hungary",
            "Ireland",
            "Israel",
            "Italy",
            "Japan",
            "Korea",
            "Latvia",
            "Lithuania",
            "Luxembourg",
            "Mexico",
            "Netherlands",
            "New Zealand",
            "Norway",
            "Portugal",
            "Russia",
            "Slovak Republic",
            "Slovenia",
            "South Africa",
            "Spain",
            "Sweden",
            "Switzerland",
            "United Kingdom"
           ],
           "locationmode": "country names",
           "locations": [
            "Australia",
            "Austria",
            "Chile",
            "Czechia",
            "Denmark",
            "Estonia",
            "Euro area",
            "European Union",
            "Finland",
            "France",
            "Germany",
            "Greece",
            "Hungary",
            "Ireland",
            "Israel",
            "Italy",
            "Japan",
            "Korea",
            "Latvia",
            "Lithuania",
            "Luxembourg",
            "Mexico",
            "Netherlands",
            "New Zealand",
            "Norway",
            "Portugal",
            "Russia",
            "Slovak Republic",
            "Slovenia",
            "South Africa",
            "Spain",
            "Sweden",
            "Switzerland",
            "United Kingdom"
           ],
           "name": "",
           "type": "choropleth",
           "z": [
            38215.2,
            40883.7,
            19235.3,
            22183.6,
            39243.5,
            18262.3,
            32800.5,
            30274.1,
            35323.2,
            33294,
            37204.5,
            25493.4,
            18594,
            33334.5,
            26453.6,
            31702,
            30258.3,
            27208.6,
            15016.3,
            18918.7,
            59362.9,
            14556.9,
            40525.5,
            27006,
            51918.6,
            23766.1,
            20075,
            21861.8,
            24472.1,
            11567.7,
            29404.8,
            39667.8,
            51800.9,
            33474.1
           ]
          }
         ],
         "name": "2010"
        },
        {
         "data": [
          {
           "coloraxis": "coloraxis",
           "geo": "geo",
           "hovertemplate": "<b>%{hovertext}</b><br><br>Year=2011<br>Country=%{location}<br>nni=%{z}<extra></extra>",
           "hovertext": [
            "Australia",
            "Austria",
            "Chile",
            "Czechia",
            "Denmark",
            "Estonia",
            "Euro area",
            "European Union",
            "Finland",
            "France",
            "Germany",
            "Greece",
            "Hungary",
            "Ireland",
            "Israel",
            "Italy",
            "Japan",
            "Korea",
            "Latvia",
            "Lithuania",
            "Luxembourg",
            "Mexico",
            "Netherlands",
            "New Zealand",
            "Norway",
            "Portugal",
            "Russia",
            "Slovak Republic",
            "Slovenia",
            "South Africa",
            "Spain",
            "Sweden",
            "Switzerland",
            "United Kingdom"
           ],
           "locationmode": "country names",
           "locations": [
            "Australia",
            "Austria",
            "Chile",
            "Czechia",
            "Denmark",
            "Estonia",
            "Euro area",
            "European Union",
            "Finland",
            "France",
            "Germany",
            "Greece",
            "Hungary",
            "Ireland",
            "Israel",
            "Italy",
            "Japan",
            "Korea",
            "Latvia",
            "Lithuania",
            "Luxembourg",
            "Mexico",
            "Netherlands",
            "New Zealand",
            "Norway",
            "Portugal",
            "Russia",
            "Slovak Republic",
            "Slovenia",
            "South Africa",
            "Spain",
            "Sweden",
            "Switzerland",
            "United Kingdom"
           ],
           "name": "",
           "type": "choropleth",
           "z": [
            39785.6,
            41392.3,
            19736,
            22180.1,
            39541.3,
            20217.4,
            32959,
            30564.4,
            35528.6,
            33710.1,
            38652.5,
            22409.1,
            18777.8,
            32763.6,
            27344.2,
            31510.5,
            29938.4,
            27322.7,
            15755.7,
            20095.4,
            59935.4,
            15073.8,
            41086.8,
            27981.4,
            53798.7,
            23465,
            22304.2,
            22065,
            24370.9,
            11797.7,
            28520.3,
            40288.9,
            49400.1,
            33626.1
           ]
          }
         ],
         "name": "2011"
        },
        {
         "data": [
          {
           "coloraxis": "coloraxis",
           "geo": "geo",
           "hovertemplate": "<b>%{hovertext}</b><br><br>Year=2012<br>Country=%{location}<br>nni=%{z}<extra></extra>",
           "hovertext": [
            "Australia",
            "Austria",
            "Chile",
            "Czechia",
            "Denmark",
            "Estonia",
            "Euro area",
            "European Union",
            "Finland",
            "France",
            "Germany",
            "Greece",
            "Hungary",
            "Ireland",
            "Israel",
            "Italy",
            "Japan",
            "Korea",
            "Latvia",
            "Lithuania",
            "Luxembourg",
            "Mexico",
            "Netherlands",
            "New Zealand",
            "Norway",
            "Portugal",
            "Russia",
            "Slovak Republic",
            "Slovenia",
            "South Africa",
            "Spain",
            "Sweden",
            "Switzerland",
            "United Kingdom"
           ],
           "locationmode": "country names",
           "locations": [
            "Australia",
            "Austria",
            "Chile",
            "Czechia",
            "Denmark",
            "Estonia",
            "Euro area",
            "European Union",
            "Finland",
            "France",
            "Germany",
            "Greece",
            "Hungary",
            "Ireland",
            "Israel",
            "Italy",
            "Japan",
            "Korea",
            "Latvia",
            "Lithuania",
            "Luxembourg",
            "Mexico",
            "Netherlands",
            "New Zealand",
            "Norway",
            "Portugal",
            "Russia",
            "Slovak Republic",
            "Slovenia",
            "South Africa",
            "Spain",
            "Sweden",
            "Switzerland",
            "United Kingdom"
           ],
           "name": "",
           "type": "choropleth",
           "z": [
            39309.4,
            41046.6,
            21017.4,
            22330.7,
            39679.5,
            21226.7,
            32550.5,
            30083.3,
            34514.1,
            33355.5,
            38518.6,
            21617.9,
            18546.3,
            32274.7,
            27304.8,
            30200.5,
            30458.9,
            27808,
            16704,
            20979.9,
            67765.4,
            15440.9,
            40121.9,
            28275.9,
            54963,
            22346.8,
            22934.2,
            22611.6,
            23130.9,
            11703.4,
            27738.7,
            39631.7,
            50665.9,
            33468.7
           ]
          }
         ],
         "name": "2012"
        },
        {
         "data": [
          {
           "coloraxis": "coloraxis",
           "geo": "geo",
           "hovertemplate": "<b>%{hovertext}</b><br><br>Year=2013<br>Country=%{location}<br>nni=%{z}<extra></extra>",
           "hovertext": [
            "Australia",
            "Austria",
            "Chile",
            "Czechia",
            "Denmark",
            "Estonia",
            "Euro area",
            "European Union",
            "Finland",
            "France",
            "Germany",
            "Greece",
            "Hungary",
            "Ireland",
            "Israel",
            "Italy",
            "Japan",
            "Korea",
            "Latvia",
            "Lithuania",
            "Luxembourg",
            "Mexico",
            "Netherlands",
            "New Zealand",
            "Norway",
            "Portugal",
            "Russia",
            "Slovak Republic",
            "Slovenia",
            "South Africa",
            "Spain",
            "Sweden",
            "Switzerland",
            "United Kingdom"
           ],
           "locationmode": "country names",
           "locations": [
            "Australia",
            "Austria",
            "Chile",
            "Czechia",
            "Denmark",
            "Estonia",
            "Euro area",
            "European Union",
            "Finland",
            "France",
            "Germany",
            "Greece",
            "Hungary",
            "Ireland",
            "Israel",
            "Italy",
            "Japan",
            "Korea",
            "Latvia",
            "Lithuania",
            "Luxembourg",
            "Mexico",
            "Netherlands",
            "New Zealand",
            "Norway",
            "Portugal",
            "Russia",
            "Slovak Republic",
            "Slovenia",
            "South Africa",
            "Spain",
            "Sweden",
            "Switzerland",
            "United Kingdom"
           ],
           "name": "",
           "type": "choropleth",
           "z": [
            39042.3,
            40692.1,
            21543.5,
            22461.2,
            40643.3,
            22143.2,
            32674.5,
            30154.5,
            34114.2,
            33519,
            38616,
            21135,
            19411.4,
            34218.9,
            28475.7,
            29672.3,
            31344.9,
            28681.2,
            17476.4,
            22111.7,
            63445.8,
            15211.1,
            40121.3,
            29743.4,
            54748.4,
            22858.7,
            22574.1,
            22800.3,
            23021.7,
            11770.4,
            27616.7,
            39735,
            50259.5,
            33731
           ]
          }
         ],
         "name": "2013"
        },
        {
         "data": [
          {
           "coloraxis": "coloraxis",
           "geo": "geo",
           "hovertemplate": "<b>%{hovertext}</b><br><br>Year=2014<br>Country=%{location}<br>nni=%{z}<extra></extra>",
           "hovertext": [
            "Australia",
            "Austria",
            "Chile",
            "Czechia",
            "Denmark",
            "Estonia",
            "Euro area",
            "European Union",
            "Finland",
            "France",
            "Germany",
            "Greece",
            "Hungary",
            "Ireland",
            "Israel",
            "Italy",
            "Japan",
            "Korea",
            "Latvia",
            "Lithuania",
            "Luxembourg",
            "Mexico",
            "Netherlands",
            "New Zealand",
            "Norway",
            "Portugal",
            "Russia",
            "Slovak Republic",
            "Slovenia",
            "South Africa",
            "Spain",
            "Sweden",
            "Switzerland",
            "United Kingdom"
           ],
           "locationmode": "country names",
           "locations": [
            "Australia",
            "Austria",
            "Chile",
            "Czechia",
            "Denmark",
            "Estonia",
            "Euro area",
            "European Union",
            "Finland",
            "France",
            "Germany",
            "Greece",
            "Hungary",
            "Ireland",
            "Israel",
            "Italy",
            "Japan",
            "Korea",
            "Latvia",
            "Lithuania",
            "Luxembourg",
            "Mexico",
            "Netherlands",
            "New Zealand",
            "Norway",
            "Portugal",
            "Russia",
            "Slovak Republic",
            "Slovenia",
            "South Africa",
            "Spain",
            "Sweden",
            "Switzerland",
            "United Kingdom"
           ],
           "name": "",
           "type": "choropleth",
           "z": [
            38266.5,
            40722.1,
            21507.8,
            23138,
            41790.8,
            23160.6,
            33150.8,
            30654.8,
            34307.7,
            33777.7,
            39419.3,
            21854.2,
            20163.3,
            36745,
            29563.2,
            29976.3,
            31446.7,
            29380,
            18024.9,
            23522.4,
            65670.7,
            15505.6,
            40313,
            30212,
            54742.2,
            23054.5,
            22078.5,
            23339.7,
            24066.1,
            11661.2,
            28099.3,
            40362.5,
            49445.6,
            34850.9
           ]
          }
         ],
         "name": "2014"
        },
        {
         "data": [
          {
           "coloraxis": "coloraxis",
           "geo": "geo",
           "hovertemplate": "<b>%{hovertext}</b><br><br>Year=2015<br>Country=%{location}<br>nni=%{z}<extra></extra>",
           "hovertext": [
            "Australia",
            "Austria",
            "Chile",
            "Czechia",
            "Denmark",
            "Estonia",
            "Euro area",
            "European Union",
            "Finland",
            "France",
            "Germany",
            "Greece",
            "Hungary",
            "Ireland",
            "Israel",
            "Italy",
            "Japan",
            "Korea",
            "Latvia",
            "Lithuania",
            "Luxembourg",
            "Mexico",
            "Netherlands",
            "New Zealand",
            "Norway",
            "Portugal",
            "Russia",
            "Slovak Republic",
            "Slovenia",
            "South Africa",
            "Spain",
            "Sweden",
            "Switzerland",
            "United Kingdom"
           ],
           "locationmode": "country names",
           "locations": [
            "Australia",
            "Austria",
            "Chile",
            "Czechia",
            "Denmark",
            "Estonia",
            "Euro area",
            "European Union",
            "Finland",
            "France",
            "Germany",
            "Greece",
            "Hungary",
            "Ireland",
            "Israel",
            "Italy",
            "Japan",
            "Korea",
            "Latvia",
            "Lithuania",
            "Luxembourg",
            "Mexico",
            "Netherlands",
            "New Zealand",
            "Norway",
            "Portugal",
            "Russia",
            "Slovak Republic",
            "Slovenia",
            "South Africa",
            "Spain",
            "Sweden",
            "Switzerland",
            "United Kingdom"
           ],
           "name": "",
           "type": "choropleth",
           "z": [
            37526.3,
            40513.5,
            22009.7,
            24566,
            42411.1,
            23711.5,
            33851.5,
            31446.3,
            34859.9,
            34432.7,
            40155.5,
            22272.4,
            21080.3,
            38289.4,
            30182,
            30206.4,
            32771.3,
            30941.9,
            18946.8,
            23946.1,
            57028.8,
            15579.1,
            41340.6,
            30767.5,
            52451.8,
            23751.2,
            20284.2,
            24204.2,
            24150.1,
            11786.2,
            29469.5,
            41376.7,
            50761.8,
            35421.6
           ]
          }
         ],
         "name": "2015"
        },
        {
         "data": [
          {
           "coloraxis": "coloraxis",
           "geo": "geo",
           "hovertemplate": "<b>%{hovertext}</b><br><br>Year=2016<br>Country=%{location}<br>nni=%{z}<extra></extra>",
           "hovertext": [
            "Australia",
            "Austria",
            "Chile",
            "Czechia",
            "Denmark",
            "Estonia",
            "Euro area",
            "European Union",
            "Finland",
            "France",
            "Germany",
            "Greece",
            "Hungary",
            "Ireland",
            "Israel",
            "Italy",
            "Japan",
            "Korea",
            "Latvia",
            "Lithuania",
            "Luxembourg",
            "Mexico",
            "Netherlands",
            "New Zealand",
            "Norway",
            "Portugal",
            "Russia",
            "Slovak Republic",
            "Slovenia",
            "South Africa",
            "Spain",
            "Sweden",
            "Switzerland",
            "United Kingdom"
           ],
           "locationmode": "country names",
           "locations": [
            "Australia",
            "Austria",
            "Chile",
            "Czechia",
            "Denmark",
            "Estonia",
            "Euro area",
            "European Union",
            "Finland",
            "France",
            "Germany",
            "Greece",
            "Hungary",
            "Ireland",
            "Israel",
            "Italy",
            "Japan",
            "Korea",
            "Latvia",
            "Lithuania",
            "Luxembourg",
            "Mexico",
            "Netherlands",
            "New Zealand",
            "Norway",
            "Portugal",
            "Russia",
            "Slovak Republic",
            "Slovenia",
            "South Africa",
            "Spain",
            "Sweden",
            "Switzerland",
            "United Kingdom"
           ],
           "name": "",
           "type": "choropleth",
           "z": [
            38971.9,
            41494.7,
            22281.2,
            25338.4,
            42978.8,
            24753.8,
            34705.9,
            32280.5,
            35585.1,
            34733.6,
            41111.6,
            22343.8,
            22253.1,
            39742,
            31221.5,
            31430.6,
            33280.7,
            32078.4,
            20216,
            25172.6,
            59260.3,
            15456.8,
            41400.2,
            31543.7,
            50570.1,
            24541.8,
            19293.4,
            24433.4,
            25373.8,
            11688.5,
            30514,
            41620.5,
            49548.3,
            35686.7
           ]
          }
         ],
         "name": "2016"
        },
        {
         "data": [
          {
           "coloraxis": "coloraxis",
           "geo": "geo",
           "hovertemplate": "<b>%{hovertext}</b><br><br>Year=2017<br>Country=%{location}<br>nni=%{z}<extra></extra>",
           "hovertext": [
            "Australia",
            "Austria",
            "Chile",
            "Czechia",
            "Denmark",
            "Estonia",
            "Euro area",
            "European Union",
            "Finland",
            "France",
            "Germany",
            "Greece",
            "Hungary",
            "Ireland",
            "Israel",
            "Italy",
            "Japan",
            "Korea",
            "Latvia",
            "Lithuania",
            "Luxembourg",
            "Mexico",
            "Netherlands",
            "New Zealand",
            "Norway",
            "Portugal",
            "Russia",
            "Slovak Republic",
            "Slovenia",
            "South Africa",
            "Spain",
            "Sweden",
            "Switzerland",
            "United Kingdom"
           ],
           "locationmode": "country names",
           "locations": [
            "Australia",
            "Austria",
            "Chile",
            "Czechia",
            "Denmark",
            "Estonia",
            "Euro area",
            "European Union",
            "Finland",
            "France",
            "Germany",
            "Greece",
            "Hungary",
            "Ireland",
            "Israel",
            "Italy",
            "Japan",
            "Korea",
            "Latvia",
            "Lithuania",
            "Luxembourg",
            "Mexico",
            "Netherlands",
            "New Zealand",
            "Norway",
            "Portugal",
            "Russia",
            "Slovak Republic",
            "Slovenia",
            "South Africa",
            "Spain",
            "Sweden",
            "Switzerland",
            "United Kingdom"
           ],
           "name": "",
           "type": "choropleth",
           "z": [
            39461,
            41384.2,
            22541.6,
            26938.2,
            43922.5,
            26208.8,
            35439.3,
            33081.5,
            36513.6,
            35247.3,
            41877.5,
            22700.9,
            22846.1,
            40791.2,
            32195.6,
            32041.9,
            33813.9,
            33130,
            21309.4,
            26809.7,
            64370.4,
            15649.9,
            43113.3,
            32539.4,
            52340.2,
            25397.5,
            20097.4,
            25264.5,
            26972,
            11825.2,
            31317.4,
            42455.4,
            48728.1,
            36751.3
           ]
          }
         ],
         "name": "2017"
        },
        {
         "data": [
          {
           "coloraxis": "coloraxis",
           "geo": "geo",
           "hovertemplate": "<b>%{hovertext}</b><br><br>Year=2018<br>Country=%{location}<br>nni=%{z}<extra></extra>",
           "hovertext": [
            "Australia",
            "Austria",
            "Chile",
            "Czechia",
            "Denmark",
            "Estonia",
            "Euro area",
            "European Union",
            "Finland",
            "France",
            "Germany",
            "Greece",
            "Hungary",
            "Ireland",
            "Israel",
            "Italy",
            "Japan",
            "Korea",
            "Latvia",
            "Lithuania",
            "Luxembourg",
            "Mexico",
            "Netherlands",
            "New Zealand",
            "Norway",
            "Portugal",
            "Russia",
            "Slovak Republic",
            "Slovenia",
            "South Africa",
            "Spain",
            "Sweden",
            "Switzerland",
            "United Kingdom"
           ],
           "locationmode": "country names",
           "locations": [
            "Australia",
            "Austria",
            "Chile",
            "Czechia",
            "Denmark",
            "Estonia",
            "Euro area",
            "European Union",
            "Finland",
            "France",
            "Germany",
            "Greece",
            "Hungary",
            "Ireland",
            "Israel",
            "Italy",
            "Japan",
            "Korea",
            "Latvia",
            "Lithuania",
            "Luxembourg",
            "Mexico",
            "Netherlands",
            "New Zealand",
            "Norway",
            "Portugal",
            "Russia",
            "Slovak Republic",
            "Slovenia",
            "South Africa",
            "Spain",
            "Sweden",
            "Switzerland",
            "United Kingdom"
           ],
           "name": "",
           "type": "choropleth",
           "z": [
            40292.9,
            42056.2,
            22800,
            27780.5,
            44649.5,
            27497.1,
            35869.8,
            33594,
            37076.6,
            35540.5,
            42320.2,
            22882,
            24056.5,
            41774.8,
            32696.5,
            32589.7,
            33770.1,
            33366.4,
            22431.5,
            28076.6,
            63700.6,
            15776.6,
            44207.2,
            32640.6,
            54642.7,
            25983.2,
            21946.7,
            26265.6,
            28394.7,
            11844.4,
            31908.3,
            42518.8,
            48344,
            36879.1
           ]
          }
         ],
         "name": "2018"
        },
        {
         "data": [
          {
           "coloraxis": "coloraxis",
           "geo": "geo",
           "hovertemplate": "<b>%{hovertext}</b><br><br>Year=2019<br>Country=%{location}<br>nni=%{z}<extra></extra>",
           "hovertext": [
            "Australia",
            "Austria",
            "Chile",
            "Czechia",
            "Denmark",
            "Estonia",
            "Euro area",
            "European Union",
            "Finland",
            "France",
            "Germany",
            "Greece",
            "Hungary",
            "Ireland",
            "Israel",
            "Italy",
            "Japan",
            "Korea",
            "Latvia",
            "Lithuania",
            "Luxembourg",
            "Mexico",
            "Netherlands",
            "New Zealand",
            "Norway",
            "Portugal",
            "Russia",
            "Slovak Republic",
            "Slovenia",
            "South Africa",
            "Spain",
            "Sweden",
            "Switzerland",
            "United Kingdom"
           ],
           "locationmode": "country names",
           "locations": [
            "Australia",
            "Austria",
            "Chile",
            "Czechia",
            "Denmark",
            "Estonia",
            "Euro area",
            "European Union",
            "Finland",
            "France",
            "Germany",
            "Greece",
            "Hungary",
            "Ireland",
            "Israel",
            "Italy",
            "Japan",
            "Korea",
            "Latvia",
            "Lithuania",
            "Luxembourg",
            "Mexico",
            "Netherlands",
            "New Zealand",
            "Norway",
            "Portugal",
            "Russia",
            "Slovak Republic",
            "Slovenia",
            "South Africa",
            "Spain",
            "Sweden",
            "Switzerland",
            "United Kingdom"
           ],
           "name": "",
           "type": "choropleth",
           "z": [
            40108.2,
            42485.3,
            22505,
            28323.4,
            44932.9,
            28428.1,
            36324.9,
            34153.8,
            37307.8,
            35951.7,
            42814.8,
            23524.1,
            25661.4,
            43238.1,
            33633.9,
            32774.3,
            33631.9,
            32994.1,
            22861,
            29450.2,
            60121.1,
            15659.8,
            44012.3,
            33897,
            51990.3,
            26685,
            21702.1,
            26562.7,
            29368,
            11866.6,
            32268.6,
            43556.7,
            48479.4,
            37887.3
           ]
          }
         ],
         "name": "2019"
        },
        {
         "data": [
          {
           "coloraxis": "coloraxis",
           "geo": "geo",
           "hovertemplate": "<b>%{hovertext}</b><br><br>Year=2020<br>Country=%{location}<br>nni=%{z}<extra></extra>",
           "hovertext": [
            "Australia",
            "Austria",
            "Chile",
            "Czechia",
            "Denmark",
            "Estonia",
            "Euro area",
            "European Union",
            "Finland",
            "France",
            "Germany",
            "Greece",
            "Hungary",
            "Ireland",
            "Israel",
            "Italy",
            "Japan",
            "Korea",
            "Latvia",
            "Lithuania",
            "Luxembourg",
            "Mexico",
            "Netherlands",
            "New Zealand",
            "Norway",
            "Portugal",
            "Russia",
            "Slovak Republic",
            "Slovenia",
            "South Africa",
            "Spain",
            "Sweden",
            "Switzerland",
            "United Kingdom"
           ],
           "locationmode": "country names",
           "locations": [
            "Australia",
            "Austria",
            "Chile",
            "Czechia",
            "Denmark",
            "Estonia",
            "Euro area",
            "European Union",
            "Finland",
            "France",
            "Germany",
            "Greece",
            "Hungary",
            "Ireland",
            "Israel",
            "Italy",
            "Japan",
            "Korea",
            "Latvia",
            "Lithuania",
            "Luxembourg",
            "Mexico",
            "Netherlands",
            "New Zealand",
            "Norway",
            "Portugal",
            "Russia",
            "Slovak Republic",
            "Slovenia",
            "South Africa",
            "Spain",
            "Sweden",
            "Switzerland",
            "United Kingdom"
           ],
           "name": "",
           "type": "choropleth",
           "z": [
            42019.3,
            39544.9,
            20802,
            26718.2,
            44441.8,
            28078.4,
            33367.2,
            31739,
            36836.8,
            32071.6,
            40497.2,
            21213.3,
            24528,
            41107.8,
            32317.5,
            29865.3,
            32126.7,
            32539.4,
            22593,
            29690,
            61441.7,
            13564.4,
            40852,
            33381.9,
            47423.7,
            24296.5,
            null,
            25799.4,
            27962.8,
            11271.7,
            27984.6,
            42408.4,
            45526.5,
            32597.8
           ]
          }
         ],
         "name": "2020"
        },
        {
         "data": [
          {
           "coloraxis": "coloraxis",
           "geo": "geo",
           "hovertemplate": "<b>%{hovertext}</b><br><br>Year=2021<br>Country=%{location}<br>nni=%{z}<extra></extra>",
           "hovertext": [
            "Australia",
            "Austria",
            "Chile",
            "Czechia",
            "Denmark",
            "Estonia",
            "Euro area",
            "European Union",
            "Finland",
            "France",
            "Germany",
            "Greece",
            "Hungary",
            "Ireland",
            "Israel",
            "Italy",
            "Japan",
            "Korea",
            "Latvia",
            "Lithuania",
            "Luxembourg",
            "Mexico",
            "Netherlands",
            "New Zealand",
            "Norway",
            "Portugal",
            "Russia",
            "Slovak Republic",
            "Slovenia",
            "South Africa",
            "Spain",
            "Sweden",
            "Switzerland",
            "United Kingdom"
           ],
           "locationmode": "country names",
           "locations": [
            "Australia",
            "Austria",
            "Chile",
            "Czechia",
            "Denmark",
            "Estonia",
            "Euro area",
            "European Union",
            "Finland",
            "France",
            "Germany",
            "Greece",
            "Hungary",
            "Ireland",
            "Israel",
            "Italy",
            "Japan",
            "Korea",
            "Latvia",
            "Lithuania",
            "Luxembourg",
            "Mexico",
            "Netherlands",
            "New Zealand",
            "Norway",
            "Portugal",
            "Russia",
            "Slovak Republic",
            "Slovenia",
            "South Africa",
            "Spain",
            "Sweden",
            "Switzerland",
            "United Kingdom"
           ],
           "name": "",
           "type": "choropleth",
           "z": [
            43714.8,
            41230.2,
            23827.8,
            28069.6,
            48406.6,
            30945.8,
            35164.4,
            33858.7,
            37962.3,
            34777.6,
            41764.8,
            23089.3,
            25452.5,
            47140.7,
            34995.2,
            32465.8,
            33082.4,
            33765,
            23886.2,
            29903.7,
            64810.6,
            14283.3,
            46085.2,
            34759.7,
            56298.1,
            25776.3,
            null,
            26402.2,
            29646.1,
            11929.1,
            30103.2,
            45188.5,
            49948.5,
            36818
           ]
          }
         ],
         "name": "2021"
        },
        {
         "data": [
          {
           "coloraxis": "coloraxis",
           "geo": "geo",
           "hovertemplate": "<b>%{hovertext}</b><br><br>Year=2022<br>Country=%{location}<br>nni=%{z}<extra></extra>",
           "hovertext": [
            "Australia",
            "Austria",
            "Chile",
            "Czechia",
            "Denmark",
            "Estonia",
            "Euro area",
            "European Union",
            "Finland",
            "France",
            "Germany",
            "Greece",
            "Hungary",
            "Ireland",
            "Israel",
            "Italy",
            "Japan",
            "Korea",
            "Latvia",
            "Lithuania",
            "Luxembourg",
            "Mexico",
            "Netherlands",
            "New Zealand",
            "Norway",
            "Portugal",
            "Russia",
            "Slovak Republic",
            "Slovenia",
            "South Africa",
            "Spain",
            "Sweden",
            "Switzerland",
            "United Kingdom"
           ],
           "locationmode": "country names",
           "locations": [
            "Australia",
            "Austria",
            "Chile",
            "Czechia",
            "Denmark",
            "Estonia",
            "Euro area",
            "European Union",
            "Finland",
            "France",
            "Germany",
            "Greece",
            "Hungary",
            "Ireland",
            "Israel",
            "Italy",
            "Japan",
            "Korea",
            "Latvia",
            "Lithuania",
            "Luxembourg",
            "Mexico",
            "Netherlands",
            "New Zealand",
            "Norway",
            "Portugal",
            "Russia",
            "Slovak Republic",
            "Slovenia",
            "South Africa",
            "Spain",
            "Sweden",
            "Switzerland",
            "United Kingdom"
           ],
           "name": "",
           "type": "choropleth",
           "z": [
            44173.5,
            40987.5,
            23584.4,
            27790.3,
            50004.8,
            30469.3,
            35081.9,
            33795.3,
            37897.1,
            34564.5,
            40869.5,
            24441.2,
            25106,
            49448.3,
            36886.5,
            32621.9,
            32964.2,
            33111.4,
            24427.1,
            28918.5,
            61440.7,
            14538.3,
            45853.5,
            null,
            null,
            26886.6,
            null,
            25727.3,
            29060.2,
            11683.5,
            30808.4,
            45273.1,
            51391.6,
            null
           ]
          }
         ],
         "name": "2022"
        }
       ],
       "layout": {
        "coloraxis": {
         "colorbar": {
          "title": {
           "text": "nni"
          }
         },
         "colorscale": [
          [
           0,
           "rgb(255,255,217)"
          ],
          [
           0.125,
           "rgb(237,248,177)"
          ],
          [
           0.25,
           "rgb(199,233,180)"
          ],
          [
           0.375,
           "rgb(127,205,187)"
          ],
          [
           0.5,
           "rgb(65,182,196)"
          ],
          [
           0.625,
           "rgb(29,145,192)"
          ],
          [
           0.75,
           "rgb(34,94,168)"
          ],
          [
           0.875,
           "rgb(37,52,148)"
          ],
          [
           1,
           "rgb(8,29,88)"
          ]
         ]
        },
        "geo": {
         "center": {},
         "domain": {
          "x": [
           0,
           1
          ],
          "y": [
           0,
           1
          ]
         }
        },
        "legend": {
         "tracegroupgap": 0
        },
        "sliders": [
         {
          "active": 0,
          "currentvalue": {
           "prefix": "Year="
          },
          "len": 0.9,
          "pad": {
           "b": 10,
           "t": 60
          },
          "steps": [
           {
            "args": [
             [
              "2003"
             ],
             {
              "frame": {
               "duration": 0,
               "redraw": true
              },
              "fromcurrent": true,
              "mode": "immediate",
              "transition": {
               "duration": 0,
               "easing": "linear"
              }
             }
            ],
            "label": "2003",
            "method": "animate"
           },
           {
            "args": [
             [
              "2004"
             ],
             {
              "frame": {
               "duration": 0,
               "redraw": true
              },
              "fromcurrent": true,
              "mode": "immediate",
              "transition": {
               "duration": 0,
               "easing": "linear"
              }
             }
            ],
            "label": "2004",
            "method": "animate"
           },
           {
            "args": [
             [
              "2005"
             ],
             {
              "frame": {
               "duration": 0,
               "redraw": true
              },
              "fromcurrent": true,
              "mode": "immediate",
              "transition": {
               "duration": 0,
               "easing": "linear"
              }
             }
            ],
            "label": "2005",
            "method": "animate"
           },
           {
            "args": [
             [
              "2006"
             ],
             {
              "frame": {
               "duration": 0,
               "redraw": true
              },
              "fromcurrent": true,
              "mode": "immediate",
              "transition": {
               "duration": 0,
               "easing": "linear"
              }
             }
            ],
            "label": "2006",
            "method": "animate"
           },
           {
            "args": [
             [
              "2007"
             ],
             {
              "frame": {
               "duration": 0,
               "redraw": true
              },
              "fromcurrent": true,
              "mode": "immediate",
              "transition": {
               "duration": 0,
               "easing": "linear"
              }
             }
            ],
            "label": "2007",
            "method": "animate"
           },
           {
            "args": [
             [
              "2008"
             ],
             {
              "frame": {
               "duration": 0,
               "redraw": true
              },
              "fromcurrent": true,
              "mode": "immediate",
              "transition": {
               "duration": 0,
               "easing": "linear"
              }
             }
            ],
            "label": "2008",
            "method": "animate"
           },
           {
            "args": [
             [
              "2009"
             ],
             {
              "frame": {
               "duration": 0,
               "redraw": true
              },
              "fromcurrent": true,
              "mode": "immediate",
              "transition": {
               "duration": 0,
               "easing": "linear"
              }
             }
            ],
            "label": "2009",
            "method": "animate"
           },
           {
            "args": [
             [
              "2010"
             ],
             {
              "frame": {
               "duration": 0,
               "redraw": true
              },
              "fromcurrent": true,
              "mode": "immediate",
              "transition": {
               "duration": 0,
               "easing": "linear"
              }
             }
            ],
            "label": "2010",
            "method": "animate"
           },
           {
            "args": [
             [
              "2011"
             ],
             {
              "frame": {
               "duration": 0,
               "redraw": true
              },
              "fromcurrent": true,
              "mode": "immediate",
              "transition": {
               "duration": 0,
               "easing": "linear"
              }
             }
            ],
            "label": "2011",
            "method": "animate"
           },
           {
            "args": [
             [
              "2012"
             ],
             {
              "frame": {
               "duration": 0,
               "redraw": true
              },
              "fromcurrent": true,
              "mode": "immediate",
              "transition": {
               "duration": 0,
               "easing": "linear"
              }
             }
            ],
            "label": "2012",
            "method": "animate"
           },
           {
            "args": [
             [
              "2013"
             ],
             {
              "frame": {
               "duration": 0,
               "redraw": true
              },
              "fromcurrent": true,
              "mode": "immediate",
              "transition": {
               "duration": 0,
               "easing": "linear"
              }
             }
            ],
            "label": "2013",
            "method": "animate"
           },
           {
            "args": [
             [
              "2014"
             ],
             {
              "frame": {
               "duration": 0,
               "redraw": true
              },
              "fromcurrent": true,
              "mode": "immediate",
              "transition": {
               "duration": 0,
               "easing": "linear"
              }
             }
            ],
            "label": "2014",
            "method": "animate"
           },
           {
            "args": [
             [
              "2015"
             ],
             {
              "frame": {
               "duration": 0,
               "redraw": true
              },
              "fromcurrent": true,
              "mode": "immediate",
              "transition": {
               "duration": 0,
               "easing": "linear"
              }
             }
            ],
            "label": "2015",
            "method": "animate"
           },
           {
            "args": [
             [
              "2016"
             ],
             {
              "frame": {
               "duration": 0,
               "redraw": true
              },
              "fromcurrent": true,
              "mode": "immediate",
              "transition": {
               "duration": 0,
               "easing": "linear"
              }
             }
            ],
            "label": "2016",
            "method": "animate"
           },
           {
            "args": [
             [
              "2017"
             ],
             {
              "frame": {
               "duration": 0,
               "redraw": true
              },
              "fromcurrent": true,
              "mode": "immediate",
              "transition": {
               "duration": 0,
               "easing": "linear"
              }
             }
            ],
            "label": "2017",
            "method": "animate"
           },
           {
            "args": [
             [
              "2018"
             ],
             {
              "frame": {
               "duration": 0,
               "redraw": true
              },
              "fromcurrent": true,
              "mode": "immediate",
              "transition": {
               "duration": 0,
               "easing": "linear"
              }
             }
            ],
            "label": "2018",
            "method": "animate"
           },
           {
            "args": [
             [
              "2019"
             ],
             {
              "frame": {
               "duration": 0,
               "redraw": true
              },
              "fromcurrent": true,
              "mode": "immediate",
              "transition": {
               "duration": 0,
               "easing": "linear"
              }
             }
            ],
            "label": "2019",
            "method": "animate"
           },
           {
            "args": [
             [
              "2020"
             ],
             {
              "frame": {
               "duration": 0,
               "redraw": true
              },
              "fromcurrent": true,
              "mode": "immediate",
              "transition": {
               "duration": 0,
               "easing": "linear"
              }
             }
            ],
            "label": "2020",
            "method": "animate"
           },
           {
            "args": [
             [
              "2021"
             ],
             {
              "frame": {
               "duration": 0,
               "redraw": true
              },
              "fromcurrent": true,
              "mode": "immediate",
              "transition": {
               "duration": 0,
               "easing": "linear"
              }
             }
            ],
            "label": "2021",
            "method": "animate"
           },
           {
            "args": [
             [
              "2022"
             ],
             {
              "frame": {
               "duration": 0,
               "redraw": true
              },
              "fromcurrent": true,
              "mode": "immediate",
              "transition": {
               "duration": 0,
               "easing": "linear"
              }
             }
            ],
            "label": "2022",
            "method": "animate"
           }
          ],
          "x": 0.1,
          "xanchor": "left",
          "y": 0,
          "yanchor": "top"
         }
        ],
        "template": {
         "data": {
          "bar": [
           {
            "error_x": {
             "color": "#2a3f5f"
            },
            "error_y": {
             "color": "#2a3f5f"
            },
            "marker": {
             "line": {
              "color": "#E5ECF6",
              "width": 0.5
             },
             "pattern": {
              "fillmode": "overlay",
              "size": 10,
              "solidity": 0.2
             }
            },
            "type": "bar"
           }
          ],
          "barpolar": [
           {
            "marker": {
             "line": {
              "color": "#E5ECF6",
              "width": 0.5
             },
             "pattern": {
              "fillmode": "overlay",
              "size": 10,
              "solidity": 0.2
             }
            },
            "type": "barpolar"
           }
          ],
          "carpet": [
           {
            "aaxis": {
             "endlinecolor": "#2a3f5f",
             "gridcolor": "white",
             "linecolor": "white",
             "minorgridcolor": "white",
             "startlinecolor": "#2a3f5f"
            },
            "baxis": {
             "endlinecolor": "#2a3f5f",
             "gridcolor": "white",
             "linecolor": "white",
             "minorgridcolor": "white",
             "startlinecolor": "#2a3f5f"
            },
            "type": "carpet"
           }
          ],
          "choropleth": [
           {
            "colorbar": {
             "outlinewidth": 0,
             "ticks": ""
            },
            "type": "choropleth"
           }
          ],
          "contour": [
           {
            "colorbar": {
             "outlinewidth": 0,
             "ticks": ""
            },
            "colorscale": [
             [
              0,
              "#0d0887"
             ],
             [
              0.1111111111111111,
              "#46039f"
             ],
             [
              0.2222222222222222,
              "#7201a8"
             ],
             [
              0.3333333333333333,
              "#9c179e"
             ],
             [
              0.4444444444444444,
              "#bd3786"
             ],
             [
              0.5555555555555556,
              "#d8576b"
             ],
             [
              0.6666666666666666,
              "#ed7953"
             ],
             [
              0.7777777777777778,
              "#fb9f3a"
             ],
             [
              0.8888888888888888,
              "#fdca26"
             ],
             [
              1,
              "#f0f921"
             ]
            ],
            "type": "contour"
           }
          ],
          "contourcarpet": [
           {
            "colorbar": {
             "outlinewidth": 0,
             "ticks": ""
            },
            "type": "contourcarpet"
           }
          ],
          "heatmap": [
           {
            "colorbar": {
             "outlinewidth": 0,
             "ticks": ""
            },
            "colorscale": [
             [
              0,
              "#0d0887"
             ],
             [
              0.1111111111111111,
              "#46039f"
             ],
             [
              0.2222222222222222,
              "#7201a8"
             ],
             [
              0.3333333333333333,
              "#9c179e"
             ],
             [
              0.4444444444444444,
              "#bd3786"
             ],
             [
              0.5555555555555556,
              "#d8576b"
             ],
             [
              0.6666666666666666,
              "#ed7953"
             ],
             [
              0.7777777777777778,
              "#fb9f3a"
             ],
             [
              0.8888888888888888,
              "#fdca26"
             ],
             [
              1,
              "#f0f921"
             ]
            ],
            "type": "heatmap"
           }
          ],
          "heatmapgl": [
           {
            "colorbar": {
             "outlinewidth": 0,
             "ticks": ""
            },
            "colorscale": [
             [
              0,
              "#0d0887"
             ],
             [
              0.1111111111111111,
              "#46039f"
             ],
             [
              0.2222222222222222,
              "#7201a8"
             ],
             [
              0.3333333333333333,
              "#9c179e"
             ],
             [
              0.4444444444444444,
              "#bd3786"
             ],
             [
              0.5555555555555556,
              "#d8576b"
             ],
             [
              0.6666666666666666,
              "#ed7953"
             ],
             [
              0.7777777777777778,
              "#fb9f3a"
             ],
             [
              0.8888888888888888,
              "#fdca26"
             ],
             [
              1,
              "#f0f921"
             ]
            ],
            "type": "heatmapgl"
           }
          ],
          "histogram": [
           {
            "marker": {
             "pattern": {
              "fillmode": "overlay",
              "size": 10,
              "solidity": 0.2
             }
            },
            "type": "histogram"
           }
          ],
          "histogram2d": [
           {
            "colorbar": {
             "outlinewidth": 0,
             "ticks": ""
            },
            "colorscale": [
             [
              0,
              "#0d0887"
             ],
             [
              0.1111111111111111,
              "#46039f"
             ],
             [
              0.2222222222222222,
              "#7201a8"
             ],
             [
              0.3333333333333333,
              "#9c179e"
             ],
             [
              0.4444444444444444,
              "#bd3786"
             ],
             [
              0.5555555555555556,
              "#d8576b"
             ],
             [
              0.6666666666666666,
              "#ed7953"
             ],
             [
              0.7777777777777778,
              "#fb9f3a"
             ],
             [
              0.8888888888888888,
              "#fdca26"
             ],
             [
              1,
              "#f0f921"
             ]
            ],
            "type": "histogram2d"
           }
          ],
          "histogram2dcontour": [
           {
            "colorbar": {
             "outlinewidth": 0,
             "ticks": ""
            },
            "colorscale": [
             [
              0,
              "#0d0887"
             ],
             [
              0.1111111111111111,
              "#46039f"
             ],
             [
              0.2222222222222222,
              "#7201a8"
             ],
             [
              0.3333333333333333,
              "#9c179e"
             ],
             [
              0.4444444444444444,
              "#bd3786"
             ],
             [
              0.5555555555555556,
              "#d8576b"
             ],
             [
              0.6666666666666666,
              "#ed7953"
             ],
             [
              0.7777777777777778,
              "#fb9f3a"
             ],
             [
              0.8888888888888888,
              "#fdca26"
             ],
             [
              1,
              "#f0f921"
             ]
            ],
            "type": "histogram2dcontour"
           }
          ],
          "mesh3d": [
           {
            "colorbar": {
             "outlinewidth": 0,
             "ticks": ""
            },
            "type": "mesh3d"
           }
          ],
          "parcoords": [
           {
            "line": {
             "colorbar": {
              "outlinewidth": 0,
              "ticks": ""
             }
            },
            "type": "parcoords"
           }
          ],
          "pie": [
           {
            "automargin": true,
            "type": "pie"
           }
          ],
          "scatter": [
           {
            "fillpattern": {
             "fillmode": "overlay",
             "size": 10,
             "solidity": 0.2
            },
            "type": "scatter"
           }
          ],
          "scatter3d": [
           {
            "line": {
             "colorbar": {
              "outlinewidth": 0,
              "ticks": ""
             }
            },
            "marker": {
             "colorbar": {
              "outlinewidth": 0,
              "ticks": ""
             }
            },
            "type": "scatter3d"
           }
          ],
          "scattercarpet": [
           {
            "marker": {
             "colorbar": {
              "outlinewidth": 0,
              "ticks": ""
             }
            },
            "type": "scattercarpet"
           }
          ],
          "scattergeo": [
           {
            "marker": {
             "colorbar": {
              "outlinewidth": 0,
              "ticks": ""
             }
            },
            "type": "scattergeo"
           }
          ],
          "scattergl": [
           {
            "marker": {
             "colorbar": {
              "outlinewidth": 0,
              "ticks": ""
             }
            },
            "type": "scattergl"
           }
          ],
          "scattermapbox": [
           {
            "marker": {
             "colorbar": {
              "outlinewidth": 0,
              "ticks": ""
             }
            },
            "type": "scattermapbox"
           }
          ],
          "scatterpolar": [
           {
            "marker": {
             "colorbar": {
              "outlinewidth": 0,
              "ticks": ""
             }
            },
            "type": "scatterpolar"
           }
          ],
          "scatterpolargl": [
           {
            "marker": {
             "colorbar": {
              "outlinewidth": 0,
              "ticks": ""
             }
            },
            "type": "scatterpolargl"
           }
          ],
          "scatterternary": [
           {
            "marker": {
             "colorbar": {
              "outlinewidth": 0,
              "ticks": ""
             }
            },
            "type": "scatterternary"
           }
          ],
          "surface": [
           {
            "colorbar": {
             "outlinewidth": 0,
             "ticks": ""
            },
            "colorscale": [
             [
              0,
              "#0d0887"
             ],
             [
              0.1111111111111111,
              "#46039f"
             ],
             [
              0.2222222222222222,
              "#7201a8"
             ],
             [
              0.3333333333333333,
              "#9c179e"
             ],
             [
              0.4444444444444444,
              "#bd3786"
             ],
             [
              0.5555555555555556,
              "#d8576b"
             ],
             [
              0.6666666666666666,
              "#ed7953"
             ],
             [
              0.7777777777777778,
              "#fb9f3a"
             ],
             [
              0.8888888888888888,
              "#fdca26"
             ],
             [
              1,
              "#f0f921"
             ]
            ],
            "type": "surface"
           }
          ],
          "table": [
           {
            "cells": {
             "fill": {
              "color": "#EBF0F8"
             },
             "line": {
              "color": "white"
             }
            },
            "header": {
             "fill": {
              "color": "#C8D4E3"
             },
             "line": {
              "color": "white"
             }
            },
            "type": "table"
           }
          ]
         },
         "layout": {
          "annotationdefaults": {
           "arrowcolor": "#2a3f5f",
           "arrowhead": 0,
           "arrowwidth": 1
          },
          "autotypenumbers": "strict",
          "coloraxis": {
           "colorbar": {
            "outlinewidth": 0,
            "ticks": ""
           }
          },
          "colorscale": {
           "diverging": [
            [
             0,
             "#8e0152"
            ],
            [
             0.1,
             "#c51b7d"
            ],
            [
             0.2,
             "#de77ae"
            ],
            [
             0.3,
             "#f1b6da"
            ],
            [
             0.4,
             "#fde0ef"
            ],
            [
             0.5,
             "#f7f7f7"
            ],
            [
             0.6,
             "#e6f5d0"
            ],
            [
             0.7,
             "#b8e186"
            ],
            [
             0.8,
             "#7fbc41"
            ],
            [
             0.9,
             "#4d9221"
            ],
            [
             1,
             "#276419"
            ]
           ],
           "sequential": [
            [
             0,
             "#0d0887"
            ],
            [
             0.1111111111111111,
             "#46039f"
            ],
            [
             0.2222222222222222,
             "#7201a8"
            ],
            [
             0.3333333333333333,
             "#9c179e"
            ],
            [
             0.4444444444444444,
             "#bd3786"
            ],
            [
             0.5555555555555556,
             "#d8576b"
            ],
            [
             0.6666666666666666,
             "#ed7953"
            ],
            [
             0.7777777777777778,
             "#fb9f3a"
            ],
            [
             0.8888888888888888,
             "#fdca26"
            ],
            [
             1,
             "#f0f921"
            ]
           ],
           "sequentialminus": [
            [
             0,
             "#0d0887"
            ],
            [
             0.1111111111111111,
             "#46039f"
            ],
            [
             0.2222222222222222,
             "#7201a8"
            ],
            [
             0.3333333333333333,
             "#9c179e"
            ],
            [
             0.4444444444444444,
             "#bd3786"
            ],
            [
             0.5555555555555556,
             "#d8576b"
            ],
            [
             0.6666666666666666,
             "#ed7953"
            ],
            [
             0.7777777777777778,
             "#fb9f3a"
            ],
            [
             0.8888888888888888,
             "#fdca26"
            ],
            [
             1,
             "#f0f921"
            ]
           ]
          },
          "colorway": [
           "#636efa",
           "#EF553B",
           "#00cc96",
           "#ab63fa",
           "#FFA15A",
           "#19d3f3",
           "#FF6692",
           "#B6E880",
           "#FF97FF",
           "#FECB52"
          ],
          "font": {
           "color": "#2a3f5f"
          },
          "geo": {
           "bgcolor": "white",
           "lakecolor": "white",
           "landcolor": "#E5ECF6",
           "showlakes": true,
           "showland": true,
           "subunitcolor": "white"
          },
          "hoverlabel": {
           "align": "left"
          },
          "hovermode": "closest",
          "mapbox": {
           "style": "light"
          },
          "paper_bgcolor": "white",
          "plot_bgcolor": "#E5ECF6",
          "polar": {
           "angularaxis": {
            "gridcolor": "white",
            "linecolor": "white",
            "ticks": ""
           },
           "bgcolor": "#E5ECF6",
           "radialaxis": {
            "gridcolor": "white",
            "linecolor": "white",
            "ticks": ""
           }
          },
          "scene": {
           "xaxis": {
            "backgroundcolor": "#E5ECF6",
            "gridcolor": "white",
            "gridwidth": 2,
            "linecolor": "white",
            "showbackground": true,
            "ticks": "",
            "zerolinecolor": "white"
           },
           "yaxis": {
            "backgroundcolor": "#E5ECF6",
            "gridcolor": "white",
            "gridwidth": 2,
            "linecolor": "white",
            "showbackground": true,
            "ticks": "",
            "zerolinecolor": "white"
           },
           "zaxis": {
            "backgroundcolor": "#E5ECF6",
            "gridcolor": "white",
            "gridwidth": 2,
            "linecolor": "white",
            "showbackground": true,
            "ticks": "",
            "zerolinecolor": "white"
           }
          },
          "shapedefaults": {
           "line": {
            "color": "#2a3f5f"
           }
          },
          "ternary": {
           "aaxis": {
            "gridcolor": "white",
            "linecolor": "white",
            "ticks": ""
           },
           "baxis": {
            "gridcolor": "white",
            "linecolor": "white",
            "ticks": ""
           },
           "bgcolor": "#E5ECF6",
           "caxis": {
            "gridcolor": "white",
            "linecolor": "white",
            "ticks": ""
           }
          },
          "title": {
           "x": 0.05
          },
          "xaxis": {
           "automargin": true,
           "gridcolor": "white",
           "linecolor": "white",
           "ticks": "",
           "title": {
            "standoff": 15
           },
           "zerolinecolor": "white",
           "zerolinewidth": 2
          },
          "yaxis": {
           "automargin": true,
           "gridcolor": "white",
           "linecolor": "white",
           "ticks": "",
           "title": {
            "standoff": 15
           },
           "zerolinecolor": "white",
           "zerolinewidth": 2
          }
         }
        },
        "title": {
         "text": "NNI Choropleth Map by Country and Year"
        },
        "updatemenus": [
         {
          "buttons": [
           {
            "args": [
             null,
             {
              "frame": {
               "duration": 500,
               "redraw": true
              },
              "fromcurrent": true,
              "mode": "immediate",
              "transition": {
               "duration": 500,
               "easing": "linear"
              }
             }
            ],
            "label": "&#9654;",
            "method": "animate"
           },
           {
            "args": [
             [
              null
             ],
             {
              "frame": {
               "duration": 0,
               "redraw": true
              },
              "fromcurrent": true,
              "mode": "immediate",
              "transition": {
               "duration": 0,
               "easing": "linear"
              }
             }
            ],
            "label": "&#9724;",
            "method": "animate"
           }
          ],
          "direction": "left",
          "pad": {
           "r": 10,
           "t": 70
          },
          "showactive": false,
          "type": "buttons",
          "x": 0.1,
          "xanchor": "right",
          "y": 0,
          "yanchor": "top"
         }
        ]
       }
      }
     },
     "metadata": {},
     "output_type": "display_data"
    }
   ],
   "source": [
    "import pandas as pd\n",
    "import plotly.express as px\n",
    "\n",
    "# Sample merged DataFrame\n",
    "nni[['Country', 'Year']] = nni['Country_Year'].str.split('_', expand=True)\n",
    "nni.drop(columns=['Country_Year'], inplace=True)\n",
    "nni['nni'] = pd.to_numeric(nni['nni'].str.replace(',', ''), errors='coerce')\n",
    "nni.dropna(inplace=True)\n",
    "heatmap_data = nni.pivot(index='Year', columns='Country')\n",
    "data_to_plot = heatmap_data['nni']  # or heatmap_data['nni']\n",
    "data_to_plot.reset_index(inplace=True)\n",
    "data_to_plot_melted = pd.melt(data_to_plot, id_vars=['Year'], var_name='Country', value_name='nni')\n",
    "\n",
    "# Create choropleth map\n",
    "fig = px.choropleth(data_to_plot_melted, \n",
    "                    locations='Country',\n",
    "                    locationmode='country names',\n",
    "                    color='nni',\n",
    "                    hover_name='Country',\n",
    "                    animation_frame='Year',\n",
    "                    color_continuous_scale='YlGnBu',\n",
    "                    title='NNI Choropleth Map by Country and Year')\n",
    "fig.show()\n"
   ]
  },
  {
   "cell_type": "code",
   "execution_count": 14,
   "metadata": {},
   "outputs": [
    {
     "data": {
      "application/vnd.plotly.v1+json": {
       "config": {
        "plotlyServerURL": "https://plot.ly"
       },
       "data": [
        {
         "hovertemplate": "Average GDP=%{x}<br>Average NNI=%{y}<extra></extra>",
         "legendgroup": "",
         "marker": {
          "color": "#636efa",
          "symbol": "circle"
         },
         "mode": "markers",
         "name": "",
         "orientation": "v",
         "showlegend": false,
         "type": "scatter",
         "x": [
          924.353870967742,
          972.7277419354839,
          1019.7877419354838,
          1089.43,
          1158.175,
          1217.509375,
          1186.299375,
          1243.5787878787878,
          1298.980606060606,
          1330.699393939394,
          1386.7275757575758,
          1421.6612121212122,
          1455.7372727272727,
          1526.510303030303,
          1598.2954545454545,
          1672.3736363636365,
          1769.0175757575757,
          1648.2137500000001,
          1805.6865625,
          2025.8620689655172
         ],
         "xaxis": "x",
         "y": [
          27765.674193548388,
          28987.048387096773,
          30014.732258064516,
          30861.290624999998,
          31967.05625,
          31393.271875,
          29193.912500000002,
          30093.49696969697,
          30404.07878787879,
          30613.424242424244,
          30776.18787878788,
          31312.7,
          31546.89696969697,
          32140.157575757574,
          33090.74848484848,
          33714.54242424242,
          33969.93939393939,
          32652.18125,
          35052.921875,
          34345.21034482759
         ],
         "yaxis": "y"
        }
       ],
       "layout": {
        "legend": {
         "tracegroupgap": 0
        },
        "template": {
         "data": {
          "bar": [
           {
            "error_x": {
             "color": "#2a3f5f"
            },
            "error_y": {
             "color": "#2a3f5f"
            },
            "marker": {
             "line": {
              "color": "#E5ECF6",
              "width": 0.5
             },
             "pattern": {
              "fillmode": "overlay",
              "size": 10,
              "solidity": 0.2
             }
            },
            "type": "bar"
           }
          ],
          "barpolar": [
           {
            "marker": {
             "line": {
              "color": "#E5ECF6",
              "width": 0.5
             },
             "pattern": {
              "fillmode": "overlay",
              "size": 10,
              "solidity": 0.2
             }
            },
            "type": "barpolar"
           }
          ],
          "carpet": [
           {
            "aaxis": {
             "endlinecolor": "#2a3f5f",
             "gridcolor": "white",
             "linecolor": "white",
             "minorgridcolor": "white",
             "startlinecolor": "#2a3f5f"
            },
            "baxis": {
             "endlinecolor": "#2a3f5f",
             "gridcolor": "white",
             "linecolor": "white",
             "minorgridcolor": "white",
             "startlinecolor": "#2a3f5f"
            },
            "type": "carpet"
           }
          ],
          "choropleth": [
           {
            "colorbar": {
             "outlinewidth": 0,
             "ticks": ""
            },
            "type": "choropleth"
           }
          ],
          "contour": [
           {
            "colorbar": {
             "outlinewidth": 0,
             "ticks": ""
            },
            "colorscale": [
             [
              0,
              "#0d0887"
             ],
             [
              0.1111111111111111,
              "#46039f"
             ],
             [
              0.2222222222222222,
              "#7201a8"
             ],
             [
              0.3333333333333333,
              "#9c179e"
             ],
             [
              0.4444444444444444,
              "#bd3786"
             ],
             [
              0.5555555555555556,
              "#d8576b"
             ],
             [
              0.6666666666666666,
              "#ed7953"
             ],
             [
              0.7777777777777778,
              "#fb9f3a"
             ],
             [
              0.8888888888888888,
              "#fdca26"
             ],
             [
              1,
              "#f0f921"
             ]
            ],
            "type": "contour"
           }
          ],
          "contourcarpet": [
           {
            "colorbar": {
             "outlinewidth": 0,
             "ticks": ""
            },
            "type": "contourcarpet"
           }
          ],
          "heatmap": [
           {
            "colorbar": {
             "outlinewidth": 0,
             "ticks": ""
            },
            "colorscale": [
             [
              0,
              "#0d0887"
             ],
             [
              0.1111111111111111,
              "#46039f"
             ],
             [
              0.2222222222222222,
              "#7201a8"
             ],
             [
              0.3333333333333333,
              "#9c179e"
             ],
             [
              0.4444444444444444,
              "#bd3786"
             ],
             [
              0.5555555555555556,
              "#d8576b"
             ],
             [
              0.6666666666666666,
              "#ed7953"
             ],
             [
              0.7777777777777778,
              "#fb9f3a"
             ],
             [
              0.8888888888888888,
              "#fdca26"
             ],
             [
              1,
              "#f0f921"
             ]
            ],
            "type": "heatmap"
           }
          ],
          "heatmapgl": [
           {
            "colorbar": {
             "outlinewidth": 0,
             "ticks": ""
            },
            "colorscale": [
             [
              0,
              "#0d0887"
             ],
             [
              0.1111111111111111,
              "#46039f"
             ],
             [
              0.2222222222222222,
              "#7201a8"
             ],
             [
              0.3333333333333333,
              "#9c179e"
             ],
             [
              0.4444444444444444,
              "#bd3786"
             ],
             [
              0.5555555555555556,
              "#d8576b"
             ],
             [
              0.6666666666666666,
              "#ed7953"
             ],
             [
              0.7777777777777778,
              "#fb9f3a"
             ],
             [
              0.8888888888888888,
              "#fdca26"
             ],
             [
              1,
              "#f0f921"
             ]
            ],
            "type": "heatmapgl"
           }
          ],
          "histogram": [
           {
            "marker": {
             "pattern": {
              "fillmode": "overlay",
              "size": 10,
              "solidity": 0.2
             }
            },
            "type": "histogram"
           }
          ],
          "histogram2d": [
           {
            "colorbar": {
             "outlinewidth": 0,
             "ticks": ""
            },
            "colorscale": [
             [
              0,
              "#0d0887"
             ],
             [
              0.1111111111111111,
              "#46039f"
             ],
             [
              0.2222222222222222,
              "#7201a8"
             ],
             [
              0.3333333333333333,
              "#9c179e"
             ],
             [
              0.4444444444444444,
              "#bd3786"
             ],
             [
              0.5555555555555556,
              "#d8576b"
             ],
             [
              0.6666666666666666,
              "#ed7953"
             ],
             [
              0.7777777777777778,
              "#fb9f3a"
             ],
             [
              0.8888888888888888,
              "#fdca26"
             ],
             [
              1,
              "#f0f921"
             ]
            ],
            "type": "histogram2d"
           }
          ],
          "histogram2dcontour": [
           {
            "colorbar": {
             "outlinewidth": 0,
             "ticks": ""
            },
            "colorscale": [
             [
              0,
              "#0d0887"
             ],
             [
              0.1111111111111111,
              "#46039f"
             ],
             [
              0.2222222222222222,
              "#7201a8"
             ],
             [
              0.3333333333333333,
              "#9c179e"
             ],
             [
              0.4444444444444444,
              "#bd3786"
             ],
             [
              0.5555555555555556,
              "#d8576b"
             ],
             [
              0.6666666666666666,
              "#ed7953"
             ],
             [
              0.7777777777777778,
              "#fb9f3a"
             ],
             [
              0.8888888888888888,
              "#fdca26"
             ],
             [
              1,
              "#f0f921"
             ]
            ],
            "type": "histogram2dcontour"
           }
          ],
          "mesh3d": [
           {
            "colorbar": {
             "outlinewidth": 0,
             "ticks": ""
            },
            "type": "mesh3d"
           }
          ],
          "parcoords": [
           {
            "line": {
             "colorbar": {
              "outlinewidth": 0,
              "ticks": ""
             }
            },
            "type": "parcoords"
           }
          ],
          "pie": [
           {
            "automargin": true,
            "type": "pie"
           }
          ],
          "scatter": [
           {
            "fillpattern": {
             "fillmode": "overlay",
             "size": 10,
             "solidity": 0.2
            },
            "type": "scatter"
           }
          ],
          "scatter3d": [
           {
            "line": {
             "colorbar": {
              "outlinewidth": 0,
              "ticks": ""
             }
            },
            "marker": {
             "colorbar": {
              "outlinewidth": 0,
              "ticks": ""
             }
            },
            "type": "scatter3d"
           }
          ],
          "scattercarpet": [
           {
            "marker": {
             "colorbar": {
              "outlinewidth": 0,
              "ticks": ""
             }
            },
            "type": "scattercarpet"
           }
          ],
          "scattergeo": [
           {
            "marker": {
             "colorbar": {
              "outlinewidth": 0,
              "ticks": ""
             }
            },
            "type": "scattergeo"
           }
          ],
          "scattergl": [
           {
            "marker": {
             "colorbar": {
              "outlinewidth": 0,
              "ticks": ""
             }
            },
            "type": "scattergl"
           }
          ],
          "scattermapbox": [
           {
            "marker": {
             "colorbar": {
              "outlinewidth": 0,
              "ticks": ""
             }
            },
            "type": "scattermapbox"
           }
          ],
          "scatterpolar": [
           {
            "marker": {
             "colorbar": {
              "outlinewidth": 0,
              "ticks": ""
             }
            },
            "type": "scatterpolar"
           }
          ],
          "scatterpolargl": [
           {
            "marker": {
             "colorbar": {
              "outlinewidth": 0,
              "ticks": ""
             }
            },
            "type": "scatterpolargl"
           }
          ],
          "scatterternary": [
           {
            "marker": {
             "colorbar": {
              "outlinewidth": 0,
              "ticks": ""
             }
            },
            "type": "scatterternary"
           }
          ],
          "surface": [
           {
            "colorbar": {
             "outlinewidth": 0,
             "ticks": ""
            },
            "colorscale": [
             [
              0,
              "#0d0887"
             ],
             [
              0.1111111111111111,
              "#46039f"
             ],
             [
              0.2222222222222222,
              "#7201a8"
             ],
             [
              0.3333333333333333,
              "#9c179e"
             ],
             [
              0.4444444444444444,
              "#bd3786"
             ],
             [
              0.5555555555555556,
              "#d8576b"
             ],
             [
              0.6666666666666666,
              "#ed7953"
             ],
             [
              0.7777777777777778,
              "#fb9f3a"
             ],
             [
              0.8888888888888888,
              "#fdca26"
             ],
             [
              1,
              "#f0f921"
             ]
            ],
            "type": "surface"
           }
          ],
          "table": [
           {
            "cells": {
             "fill": {
              "color": "#EBF0F8"
             },
             "line": {
              "color": "white"
             }
            },
            "header": {
             "fill": {
              "color": "#C8D4E3"
             },
             "line": {
              "color": "white"
             }
            },
            "type": "table"
           }
          ]
         },
         "layout": {
          "annotationdefaults": {
           "arrowcolor": "#2a3f5f",
           "arrowhead": 0,
           "arrowwidth": 1
          },
          "autotypenumbers": "strict",
          "coloraxis": {
           "colorbar": {
            "outlinewidth": 0,
            "ticks": ""
           }
          },
          "colorscale": {
           "diverging": [
            [
             0,
             "#8e0152"
            ],
            [
             0.1,
             "#c51b7d"
            ],
            [
             0.2,
             "#de77ae"
            ],
            [
             0.3,
             "#f1b6da"
            ],
            [
             0.4,
             "#fde0ef"
            ],
            [
             0.5,
             "#f7f7f7"
            ],
            [
             0.6,
             "#e6f5d0"
            ],
            [
             0.7,
             "#b8e186"
            ],
            [
             0.8,
             "#7fbc41"
            ],
            [
             0.9,
             "#4d9221"
            ],
            [
             1,
             "#276419"
            ]
           ],
           "sequential": [
            [
             0,
             "#0d0887"
            ],
            [
             0.1111111111111111,
             "#46039f"
            ],
            [
             0.2222222222222222,
             "#7201a8"
            ],
            [
             0.3333333333333333,
             "#9c179e"
            ],
            [
             0.4444444444444444,
             "#bd3786"
            ],
            [
             0.5555555555555556,
             "#d8576b"
            ],
            [
             0.6666666666666666,
             "#ed7953"
            ],
            [
             0.7777777777777778,
             "#fb9f3a"
            ],
            [
             0.8888888888888888,
             "#fdca26"
            ],
            [
             1,
             "#f0f921"
            ]
           ],
           "sequentialminus": [
            [
             0,
             "#0d0887"
            ],
            [
             0.1111111111111111,
             "#46039f"
            ],
            [
             0.2222222222222222,
             "#7201a8"
            ],
            [
             0.3333333333333333,
             "#9c179e"
            ],
            [
             0.4444444444444444,
             "#bd3786"
            ],
            [
             0.5555555555555556,
             "#d8576b"
            ],
            [
             0.6666666666666666,
             "#ed7953"
            ],
            [
             0.7777777777777778,
             "#fb9f3a"
            ],
            [
             0.8888888888888888,
             "#fdca26"
            ],
            [
             1,
             "#f0f921"
            ]
           ]
          },
          "colorway": [
           "#636efa",
           "#EF553B",
           "#00cc96",
           "#ab63fa",
           "#FFA15A",
           "#19d3f3",
           "#FF6692",
           "#B6E880",
           "#FF97FF",
           "#FECB52"
          ],
          "font": {
           "color": "#2a3f5f"
          },
          "geo": {
           "bgcolor": "white",
           "lakecolor": "white",
           "landcolor": "#E5ECF6",
           "showlakes": true,
           "showland": true,
           "subunitcolor": "white"
          },
          "hoverlabel": {
           "align": "left"
          },
          "hovermode": "closest",
          "mapbox": {
           "style": "light"
          },
          "paper_bgcolor": "white",
          "plot_bgcolor": "#E5ECF6",
          "polar": {
           "angularaxis": {
            "gridcolor": "white",
            "linecolor": "white",
            "ticks": ""
           },
           "bgcolor": "#E5ECF6",
           "radialaxis": {
            "gridcolor": "white",
            "linecolor": "white",
            "ticks": ""
           }
          },
          "scene": {
           "xaxis": {
            "backgroundcolor": "#E5ECF6",
            "gridcolor": "white",
            "gridwidth": 2,
            "linecolor": "white",
            "showbackground": true,
            "ticks": "",
            "zerolinecolor": "white"
           },
           "yaxis": {
            "backgroundcolor": "#E5ECF6",
            "gridcolor": "white",
            "gridwidth": 2,
            "linecolor": "white",
            "showbackground": true,
            "ticks": "",
            "zerolinecolor": "white"
           },
           "zaxis": {
            "backgroundcolor": "#E5ECF6",
            "gridcolor": "white",
            "gridwidth": 2,
            "linecolor": "white",
            "showbackground": true,
            "ticks": "",
            "zerolinecolor": "white"
           }
          },
          "shapedefaults": {
           "line": {
            "color": "#2a3f5f"
           }
          },
          "ternary": {
           "aaxis": {
            "gridcolor": "white",
            "linecolor": "white",
            "ticks": ""
           },
           "baxis": {
            "gridcolor": "white",
            "linecolor": "white",
            "ticks": ""
           },
           "bgcolor": "#E5ECF6",
           "caxis": {
            "gridcolor": "white",
            "linecolor": "white",
            "ticks": ""
           }
          },
          "title": {
           "x": 0.05
          },
          "xaxis": {
           "automargin": true,
           "gridcolor": "white",
           "linecolor": "white",
           "ticks": "",
           "title": {
            "standoff": 15
           },
           "zerolinecolor": "white",
           "zerolinewidth": 2
          },
          "yaxis": {
           "automargin": true,
           "gridcolor": "white",
           "linecolor": "white",
           "ticks": "",
           "title": {
            "standoff": 15
           },
           "zerolinecolor": "white",
           "zerolinewidth": 2
          }
         }
        },
        "title": {
         "text": "Scatterplot of Average GDP vs Average NNI"
        },
        "xaxis": {
         "anchor": "y",
         "domain": [
          0,
          1
         ],
         "title": {
          "text": "Average GDP"
         }
        },
        "yaxis": {
         "anchor": "x",
         "domain": [
          0,
          1
         ],
         "title": {
          "text": "Average NNI"
         }
        }
       }
      }
     },
     "metadata": {},
     "output_type": "display_data"
    }
   ],
   "source": [
    "average_data = merged_data.groupby('Year').agg({'gdp': 'mean', 'nni': 'mean'}).reset_index()\n",
    "fig = px.scatter(average_data, x='gdp', y='nni', \n",
    "                 title='Scatterplot of Average GDP vs Average NNI', \n",
    "                 labels={'gdp': 'Average GDP', 'nni': 'Average NNI'})\n",
    "fig.show()\n"
   ]
  },
  {
   "cell_type": "code",
   "execution_count": 19,
   "metadata": {},
   "outputs": [
    {
     "data": {
      "application/vnd.plotly.v1+json": {
       "config": {
        "plotlyServerURL": "https://plot.ly"
       },
       "data": [
        {
         "hovertemplate": "Country=Australia<br>Year=2003<br>gdp=%{x}<br>nni=%{y}<extra></extra>",
         "legendgroup": "Australia",
         "marker": {
          "color": "#636efa",
          "symbol": "circle"
         },
         "mode": "markers",
         "name": "Australia",
         "orientation": "v",
         "showlegend": true,
         "type": "scatter",
         "x": [
          639.13
         ],
         "xaxis": "x",
         "y": [
          31878.3
         ],
         "yaxis": "y"
        },
        {
         "hovertemplate": "Country=Austria<br>Year=2003<br>gdp=%{x}<br>nni=%{y}<extra></extra>",
         "legendgroup": "Austria",
         "marker": {
          "color": "#EF553B",
          "symbol": "circle"
         },
         "mode": "markers",
         "name": "Austria",
         "orientation": "v",
         "showlegend": true,
         "type": "scatter",
         "x": [
          261.07
         ],
         "xaxis": "x",
         "y": [
          37926
         ],
         "yaxis": "y"
        },
        {
         "hovertemplate": "Country=Chile<br>Year=2003<br>gdp=%{x}<br>nni=%{y}<extra></extra>",
         "legendgroup": "Chile",
         "marker": {
          "color": "#00cc96",
          "symbol": "circle"
         },
         "mode": "markers",
         "name": "Chile",
         "orientation": "v",
         "showlegend": true,
         "type": "scatter",
         "x": [
          171.61
         ],
         "xaxis": "x",
         "y": [
          12755.7
         ],
         "yaxis": "y"
        },
        {
         "hovertemplate": "Country=Czechia<br>Year=2003<br>gdp=%{x}<br>nni=%{y}<extra></extra>",
         "legendgroup": "Czechia",
         "marker": {
          "color": "#ab63fa",
          "symbol": "circle"
         },
         "mode": "markers",
         "name": "Czechia",
         "orientation": "v",
         "showlegend": true,
         "type": "scatter",
         "x": [
          199.18
         ],
         "xaxis": "x",
         "y": [
          19612.7
         ],
         "yaxis": "y"
        },
        {
         "hovertemplate": "Country=Denmark<br>Year=2003<br>gdp=%{x}<br>nni=%{y}<extra></extra>",
         "legendgroup": "Denmark",
         "marker": {
          "color": "#FFA15A",
          "symbol": "circle"
         },
         "mode": "markers",
         "name": "Denmark",
         "orientation": "v",
         "showlegend": true,
         "type": "scatter",
         "x": [
          166.15
         ],
         "xaxis": "x",
         "y": [
          36006.9
         ],
         "yaxis": "y"
        },
        {
         "hovertemplate": "Country=Estonia<br>Year=2003<br>gdp=%{x}<br>nni=%{y}<extra></extra>",
         "legendgroup": "Estonia",
         "marker": {
          "color": "#19d3f3",
          "symbol": "circle"
         },
         "mode": "markers",
         "name": "Estonia",
         "orientation": "v",
         "showlegend": true,
         "type": "scatter",
         "x": [
          18
         ],
         "xaxis": "x",
         "y": [
          14994.5
         ],
         "yaxis": "y"
        },
        {
         "hovertemplate": "Country=Finland<br>Year=2003<br>gdp=%{x}<br>nni=%{y}<extra></extra>",
         "legendgroup": "Finland",
         "marker": {
          "color": "#FF6692",
          "symbol": "circle"
         },
         "mode": "markers",
         "name": "Finland",
         "orientation": "v",
         "showlegend": true,
         "type": "scatter",
         "x": [
          151.45
         ],
         "xaxis": "x",
         "y": [
          33937.7
         ],
         "yaxis": "y"
        },
        {
         "hovertemplate": "Country=France<br>Year=2003<br>gdp=%{x}<br>nni=%{y}<extra></extra>",
         "legendgroup": "France",
         "marker": {
          "color": "#B6E880",
          "symbol": "circle"
         },
         "mode": "markers",
         "name": "France",
         "orientation": "v",
         "showlegend": true,
         "type": "scatter",
         "x": [
          1753.7
         ],
         "xaxis": "x",
         "y": [
          32461.9
         ],
         "yaxis": "y"
        },
        {
         "hovertemplate": "Country=Germany<br>Year=2003<br>gdp=%{x}<br>nni=%{y}<extra></extra>",
         "legendgroup": "Germany",
         "marker": {
          "color": "#FF97FF",
          "symbol": "circle"
         },
         "mode": "markers",
         "name": "Germany",
         "orientation": "v",
         "showlegend": true,
         "type": "scatter",
         "x": [
          2468.58
         ],
         "xaxis": "x",
         "y": [
          33387.8
         ],
         "yaxis": "y"
        },
        {
         "hovertemplate": "Country=Hungary<br>Year=2003<br>gdp=%{x}<br>nni=%{y}<extra></extra>",
         "legendgroup": "Hungary",
         "marker": {
          "color": "#FECB52",
          "symbol": "circle"
         },
         "mode": "markers",
         "name": "Hungary",
         "orientation": "v",
         "showlegend": true,
         "type": "scatter",
         "x": [
          156.8
         ],
         "xaxis": "x",
         "y": [
          17306.6
         ],
         "yaxis": "y"
        },
        {
         "hovertemplate": "Country=Ireland<br>Year=2003<br>gdp=%{x}<br>nni=%{y}<extra></extra>",
         "legendgroup": "Ireland",
         "marker": {
          "color": "#636efa",
          "symbol": "circle"
         },
         "mode": "markers",
         "name": "Ireland",
         "orientation": "v",
         "showlegend": true,
         "type": "scatter",
         "x": [
          145.01
         ],
         "xaxis": "x",
         "y": [
          36376.5
         ],
         "yaxis": "y"
        },
        {
         "hovertemplate": "Country=Israel<br>Year=2003<br>gdp=%{x}<br>nni=%{y}<extra></extra>",
         "legendgroup": "Israel",
         "marker": {
          "color": "#EF553B",
          "symbol": "circle"
         },
         "mode": "markers",
         "name": "Israel",
         "orientation": "v",
         "showlegend": true,
         "type": "scatter",
         "x": [
          164.97
         ],
         "xaxis": "x",
         "y": [
          21731.7
         ],
         "yaxis": "y"
        },
        {
         "hovertemplate": "Country=Italy<br>Year=2003<br>gdp=%{x}<br>nni=%{y}<extra></extra>",
         "legendgroup": "Italy",
         "marker": {
          "color": "#00cc96",
          "symbol": "circle"
         },
         "mode": "markers",
         "name": "Italy",
         "orientation": "v",
         "showlegend": true,
         "type": "scatter",
         "x": [
          1673.46
         ],
         "xaxis": "x",
         "y": [
          34179.6
         ],
         "yaxis": "y"
        },
        {
         "hovertemplate": "Country=Japan<br>Year=2003<br>gdp=%{x}<br>nni=%{y}<extra></extra>",
         "legendgroup": "Japan",
         "marker": {
          "color": "#ab63fa",
          "symbol": "circle"
         },
         "mode": "markers",
         "name": "Japan",
         "orientation": "v",
         "showlegend": true,
         "type": "scatter",
         "x": [
          3753.92
         ],
         "xaxis": "x",
         "y": [
          30503.2
         ],
         "yaxis": "y"
        },
        {
         "hovertemplate": "Country=Latvia<br>Year=2003<br>gdp=%{x}<br>nni=%{y}<extra></extra>",
         "legendgroup": "Latvia",
         "marker": {
          "color": "#FFA15A",
          "symbol": "circle"
         },
         "mode": "markers",
         "name": "Latvia",
         "orientation": "v",
         "showlegend": true,
         "type": "scatter",
         "x": [
          25.31
         ],
         "xaxis": "x",
         "y": [
          11267.1
         ],
         "yaxis": "y"
        },
        {
         "hovertemplate": "Country=Lithuania<br>Year=2003<br>gdp=%{x}<br>nni=%{y}<extra></extra>",
         "legendgroup": "Lithuania",
         "marker": {
          "color": "#19d3f3",
          "symbol": "circle"
         },
         "mode": "markers",
         "name": "Lithuania",
         "orientation": "v",
         "showlegend": true,
         "type": "scatter",
         "x": [
          41.22
         ],
         "xaxis": "x",
         "y": [
          13509.7
         ],
         "yaxis": "y"
        },
        {
         "hovertemplate": "Country=Luxembourg<br>Year=2003<br>gdp=%{x}<br>nni=%{y}<extra></extra>",
         "legendgroup": "Luxembourg",
         "marker": {
          "color": "#FF6692",
          "symbol": "circle"
         },
         "mode": "markers",
         "name": "Luxembourg",
         "orientation": "v",
         "showlegend": true,
         "type": "scatter",
         "x": [
          27.19
         ],
         "xaxis": "x",
         "y": [
          61373.3
         ],
         "yaxis": "y"
        },
        {
         "hovertemplate": "Country=Mexico<br>Year=2003<br>gdp=%{x}<br>nni=%{y}<extra></extra>",
         "legendgroup": "Mexico",
         "marker": {
          "color": "#B6E880",
          "symbol": "circle"
         },
         "mode": "markers",
         "name": "Mexico",
         "orientation": "v",
         "showlegend": true,
         "type": "scatter",
         "x": [
          1242.56
         ],
         "xaxis": "x",
         "y": [
          14720.1
         ],
         "yaxis": "y"
        },
        {
         "hovertemplate": "Country=Netherlands<br>Year=2003<br>gdp=%{x}<br>nni=%{y}<extra></extra>",
         "legendgroup": "Netherlands",
         "marker": {
          "color": "#FF97FF",
          "symbol": "circle"
         },
         "mode": "markers",
         "name": "Netherlands",
         "orientation": "v",
         "showlegend": true,
         "type": "scatter",
         "x": [
          554.12
         ],
         "xaxis": "x",
         "y": [
          37835.2
         ],
         "yaxis": "y"
        },
        {
         "hovertemplate": "Country=New Zealand<br>Year=2003<br>gdp=%{x}<br>nni=%{y}<extra></extra>",
         "legendgroup": "New Zealand",
         "marker": {
          "color": "#FECB52",
          "symbol": "circle"
         },
         "mode": "markers",
         "name": "New Zealand",
         "orientation": "v",
         "showlegend": true,
         "type": "scatter",
         "x": [
          96.6
         ],
         "xaxis": "x",
         "y": [
          24986.9
         ],
         "yaxis": "y"
        },
        {
         "hovertemplate": "Country=Norway<br>Year=2003<br>gdp=%{x}<br>nni=%{y}<extra></extra>",
         "legendgroup": "Norway",
         "marker": {
          "color": "#636efa",
          "symbol": "circle"
         },
         "mode": "markers",
         "name": "Norway",
         "orientation": "v",
         "showlegend": true,
         "type": "scatter",
         "x": [
          176.59
         ],
         "xaxis": "x",
         "y": [
          43783
         ],
         "yaxis": "y"
        },
        {
         "hovertemplate": "Country=Portugal<br>Year=2003<br>gdp=%{x}<br>nni=%{y}<extra></extra>",
         "legendgroup": "Portugal",
         "marker": {
          "color": "#EF553B",
          "symbol": "circle"
         },
         "mode": "markers",
         "name": "Portugal",
         "orientation": "v",
         "showlegend": true,
         "type": "scatter",
         "x": [
          218.09
         ],
         "xaxis": "x",
         "y": [
          23565.5
         ],
         "yaxis": "y"
        },
        {
         "hovertemplate": "Country=Slovak Republic<br>Year=2003<br>gdp=%{x}<br>nni=%{y}<extra></extra>",
         "legendgroup": "Slovak Republic",
         "marker": {
          "color": "#00cc96",
          "symbol": "circle"
         },
         "mode": "markers",
         "name": "Slovak Republic",
         "orientation": "v",
         "showlegend": true,
         "type": "scatter",
         "x": [
          76.2
         ],
         "xaxis": "x",
         "y": [
          14235.2
         ],
         "yaxis": "y"
        },
        {
         "hovertemplate": "Country=Slovenia<br>Year=2003<br>gdp=%{x}<br>nni=%{y}<extra></extra>",
         "legendgroup": "Slovenia",
         "marker": {
          "color": "#ab63fa",
          "symbol": "circle"
         },
         "mode": "markers",
         "name": "Slovenia",
         "orientation": "v",
         "showlegend": true,
         "type": "scatter",
         "x": [
          42.14
         ],
         "xaxis": "x",
         "y": [
          22205.1
         ],
         "yaxis": "y"
        },
        {
         "hovertemplate": "Country=Spain<br>Year=2003<br>gdp=%{x}<br>nni=%{y}<extra></extra>",
         "legendgroup": "Spain",
         "marker": {
          "color": "#FFA15A",
          "symbol": "circle"
         },
         "mode": "markers",
         "name": "Spain",
         "orientation": "v",
         "showlegend": true,
         "type": "scatter",
         "x": [
          1056.7
         ],
         "xaxis": "x",
         "y": [
          29725.6
         ],
         "yaxis": "y"
        },
        {
         "hovertemplate": "Country=Sweden<br>Year=2003<br>gdp=%{x}<br>nni=%{y}<extra></extra>",
         "legendgroup": "Sweden",
         "marker": {
          "color": "#19d3f3",
          "symbol": "circle"
         },
         "mode": "markers",
         "name": "Sweden",
         "orientation": "v",
         "showlegend": true,
         "type": "scatter",
         "x": [
          285.02
         ],
         "xaxis": "x",
         "y": [
          35481
         ],
         "yaxis": "y"
        },
        {
         "hovertemplate": "Country=Switzerland<br>Year=2003<br>gdp=%{x}<br>nni=%{y}<extra></extra>",
         "legendgroup": "Switzerland",
         "marker": {
          "color": "#FF6692",
          "symbol": "circle"
         },
         "mode": "markers",
         "name": "Switzerland",
         "orientation": "v",
         "showlegend": true,
         "type": "scatter",
         "x": [
          284.29
         ],
         "xaxis": "x",
         "y": [
          47429.9
         ],
         "yaxis": "y"
        },
        {
         "hovertemplate": "Country=United Kingdom<br>Year=2003<br>gdp=%{x}<br>nni=%{y}<extra></extra>",
         "legendgroup": "United Kingdom",
         "marker": {
          "color": "#B6E880",
          "symbol": "circle"
         },
         "mode": "markers",
         "name": "United Kingdom",
         "orientation": "v",
         "showlegend": true,
         "type": "scatter",
         "x": [
          1808.37
         ],
         "xaxis": "x",
         "y": [
          33342.8
         ],
         "yaxis": "y"
        },
        {
         "hovertemplate": "Country=Euro area<br>Year=2003<br>gdp=%{x}<br>nni=%{y}<extra></extra>",
         "legendgroup": "Euro area",
         "marker": {
          "color": "#FF97FF",
          "symbol": "circle"
         },
         "mode": "markers",
         "name": "Euro area",
         "orientation": "v",
         "showlegend": true,
         "type": "scatter",
         "x": [
          9116.5
         ],
         "xaxis": "x",
         "y": [
          31980.1
         ],
         "yaxis": "y"
        },
        {
         "hovertemplate": "Country=Russia<br>Year=2003<br>gdp=%{x}<br>nni=%{y}<extra></extra>",
         "legendgroup": "Russia",
         "marker": {
          "color": "#FECB52",
          "symbol": "circle"
         },
         "mode": "markers",
         "name": "Russia",
         "orientation": "v",
         "showlegend": true,
         "type": "scatter",
         "x": [
          1437.84
         ],
         "xaxis": "x",
         "y": [
          12644.7
         ],
         "yaxis": "y"
        },
        {
         "hovertemplate": "Country=South Africa<br>Year=2003<br>gdp=%{x}<br>nni=%{y}<extra></extra>",
         "legendgroup": "South Africa",
         "marker": {
          "color": "#636efa",
          "symbol": "circle"
         },
         "mode": "markers",
         "name": "South Africa",
         "orientation": "v",
         "showlegend": true,
         "type": "scatter",
         "x": [
          443.2
         ],
         "xaxis": "x",
         "y": [
          9591.6
         ],
         "yaxis": "y"
        }
       ],
       "frames": [
        {
         "data": [
          {
           "hovertemplate": "Country=Australia<br>Year=2003<br>gdp=%{x}<br>nni=%{y}<extra></extra>",
           "legendgroup": "Australia",
           "marker": {
            "color": "#636efa",
            "symbol": "circle"
           },
           "mode": "markers",
           "name": "Australia",
           "orientation": "v",
           "showlegend": true,
           "type": "scatter",
           "x": [
            639.13
           ],
           "xaxis": "x",
           "y": [
            31878.3
           ],
           "yaxis": "y"
          },
          {
           "hovertemplate": "Country=Austria<br>Year=2003<br>gdp=%{x}<br>nni=%{y}<extra></extra>",
           "legendgroup": "Austria",
           "marker": {
            "color": "#EF553B",
            "symbol": "circle"
           },
           "mode": "markers",
           "name": "Austria",
           "orientation": "v",
           "showlegend": true,
           "type": "scatter",
           "x": [
            261.07
           ],
           "xaxis": "x",
           "y": [
            37926
           ],
           "yaxis": "y"
          },
          {
           "hovertemplate": "Country=Chile<br>Year=2003<br>gdp=%{x}<br>nni=%{y}<extra></extra>",
           "legendgroup": "Chile",
           "marker": {
            "color": "#00cc96",
            "symbol": "circle"
           },
           "mode": "markers",
           "name": "Chile",
           "orientation": "v",
           "showlegend": true,
           "type": "scatter",
           "x": [
            171.61
           ],
           "xaxis": "x",
           "y": [
            12755.7
           ],
           "yaxis": "y"
          },
          {
           "hovertemplate": "Country=Czechia<br>Year=2003<br>gdp=%{x}<br>nni=%{y}<extra></extra>",
           "legendgroup": "Czechia",
           "marker": {
            "color": "#ab63fa",
            "symbol": "circle"
           },
           "mode": "markers",
           "name": "Czechia",
           "orientation": "v",
           "showlegend": true,
           "type": "scatter",
           "x": [
            199.18
           ],
           "xaxis": "x",
           "y": [
            19612.7
           ],
           "yaxis": "y"
          },
          {
           "hovertemplate": "Country=Denmark<br>Year=2003<br>gdp=%{x}<br>nni=%{y}<extra></extra>",
           "legendgroup": "Denmark",
           "marker": {
            "color": "#FFA15A",
            "symbol": "circle"
           },
           "mode": "markers",
           "name": "Denmark",
           "orientation": "v",
           "showlegend": true,
           "type": "scatter",
           "x": [
            166.15
           ],
           "xaxis": "x",
           "y": [
            36006.9
           ],
           "yaxis": "y"
          },
          {
           "hovertemplate": "Country=Estonia<br>Year=2003<br>gdp=%{x}<br>nni=%{y}<extra></extra>",
           "legendgroup": "Estonia",
           "marker": {
            "color": "#19d3f3",
            "symbol": "circle"
           },
           "mode": "markers",
           "name": "Estonia",
           "orientation": "v",
           "showlegend": true,
           "type": "scatter",
           "x": [
            18
           ],
           "xaxis": "x",
           "y": [
            14994.5
           ],
           "yaxis": "y"
          },
          {
           "hovertemplate": "Country=Finland<br>Year=2003<br>gdp=%{x}<br>nni=%{y}<extra></extra>",
           "legendgroup": "Finland",
           "marker": {
            "color": "#FF6692",
            "symbol": "circle"
           },
           "mode": "markers",
           "name": "Finland",
           "orientation": "v",
           "showlegend": true,
           "type": "scatter",
           "x": [
            151.45
           ],
           "xaxis": "x",
           "y": [
            33937.7
           ],
           "yaxis": "y"
          },
          {
           "hovertemplate": "Country=France<br>Year=2003<br>gdp=%{x}<br>nni=%{y}<extra></extra>",
           "legendgroup": "France",
           "marker": {
            "color": "#B6E880",
            "symbol": "circle"
           },
           "mode": "markers",
           "name": "France",
           "orientation": "v",
           "showlegend": true,
           "type": "scatter",
           "x": [
            1753.7
           ],
           "xaxis": "x",
           "y": [
            32461.9
           ],
           "yaxis": "y"
          },
          {
           "hovertemplate": "Country=Germany<br>Year=2003<br>gdp=%{x}<br>nni=%{y}<extra></extra>",
           "legendgroup": "Germany",
           "marker": {
            "color": "#FF97FF",
            "symbol": "circle"
           },
           "mode": "markers",
           "name": "Germany",
           "orientation": "v",
           "showlegend": true,
           "type": "scatter",
           "x": [
            2468.58
           ],
           "xaxis": "x",
           "y": [
            33387.8
           ],
           "yaxis": "y"
          },
          {
           "hovertemplate": "Country=Hungary<br>Year=2003<br>gdp=%{x}<br>nni=%{y}<extra></extra>",
           "legendgroup": "Hungary",
           "marker": {
            "color": "#FECB52",
            "symbol": "circle"
           },
           "mode": "markers",
           "name": "Hungary",
           "orientation": "v",
           "showlegend": true,
           "type": "scatter",
           "x": [
            156.8
           ],
           "xaxis": "x",
           "y": [
            17306.6
           ],
           "yaxis": "y"
          },
          {
           "hovertemplate": "Country=Ireland<br>Year=2003<br>gdp=%{x}<br>nni=%{y}<extra></extra>",
           "legendgroup": "Ireland",
           "marker": {
            "color": "#636efa",
            "symbol": "circle"
           },
           "mode": "markers",
           "name": "Ireland",
           "orientation": "v",
           "showlegend": true,
           "type": "scatter",
           "x": [
            145.01
           ],
           "xaxis": "x",
           "y": [
            36376.5
           ],
           "yaxis": "y"
          },
          {
           "hovertemplate": "Country=Israel<br>Year=2003<br>gdp=%{x}<br>nni=%{y}<extra></extra>",
           "legendgroup": "Israel",
           "marker": {
            "color": "#EF553B",
            "symbol": "circle"
           },
           "mode": "markers",
           "name": "Israel",
           "orientation": "v",
           "showlegend": true,
           "type": "scatter",
           "x": [
            164.97
           ],
           "xaxis": "x",
           "y": [
            21731.7
           ],
           "yaxis": "y"
          },
          {
           "hovertemplate": "Country=Italy<br>Year=2003<br>gdp=%{x}<br>nni=%{y}<extra></extra>",
           "legendgroup": "Italy",
           "marker": {
            "color": "#00cc96",
            "symbol": "circle"
           },
           "mode": "markers",
           "name": "Italy",
           "orientation": "v",
           "showlegend": true,
           "type": "scatter",
           "x": [
            1673.46
           ],
           "xaxis": "x",
           "y": [
            34179.6
           ],
           "yaxis": "y"
          },
          {
           "hovertemplate": "Country=Japan<br>Year=2003<br>gdp=%{x}<br>nni=%{y}<extra></extra>",
           "legendgroup": "Japan",
           "marker": {
            "color": "#ab63fa",
            "symbol": "circle"
           },
           "mode": "markers",
           "name": "Japan",
           "orientation": "v",
           "showlegend": true,
           "type": "scatter",
           "x": [
            3753.92
           ],
           "xaxis": "x",
           "y": [
            30503.2
           ],
           "yaxis": "y"
          },
          {
           "hovertemplate": "Country=Latvia<br>Year=2003<br>gdp=%{x}<br>nni=%{y}<extra></extra>",
           "legendgroup": "Latvia",
           "marker": {
            "color": "#FFA15A",
            "symbol": "circle"
           },
           "mode": "markers",
           "name": "Latvia",
           "orientation": "v",
           "showlegend": true,
           "type": "scatter",
           "x": [
            25.31
           ],
           "xaxis": "x",
           "y": [
            11267.1
           ],
           "yaxis": "y"
          },
          {
           "hovertemplate": "Country=Lithuania<br>Year=2003<br>gdp=%{x}<br>nni=%{y}<extra></extra>",
           "legendgroup": "Lithuania",
           "marker": {
            "color": "#19d3f3",
            "symbol": "circle"
           },
           "mode": "markers",
           "name": "Lithuania",
           "orientation": "v",
           "showlegend": true,
           "type": "scatter",
           "x": [
            41.22
           ],
           "xaxis": "x",
           "y": [
            13509.7
           ],
           "yaxis": "y"
          },
          {
           "hovertemplate": "Country=Luxembourg<br>Year=2003<br>gdp=%{x}<br>nni=%{y}<extra></extra>",
           "legendgroup": "Luxembourg",
           "marker": {
            "color": "#FF6692",
            "symbol": "circle"
           },
           "mode": "markers",
           "name": "Luxembourg",
           "orientation": "v",
           "showlegend": true,
           "type": "scatter",
           "x": [
            27.19
           ],
           "xaxis": "x",
           "y": [
            61373.3
           ],
           "yaxis": "y"
          },
          {
           "hovertemplate": "Country=Mexico<br>Year=2003<br>gdp=%{x}<br>nni=%{y}<extra></extra>",
           "legendgroup": "Mexico",
           "marker": {
            "color": "#B6E880",
            "symbol": "circle"
           },
           "mode": "markers",
           "name": "Mexico",
           "orientation": "v",
           "showlegend": true,
           "type": "scatter",
           "x": [
            1242.56
           ],
           "xaxis": "x",
           "y": [
            14720.1
           ],
           "yaxis": "y"
          },
          {
           "hovertemplate": "Country=Netherlands<br>Year=2003<br>gdp=%{x}<br>nni=%{y}<extra></extra>",
           "legendgroup": "Netherlands",
           "marker": {
            "color": "#FF97FF",
            "symbol": "circle"
           },
           "mode": "markers",
           "name": "Netherlands",
           "orientation": "v",
           "showlegend": true,
           "type": "scatter",
           "x": [
            554.12
           ],
           "xaxis": "x",
           "y": [
            37835.2
           ],
           "yaxis": "y"
          },
          {
           "hovertemplate": "Country=New Zealand<br>Year=2003<br>gdp=%{x}<br>nni=%{y}<extra></extra>",
           "legendgroup": "New Zealand",
           "marker": {
            "color": "#FECB52",
            "symbol": "circle"
           },
           "mode": "markers",
           "name": "New Zealand",
           "orientation": "v",
           "showlegend": true,
           "type": "scatter",
           "x": [
            96.6
           ],
           "xaxis": "x",
           "y": [
            24986.9
           ],
           "yaxis": "y"
          },
          {
           "hovertemplate": "Country=Norway<br>Year=2003<br>gdp=%{x}<br>nni=%{y}<extra></extra>",
           "legendgroup": "Norway",
           "marker": {
            "color": "#636efa",
            "symbol": "circle"
           },
           "mode": "markers",
           "name": "Norway",
           "orientation": "v",
           "showlegend": true,
           "type": "scatter",
           "x": [
            176.59
           ],
           "xaxis": "x",
           "y": [
            43783
           ],
           "yaxis": "y"
          },
          {
           "hovertemplate": "Country=Portugal<br>Year=2003<br>gdp=%{x}<br>nni=%{y}<extra></extra>",
           "legendgroup": "Portugal",
           "marker": {
            "color": "#EF553B",
            "symbol": "circle"
           },
           "mode": "markers",
           "name": "Portugal",
           "orientation": "v",
           "showlegend": true,
           "type": "scatter",
           "x": [
            218.09
           ],
           "xaxis": "x",
           "y": [
            23565.5
           ],
           "yaxis": "y"
          },
          {
           "hovertemplate": "Country=Slovak Republic<br>Year=2003<br>gdp=%{x}<br>nni=%{y}<extra></extra>",
           "legendgroup": "Slovak Republic",
           "marker": {
            "color": "#00cc96",
            "symbol": "circle"
           },
           "mode": "markers",
           "name": "Slovak Republic",
           "orientation": "v",
           "showlegend": true,
           "type": "scatter",
           "x": [
            76.2
           ],
           "xaxis": "x",
           "y": [
            14235.2
           ],
           "yaxis": "y"
          },
          {
           "hovertemplate": "Country=Slovenia<br>Year=2003<br>gdp=%{x}<br>nni=%{y}<extra></extra>",
           "legendgroup": "Slovenia",
           "marker": {
            "color": "#ab63fa",
            "symbol": "circle"
           },
           "mode": "markers",
           "name": "Slovenia",
           "orientation": "v",
           "showlegend": true,
           "type": "scatter",
           "x": [
            42.14
           ],
           "xaxis": "x",
           "y": [
            22205.1
           ],
           "yaxis": "y"
          },
          {
           "hovertemplate": "Country=Spain<br>Year=2003<br>gdp=%{x}<br>nni=%{y}<extra></extra>",
           "legendgroup": "Spain",
           "marker": {
            "color": "#FFA15A",
            "symbol": "circle"
           },
           "mode": "markers",
           "name": "Spain",
           "orientation": "v",
           "showlegend": true,
           "type": "scatter",
           "x": [
            1056.7
           ],
           "xaxis": "x",
           "y": [
            29725.6
           ],
           "yaxis": "y"
          },
          {
           "hovertemplate": "Country=Sweden<br>Year=2003<br>gdp=%{x}<br>nni=%{y}<extra></extra>",
           "legendgroup": "Sweden",
           "marker": {
            "color": "#19d3f3",
            "symbol": "circle"
           },
           "mode": "markers",
           "name": "Sweden",
           "orientation": "v",
           "showlegend": true,
           "type": "scatter",
           "x": [
            285.02
           ],
           "xaxis": "x",
           "y": [
            35481
           ],
           "yaxis": "y"
          },
          {
           "hovertemplate": "Country=Switzerland<br>Year=2003<br>gdp=%{x}<br>nni=%{y}<extra></extra>",
           "legendgroup": "Switzerland",
           "marker": {
            "color": "#FF6692",
            "symbol": "circle"
           },
           "mode": "markers",
           "name": "Switzerland",
           "orientation": "v",
           "showlegend": true,
           "type": "scatter",
           "x": [
            284.29
           ],
           "xaxis": "x",
           "y": [
            47429.9
           ],
           "yaxis": "y"
          },
          {
           "hovertemplate": "Country=United Kingdom<br>Year=2003<br>gdp=%{x}<br>nni=%{y}<extra></extra>",
           "legendgroup": "United Kingdom",
           "marker": {
            "color": "#B6E880",
            "symbol": "circle"
           },
           "mode": "markers",
           "name": "United Kingdom",
           "orientation": "v",
           "showlegend": true,
           "type": "scatter",
           "x": [
            1808.37
           ],
           "xaxis": "x",
           "y": [
            33342.8
           ],
           "yaxis": "y"
          },
          {
           "hovertemplate": "Country=Euro area<br>Year=2003<br>gdp=%{x}<br>nni=%{y}<extra></extra>",
           "legendgroup": "Euro area",
           "marker": {
            "color": "#FF97FF",
            "symbol": "circle"
           },
           "mode": "markers",
           "name": "Euro area",
           "orientation": "v",
           "showlegend": true,
           "type": "scatter",
           "x": [
            9116.5
           ],
           "xaxis": "x",
           "y": [
            31980.1
           ],
           "yaxis": "y"
          },
          {
           "hovertemplate": "Country=Russia<br>Year=2003<br>gdp=%{x}<br>nni=%{y}<extra></extra>",
           "legendgroup": "Russia",
           "marker": {
            "color": "#FECB52",
            "symbol": "circle"
           },
           "mode": "markers",
           "name": "Russia",
           "orientation": "v",
           "showlegend": true,
           "type": "scatter",
           "x": [
            1437.84
           ],
           "xaxis": "x",
           "y": [
            12644.7
           ],
           "yaxis": "y"
          },
          {
           "hovertemplate": "Country=South Africa<br>Year=2003<br>gdp=%{x}<br>nni=%{y}<extra></extra>",
           "legendgroup": "South Africa",
           "marker": {
            "color": "#636efa",
            "symbol": "circle"
           },
           "mode": "markers",
           "name": "South Africa",
           "orientation": "v",
           "showlegend": true,
           "type": "scatter",
           "x": [
            443.2
           ],
           "xaxis": "x",
           "y": [
            9591.6
           ],
           "yaxis": "y"
          }
         ],
         "name": "2003"
        },
        {
         "data": [
          {
           "hovertemplate": "Country=Australia<br>Year=2004<br>gdp=%{x}<br>nni=%{y}<extra></extra>",
           "legendgroup": "Australia",
           "marker": {
            "color": "#636efa",
            "symbol": "circle"
           },
           "mode": "markers",
           "name": "Australia",
           "orientation": "v",
           "showlegend": true,
           "type": "scatter",
           "x": [
            678.09
           ],
           "xaxis": "x",
           "y": [
            32669
           ],
           "yaxis": "y"
          },
          {
           "hovertemplate": "Country=Austria<br>Year=2004<br>gdp=%{x}<br>nni=%{y}<extra></extra>",
           "legendgroup": "Austria",
           "marker": {
            "color": "#EF553B",
            "symbol": "circle"
           },
           "mode": "markers",
           "name": "Austria",
           "orientation": "v",
           "showlegend": true,
           "type": "scatter",
           "x": [
            276.01
           ],
           "xaxis": "x",
           "y": [
            38818.3
           ],
           "yaxis": "y"
          },
          {
           "hovertemplate": "Country=Chile<br>Year=2004<br>gdp=%{x}<br>nni=%{y}<extra></extra>",
           "legendgroup": "Chile",
           "marker": {
            "color": "#00cc96",
            "symbol": "circle"
           },
           "mode": "markers",
           "name": "Chile",
           "orientation": "v",
           "showlegend": true,
           "type": "scatter",
           "x": [
            187.97
           ],
           "xaxis": "x",
           "y": [
            14006.8
           ],
           "yaxis": "y"
          },
          {
           "hovertemplate": "Country=Czechia<br>Year=2004<br>gdp=%{x}<br>nni=%{y}<extra></extra>",
           "legendgroup": "Czechia",
           "marker": {
            "color": "#ab63fa",
            "symbol": "circle"
           },
           "mode": "markers",
           "name": "Czechia",
           "orientation": "v",
           "showlegend": true,
           "type": "scatter",
           "x": [
            213.45
           ],
           "xaxis": "x",
           "y": [
            20490.2
           ],
           "yaxis": "y"
          },
          {
           "hovertemplate": "Country=Denmark<br>Year=2004<br>gdp=%{x}<br>nni=%{y}<extra></extra>",
           "legendgroup": "Denmark",
           "marker": {
            "color": "#FFA15A",
            "symbol": "circle"
           },
           "mode": "markers",
           "name": "Denmark",
           "orientation": "v",
           "showlegend": true,
           "type": "scatter",
           "x": [
            178.02
           ],
           "xaxis": "x",
           "y": [
            37522.4
           ],
           "yaxis": "y"
          },
          {
           "hovertemplate": "Country=Estonia<br>Year=2004<br>gdp=%{x}<br>nni=%{y}<extra></extra>",
           "legendgroup": "Estonia",
           "marker": {
            "color": "#19d3f3",
            "symbol": "circle"
           },
           "mode": "markers",
           "name": "Estonia",
           "orientation": "v",
           "showlegend": true,
           "type": "scatter",
           "x": [
            19.81
           ],
           "xaxis": "x",
           "y": [
            16209.3
           ],
           "yaxis": "y"
          },
          {
           "hovertemplate": "Country=Finland<br>Year=2004<br>gdp=%{x}<br>nni=%{y}<extra></extra>",
           "legendgroup": "Finland",
           "marker": {
            "color": "#FF6692",
            "symbol": "circle"
           },
           "mode": "markers",
           "name": "Finland",
           "orientation": "v",
           "showlegend": true,
           "type": "scatter",
           "x": [
            163.13
           ],
           "xaxis": "x",
           "y": [
            35433.1
           ],
           "yaxis": "y"
          },
          {
           "hovertemplate": "Country=France<br>Year=2004<br>gdp=%{x}<br>nni=%{y}<extra></extra>",
           "legendgroup": "France",
           "marker": {
            "color": "#B6E880",
            "symbol": "circle"
           },
           "mode": "markers",
           "name": "France",
           "orientation": "v",
           "showlegend": true,
           "type": "scatter",
           "x": [
            1822.29
           ],
           "xaxis": "x",
           "y": [
            33048.2
           ],
           "yaxis": "y"
          },
          {
           "hovertemplate": "Country=Germany<br>Year=2004<br>gdp=%{x}<br>nni=%{y}<extra></extra>",
           "legendgroup": "Germany",
           "marker": {
            "color": "#FF97FF",
            "symbol": "circle"
           },
           "mode": "markers",
           "name": "Germany",
           "orientation": "v",
           "showlegend": true,
           "type": "scatter",
           "x": [
            2585.63
           ],
           "xaxis": "x",
           "y": [
            34514.7
           ],
           "yaxis": "y"
          },
          {
           "hovertemplate": "Country=Hungary<br>Year=2004<br>gdp=%{x}<br>nni=%{y}<extra></extra>",
           "legendgroup": "Hungary",
           "marker": {
            "color": "#FECB52",
            "symbol": "circle"
           },
           "mode": "markers",
           "name": "Hungary",
           "orientation": "v",
           "showlegend": true,
           "type": "scatter",
           "x": [
            164.44
           ],
           "xaxis": "x",
           "y": [
            18264.6
           ],
           "yaxis": "y"
          },
          {
           "hovertemplate": "Country=Ireland<br>Year=2004<br>gdp=%{x}<br>nni=%{y}<extra></extra>",
           "legendgroup": "Ireland",
           "marker": {
            "color": "#636efa",
            "symbol": "circle"
           },
           "mode": "markers",
           "name": "Ireland",
           "orientation": "v",
           "showlegend": true,
           "type": "scatter",
           "x": [
            157.66
           ],
           "xaxis": "x",
           "y": [
            36771
           ],
           "yaxis": "y"
          },
          {
           "hovertemplate": "Country=Israel<br>Year=2004<br>gdp=%{x}<br>nni=%{y}<extra></extra>",
           "legendgroup": "Israel",
           "marker": {
            "color": "#EF553B",
            "symbol": "circle"
           },
           "mode": "markers",
           "name": "Israel",
           "orientation": "v",
           "showlegend": true,
           "type": "scatter",
           "x": [
            177.33
           ],
           "xaxis": "x",
           "y": [
            22267.8
           ],
           "yaxis": "y"
          },
          {
           "hovertemplate": "Country=Italy<br>Year=2004<br>gdp=%{x}<br>nni=%{y}<extra></extra>",
           "legendgroup": "Italy",
           "marker": {
            "color": "#00cc96",
            "symbol": "circle"
           },
           "mode": "markers",
           "name": "Italy",
           "orientation": "v",
           "showlegend": true,
           "type": "scatter",
           "x": [
            1704.92
           ],
           "xaxis": "x",
           "y": [
            34391.5
           ],
           "yaxis": "y"
          },
          {
           "hovertemplate": "Country=Japan<br>Year=2004<br>gdp=%{x}<br>nni=%{y}<extra></extra>",
           "legendgroup": "Japan",
           "marker": {
            "color": "#ab63fa",
            "symbol": "circle"
           },
           "mode": "markers",
           "name": "Japan",
           "orientation": "v",
           "showlegend": true,
           "type": "scatter",
           "x": [
            3938.96
           ],
           "xaxis": "x",
           "y": [
            31248.3
           ],
           "yaxis": "y"
          },
          {
           "hovertemplate": "Country=Latvia<br>Year=2004<br>gdp=%{x}<br>nni=%{y}<extra></extra>",
           "legendgroup": "Latvia",
           "marker": {
            "color": "#FFA15A",
            "symbol": "circle"
           },
           "mode": "markers",
           "name": "Latvia",
           "orientation": "v",
           "showlegend": true,
           "type": "scatter",
           "x": [
            27.79
           ],
           "xaxis": "x",
           "y": [
            12386.8
           ],
           "yaxis": "y"
          },
          {
           "hovertemplate": "Country=Lithuania<br>Year=2004<br>gdp=%{x}<br>nni=%{y}<extra></extra>",
           "legendgroup": "Lithuania",
           "marker": {
            "color": "#19d3f3",
            "symbol": "circle"
           },
           "mode": "markers",
           "name": "Lithuania",
           "orientation": "v",
           "showlegend": true,
           "type": "scatter",
           "x": [
            44.01
           ],
           "xaxis": "x",
           "y": [
            15218.1
           ],
           "yaxis": "y"
          },
          {
           "hovertemplate": "Country=Luxembourg<br>Year=2004<br>gdp=%{x}<br>nni=%{y}<extra></extra>",
           "legendgroup": "Luxembourg",
           "marker": {
            "color": "#FF6692",
            "symbol": "circle"
           },
           "mode": "markers",
           "name": "Luxembourg",
           "orientation": "v",
           "showlegend": true,
           "type": "scatter",
           "x": [
            29.64
           ],
           "xaxis": "x",
           "y": [
            71638.6
           ],
           "yaxis": "y"
          },
          {
           "hovertemplate": "Country=Mexico<br>Year=2004<br>gdp=%{x}<br>nni=%{y}<extra></extra>",
           "legendgroup": "Mexico",
           "marker": {
            "color": "#B6E880",
            "symbol": "circle"
           },
           "mode": "markers",
           "name": "Mexico",
           "orientation": "v",
           "showlegend": true,
           "type": "scatter",
           "x": [
            1321.4
           ],
           "xaxis": "x",
           "y": [
            15069.2
           ],
           "yaxis": "y"
          },
          {
           "hovertemplate": "Country=Netherlands<br>Year=2004<br>gdp=%{x}<br>nni=%{y}<extra></extra>",
           "legendgroup": "Netherlands",
           "marker": {
            "color": "#FF97FF",
            "symbol": "circle"
           },
           "mode": "markers",
           "name": "Netherlands",
           "orientation": "v",
           "showlegend": true,
           "type": "scatter",
           "x": [
            583.06
           ],
           "xaxis": "x",
           "y": [
            38249.5
           ],
           "yaxis": "y"
          },
          {
           "hovertemplate": "Country=New Zealand<br>Year=2004<br>gdp=%{x}<br>nni=%{y}<extra></extra>",
           "legendgroup": "New Zealand",
           "marker": {
            "color": "#FECB52",
            "symbol": "circle"
           },
           "mode": "markers",
           "name": "New Zealand",
           "orientation": "v",
           "showlegend": true,
           "type": "scatter",
           "x": [
            102.58
           ],
           "xaxis": "x",
           "y": [
            25476.4
           ],
           "yaxis": "y"
          },
          {
           "hovertemplate": "Country=Norway<br>Year=2004<br>gdp=%{x}<br>nni=%{y}<extra></extra>",
           "legendgroup": "Norway",
           "marker": {
            "color": "#636efa",
            "symbol": "circle"
           },
           "mode": "markers",
           "name": "Norway",
           "orientation": "v",
           "showlegend": true,
           "type": "scatter",
           "x": [
            195.95
           ],
           "xaxis": "x",
           "y": [
            47007.5
           ],
           "yaxis": "y"
          },
          {
           "hovertemplate": "Country=Portugal<br>Year=2004<br>gdp=%{x}<br>nni=%{y}<extra></extra>",
           "legendgroup": "Portugal",
           "marker": {
            "color": "#EF553B",
            "symbol": "circle"
           },
           "mode": "markers",
           "name": "Portugal",
           "orientation": "v",
           "showlegend": true,
           "type": "scatter",
           "x": [
            225.18
           ],
           "xaxis": "x",
           "y": [
            23819.6
           ],
           "yaxis": "y"
          },
          {
           "hovertemplate": "Country=Slovak Republic<br>Year=2004<br>gdp=%{x}<br>nni=%{y}<extra></extra>",
           "legendgroup": "Slovak Republic",
           "marker": {
            "color": "#00cc96",
            "symbol": "circle"
           },
           "mode": "markers",
           "name": "Slovak Republic",
           "orientation": "v",
           "showlegend": true,
           "type": "scatter",
           "x": [
            81.8
           ],
           "xaxis": "x",
           "y": [
            15609
           ],
           "yaxis": "y"
          },
          {
           "hovertemplate": "Country=Slovenia<br>Year=2004<br>gdp=%{x}<br>nni=%{y}<extra></extra>",
           "legendgroup": "Slovenia",
           "marker": {
            "color": "#ab63fa",
            "symbol": "circle"
           },
           "mode": "markers",
           "name": "Slovenia",
           "orientation": "v",
           "showlegend": true,
           "type": "scatter",
           "x": [
            45.46
           ],
           "xaxis": "x",
           "y": [
            22861.8
           ],
           "yaxis": "y"
          },
          {
           "hovertemplate": "Country=Spain<br>Year=2004<br>gdp=%{x}<br>nni=%{y}<extra></extra>",
           "legendgroup": "Spain",
           "marker": {
            "color": "#FFA15A",
            "symbol": "circle"
           },
           "mode": "markers",
           "name": "Spain",
           "orientation": "v",
           "showlegend": true,
           "type": "scatter",
           "x": [
            1122.17
           ],
           "xaxis": "x",
           "y": [
            30032.9
           ],
           "yaxis": "y"
          },
          {
           "hovertemplate": "Country=Sweden<br>Year=2004<br>gdp=%{x}<br>nni=%{y}<extra></extra>",
           "legendgroup": "Sweden",
           "marker": {
            "color": "#19d3f3",
            "symbol": "circle"
           },
           "mode": "markers",
           "name": "Sweden",
           "orientation": "v",
           "showlegend": true,
           "type": "scatter",
           "x": [
            304.52
           ],
           "xaxis": "x",
           "y": [
            36339
           ],
           "yaxis": "y"
          },
          {
           "hovertemplate": "Country=Switzerland<br>Year=2004<br>gdp=%{x}<br>nni=%{y}<extra></extra>",
           "legendgroup": "Switzerland",
           "marker": {
            "color": "#FF6692",
            "symbol": "circle"
           },
           "mode": "markers",
           "name": "Switzerland",
           "orientation": "v",
           "showlegend": true,
           "type": "scatter",
           "x": [
            296.89
           ],
           "xaxis": "x",
           "y": [
            48085.8
           ],
           "yaxis": "y"
          },
          {
           "hovertemplate": "Country=United Kingdom<br>Year=2004<br>gdp=%{x}<br>nni=%{y}<extra></extra>",
           "legendgroup": "United Kingdom",
           "marker": {
            "color": "#B6E880",
            "symbol": "circle"
           },
           "mode": "markers",
           "name": "United Kingdom",
           "orientation": "v",
           "showlegend": true,
           "type": "scatter",
           "x": [
            1922.94
           ],
           "xaxis": "x",
           "y": [
            34006.9
           ],
           "yaxis": "y"
          },
          {
           "hovertemplate": "Country=Euro area<br>Year=2004<br>gdp=%{x}<br>nni=%{y}<extra></extra>",
           "legendgroup": "Euro area",
           "marker": {
            "color": "#FF97FF",
            "symbol": "circle"
           },
           "mode": "markers",
           "name": "Euro area",
           "orientation": "v",
           "showlegend": true,
           "type": "scatter",
           "x": [
            9525.12
           ],
           "xaxis": "x",
           "y": [
            32559.9
           ],
           "yaxis": "y"
          },
          {
           "hovertemplate": "Country=Russia<br>Year=2004<br>gdp=%{x}<br>nni=%{y}<extra></extra>",
           "legendgroup": "Russia",
           "marker": {
            "color": "#FECB52",
            "symbol": "circle"
           },
           "mode": "markers",
           "name": "Russia",
           "orientation": "v",
           "showlegend": true,
           "type": "scatter",
           "x": [
            1582.51
           ],
           "xaxis": "x",
           "y": [
            14571.2
           ],
           "yaxis": "y"
          },
          {
           "hovertemplate": "Country=South Africa<br>Year=2004<br>gdp=%{x}<br>nni=%{y}<extra></extra>",
           "legendgroup": "South Africa",
           "marker": {
            "color": "#636efa",
            "symbol": "circle"
           },
           "mode": "markers",
           "name": "South Africa",
           "orientation": "v",
           "showlegend": true,
           "type": "scatter",
           "x": [
            475.83
           ],
           "xaxis": "x",
           "y": [
            10011.1
           ],
           "yaxis": "y"
          }
         ],
         "name": "2004"
        },
        {
         "data": [
          {
           "hovertemplate": "Country=Australia<br>Year=2005<br>gdp=%{x}<br>nni=%{y}<extra></extra>",
           "legendgroup": "Australia",
           "marker": {
            "color": "#636efa",
            "symbol": "circle"
           },
           "mode": "markers",
           "name": "Australia",
           "orientation": "v",
           "showlegend": true,
           "type": "scatter",
           "x": [
            719.98
           ],
           "xaxis": "x",
           "y": [
            33708.4
           ],
           "yaxis": "y"
          },
          {
           "hovertemplate": "Country=Austria<br>Year=2005<br>gdp=%{x}<br>nni=%{y}<extra></extra>",
           "legendgroup": "Austria",
           "marker": {
            "color": "#EF553B",
            "symbol": "circle"
           },
           "mode": "markers",
           "name": "Austria",
           "orientation": "v",
           "showlegend": true,
           "type": "scatter",
           "x": [
            288.09
           ],
           "xaxis": "x",
           "y": [
            39266.2
           ],
           "yaxis": "y"
          },
          {
           "hovertemplate": "Country=Chile<br>Year=2005<br>gdp=%{x}<br>nni=%{y}<extra></extra>",
           "legendgroup": "Chile",
           "marker": {
            "color": "#00cc96",
            "symbol": "circle"
           },
           "mode": "markers",
           "name": "Chile",
           "orientation": "v",
           "showlegend": true,
           "type": "scatter",
           "x": [
            205.18
           ],
           "xaxis": "x",
           "y": [
            15096.1
           ],
           "yaxis": "y"
          },
          {
           "hovertemplate": "Country=Czechia<br>Year=2005<br>gdp=%{x}<br>nni=%{y}<extra></extra>",
           "legendgroup": "Czechia",
           "marker": {
            "color": "#ab63fa",
            "symbol": "circle"
           },
           "mode": "markers",
           "name": "Czechia",
           "orientation": "v",
           "showlegend": true,
           "type": "scatter",
           "x": [
            225.62
           ],
           "xaxis": "x",
           "y": [
            21694.9
           ],
           "yaxis": "y"
          },
          {
           "hovertemplate": "Country=Denmark<br>Year=2005<br>gdp=%{x}<br>nni=%{y}<extra></extra>",
           "legendgroup": "Denmark",
           "marker": {
            "color": "#FFA15A",
            "symbol": "circle"
           },
           "mode": "markers",
           "name": "Denmark",
           "orientation": "v",
           "showlegend": true,
           "type": "scatter",
           "x": [
            185.07
           ],
           "xaxis": "x",
           "y": [
            39141.2
           ],
           "yaxis": "y"
          },
          {
           "hovertemplate": "Country=Estonia<br>Year=2005<br>gdp=%{x}<br>nni=%{y}<extra></extra>",
           "legendgroup": "Estonia",
           "marker": {
            "color": "#19d3f3",
            "symbol": "circle"
           },
           "mode": "markers",
           "name": "Estonia",
           "orientation": "v",
           "showlegend": true,
           "type": "scatter",
           "x": [
            22.54
           ],
           "xaxis": "x",
           "y": [
            18328.5
           ],
           "yaxis": "y"
          },
          {
           "hovertemplate": "Country=Finland<br>Year=2005<br>gdp=%{x}<br>nni=%{y}<extra></extra>",
           "legendgroup": "Finland",
           "marker": {
            "color": "#FF6692",
            "symbol": "circle"
           },
           "mode": "markers",
           "name": "Finland",
           "orientation": "v",
           "showlegend": true,
           "type": "scatter",
           "x": [
            168.15
           ],
           "xaxis": "x",
           "y": [
            35637.8
           ],
           "yaxis": "y"
          },
          {
           "hovertemplate": "Country=France<br>Year=2005<br>gdp=%{x}<br>nni=%{y}<extra></extra>",
           "legendgroup": "France",
           "marker": {
            "color": "#B6E880",
            "symbol": "circle"
           },
           "mode": "markers",
           "name": "France",
           "orientation": "v",
           "showlegend": true,
           "type": "scatter",
           "x": [
            1926.88
           ],
           "xaxis": "x",
           "y": [
            33252
           ],
           "yaxis": "y"
          },
          {
           "hovertemplate": "Country=Germany<br>Year=2005<br>gdp=%{x}<br>nni=%{y}<extra></extra>",
           "legendgroup": "Germany",
           "marker": {
            "color": "#FF97FF",
            "symbol": "circle"
           },
           "mode": "markers",
           "name": "Germany",
           "orientation": "v",
           "showlegend": true,
           "type": "scatter",
           "x": [
            2622.04
           ],
           "xaxis": "x",
           "y": [
            34677.2
           ],
           "yaxis": "y"
          },
          {
           "hovertemplate": "Country=Hungary<br>Year=2005<br>gdp=%{x}<br>nni=%{y}<extra></extra>",
           "legendgroup": "Hungary",
           "marker": {
            "color": "#FECB52",
            "symbol": "circle"
           },
           "mode": "markers",
           "name": "Hungary",
           "orientation": "v",
           "showlegend": true,
           "type": "scatter",
           "x": [
            172.57
           ],
           "xaxis": "x",
           "y": [
            18884.7
           ],
           "yaxis": "y"
          },
          {
           "hovertemplate": "Country=Ireland<br>Year=2005<br>gdp=%{x}<br>nni=%{y}<extra></extra>",
           "legendgroup": "Ireland",
           "marker": {
            "color": "#636efa",
            "symbol": "circle"
           },
           "mode": "markers",
           "name": "Ireland",
           "orientation": "v",
           "showlegend": true,
           "type": "scatter",
           "x": [
            168.34
           ],
           "xaxis": "x",
           "y": [
            38019.2
           ],
           "yaxis": "y"
          },
          {
           "hovertemplate": "Country=Israel<br>Year=2005<br>gdp=%{x}<br>nni=%{y}<extra></extra>",
           "legendgroup": "Israel",
           "marker": {
            "color": "#EF553B",
            "symbol": "circle"
           },
           "mode": "markers",
           "name": "Israel",
           "orientation": "v",
           "showlegend": true,
           "type": "scatter",
           "x": [
            177.61
           ],
           "xaxis": "x",
           "y": [
            23185.6
           ],
           "yaxis": "y"
          },
          {
           "hovertemplate": "Country=Italy<br>Year=2005<br>gdp=%{x}<br>nni=%{y}<extra></extra>",
           "legendgroup": "Italy",
           "marker": {
            "color": "#00cc96",
            "symbol": "circle"
           },
           "mode": "markers",
           "name": "Italy",
           "orientation": "v",
           "showlegend": true,
           "type": "scatter",
           "x": [
            1746.66
           ],
           "xaxis": "x",
           "y": [
            34261.1
           ],
           "yaxis": "y"
          },
          {
           "hovertemplate": "Country=Japan<br>Year=2005<br>gdp=%{x}<br>nni=%{y}<extra></extra>",
           "legendgroup": "Japan",
           "marker": {
            "color": "#ab63fa",
            "symbol": "circle"
           },
           "mode": "markers",
           "name": "Japan",
           "orientation": "v",
           "showlegend": true,
           "type": "scatter",
           "x": [
            4110.44
           ],
           "xaxis": "x",
           "y": [
            31797.1
           ],
           "yaxis": "y"
          },
          {
           "hovertemplate": "Country=Latvia<br>Year=2005<br>gdp=%{x}<br>nni=%{y}<extra></extra>",
           "legendgroup": "Latvia",
           "marker": {
            "color": "#FFA15A",
            "symbol": "circle"
           },
           "mode": "markers",
           "name": "Latvia",
           "orientation": "v",
           "showlegend": true,
           "type": "scatter",
           "x": [
            31.15
           ],
           "xaxis": "x",
           "y": [
            14166.9
           ],
           "yaxis": "y"
          },
          {
           "hovertemplate": "Country=Lithuania<br>Year=2005<br>gdp=%{x}<br>nni=%{y}<extra></extra>",
           "legendgroup": "Lithuania",
           "marker": {
            "color": "#19d3f3",
            "symbol": "circle"
           },
           "mode": "markers",
           "name": "Lithuania",
           "orientation": "v",
           "showlegend": true,
           "type": "scatter",
           "x": [
            48.21
           ],
           "xaxis": "x",
           "y": [
            16975.8
           ],
           "yaxis": "y"
          },
          {
           "hovertemplate": "Country=Luxembourg<br>Year=2005<br>gdp=%{x}<br>nni=%{y}<extra></extra>",
           "legendgroup": "Luxembourg",
           "marker": {
            "color": "#FF6692",
            "symbol": "circle"
           },
           "mode": "markers",
           "name": "Luxembourg",
           "orientation": "v",
           "showlegend": true,
           "type": "scatter",
           "x": [
            32
           ],
           "xaxis": "x",
           "y": [
            74114.7
           ],
           "yaxis": "y"
          },
          {
           "hovertemplate": "Country=Mexico<br>Year=2005<br>gdp=%{x}<br>nni=%{y}<extra></extra>",
           "legendgroup": "Mexico",
           "marker": {
            "color": "#B6E880",
            "symbol": "circle"
           },
           "mode": "markers",
           "name": "Mexico",
           "orientation": "v",
           "showlegend": true,
           "type": "scatter",
           "x": [
            1403.09
           ],
           "xaxis": "x",
           "y": [
            14997.6
           ],
           "yaxis": "y"
          },
          {
           "hovertemplate": "Country=Netherlands<br>Year=2005<br>gdp=%{x}<br>nni=%{y}<extra></extra>",
           "legendgroup": "Netherlands",
           "marker": {
            "color": "#FF97FF",
            "symbol": "circle"
           },
           "mode": "markers",
           "name": "Netherlands",
           "orientation": "v",
           "showlegend": true,
           "type": "scatter",
           "x": [
            614.04
           ],
           "xaxis": "x",
           "y": [
            38983.9
           ],
           "yaxis": "y"
          },
          {
           "hovertemplate": "Country=New Zealand<br>Year=2005<br>gdp=%{x}<br>nni=%{y}<extra></extra>",
           "legendgroup": "New Zealand",
           "marker": {
            "color": "#FECB52",
            "symbol": "circle"
           },
           "mode": "markers",
           "name": "New Zealand",
           "orientation": "v",
           "showlegend": true,
           "type": "scatter",
           "x": [
            106.15
           ],
           "xaxis": "x",
           "y": [
            25610.5
           ],
           "yaxis": "y"
          },
          {
           "hovertemplate": "Country=Norway<br>Year=2005<br>gdp=%{x}<br>nni=%{y}<extra></extra>",
           "legendgroup": "Norway",
           "marker": {
            "color": "#636efa",
            "symbol": "circle"
           },
           "mode": "markers",
           "name": "Norway",
           "orientation": "v",
           "showlegend": true,
           "type": "scatter",
           "x": [
            221.76
           ],
           "xaxis": "x",
           "y": [
            51881.9
           ],
           "yaxis": "y"
          },
          {
           "hovertemplate": "Country=Portugal<br>Year=2005<br>gdp=%{x}<br>nni=%{y}<extra></extra>",
           "legendgroup": "Portugal",
           "marker": {
            "color": "#EF553B",
            "symbol": "circle"
           },
           "mode": "markers",
           "name": "Portugal",
           "orientation": "v",
           "showlegend": true,
           "type": "scatter",
           "x": [
            238.69
           ],
           "xaxis": "x",
           "y": [
            23841.9
           ],
           "yaxis": "y"
          },
          {
           "hovertemplate": "Country=Slovak Republic<br>Year=2005<br>gdp=%{x}<br>nni=%{y}<extra></extra>",
           "legendgroup": "Slovak Republic",
           "marker": {
            "color": "#00cc96",
            "symbol": "circle"
           },
           "mode": "markers",
           "name": "Slovak Republic",
           "orientation": "v",
           "showlegend": true,
           "type": "scatter",
           "x": [
            89.4
           ],
           "xaxis": "x",
           "y": [
            17284.1
           ],
           "yaxis": "y"
          },
          {
           "hovertemplate": "Country=Slovenia<br>Year=2005<br>gdp=%{x}<br>nni=%{y}<extra></extra>",
           "legendgroup": "Slovenia",
           "marker": {
            "color": "#ab63fa",
            "symbol": "circle"
           },
           "mode": "markers",
           "name": "Slovenia",
           "orientation": "v",
           "showlegend": true,
           "type": "scatter",
           "x": [
            47.72
           ],
           "xaxis": "x",
           "y": [
            23472.8
           ],
           "yaxis": "y"
          },
          {
           "hovertemplate": "Country=Spain<br>Year=2005<br>gdp=%{x}<br>nni=%{y}<extra></extra>",
           "legendgroup": "Spain",
           "marker": {
            "color": "#FFA15A",
            "symbol": "circle"
           },
           "mode": "markers",
           "name": "Spain",
           "orientation": "v",
           "showlegend": true,
           "type": "scatter",
           "x": [
            1205.13
           ],
           "xaxis": "x",
           "y": [
            30399.4
           ],
           "yaxis": "y"
          },
          {
           "hovertemplate": "Country=Sweden<br>Year=2005<br>gdp=%{x}<br>nni=%{y}<extra></extra>",
           "legendgroup": "Sweden",
           "marker": {
            "color": "#19d3f3",
            "symbol": "circle"
           },
           "mode": "markers",
           "name": "Sweden",
           "orientation": "v",
           "showlegend": true,
           "type": "scatter",
           "x": [
            309.21
           ],
           "xaxis": "x",
           "y": [
            37284.7
           ],
           "yaxis": "y"
          },
          {
           "hovertemplate": "Country=Switzerland<br>Year=2005<br>gdp=%{x}<br>nni=%{y}<extra></extra>",
           "legendgroup": "Switzerland",
           "marker": {
            "color": "#FF6692",
            "symbol": "circle"
           },
           "mode": "markers",
           "name": "Switzerland",
           "orientation": "v",
           "showlegend": true,
           "type": "scatter",
           "x": [
            308.83
           ],
           "xaxis": "x",
           "y": [
            50199.2
           ],
           "yaxis": "y"
          },
          {
           "hovertemplate": "Country=United Kingdom<br>Year=2005<br>gdp=%{x}<br>nni=%{y}<extra></extra>",
           "legendgroup": "United Kingdom",
           "marker": {
            "color": "#B6E880",
            "symbol": "circle"
           },
           "mode": "markers",
           "name": "United Kingdom",
           "orientation": "v",
           "showlegend": true,
           "type": "scatter",
           "x": [
            1976.7
           ],
           "xaxis": "x",
           "y": [
            34805.6
           ],
           "yaxis": "y"
          },
          {
           "hovertemplate": "Country=Euro area<br>Year=2005<br>gdp=%{x}<br>nni=%{y}<extra></extra>",
           "legendgroup": "Euro area",
           "marker": {
            "color": "#FF97FF",
            "symbol": "circle"
           },
           "mode": "markers",
           "name": "Euro area",
           "orientation": "v",
           "showlegend": true,
           "type": "scatter",
           "x": [
            9903.08
           ],
           "xaxis": "x",
           "y": [
            32602.6
           ],
           "yaxis": "y"
          },
          {
           "hovertemplate": "Country=Russia<br>Year=2005<br>gdp=%{x}<br>nni=%{y}<extra></extra>",
           "legendgroup": "Russia",
           "marker": {
            "color": "#FECB52",
            "symbol": "circle"
           },
           "mode": "markers",
           "name": "Russia",
           "orientation": "v",
           "showlegend": true,
           "type": "scatter",
           "x": [
            1822.44
           ],
           "xaxis": "x",
           "y": [
            16352.6
           ],
           "yaxis": "y"
          },
          {
           "hovertemplate": "Country=South Africa<br>Year=2005<br>gdp=%{x}<br>nni=%{y}<extra></extra>",
           "legendgroup": "South Africa",
           "marker": {
            "color": "#636efa",
            "symbol": "circle"
           },
           "mode": "markers",
           "name": "South Africa",
           "orientation": "v",
           "showlegend": true,
           "type": "scatter",
           "x": [
            516.65
           ],
           "xaxis": "x",
           "y": [
            10532.5
           ],
           "yaxis": "y"
          }
         ],
         "name": "2005"
        },
        {
         "data": [
          {
           "hovertemplate": "Country=Australia<br>Year=2006<br>gdp=%{x}<br>nni=%{y}<extra></extra>",
           "legendgroup": "Australia",
           "marker": {
            "color": "#636efa",
            "symbol": "circle"
           },
           "mode": "markers",
           "name": "Australia",
           "orientation": "v",
           "showlegend": true,
           "type": "scatter",
           "x": [
            776.41
           ],
           "xaxis": "x",
           "y": [
            34780.5
           ],
           "yaxis": "y"
          },
          {
           "hovertemplate": "Country=Austria<br>Year=2006<br>gdp=%{x}<br>nni=%{y}<extra></extra>",
           "legendgroup": "Austria",
           "marker": {
            "color": "#EF553B",
            "symbol": "circle"
           },
           "mode": "markers",
           "name": "Austria",
           "orientation": "v",
           "showlegend": true,
           "type": "scatter",
           "x": [
            311.41
           ],
           "xaxis": "x",
           "y": [
            40694.5
           ],
           "yaxis": "y"
          },
          {
           "hovertemplate": "Country=Chile<br>Year=2006<br>gdp=%{x}<br>nni=%{y}<extra></extra>",
           "legendgroup": "Chile",
           "marker": {
            "color": "#00cc96",
            "symbol": "circle"
           },
           "mode": "markers",
           "name": "Chile",
           "orientation": "v",
           "showlegend": true,
           "type": "scatter",
           "x": [
            256.07
           ],
           "xaxis": "x",
           "y": [
            16820.8
           ],
           "yaxis": "y"
          },
          {
           "hovertemplate": "Country=Czechia<br>Year=2006<br>gdp=%{x}<br>nni=%{y}<extra></extra>",
           "legendgroup": "Czechia",
           "marker": {
            "color": "#ab63fa",
            "symbol": "circle"
           },
           "mode": "markers",
           "name": "Czechia",
           "orientation": "v",
           "showlegend": true,
           "type": "scatter",
           "x": [
            244.95
           ],
           "xaxis": "x",
           "y": [
            22395.9
           ],
           "yaxis": "y"
          },
          {
           "hovertemplate": "Country=Denmark<br>Year=2006<br>gdp=%{x}<br>nni=%{y}<extra></extra>",
           "legendgroup": "Denmark",
           "marker": {
            "color": "#FFA15A",
            "symbol": "circle"
           },
           "mode": "markers",
           "name": "Denmark",
           "orientation": "v",
           "showlegend": true,
           "type": "scatter",
           "x": [
            203
           ],
           "xaxis": "x",
           "y": [
            40751.9
           ],
           "yaxis": "y"
          },
          {
           "hovertemplate": "Country=Estonia<br>Year=2006<br>gdp=%{x}<br>nni=%{y}<extra></extra>",
           "legendgroup": "Estonia",
           "marker": {
            "color": "#19d3f3",
            "symbol": "circle"
           },
           "mode": "markers",
           "name": "Estonia",
           "orientation": "v",
           "showlegend": true,
           "type": "scatter",
           "x": [
            26.05
           ],
           "xaxis": "x",
           "y": [
            20405.5
           ],
           "yaxis": "y"
          },
          {
           "hovertemplate": "Country=Finland<br>Year=2006<br>gdp=%{x}<br>nni=%{y}<extra></extra>",
           "legendgroup": "Finland",
           "marker": {
            "color": "#FF6692",
            "symbol": "circle"
           },
           "mode": "markers",
           "name": "Finland",
           "orientation": "v",
           "showlegend": true,
           "type": "scatter",
           "x": [
            181.45
           ],
           "xaxis": "x",
           "y": [
            36715
           ],
           "yaxis": "y"
          },
          {
           "hovertemplate": "Country=France<br>Year=2006<br>gdp=%{x}<br>nni=%{y}<extra></extra>",
           "legendgroup": "France",
           "marker": {
            "color": "#B6E880",
            "symbol": "circle"
           },
           "mode": "markers",
           "name": "France",
           "orientation": "v",
           "showlegend": true,
           "type": "scatter",
           "x": [
            2065.68
           ],
           "xaxis": "x",
           "y": [
            33687.7
           ],
           "yaxis": "y"
          },
          {
           "hovertemplate": "Country=Germany<br>Year=2006<br>gdp=%{x}<br>nni=%{y}<extra></extra>",
           "legendgroup": "Germany",
           "marker": {
            "color": "#FF97FF",
            "symbol": "circle"
           },
           "mode": "markers",
           "name": "Germany",
           "orientation": "v",
           "showlegend": true,
           "type": "scatter",
           "x": [
            2813.99
           ],
           "xaxis": "x",
           "y": [
            36347.2
           ],
           "yaxis": "y"
          },
          {
           "hovertemplate": "Country=Hungary<br>Year=2006<br>gdp=%{x}<br>nni=%{y}<extra></extra>",
           "legendgroup": "Hungary",
           "marker": {
            "color": "#FECB52",
            "symbol": "circle"
           },
           "mode": "markers",
           "name": "Hungary",
           "orientation": "v",
           "showlegend": true,
           "type": "scatter",
           "x": [
            185.15
           ],
           "xaxis": "x",
           "y": [
            19423.3
           ],
           "yaxis": "y"
          },
          {
           "hovertemplate": "Country=Ireland<br>Year=2006<br>gdp=%{x}<br>nni=%{y}<extra></extra>",
           "legendgroup": "Ireland",
           "marker": {
            "color": "#636efa",
            "symbol": "circle"
           },
           "mode": "markers",
           "name": "Ireland",
           "orientation": "v",
           "showlegend": true,
           "type": "scatter",
           "x": [
            189.03
           ],
           "xaxis": "x",
           "y": [
            38786.3
           ],
           "yaxis": "y"
          },
          {
           "hovertemplate": "Country=Israel<br>Year=2006<br>gdp=%{x}<br>nni=%{y}<extra></extra>",
           "legendgroup": "Israel",
           "marker": {
            "color": "#EF553B",
            "symbol": "circle"
           },
           "mode": "markers",
           "name": "Israel",
           "orientation": "v",
           "showlegend": true,
           "type": "scatter",
           "x": [
            185.77
           ],
           "xaxis": "x",
           "y": [
            24248.9
           ],
           "yaxis": "y"
          },
          {
           "hovertemplate": "Country=Italy<br>Year=2006<br>gdp=%{x}<br>nni=%{y}<extra></extra>",
           "legendgroup": "Italy",
           "marker": {
            "color": "#00cc96",
            "symbol": "circle"
           },
           "mode": "markers",
           "name": "Italy",
           "orientation": "v",
           "showlegend": true,
           "type": "scatter",
           "x": [
            1886.97
           ],
           "xaxis": "x",
           "y": [
            34499.8
           ],
           "yaxis": "y"
          },
          {
           "hovertemplate": "Country=Japan<br>Year=2006<br>gdp=%{x}<br>nni=%{y}<extra></extra>",
           "legendgroup": "Japan",
           "marker": {
            "color": "#ab63fa",
            "symbol": "circle"
           },
           "mode": "markers",
           "name": "Japan",
           "orientation": "v",
           "showlegend": true,
           "type": "scatter",
           "x": [
            4300.32
           ],
           "xaxis": "x",
           "y": [
            31877.5
           ],
           "yaxis": "y"
          },
          {
           "hovertemplate": "Country=Latvia<br>Year=2006<br>gdp=%{x}<br>nni=%{y}<extra></extra>",
           "legendgroup": "Latvia",
           "marker": {
            "color": "#FFA15A",
            "symbol": "circle"
           },
           "mode": "markers",
           "name": "Latvia",
           "orientation": "v",
           "showlegend": true,
           "type": "scatter",
           "x": [
            35.18
           ],
           "xaxis": "x",
           "y": [
            15611.2
           ],
           "yaxis": "y"
          },
          {
           "hovertemplate": "Country=Lithuania<br>Year=2006<br>gdp=%{x}<br>nni=%{y}<extra></extra>",
           "legendgroup": "Lithuania",
           "marker": {
            "color": "#19d3f3",
            "symbol": "circle"
           },
           "mode": "markers",
           "name": "Lithuania",
           "orientation": "v",
           "showlegend": true,
           "type": "scatter",
           "x": [
            53.9
           ],
           "xaxis": "x",
           "y": [
            18202.8
           ],
           "yaxis": "y"
          },
          {
           "hovertemplate": "Country=Luxembourg<br>Year=2006<br>gdp=%{x}<br>nni=%{y}<extra></extra>",
           "legendgroup": "Luxembourg",
           "marker": {
            "color": "#FF6692",
            "symbol": "circle"
           },
           "mode": "markers",
           "name": "Luxembourg",
           "orientation": "v",
           "showlegend": true,
           "type": "scatter",
           "x": [
            37.28
           ],
           "xaxis": "x",
           "y": [
            69512.4
           ],
           "yaxis": "y"
          },
          {
           "hovertemplate": "Country=Mexico<br>Year=2006<br>gdp=%{x}<br>nni=%{y}<extra></extra>",
           "legendgroup": "Mexico",
           "marker": {
            "color": "#B6E880",
            "symbol": "circle"
           },
           "mode": "markers",
           "name": "Mexico",
           "orientation": "v",
           "showlegend": true,
           "type": "scatter",
           "x": [
            1559.65
           ],
           "xaxis": "x",
           "y": [
            15796.7
           ],
           "yaxis": "y"
          },
          {
           "hovertemplate": "Country=Netherlands<br>Year=2006<br>gdp=%{x}<br>nni=%{y}<extra></extra>",
           "legendgroup": "Netherlands",
           "marker": {
            "color": "#FF97FF",
            "symbol": "circle"
           },
           "mode": "markers",
           "name": "Netherlands",
           "orientation": "v",
           "showlegend": true,
           "type": "scatter",
           "x": [
            670.41
           ],
           "xaxis": "x",
           "y": [
            40934.2
           ],
           "yaxis": "y"
          },
          {
           "hovertemplate": "Country=New Zealand<br>Year=2006<br>gdp=%{x}<br>nni=%{y}<extra></extra>",
           "legendgroup": "New Zealand",
           "marker": {
            "color": "#FECB52",
            "symbol": "circle"
           },
           "mode": "markers",
           "name": "New Zealand",
           "orientation": "v",
           "showlegend": true,
           "type": "scatter",
           "x": [
            116.1
           ],
           "xaxis": "x",
           "y": [
            25607.5
           ],
           "yaxis": "y"
          },
          {
           "hovertemplate": "Country=Norway<br>Year=2006<br>gdp=%{x}<br>nni=%{y}<extra></extra>",
           "legendgroup": "Norway",
           "marker": {
            "color": "#636efa",
            "symbol": "circle"
           },
           "mode": "markers",
           "name": "Norway",
           "orientation": "v",
           "showlegend": true,
           "type": "scatter",
           "x": [
            253.4
           ],
           "xaxis": "x",
           "y": [
            54856.2
           ],
           "yaxis": "y"
          },
          {
           "hovertemplate": "Country=Portugal<br>Year=2006<br>gdp=%{x}<br>nni=%{y}<extra></extra>",
           "legendgroup": "Portugal",
           "marker": {
            "color": "#EF553B",
            "symbol": "circle"
           },
           "mode": "markers",
           "name": "Portugal",
           "orientation": "v",
           "showlegend": true,
           "type": "scatter",
           "x": [
            259.72
           ],
           "xaxis": "x",
           "y": [
            23780.7
           ],
           "yaxis": "y"
          },
          {
           "hovertemplate": "Country=Slovak Republic<br>Year=2006<br>gdp=%{x}<br>nni=%{y}<extra></extra>",
           "legendgroup": "Slovak Republic",
           "marker": {
            "color": "#00cc96",
            "symbol": "circle"
           },
           "mode": "markers",
           "name": "Slovak Republic",
           "orientation": "v",
           "showlegend": true,
           "type": "scatter",
           "x": [
            101.63
           ],
           "xaxis": "x",
           "y": [
            18823.7
           ],
           "yaxis": "y"
          },
          {
           "hovertemplate": "Country=Slovenia<br>Year=2006<br>gdp=%{x}<br>nni=%{y}<extra></extra>",
           "legendgroup": "Slovenia",
           "marker": {
            "color": "#ab63fa",
            "symbol": "circle"
           },
           "mode": "markers",
           "name": "Slovenia",
           "orientation": "v",
           "showlegend": true,
           "type": "scatter",
           "x": [
            51.62
           ],
           "xaxis": "x",
           "y": [
            24657.5
           ],
           "yaxis": "y"
          },
          {
           "hovertemplate": "Country=Spain<br>Year=2006<br>gdp=%{x}<br>nni=%{y}<extra></extra>",
           "legendgroup": "Spain",
           "marker": {
            "color": "#FFA15A",
            "symbol": "circle"
           },
           "mode": "markers",
           "name": "Spain",
           "orientation": "v",
           "showlegend": true,
           "type": "scatter",
           "x": [
            1363.89
           ],
           "xaxis": "x",
           "y": [
            30998.1
           ],
           "yaxis": "y"
          },
          {
           "hovertemplate": "Country=Sweden<br>Year=2006<br>gdp=%{x}<br>nni=%{y}<extra></extra>",
           "legendgroup": "Sweden",
           "marker": {
            "color": "#19d3f3",
            "symbol": "circle"
           },
           "mode": "markers",
           "name": "Sweden",
           "orientation": "v",
           "showlegend": true,
           "type": "scatter",
           "x": [
            342.61
           ],
           "xaxis": "x",
           "y": [
            39519.8
           ],
           "yaxis": "y"
          },
          {
           "hovertemplate": "Country=Switzerland<br>Year=2006<br>gdp=%{x}<br>nni=%{y}<extra></extra>",
           "legendgroup": "Switzerland",
           "marker": {
            "color": "#FF6692",
            "symbol": "circle"
           },
           "mode": "markers",
           "name": "Switzerland",
           "orientation": "v",
           "showlegend": true,
           "type": "scatter",
           "x": [
            346.32
           ],
           "xaxis": "x",
           "y": [
            51570.2
           ],
           "yaxis": "y"
          },
          {
           "hovertemplate": "Country=United Kingdom<br>Year=2006<br>gdp=%{x}<br>nni=%{y}<extra></extra>",
           "legendgroup": "United Kingdom",
           "marker": {
            "color": "#B6E880",
            "symbol": "circle"
           },
           "mode": "markers",
           "name": "United Kingdom",
           "orientation": "v",
           "showlegend": true,
           "type": "scatter",
           "x": [
            2113.5
           ],
           "xaxis": "x",
           "y": [
            34726
           ],
           "yaxis": "y"
          },
          {
           "hovertemplate": "Country=Euro area<br>Year=2006<br>gdp=%{x}<br>nni=%{y}<extra></extra>",
           "legendgroup": "Euro area",
           "marker": {
            "color": "#FF97FF",
            "symbol": "circle"
           },
           "mode": "markers",
           "name": "Euro area",
           "orientation": "v",
           "showlegend": true,
           "type": "scatter",
           "x": [
            10762.01
           ],
           "xaxis": "x",
           "y": [
            33641.5
           ],
           "yaxis": "y"
          },
          {
           "hovertemplate": "Country=Russia<br>Year=2006<br>gdp=%{x}<br>nni=%{y}<extra></extra>",
           "legendgroup": "Russia",
           "marker": {
            "color": "#FECB52",
            "symbol": "circle"
           },
           "mode": "markers",
           "name": "Russia",
           "orientation": "v",
           "showlegend": true,
           "type": "scatter",
           "x": [
            2291.24
           ],
           "xaxis": "x",
           "y": [
            18457.7
           ],
           "yaxis": "y"
          },
          {
           "hovertemplate": "Country=South Africa<br>Year=2006<br>gdp=%{x}<br>nni=%{y}<extra></extra>",
           "legendgroup": "South Africa",
           "marker": {
            "color": "#636efa",
            "symbol": "circle"
           },
           "mode": "markers",
           "name": "South Africa",
           "orientation": "v",
           "showlegend": true,
           "type": "scatter",
           "x": [
            562.43
           ],
           "xaxis": "x",
           "y": [
            11076.2
           ],
           "yaxis": "y"
          },
          {
           "hovertemplate": "Country=Greece<br>Year=2006<br>gdp=%{x}<br>nni=%{y}<extra></extra>",
           "legendgroup": "Greece",
           "marker": {
            "color": "#EF553B",
            "symbol": "circle"
           },
           "mode": "markers",
           "name": "Greece",
           "orientation": "v",
           "showlegend": true,
           "type": "scatter",
           "x": [
            314.62
           ],
           "xaxis": "x",
           "y": [
            28354.1
           ],
           "yaxis": "y"
          }
         ],
         "name": "2006"
        },
        {
         "data": [
          {
           "hovertemplate": "Country=Australia<br>Year=2007<br>gdp=%{x}<br>nni=%{y}<extra></extra>",
           "legendgroup": "Australia",
           "marker": {
            "color": "#636efa",
            "symbol": "circle"
           },
           "mode": "markers",
           "name": "Australia",
           "orientation": "v",
           "showlegend": true,
           "type": "scatter",
           "x": [
            826.93
           ],
           "xaxis": "x",
           "y": [
            36050.2
           ],
           "yaxis": "y"
          },
          {
           "hovertemplate": "Country=Austria<br>Year=2007<br>gdp=%{x}<br>nni=%{y}<extra></extra>",
           "legendgroup": "Austria",
           "marker": {
            "color": "#EF553B",
            "symbol": "circle"
           },
           "mode": "markers",
           "name": "Austria",
           "orientation": "v",
           "showlegend": true,
           "type": "scatter",
           "x": [
            327.17
           ],
           "xaxis": "x",
           "y": [
            41934.3
           ],
           "yaxis": "y"
          },
          {
           "hovertemplate": "Country=Chile<br>Year=2007<br>gdp=%{x}<br>nni=%{y}<extra></extra>",
           "legendgroup": "Chile",
           "marker": {
            "color": "#00cc96",
            "symbol": "circle"
           },
           "mode": "markers",
           "name": "Chile",
           "orientation": "v",
           "showlegend": true,
           "type": "scatter",
           "x": [
            278.37
           ],
           "xaxis": "x",
           "y": [
            17888.6
           ],
           "yaxis": "y"
          },
          {
           "hovertemplate": "Country=Czechia<br>Year=2007<br>gdp=%{x}<br>nni=%{y}<extra></extra>",
           "legendgroup": "Czechia",
           "marker": {
            "color": "#ab63fa",
            "symbol": "circle"
           },
           "mode": "markers",
           "name": "Czechia",
           "orientation": "v",
           "showlegend": true,
           "type": "scatter",
           "x": [
            270.74
           ],
           "xaxis": "x",
           "y": [
            23642.6
           ],
           "yaxis": "y"
          },
          {
           "hovertemplate": "Country=Denmark<br>Year=2007<br>gdp=%{x}<br>nni=%{y}<extra></extra>",
           "legendgroup": "Denmark",
           "marker": {
            "color": "#FFA15A",
            "symbol": "circle"
           },
           "mode": "markers",
           "name": "Denmark",
           "orientation": "v",
           "showlegend": true,
           "type": "scatter",
           "x": [
            213.08
           ],
           "xaxis": "x",
           "y": [
            40240.2
           ],
           "yaxis": "y"
          },
          {
           "hovertemplate": "Country=Estonia<br>Year=2007<br>gdp=%{x}<br>nni=%{y}<extra></extra>",
           "legendgroup": "Estonia",
           "marker": {
            "color": "#19d3f3",
            "symbol": "circle"
           },
           "mode": "markers",
           "name": "Estonia",
           "orientation": "v",
           "showlegend": true,
           "type": "scatter",
           "x": [
            29.76
           ],
           "xaxis": "x",
           "y": [
            22114.5
           ],
           "yaxis": "y"
          },
          {
           "hovertemplate": "Country=Finland<br>Year=2007<br>gdp=%{x}<br>nni=%{y}<extra></extra>",
           "legendgroup": "Finland",
           "marker": {
            "color": "#FF6692",
            "symbol": "circle"
           },
           "mode": "markers",
           "name": "Finland",
           "orientation": "v",
           "showlegend": true,
           "type": "scatter",
           "x": [
            200.16
           ],
           "xaxis": "x",
           "y": [
            38226.9
           ],
           "yaxis": "y"
          },
          {
           "hovertemplate": "Country=France<br>Year=2007<br>gdp=%{x}<br>nni=%{y}<extra></extra>",
           "legendgroup": "France",
           "marker": {
            "color": "#B6E880",
            "symbol": "circle"
           },
           "mode": "markers",
           "name": "France",
           "orientation": "v",
           "showlegend": true,
           "type": "scatter",
           "x": [
            2184.81
           ],
           "xaxis": "x",
           "y": [
            34356.9
           ],
           "yaxis": "y"
          },
          {
           "hovertemplate": "Country=Germany<br>Year=2007<br>gdp=%{x}<br>nni=%{y}<extra></extra>",
           "legendgroup": "Germany",
           "marker": {
            "color": "#FF97FF",
            "symbol": "circle"
           },
           "mode": "markers",
           "name": "Germany",
           "orientation": "v",
           "showlegend": true,
           "type": "scatter",
           "x": [
            2985.92
           ],
           "xaxis": "x",
           "y": [
            37434.9
           ],
           "yaxis": "y"
          },
          {
           "hovertemplate": "Country=Hungary<br>Year=2007<br>gdp=%{x}<br>nni=%{y}<extra></extra>",
           "legendgroup": "Hungary",
           "marker": {
            "color": "#FECB52",
            "symbol": "circle"
           },
           "mode": "markers",
           "name": "Hungary",
           "orientation": "v",
           "showlegend": true,
           "type": "scatter",
           "x": [
            192.05
           ],
           "xaxis": "x",
           "y": [
            19193.2
           ],
           "yaxis": "y"
          },
          {
           "hovertemplate": "Country=Ireland<br>Year=2007<br>gdp=%{x}<br>nni=%{y}<extra></extra>",
           "legendgroup": "Ireland",
           "marker": {
            "color": "#636efa",
            "symbol": "circle"
           },
           "mode": "markers",
           "name": "Ireland",
           "orientation": "v",
           "showlegend": true,
           "type": "scatter",
           "x": [
            205.8
           ],
           "xaxis": "x",
           "y": [
            39046.7
           ],
           "yaxis": "y"
          },
          {
           "hovertemplate": "Country=Israel<br>Year=2007<br>gdp=%{x}<br>nni=%{y}<extra></extra>",
           "legendgroup": "Israel",
           "marker": {
            "color": "#EF553B",
            "symbol": "circle"
           },
           "mode": "markers",
           "name": "Israel",
           "orientation": "v",
           "showlegend": true,
           "type": "scatter",
           "x": [
            202.28
           ],
           "xaxis": "x",
           "y": [
            25231.4
           ],
           "yaxis": "y"
          },
          {
           "hovertemplate": "Country=Italy<br>Year=2007<br>gdp=%{x}<br>nni=%{y}<extra></extra>",
           "legendgroup": "Italy",
           "marker": {
            "color": "#00cc96",
            "symbol": "circle"
           },
           "mode": "markers",
           "name": "Italy",
           "orientation": "v",
           "showlegend": true,
           "type": "scatter",
           "x": [
            1995.61
           ],
           "xaxis": "x",
           "y": [
            34727.1
           ],
           "yaxis": "y"
          },
          {
           "hovertemplate": "Country=Japan<br>Year=2007<br>gdp=%{x}<br>nni=%{y}<extra></extra>",
           "legendgroup": "Japan",
           "marker": {
            "color": "#ab63fa",
            "symbol": "circle"
           },
           "mode": "markers",
           "name": "Japan",
           "orientation": "v",
           "showlegend": true,
           "type": "scatter",
           "x": [
            4482.08
           ],
           "xaxis": "x",
           "y": [
            32186.2
           ],
           "yaxis": "y"
          },
          {
           "hovertemplate": "Country=Latvia<br>Year=2007<br>gdp=%{x}<br>nni=%{y}<extra></extra>",
           "legendgroup": "Latvia",
           "marker": {
            "color": "#FFA15A",
            "symbol": "circle"
           },
           "mode": "markers",
           "name": "Latvia",
           "orientation": "v",
           "showlegend": true,
           "type": "scatter",
           "x": [
            40.14
           ],
           "xaxis": "x",
           "y": [
            18108.3
           ],
           "yaxis": "y"
          },
          {
           "hovertemplate": "Country=Lithuania<br>Year=2007<br>gdp=%{x}<br>nni=%{y}<extra></extra>",
           "legendgroup": "Lithuania",
           "marker": {
            "color": "#19d3f3",
            "symbol": "circle"
           },
           "mode": "markers",
           "name": "Lithuania",
           "orientation": "v",
           "showlegend": true,
           "type": "scatter",
           "x": [
            61.71
           ],
           "xaxis": "x",
           "y": [
            20284.5
           ],
           "yaxis": "y"
          },
          {
           "hovertemplate": "Country=Luxembourg<br>Year=2007<br>gdp=%{x}<br>nni=%{y}<extra></extra>",
           "legendgroup": "Luxembourg",
           "marker": {
            "color": "#FF6692",
            "symbol": "circle"
           },
           "mode": "markers",
           "name": "Luxembourg",
           "orientation": "v",
           "showlegend": true,
           "type": "scatter",
           "x": [
            40.86
           ],
           "xaxis": "x",
           "y": [
            79034.4
           ],
           "yaxis": "y"
          },
          {
           "hovertemplate": "Country=Mexico<br>Year=2007<br>gdp=%{x}<br>nni=%{y}<extra></extra>",
           "legendgroup": "Mexico",
           "marker": {
            "color": "#B6E880",
            "symbol": "circle"
           },
           "mode": "markers",
           "name": "Mexico",
           "orientation": "v",
           "showlegend": true,
           "type": "scatter",
           "x": [
            1635.08
           ],
           "xaxis": "x",
           "y": [
            15863.3
           ],
           "yaxis": "y"
          },
          {
           "hovertemplate": "Country=Netherlands<br>Year=2007<br>gdp=%{x}<br>nni=%{y}<extra></extra>",
           "legendgroup": "Netherlands",
           "marker": {
            "color": "#FF97FF",
            "symbol": "circle"
           },
           "mode": "markers",
           "name": "Netherlands",
           "orientation": "v",
           "showlegend": true,
           "type": "scatter",
           "x": [
            719.96
           ],
           "xaxis": "x",
           "y": [
            42142.1
           ],
           "yaxis": "y"
          },
          {
           "hovertemplate": "Country=New Zealand<br>Year=2007<br>gdp=%{x}<br>nni=%{y}<extra></extra>",
           "legendgroup": "New Zealand",
           "marker": {
            "color": "#FECB52",
            "symbol": "circle"
           },
           "mode": "markers",
           "name": "New Zealand",
           "orientation": "v",
           "showlegend": true,
           "type": "scatter",
           "x": [
            123.98
           ],
           "xaxis": "x",
           "y": [
            26985.8
           ],
           "yaxis": "y"
          },
          {
           "hovertemplate": "Country=Norway<br>Year=2007<br>gdp=%{x}<br>nni=%{y}<extra></extra>",
           "legendgroup": "Norway",
           "marker": {
            "color": "#636efa",
            "symbol": "circle"
           },
           "mode": "markers",
           "name": "Norway",
           "orientation": "v",
           "showlegend": true,
           "type": "scatter",
           "x": [
            264.57
           ],
           "xaxis": "x",
           "y": [
            54761.1
           ],
           "yaxis": "y"
          },
          {
           "hovertemplate": "Country=Portugal<br>Year=2007<br>gdp=%{x}<br>nni=%{y}<extra></extra>",
           "legendgroup": "Portugal",
           "marker": {
            "color": "#EF553B",
            "symbol": "circle"
           },
           "mode": "markers",
           "name": "Portugal",
           "orientation": "v",
           "showlegend": true,
           "type": "scatter",
           "x": [
            271.36
           ],
           "xaxis": "x",
           "y": [
            24438.2
           ],
           "yaxis": "y"
          },
          {
           "hovertemplate": "Country=Slovak Republic<br>Year=2007<br>gdp=%{x}<br>nni=%{y}<extra></extra>",
           "legendgroup": "Slovak Republic",
           "marker": {
            "color": "#00cc96",
            "symbol": "circle"
           },
           "mode": "markers",
           "name": "Slovak Republic",
           "orientation": "v",
           "showlegend": true,
           "type": "scatter",
           "x": [
            114.09
           ],
           "xaxis": "x",
           "y": [
            21018.2
           ],
           "yaxis": "y"
          },
          {
           "hovertemplate": "Country=Slovenia<br>Year=2007<br>gdp=%{x}<br>nni=%{y}<extra></extra>",
           "legendgroup": "Slovenia",
           "marker": {
            "color": "#ab63fa",
            "symbol": "circle"
           },
           "mode": "markers",
           "name": "Slovenia",
           "orientation": "v",
           "showlegend": true,
           "type": "scatter",
           "x": [
            55.65
           ],
           "xaxis": "x",
           "y": [
            26280.5
           ],
           "yaxis": "y"
          },
          {
           "hovertemplate": "Country=Spain<br>Year=2007<br>gdp=%{x}<br>nni=%{y}<extra></extra>",
           "legendgroup": "Spain",
           "marker": {
            "color": "#FFA15A",
            "symbol": "circle"
           },
           "mode": "markers",
           "name": "Spain",
           "orientation": "v",
           "showlegend": true,
           "type": "scatter",
           "x": [
            1468.83
           ],
           "xaxis": "x",
           "y": [
            31352.9
           ],
           "yaxis": "y"
          },
          {
           "hovertemplate": "Country=Sweden<br>Year=2007<br>gdp=%{x}<br>nni=%{y}<extra></extra>",
           "legendgroup": "Sweden",
           "marker": {
            "color": "#19d3f3",
            "symbol": "circle"
           },
           "mode": "markers",
           "name": "Sweden",
           "orientation": "v",
           "showlegend": true,
           "type": "scatter",
           "x": [
            374.29
           ],
           "xaxis": "x",
           "y": [
            41025.5
           ],
           "yaxis": "y"
          },
          {
           "hovertemplate": "Country=Switzerland<br>Year=2007<br>gdp=%{x}<br>nni=%{y}<extra></extra>",
           "legendgroup": "Switzerland",
           "marker": {
            "color": "#FF6692",
            "symbol": "circle"
           },
           "mode": "markers",
           "name": "Switzerland",
           "orientation": "v",
           "showlegend": true,
           "type": "scatter",
           "x": [
            384.57
           ],
           "xaxis": "x",
           "y": [
            48917.3
           ],
           "yaxis": "y"
          },
          {
           "hovertemplate": "Country=United Kingdom<br>Year=2007<br>gdp=%{x}<br>nni=%{y}<extra></extra>",
           "legendgroup": "United Kingdom",
           "marker": {
            "color": "#B6E880",
            "symbol": "circle"
           },
           "mode": "markers",
           "name": "United Kingdom",
           "orientation": "v",
           "showlegend": true,
           "type": "scatter",
           "x": [
            2178.38
           ],
           "xaxis": "x",
           "y": [
            35063.8
           ],
           "yaxis": "y"
          },
          {
           "hovertemplate": "Country=Euro area<br>Year=2007<br>gdp=%{x}<br>nni=%{y}<extra></extra>",
           "legendgroup": "Euro area",
           "marker": {
            "color": "#FF97FF",
            "symbol": "circle"
           },
           "mode": "markers",
           "name": "Euro area",
           "orientation": "v",
           "showlegend": true,
           "type": "scatter",
           "x": [
            11447.14
           ],
           "xaxis": "x",
           "y": [
            34422.7
           ],
           "yaxis": "y"
          },
          {
           "hovertemplate": "Country=Russia<br>Year=2007<br>gdp=%{x}<br>nni=%{y}<extra></extra>",
           "legendgroup": "Russia",
           "marker": {
            "color": "#FECB52",
            "symbol": "circle"
           },
           "mode": "markers",
           "name": "Russia",
           "orientation": "v",
           "showlegend": true,
           "type": "scatter",
           "x": [
            2553.61
           ],
           "xaxis": "x",
           "y": [
            20613.3
           ],
           "yaxis": "y"
          },
          {
           "hovertemplate": "Country=South Africa<br>Year=2007<br>gdp=%{x}<br>nni=%{y}<extra></extra>",
           "legendgroup": "South Africa",
           "marker": {
            "color": "#636efa",
            "symbol": "circle"
           },
           "mode": "markers",
           "name": "South Africa",
           "orientation": "v",
           "showlegend": true,
           "type": "scatter",
           "x": [
            608.6
           ],
           "xaxis": "x",
           "y": [
            11382.7
           ],
           "yaxis": "y"
          },
          {
           "hovertemplate": "Country=Greece<br>Year=2007<br>gdp=%{x}<br>nni=%{y}<extra></extra>",
           "legendgroup": "Greece",
           "marker": {
            "color": "#EF553B",
            "symbol": "circle"
           },
           "mode": "markers",
           "name": "Greece",
           "orientation": "v",
           "showlegend": true,
           "type": "scatter",
           "x": [
            324.02
           ],
           "xaxis": "x",
           "y": [
            28977.5
           ],
           "yaxis": "y"
          }
         ],
         "name": "2007"
        },
        {
         "data": [
          {
           "hovertemplate": "Country=Australia<br>Year=2008<br>gdp=%{x}<br>nni=%{y}<extra></extra>",
           "legendgroup": "Australia",
           "marker": {
            "color": "#636efa",
            "symbol": "circle"
           },
           "mode": "markers",
           "name": "Australia",
           "orientation": "v",
           "showlegend": true,
           "type": "scatter",
           "x": [
            852.86
           ],
           "xaxis": "x",
           "y": [
            36742.4
           ],
           "yaxis": "y"
          },
          {
           "hovertemplate": "Country=Austria<br>Year=2008<br>gdp=%{x}<br>nni=%{y}<extra></extra>",
           "legendgroup": "Austria",
           "marker": {
            "color": "#EF553B",
            "symbol": "circle"
           },
           "mode": "markers",
           "name": "Austria",
           "orientation": "v",
           "showlegend": true,
           "type": "scatter",
           "x": [
            343.81
           ],
           "xaxis": "x",
           "y": [
            42473.6
           ],
           "yaxis": "y"
          },
          {
           "hovertemplate": "Country=Chile<br>Year=2008<br>gdp=%{x}<br>nni=%{y}<extra></extra>",
           "legendgroup": "Chile",
           "marker": {
            "color": "#00cc96",
            "symbol": "circle"
           },
           "mode": "markers",
           "name": "Chile",
           "orientation": "v",
           "showlegend": true,
           "type": "scatter",
           "x": [
            275.75
           ],
           "xaxis": "x",
           "y": [
            17329.5
           ],
           "yaxis": "y"
          },
          {
           "hovertemplate": "Country=Czechia<br>Year=2008<br>gdp=%{x}<br>nni=%{y}<extra></extra>",
           "legendgroup": "Czechia",
           "marker": {
            "color": "#ab63fa",
            "symbol": "circle"
           },
           "mode": "markers",
           "name": "Czechia",
           "orientation": "v",
           "showlegend": true,
           "type": "scatter",
           "x": [
            290.5
           ],
           "xaxis": "x",
           "y": [
            23792.1
           ],
           "yaxis": "y"
          },
          {
           "hovertemplate": "Country=Denmark<br>Year=2008<br>gdp=%{x}<br>nni=%{y}<extra></extra>",
           "legendgroup": "Denmark",
           "marker": {
            "color": "#FFA15A",
            "symbol": "circle"
           },
           "mode": "markers",
           "name": "Denmark",
           "orientation": "v",
           "showlegend": true,
           "type": "scatter",
           "x": [
            226.77
           ],
           "xaxis": "x",
           "y": [
            39965.2
           ],
           "yaxis": "y"
          },
          {
           "hovertemplate": "Country=Estonia<br>Year=2008<br>gdp=%{x}<br>nni=%{y}<extra></extra>",
           "legendgroup": "Estonia",
           "marker": {
            "color": "#19d3f3",
            "symbol": "circle"
           },
           "mode": "markers",
           "name": "Estonia",
           "orientation": "v",
           "showlegend": true,
           "type": "scatter",
           "x": [
            30.49
           ],
           "xaxis": "x",
           "y": [
            21243.4
           ],
           "yaxis": "y"
          },
          {
           "hovertemplate": "Country=Finland<br>Year=2008<br>gdp=%{x}<br>nni=%{y}<extra></extra>",
           "legendgroup": "Finland",
           "marker": {
            "color": "#FF6692",
            "symbol": "circle"
           },
           "mode": "markers",
           "name": "Finland",
           "orientation": "v",
           "showlegend": true,
           "type": "scatter",
           "x": [
            212.98
           ],
           "xaxis": "x",
           "y": [
            37617.7
           ],
           "yaxis": "y"
          },
          {
           "hovertemplate": "Country=France<br>Year=2008<br>gdp=%{x}<br>nni=%{y}<extra></extra>",
           "legendgroup": "France",
           "marker": {
            "color": "#B6E880",
            "symbol": "circle"
           },
           "mode": "markers",
           "name": "France",
           "orientation": "v",
           "showlegend": true,
           "type": "scatter",
           "x": [
            2259.26
           ],
           "xaxis": "x",
           "y": [
            34028
           ],
           "yaxis": "y"
          },
          {
           "hovertemplate": "Country=Germany<br>Year=2008<br>gdp=%{x}<br>nni=%{y}<extra></extra>",
           "legendgroup": "Germany",
           "marker": {
            "color": "#FF97FF",
            "symbol": "circle"
           },
           "mode": "markers",
           "name": "Germany",
           "orientation": "v",
           "showlegend": true,
           "type": "scatter",
           "x": [
            3103.96
           ],
           "xaxis": "x",
           "y": [
            37253.7
           ],
           "yaxis": "y"
          },
          {
           "hovertemplate": "Country=Hungary<br>Year=2008<br>gdp=%{x}<br>nni=%{y}<extra></extra>",
           "legendgroup": "Hungary",
           "marker": {
            "color": "#FECB52",
            "symbol": "circle"
           },
           "mode": "markers",
           "name": "Hungary",
           "orientation": "v",
           "showlegend": true,
           "type": "scatter",
           "x": [
            208.01
           ],
           "xaxis": "x",
           "y": [
            19492.7
           ],
           "yaxis": "y"
          },
          {
           "hovertemplate": "Country=Ireland<br>Year=2008<br>gdp=%{x}<br>nni=%{y}<extra></extra>",
           "legendgroup": "Ireland",
           "marker": {
            "color": "#636efa",
            "symbol": "circle"
           },
           "mode": "markers",
           "name": "Ireland",
           "orientation": "v",
           "showlegend": true,
           "type": "scatter",
           "x": [
            198.3
           ],
           "xaxis": "x",
           "y": [
            36532.7
           ],
           "yaxis": "y"
          },
          {
           "hovertemplate": "Country=Israel<br>Year=2008<br>gdp=%{x}<br>nni=%{y}<extra></extra>",
           "legendgroup": "Israel",
           "marker": {
            "color": "#EF553B",
            "symbol": "circle"
           },
           "mode": "markers",
           "name": "Israel",
           "orientation": "v",
           "showlegend": true,
           "type": "scatter",
           "x": [
            204.63
           ],
           "xaxis": "x",
           "y": [
            24980.5
           ],
           "yaxis": "y"
          },
          {
           "hovertemplate": "Country=Italy<br>Year=2008<br>gdp=%{x}<br>nni=%{y}<extra></extra>",
           "legendgroup": "Italy",
           "marker": {
            "color": "#00cc96",
            "symbol": "circle"
           },
           "mode": "markers",
           "name": "Italy",
           "orientation": "v",
           "showlegend": true,
           "type": "scatter",
           "x": [
            2089.72
           ],
           "xaxis": "x",
           "y": [
            33304.4
           ],
           "yaxis": "y"
          },
          {
           "hovertemplate": "Country=Japan<br>Year=2008<br>gdp=%{x}<br>nni=%{y}<extra></extra>",
           "legendgroup": "Japan",
           "marker": {
            "color": "#ab63fa",
            "symbol": "circle"
           },
           "mode": "markers",
           "name": "Japan",
           "orientation": "v",
           "showlegend": true,
           "type": "scatter",
           "x": [
            4517.27
           ],
           "xaxis": "x",
           "y": [
            30649.9
           ],
           "yaxis": "y"
          },
          {
           "hovertemplate": "Country=Latvia<br>Year=2008<br>gdp=%{x}<br>nni=%{y}<extra></extra>",
           "legendgroup": "Latvia",
           "marker": {
            "color": "#FFA15A",
            "symbol": "circle"
           },
           "mode": "markers",
           "name": "Latvia",
           "orientation": "v",
           "showlegend": true,
           "type": "scatter",
           "x": [
            42.62
           ],
           "xaxis": "x",
           "y": [
            17919.4
           ],
           "yaxis": "y"
          },
          {
           "hovertemplate": "Country=Lithuania<br>Year=2008<br>gdp=%{x}<br>nni=%{y}<extra></extra>",
           "legendgroup": "Lithuania",
           "marker": {
            "color": "#19d3f3",
            "symbol": "circle"
           },
           "mode": "markers",
           "name": "Lithuania",
           "orientation": "v",
           "showlegend": true,
           "type": "scatter",
           "x": [
            66.27
           ],
           "xaxis": "x",
           "y": [
            21524.8
           ],
           "yaxis": "y"
          },
          {
           "hovertemplate": "Country=Luxembourg<br>Year=2008<br>gdp=%{x}<br>nni=%{y}<extra></extra>",
           "legendgroup": "Luxembourg",
           "marker": {
            "color": "#FF6692",
            "symbol": "circle"
           },
           "mode": "markers",
           "name": "Luxembourg",
           "orientation": "v",
           "showlegend": true,
           "type": "scatter",
           "x": [
            44.45
           ],
           "xaxis": "x",
           "y": [
            72239.4
           ],
           "yaxis": "y"
          },
          {
           "hovertemplate": "Country=Mexico<br>Year=2008<br>gdp=%{x}<br>nni=%{y}<extra></extra>",
           "legendgroup": "Mexico",
           "marker": {
            "color": "#B6E880",
            "symbol": "circle"
           },
           "mode": "markers",
           "name": "Mexico",
           "orientation": "v",
           "showlegend": true,
           "type": "scatter",
           "x": [
            1730.73
           ],
           "xaxis": "x",
           "y": [
            15608.3
           ],
           "yaxis": "y"
          },
          {
           "hovertemplate": "Country=Netherlands<br>Year=2008<br>gdp=%{x}<br>nni=%{y}<extra></extra>",
           "legendgroup": "Netherlands",
           "marker": {
            "color": "#FF97FF",
            "symbol": "circle"
           },
           "mode": "markers",
           "name": "Netherlands",
           "orientation": "v",
           "showlegend": true,
           "type": "scatter",
           "x": [
            763.41
           ],
           "xaxis": "x",
           "y": [
            40926.8
           ],
           "yaxis": "y"
          },
          {
           "hovertemplate": "Country=New Zealand<br>Year=2008<br>gdp=%{x}<br>nni=%{y}<extra></extra>",
           "legendgroup": "New Zealand",
           "marker": {
            "color": "#FECB52",
            "symbol": "circle"
           },
           "mode": "markers",
           "name": "New Zealand",
           "orientation": "v",
           "showlegend": true,
           "type": "scatter",
           "x": [
            127.06
           ],
           "xaxis": "x",
           "y": [
            25797.9
           ],
           "yaxis": "y"
          },
          {
           "hovertemplate": "Country=Norway<br>Year=2008<br>gdp=%{x}<br>nni=%{y}<extra></extra>",
           "legendgroup": "Norway",
           "marker": {
            "color": "#636efa",
            "symbol": "circle"
           },
           "mode": "markers",
           "name": "Norway",
           "orientation": "v",
           "showlegend": true,
           "type": "scatter",
           "x": [
            295.98
           ],
           "xaxis": "x",
           "y": [
            57293.3
           ],
           "yaxis": "y"
          },
          {
           "hovertemplate": "Country=Portugal<br>Year=2008<br>gdp=%{x}<br>nni=%{y}<extra></extra>",
           "legendgroup": "Portugal",
           "marker": {
            "color": "#EF553B",
            "symbol": "circle"
           },
           "mode": "markers",
           "name": "Portugal",
           "orientation": "v",
           "showlegend": true,
           "type": "scatter",
           "x": [
            281.54
           ],
           "xaxis": "x",
           "y": [
            23911.2
           ],
           "yaxis": "y"
          },
          {
           "hovertemplate": "Country=Slovak Republic<br>Year=2008<br>gdp=%{x}<br>nni=%{y}<extra></extra>",
           "legendgroup": "Slovak Republic",
           "marker": {
            "color": "#00cc96",
            "symbol": "circle"
           },
           "mode": "markers",
           "name": "Slovak Republic",
           "orientation": "v",
           "showlegend": true,
           "type": "scatter",
           "x": [
            127.63
           ],
           "xaxis": "x",
           "y": [
            22171.7
           ],
           "yaxis": "y"
          },
          {
           "hovertemplate": "Country=Slovenia<br>Year=2008<br>gdp=%{x}<br>nni=%{y}<extra></extra>",
           "legendgroup": "Slovenia",
           "marker": {
            "color": "#ab63fa",
            "symbol": "circle"
           },
           "mode": "markers",
           "name": "Slovenia",
           "orientation": "v",
           "showlegend": true,
           "type": "scatter",
           "x": [
            59.84
           ],
           "xaxis": "x",
           "y": [
            26841.9
           ],
           "yaxis": "y"
          },
          {
           "hovertemplate": "Country=Spain<br>Year=2008<br>gdp=%{x}<br>nni=%{y}<extra></extra>",
           "legendgroup": "Spain",
           "marker": {
            "color": "#FFA15A",
            "symbol": "circle"
           },
           "mode": "markers",
           "name": "Spain",
           "orientation": "v",
           "showlegend": true,
           "type": "scatter",
           "x": [
            1528.58
           ],
           "xaxis": "x",
           "y": [
            30723.3
           ],
           "yaxis": "y"
          },
          {
           "hovertemplate": "Country=Sweden<br>Year=2008<br>gdp=%{x}<br>nni=%{y}<extra></extra>",
           "legendgroup": "Sweden",
           "marker": {
            "color": "#19d3f3",
            "symbol": "circle"
           },
           "mode": "markers",
           "name": "Sweden",
           "orientation": "v",
           "showlegend": true,
           "type": "scatter",
           "x": [
            388.68
           ],
           "xaxis": "x",
           "y": [
            40351.3
           ],
           "yaxis": "y"
          },
          {
           "hovertemplate": "Country=Switzerland<br>Year=2008<br>gdp=%{x}<br>nni=%{y}<extra></extra>",
           "legendgroup": "Switzerland",
           "marker": {
            "color": "#FF6692",
            "symbol": "circle"
           },
           "mode": "markers",
           "name": "Switzerland",
           "orientation": "v",
           "showlegend": true,
           "type": "scatter",
           "x": [
            411.51
           ],
           "xaxis": "x",
           "y": [
            44781.5
           ],
           "yaxis": "y"
          },
          {
           "hovertemplate": "Country=United Kingdom<br>Year=2008<br>gdp=%{x}<br>nni=%{y}<extra></extra>",
           "legendgroup": "United Kingdom",
           "marker": {
            "color": "#B6E880",
            "symbol": "circle"
           },
           "mode": "markers",
           "name": "United Kingdom",
           "orientation": "v",
           "showlegend": true,
           "type": "scatter",
           "x": [
            2271.08
           ],
           "xaxis": "x",
           "y": [
            34074.3
           ],
           "yaxis": "y"
          },
          {
           "hovertemplate": "Country=Euro area<br>Year=2008<br>gdp=%{x}<br>nni=%{y}<extra></extra>",
           "legendgroup": "Euro area",
           "marker": {
            "color": "#FF97FF",
            "symbol": "circle"
           },
           "mode": "markers",
           "name": "Euro area",
           "orientation": "v",
           "showlegend": true,
           "type": "scatter",
           "x": [
            11933.27
           ],
           "xaxis": "x",
           "y": [
            33573.1
           ],
           "yaxis": "y"
          },
          {
           "hovertemplate": "Country=Russia<br>Year=2008<br>gdp=%{x}<br>nni=%{y}<extra></extra>",
           "legendgroup": "Russia",
           "marker": {
            "color": "#FECB52",
            "symbol": "circle"
           },
           "mode": "markers",
           "name": "Russia",
           "orientation": "v",
           "showlegend": true,
           "type": "scatter",
           "x": [
            3091.46
           ],
           "xaxis": "x",
           "y": [
            21890
           ],
           "yaxis": "y"
          },
          {
           "hovertemplate": "Country=South Africa<br>Year=2008<br>gdp=%{x}<br>nni=%{y}<extra></extra>",
           "legendgroup": "South Africa",
           "marker": {
            "color": "#636efa",
            "symbol": "circle"
           },
           "mode": "markers",
           "name": "South Africa",
           "orientation": "v",
           "showlegend": true,
           "type": "scatter",
           "x": [
            640.06
           ],
           "xaxis": "x",
           "y": [
            11192.3
           ],
           "yaxis": "y"
          },
          {
           "hovertemplate": "Country=Greece<br>Year=2008<br>gdp=%{x}<br>nni=%{y}<extra></extra>",
           "legendgroup": "Greece",
           "marker": {
            "color": "#EF553B",
            "symbol": "circle"
           },
           "mode": "markers",
           "name": "Greece",
           "orientation": "v",
           "showlegend": true,
           "type": "scatter",
           "x": [
            341.82
           ],
           "xaxis": "x",
           "y": [
            28358.4
           ],
           "yaxis": "y"
          }
         ],
         "name": "2008"
        },
        {
         "data": [
          {
           "hovertemplate": "Country=Australia<br>Year=2009<br>gdp=%{x}<br>nni=%{y}<extra></extra>",
           "legendgroup": "Australia",
           "marker": {
            "color": "#636efa",
            "symbol": "circle"
           },
           "mode": "markers",
           "name": "Australia",
           "orientation": "v",
           "showlegend": true,
           "type": "scatter",
           "x": [
            904.21
           ],
           "xaxis": "x",
           "y": [
            36266.5
           ],
           "yaxis": "y"
          },
          {
           "hovertemplate": "Country=Austria<br>Year=2009<br>gdp=%{x}<br>nni=%{y}<extra></extra>",
           "legendgroup": "Austria",
           "marker": {
            "color": "#EF553B",
            "symbol": "circle"
           },
           "mode": "markers",
           "name": "Austria",
           "orientation": "v",
           "showlegend": true,
           "type": "scatter",
           "x": [
            341.38
           ],
           "xaxis": "x",
           "y": [
            40203.6
           ],
           "yaxis": "y"
          },
          {
           "hovertemplate": "Country=Chile<br>Year=2009<br>gdp=%{x}<br>nni=%{y}<extra></extra>",
           "legendgroup": "Chile",
           "marker": {
            "color": "#00cc96",
            "symbol": "circle"
           },
           "mode": "markers",
           "name": "Chile",
           "orientation": "v",
           "showlegend": true,
           "type": "scatter",
           "x": [
            271.33
           ],
           "xaxis": "x",
           "y": [
            17260
           ],
           "yaxis": "y"
          },
          {
           "hovertemplate": "Country=Czechia<br>Year=2009<br>gdp=%{x}<br>nni=%{y}<extra></extra>",
           "legendgroup": "Czechia",
           "marker": {
            "color": "#ab63fa",
            "symbol": "circle"
           },
           "mode": "markers",
           "name": "Czechia",
           "orientation": "v",
           "showlegend": true,
           "type": "scatter",
           "x": [
            289.93
           ],
           "xaxis": "x",
           "y": [
            22201
           ],
           "yaxis": "y"
          },
          {
           "hovertemplate": "Country=Denmark<br>Year=2009<br>gdp=%{x}<br>nni=%{y}<extra></extra>",
           "legendgroup": "Denmark",
           "marker": {
            "color": "#FFA15A",
            "symbol": "circle"
           },
           "mode": "markers",
           "name": "Denmark",
           "orientation": "v",
           "showlegend": true,
           "type": "scatter",
           "x": [
            222.75
           ],
           "xaxis": "x",
           "y": [
            37605.5
           ],
           "yaxis": "y"
          },
          {
           "hovertemplate": "Country=Estonia<br>Year=2009<br>gdp=%{x}<br>nni=%{y}<extra></extra>",
           "legendgroup": "Estonia",
           "marker": {
            "color": "#19d3f3",
            "symbol": "circle"
           },
           "mode": "markers",
           "name": "Estonia",
           "orientation": "v",
           "showlegend": true,
           "type": "scatter",
           "x": [
            27.33
           ],
           "xaxis": "x",
           "y": [
            18225.2
           ],
           "yaxis": "y"
          },
          {
           "hovertemplate": "Country=Finland<br>Year=2009<br>gdp=%{x}<br>nni=%{y}<extra></extra>",
           "legendgroup": "Finland",
           "marker": {
            "color": "#FF6692",
            "symbol": "circle"
           },
           "mode": "markers",
           "name": "Finland",
           "orientation": "v",
           "showlegend": true,
           "type": "scatter",
           "x": [
            202.72
           ],
           "xaxis": "x",
           "y": [
            34257.7
           ],
           "yaxis": "y"
          },
          {
           "hovertemplate": "Country=France<br>Year=2009<br>gdp=%{x}<br>nni=%{y}<extra></extra>",
           "legendgroup": "France",
           "marker": {
            "color": "#B6E880",
            "symbol": "circle"
           },
           "mode": "markers",
           "name": "France",
           "orientation": "v",
           "showlegend": true,
           "type": "scatter",
           "x": [
            2243.85
           ],
           "xaxis": "x",
           "y": [
            32897.3
           ],
           "yaxis": "y"
          },
          {
           "hovertemplate": "Country=Germany<br>Year=2009<br>gdp=%{x}<br>nni=%{y}<extra></extra>",
           "legendgroup": "Germany",
           "marker": {
            "color": "#FF97FF",
            "symbol": "circle"
           },
           "mode": "markers",
           "name": "Germany",
           "orientation": "v",
           "showlegend": true,
           "type": "scatter",
           "x": [
            3015.21
           ],
           "xaxis": "x",
           "y": [
            35806.5
           ],
           "yaxis": "y"
          },
          {
           "hovertemplate": "Country=Hungary<br>Year=2009<br>gdp=%{x}<br>nni=%{y}<extra></extra>",
           "legendgroup": "Hungary",
           "marker": {
            "color": "#FECB52",
            "symbol": "circle"
           },
           "mode": "markers",
           "name": "Hungary",
           "orientation": "v",
           "showlegend": true,
           "type": "scatter",
           "x": [
            207.69
           ],
           "xaxis": "x",
           "y": [
            18459.6
           ],
           "yaxis": "y"
          },
          {
           "hovertemplate": "Country=Ireland<br>Year=2009<br>gdp=%{x}<br>nni=%{y}<extra></extra>",
           "legendgroup": "Ireland",
           "marker": {
            "color": "#636efa",
            "symbol": "circle"
           },
           "mode": "markers",
           "name": "Ireland",
           "orientation": "v",
           "showlegend": true,
           "type": "scatter",
           "x": [
            188.08
           ],
           "xaxis": "x",
           "y": [
            32940.7
           ],
           "yaxis": "y"
          },
          {
           "hovertemplate": "Country=Israel<br>Year=2009<br>gdp=%{x}<br>nni=%{y}<extra></extra>",
           "legendgroup": "Israel",
           "marker": {
            "color": "#EF553B",
            "symbol": "circle"
           },
           "mode": "markers",
           "name": "Israel",
           "orientation": "v",
           "showlegend": true,
           "type": "scatter",
           "x": [
            209.39
           ],
           "xaxis": "x",
           "y": [
            25268.2
           ],
           "yaxis": "y"
          },
          {
           "hovertemplate": "Country=Italy<br>Year=2009<br>gdp=%{x}<br>nni=%{y}<extra></extra>",
           "legendgroup": "Italy",
           "marker": {
            "color": "#00cc96",
            "symbol": "circle"
           },
           "mode": "markers",
           "name": "Italy",
           "orientation": "v",
           "showlegend": true,
           "type": "scatter",
           "x": [
            2044.81
           ],
           "xaxis": "x",
           "y": [
            31764.2
           ],
           "yaxis": "y"
          },
          {
           "hovertemplate": "Country=Japan<br>Year=2009<br>gdp=%{x}<br>nni=%{y}<extra></extra>",
           "legendgroup": "Japan",
           "marker": {
            "color": "#ab63fa",
            "symbol": "circle"
           },
           "mode": "markers",
           "name": "Japan",
           "orientation": "v",
           "showlegend": true,
           "type": "scatter",
           "x": [
            4295.63
           ],
           "xaxis": "x",
           "y": [
            28858.3
           ],
           "yaxis": "y"
          },
          {
           "hovertemplate": "Country=Latvia<br>Year=2009<br>gdp=%{x}<br>nni=%{y}<extra></extra>",
           "legendgroup": "Latvia",
           "marker": {
            "color": "#FFA15A",
            "symbol": "circle"
           },
           "mode": "markers",
           "name": "Latvia",
           "orientation": "v",
           "showlegend": true,
           "type": "scatter",
           "x": [
            36.46
           ],
           "xaxis": "x",
           "y": [
            16953.6
           ],
           "yaxis": "y"
          },
          {
           "hovertemplate": "Country=Lithuania<br>Year=2009<br>gdp=%{x}<br>nni=%{y}<extra></extra>",
           "legendgroup": "Lithuania",
           "marker": {
            "color": "#19d3f3",
            "symbol": "circle"
           },
           "mode": "markers",
           "name": "Lithuania",
           "orientation": "v",
           "showlegend": true,
           "type": "scatter",
           "x": [
            57.3
           ],
           "xaxis": "x",
           "y": [
            18712.2
           ],
           "yaxis": "y"
          },
          {
           "hovertemplate": "Country=Luxembourg<br>Year=2009<br>gdp=%{x}<br>nni=%{y}<extra></extra>",
           "legendgroup": "Luxembourg",
           "marker": {
            "color": "#FF6692",
            "symbol": "circle"
           },
           "mode": "markers",
           "name": "Luxembourg",
           "orientation": "v",
           "showlegend": true,
           "type": "scatter",
           "x": [
            43.24
           ],
           "xaxis": "x",
           "y": [
            51766.9
           ],
           "yaxis": "y"
          },
          {
           "hovertemplate": "Country=Mexico<br>Year=2009<br>gdp=%{x}<br>nni=%{y}<extra></extra>",
           "legendgroup": "Mexico",
           "marker": {
            "color": "#B6E880",
            "symbol": "circle"
           },
           "mode": "markers",
           "name": "Mexico",
           "orientation": "v",
           "showlegend": true,
           "type": "scatter",
           "x": [
            1701.57
           ],
           "xaxis": "x",
           "y": [
            14063.8
           ],
           "yaxis": "y"
          },
          {
           "hovertemplate": "Country=Netherlands<br>Year=2009<br>gdp=%{x}<br>nni=%{y}<extra></extra>",
           "legendgroup": "Netherlands",
           "marker": {
            "color": "#FF97FF",
            "symbol": "circle"
           },
           "mode": "markers",
           "name": "Netherlands",
           "orientation": "v",
           "showlegend": true,
           "type": "scatter",
           "x": [
            736.52
           ],
           "xaxis": "x",
           "y": [
            39167.1
           ],
           "yaxis": "y"
          },
          {
           "hovertemplate": "Country=New Zealand<br>Year=2009<br>gdp=%{x}<br>nni=%{y}<extra></extra>",
           "legendgroup": "New Zealand",
           "marker": {
            "color": "#FECB52",
            "symbol": "circle"
           },
           "mode": "markers",
           "name": "New Zealand",
           "orientation": "v",
           "showlegend": true,
           "type": "scatter",
           "x": [
            132.02
           ],
           "xaxis": "x",
           "y": [
            26512.4
           ],
           "yaxis": "y"
          },
          {
           "hovertemplate": "Country=Norway<br>Year=2009<br>gdp=%{x}<br>nni=%{y}<extra></extra>",
           "legendgroup": "Norway",
           "marker": {
            "color": "#636efa",
            "symbol": "circle"
           },
           "mode": "markers",
           "name": "Norway",
           "orientation": "v",
           "showlegend": true,
           "type": "scatter",
           "x": [
            268.57
           ],
           "xaxis": "x",
           "y": [
            50435.6
           ],
           "yaxis": "y"
          },
          {
           "hovertemplate": "Country=Portugal<br>Year=2009<br>gdp=%{x}<br>nni=%{y}<extra></extra>",
           "legendgroup": "Portugal",
           "marker": {
            "color": "#EF553B",
            "symbol": "circle"
           },
           "mode": "markers",
           "name": "Portugal",
           "orientation": "v",
           "showlegend": true,
           "type": "scatter",
           "x": [
            279.62
           ],
           "xaxis": "x",
           "y": [
            23487.9
           ],
           "yaxis": "y"
          },
          {
           "hovertemplate": "Country=Slovak Republic<br>Year=2009<br>gdp=%{x}<br>nni=%{y}<extra></extra>",
           "legendgroup": "Slovak Republic",
           "marker": {
            "color": "#00cc96",
            "symbol": "circle"
           },
           "mode": "markers",
           "name": "Slovak Republic",
           "orientation": "v",
           "showlegend": true,
           "type": "scatter",
           "x": [
            124.32
           ],
           "xaxis": "x",
           "y": [
            20736.2
           ],
           "yaxis": "y"
          },
          {
           "hovertemplate": "Country=Slovenia<br>Year=2009<br>gdp=%{x}<br>nni=%{y}<extra></extra>",
           "legendgroup": "Slovenia",
           "marker": {
            "color": "#ab63fa",
            "symbol": "circle"
           },
           "mode": "markers",
           "name": "Slovenia",
           "orientation": "v",
           "showlegend": true,
           "type": "scatter",
           "x": [
            56.17
           ],
           "xaxis": "x",
           "y": [
            24888.9
           ],
           "yaxis": "y"
          },
          {
           "hovertemplate": "Country=Spain<br>Year=2009<br>gdp=%{x}<br>nni=%{y}<extra></extra>",
           "legendgroup": "Spain",
           "marker": {
            "color": "#FFA15A",
            "symbol": "circle"
           },
           "mode": "markers",
           "name": "Spain",
           "orientation": "v",
           "showlegend": true,
           "type": "scatter",
           "x": [
            1487.85
           ],
           "xaxis": "x",
           "y": [
            29685.5
           ],
           "yaxis": "y"
          },
          {
           "hovertemplate": "Country=Sweden<br>Year=2009<br>gdp=%{x}<br>nni=%{y}<extra></extra>",
           "legendgroup": "Sweden",
           "marker": {
            "color": "#19d3f3",
            "symbol": "circle"
           },
           "mode": "markers",
           "name": "Sweden",
           "orientation": "v",
           "showlegend": true,
           "type": "scatter",
           "x": [
            374.53
           ],
           "xaxis": "x",
           "y": [
            37334.6
           ],
           "yaxis": "y"
          },
          {
           "hovertemplate": "Country=Switzerland<br>Year=2009<br>gdp=%{x}<br>nni=%{y}<extra></extra>",
           "legendgroup": "Switzerland",
           "marker": {
            "color": "#FF6692",
            "symbol": "circle"
           },
           "mode": "markers",
           "name": "Switzerland",
           "orientation": "v",
           "showlegend": true,
           "type": "scatter",
           "x": [
            410.2
           ],
           "xaxis": "x",
           "y": [
            47550.9
           ],
           "yaxis": "y"
          },
          {
           "hovertemplate": "Country=United Kingdom<br>Year=2009<br>gdp=%{x}<br>nni=%{y}<extra></extra>",
           "legendgroup": "United Kingdom",
           "marker": {
            "color": "#B6E880",
            "symbol": "circle"
           },
           "mode": "markers",
           "name": "United Kingdom",
           "orientation": "v",
           "showlegend": true,
           "type": "scatter",
           "x": [
            2181.12
           ],
           "xaxis": "x",
           "y": [
            32347.7
           ],
           "yaxis": "y"
          },
          {
           "hovertemplate": "Country=Euro area<br>Year=2009<br>gdp=%{x}<br>nni=%{y}<extra></extra>",
           "legendgroup": "Euro area",
           "marker": {
            "color": "#FF97FF",
            "symbol": "circle"
           },
           "mode": "markers",
           "name": "Euro area",
           "orientation": "v",
           "showlegend": true,
           "type": "scatter",
           "x": [
            11662.6
           ],
           "xaxis": "x",
           "y": [
            32399
           ],
           "yaxis": "y"
          },
          {
           "hovertemplate": "Country=Russia<br>Year=2009<br>gdp=%{x}<br>nni=%{y}<extra></extra>",
           "legendgroup": "Russia",
           "marker": {
            "color": "#FECB52",
            "symbol": "circle"
           },
           "mode": "markers",
           "name": "Russia",
           "orientation": "v",
           "showlegend": true,
           "type": "scatter",
           "x": [
            2973.73
           ],
           "xaxis": "x",
           "y": [
            17918.5
           ],
           "yaxis": "y"
          },
          {
           "hovertemplate": "Country=South Africa<br>Year=2009<br>gdp=%{x}<br>nni=%{y}<extra></extra>",
           "legendgroup": "South Africa",
           "marker": {
            "color": "#636efa",
            "symbol": "circle"
           },
           "mode": "markers",
           "name": "South Africa",
           "orientation": "v",
           "showlegend": true,
           "type": "scatter",
           "x": [
            634.26
           ],
           "xaxis": "x",
           "y": [
            11131.4
           ],
           "yaxis": "y"
          },
          {
           "hovertemplate": "Country=Greece<br>Year=2009<br>gdp=%{x}<br>nni=%{y}<extra></extra>",
           "legendgroup": "Greece",
           "marker": {
            "color": "#EF553B",
            "symbol": "circle"
           },
           "mode": "markers",
           "name": "Greece",
           "orientation": "v",
           "showlegend": true,
           "type": "scatter",
           "x": [
            337.19
           ],
           "xaxis": "x",
           "y": [
            27098.7
           ],
           "yaxis": "y"
          }
         ],
         "name": "2009"
        },
        {
         "data": [
          {
           "hovertemplate": "Country=Australia<br>Year=2010<br>gdp=%{x}<br>nni=%{y}<extra></extra>",
           "legendgroup": "Australia",
           "marker": {
            "color": "#636efa",
            "symbol": "circle"
           },
           "mode": "markers",
           "name": "Australia",
           "orientation": "v",
           "showlegend": true,
           "type": "scatter",
           "x": [
            943.49
           ],
           "xaxis": "x",
           "y": [
            38215.2
           ],
           "yaxis": "y"
          },
          {
           "hovertemplate": "Country=Austria<br>Year=2010<br>gdp=%{x}<br>nni=%{y}<extra></extra>",
           "legendgroup": "Austria",
           "marker": {
            "color": "#EF553B",
            "symbol": "circle"
           },
           "mode": "markers",
           "name": "Austria",
           "orientation": "v",
           "showlegend": true,
           "type": "scatter",
           "x": [
            351.28
           ],
           "xaxis": "x",
           "y": [
            40883.7
           ],
           "yaxis": "y"
          },
          {
           "hovertemplate": "Country=Chile<br>Year=2010<br>gdp=%{x}<br>nni=%{y}<extra></extra>",
           "legendgroup": "Chile",
           "marker": {
            "color": "#00cc96",
            "symbol": "circle"
           },
           "mode": "markers",
           "name": "Chile",
           "orientation": "v",
           "showlegend": true,
           "type": "scatter",
           "x": [
            307.86
           ],
           "xaxis": "x",
           "y": [
            19235.3
           ],
           "yaxis": "y"
          },
          {
           "hovertemplate": "Country=Czechia<br>Year=2010<br>gdp=%{x}<br>nni=%{y}<extra></extra>",
           "legendgroup": "Czechia",
           "marker": {
            "color": "#ab63fa",
            "symbol": "circle"
           },
           "mode": "markers",
           "name": "Czechia",
           "orientation": "v",
           "showlegend": true,
           "type": "scatter",
           "x": [
            292
           ],
           "xaxis": "x",
           "y": [
            22183.6
           ],
           "yaxis": "y"
          },
          {
           "hovertemplate": "Country=Denmark<br>Year=2010<br>gdp=%{x}<br>nni=%{y}<extra></extra>",
           "legendgroup": "Denmark",
           "marker": {
            "color": "#FFA15A",
            "symbol": "circle"
           },
           "mode": "markers",
           "name": "Denmark",
           "orientation": "v",
           "showlegend": true,
           "type": "scatter",
           "x": [
            238.53
           ],
           "xaxis": "x",
           "y": [
            39243.5
           ],
           "yaxis": "y"
          },
          {
           "hovertemplate": "Country=Estonia<br>Year=2010<br>gdp=%{x}<br>nni=%{y}<extra></extra>",
           "legendgroup": "Estonia",
           "marker": {
            "color": "#19d3f3",
            "symbol": "circle"
           },
           "mode": "markers",
           "name": "Estonia",
           "orientation": "v",
           "showlegend": true,
           "type": "scatter",
           "x": [
            28.78
           ],
           "xaxis": "x",
           "y": [
            18262.3
           ],
           "yaxis": "y"
          },
          {
           "hovertemplate": "Country=Finland<br>Year=2010<br>gdp=%{x}<br>nni=%{y}<extra></extra>",
           "legendgroup": "Finland",
           "marker": {
            "color": "#FF6692",
            "symbol": "circle"
           },
           "mode": "markers",
           "name": "Finland",
           "orientation": "v",
           "showlegend": true,
           "type": "scatter",
           "x": [
            208.9
           ],
           "xaxis": "x",
           "y": [
            35323.2
           ],
           "yaxis": "y"
          },
          {
           "hovertemplate": "Country=France<br>Year=2010<br>gdp=%{x}<br>nni=%{y}<extra></extra>",
           "legendgroup": "France",
           "marker": {
            "color": "#B6E880",
            "symbol": "circle"
           },
           "mode": "markers",
           "name": "France",
           "orientation": "v",
           "showlegend": true,
           "type": "scatter",
           "x": [
            2334.27
           ],
           "xaxis": "x",
           "y": [
            33294
           ],
           "yaxis": "y"
          },
          {
           "hovertemplate": "Country=Germany<br>Year=2010<br>gdp=%{x}<br>nni=%{y}<extra></extra>",
           "legendgroup": "Germany",
           "marker": {
            "color": "#FF97FF",
            "symbol": "circle"
           },
           "mode": "markers",
           "name": "Germany",
           "orientation": "v",
           "showlegend": true,
           "type": "scatter",
           "x": [
            3184.88
           ],
           "xaxis": "x",
           "y": [
            37204.5
           ],
           "yaxis": "y"
          },
          {
           "hovertemplate": "Country=Hungary<br>Year=2010<br>gdp=%{x}<br>nni=%{y}<extra></extra>",
           "legendgroup": "Hungary",
           "marker": {
            "color": "#FECB52",
            "symbol": "circle"
           },
           "mode": "markers",
           "name": "Hungary",
           "orientation": "v",
           "showlegend": true,
           "type": "scatter",
           "x": [
            217.39
           ],
           "xaxis": "x",
           "y": [
            18594
           ],
           "yaxis": "y"
          },
          {
           "hovertemplate": "Country=Ireland<br>Year=2010<br>gdp=%{x}<br>nni=%{y}<extra></extra>",
           "legendgroup": "Ireland",
           "marker": {
            "color": "#636efa",
            "symbol": "circle"
           },
           "mode": "markers",
           "name": "Ireland",
           "orientation": "v",
           "showlegend": true,
           "type": "scatter",
           "x": [
            197.01
           ],
           "xaxis": "x",
           "y": [
            33334.5
           ],
           "yaxis": "y"
          },
          {
           "hovertemplate": "Country=Israel<br>Year=2010<br>gdp=%{x}<br>nni=%{y}<extra></extra>",
           "legendgroup": "Israel",
           "marker": {
            "color": "#EF553B",
            "symbol": "circle"
           },
           "mode": "markers",
           "name": "Israel",
           "orientation": "v",
           "showlegend": true,
           "type": "scatter",
           "x": [
            223.84
           ],
           "xaxis": "x",
           "y": [
            26453.6
           ],
           "yaxis": "y"
          },
          {
           "hovertemplate": "Country=Italy<br>Year=2010<br>gdp=%{x}<br>nni=%{y}<extra></extra>",
           "legendgroup": "Italy",
           "marker": {
            "color": "#00cc96",
            "symbol": "circle"
           },
           "mode": "markers",
           "name": "Italy",
           "orientation": "v",
           "showlegend": true,
           "type": "scatter",
           "x": [
            2083.74
           ],
           "xaxis": "x",
           "y": [
            31702
           ],
           "yaxis": "y"
          },
          {
           "hovertemplate": "Country=Japan<br>Year=2010<br>gdp=%{x}<br>nni=%{y}<extra></extra>",
           "legendgroup": "Japan",
           "marker": {
            "color": "#ab63fa",
            "symbol": "circle"
           },
           "mode": "markers",
           "name": "Japan",
           "orientation": "v",
           "showlegend": true,
           "type": "scatter",
           "x": [
            4525.4
           ],
           "xaxis": "x",
           "y": [
            30258.3
           ],
           "yaxis": "y"
          },
          {
           "hovertemplate": "Country=Latvia<br>Year=2010<br>gdp=%{x}<br>nni=%{y}<extra></extra>",
           "legendgroup": "Latvia",
           "marker": {
            "color": "#FFA15A",
            "symbol": "circle"
           },
           "mode": "markers",
           "name": "Latvia",
           "orientation": "v",
           "showlegend": true,
           "type": "scatter",
           "x": [
            37.13
           ],
           "xaxis": "x",
           "y": [
            15016.3
           ],
           "yaxis": "y"
          },
          {
           "hovertemplate": "Country=Lithuania<br>Year=2010<br>gdp=%{x}<br>nni=%{y}<extra></extra>",
           "legendgroup": "Lithuania",
           "marker": {
            "color": "#19d3f3",
            "symbol": "circle"
           },
           "mode": "markers",
           "name": "Lithuania",
           "orientation": "v",
           "showlegend": true,
           "type": "scatter",
           "x": [
            62.23
           ],
           "xaxis": "x",
           "y": [
            18918.7
           ],
           "yaxis": "y"
          },
          {
           "hovertemplate": "Country=Luxembourg<br>Year=2010<br>gdp=%{x}<br>nni=%{y}<extra></extra>",
           "legendgroup": "Luxembourg",
           "marker": {
            "color": "#FF6692",
            "symbol": "circle"
           },
           "mode": "markers",
           "name": "Luxembourg",
           "orientation": "v",
           "showlegend": true,
           "type": "scatter",
           "x": [
            45.8
           ],
           "xaxis": "x",
           "y": [
            59362.9
           ],
           "yaxis": "y"
          },
          {
           "hovertemplate": "Country=Mexico<br>Year=2010<br>gdp=%{x}<br>nni=%{y}<extra></extra>",
           "legendgroup": "Mexico",
           "marker": {
            "color": "#B6E880",
            "symbol": "circle"
           },
           "mode": "markers",
           "name": "Mexico",
           "orientation": "v",
           "showlegend": true,
           "type": "scatter",
           "x": [
            1807.63
           ],
           "xaxis": "x",
           "y": [
            14556.9
           ],
           "yaxis": "y"
          },
          {
           "hovertemplate": "Country=Netherlands<br>Year=2010<br>gdp=%{x}<br>nni=%{y}<extra></extra>",
           "legendgroup": "Netherlands",
           "marker": {
            "color": "#FF97FF",
            "symbol": "circle"
           },
           "mode": "markers",
           "name": "Netherlands",
           "orientation": "v",
           "showlegend": true,
           "type": "scatter",
           "x": [
            748.29
           ],
           "xaxis": "x",
           "y": [
            40525.5
           ],
           "yaxis": "y"
          },
          {
           "hovertemplate": "Country=New Zealand<br>Year=2010<br>gdp=%{x}<br>nni=%{y}<extra></extra>",
           "legendgroup": "New Zealand",
           "marker": {
            "color": "#FECB52",
            "symbol": "circle"
           },
           "mode": "markers",
           "name": "New Zealand",
           "orientation": "v",
           "showlegend": true,
           "type": "scatter",
           "x": [
            135.8
           ],
           "xaxis": "x",
           "y": [
            27006
           ],
           "yaxis": "y"
          },
          {
           "hovertemplate": "Country=Norway<br>Year=2010<br>gdp=%{x}<br>nni=%{y}<extra></extra>",
           "legendgroup": "Norway",
           "marker": {
            "color": "#636efa",
            "symbol": "circle"
           },
           "mode": "markers",
           "name": "Norway",
           "orientation": "v",
           "showlegend": true,
           "type": "scatter",
           "x": [
            284.65
           ],
           "xaxis": "x",
           "y": [
            51918.6
           ],
           "yaxis": "y"
          },
          {
           "hovertemplate": "Country=Portugal<br>Year=2010<br>gdp=%{x}<br>nni=%{y}<extra></extra>",
           "legendgroup": "Portugal",
           "marker": {
            "color": "#EF553B",
            "symbol": "circle"
           },
           "mode": "markers",
           "name": "Portugal",
           "orientation": "v",
           "showlegend": true,
           "type": "scatter",
           "x": [
            288.19
           ],
           "xaxis": "x",
           "y": [
            23766.1
           ],
           "yaxis": "y"
          },
          {
           "hovertemplate": "Country=Slovak Republic<br>Year=2010<br>gdp=%{x}<br>nni=%{y}<extra></extra>",
           "legendgroup": "Slovak Republic",
           "marker": {
            "color": "#00cc96",
            "symbol": "circle"
           },
           "mode": "markers",
           "name": "Slovak Republic",
           "orientation": "v",
           "showlegend": true,
           "type": "scatter",
           "x": [
            136.93
           ],
           "xaxis": "x",
           "y": [
            21861.8
           ],
           "yaxis": "y"
          },
          {
           "hovertemplate": "Country=Slovenia<br>Year=2010<br>gdp=%{x}<br>nni=%{y}<extra></extra>",
           "legendgroup": "Slovenia",
           "marker": {
            "color": "#ab63fa",
            "symbol": "circle"
           },
           "mode": "markers",
           "name": "Slovenia",
           "orientation": "v",
           "showlegend": true,
           "type": "scatter",
           "x": [
            57
           ],
           "xaxis": "x",
           "y": [
            24472.1
           ],
           "yaxis": "y"
          },
          {
           "hovertemplate": "Country=Spain<br>Year=2010<br>gdp=%{x}<br>nni=%{y}<extra></extra>",
           "legendgroup": "Spain",
           "marker": {
            "color": "#FFA15A",
            "symbol": "circle"
           },
           "mode": "markers",
           "name": "Spain",
           "orientation": "v",
           "showlegend": true,
           "type": "scatter",
           "x": [
            1475.43
           ],
           "xaxis": "x",
           "y": [
            29404.8
           ],
           "yaxis": "y"
          },
          {
           "hovertemplate": "Country=Sweden<br>Year=2010<br>gdp=%{x}<br>nni=%{y}<extra></extra>",
           "legendgroup": "Sweden",
           "marker": {
            "color": "#19d3f3",
            "symbol": "circle"
           },
           "mode": "markers",
           "name": "Sweden",
           "orientation": "v",
           "showlegend": true,
           "type": "scatter",
           "x": [
            395.91
           ],
           "xaxis": "x",
           "y": [
            39667.8
           ],
           "yaxis": "y"
          },
          {
           "hovertemplate": "Country=Switzerland<br>Year=2010<br>gdp=%{x}<br>nni=%{y}<extra></extra>",
           "legendgroup": "Switzerland",
           "marker": {
            "color": "#FF6692",
            "symbol": "circle"
           },
           "mode": "markers",
           "name": "Switzerland",
           "orientation": "v",
           "showlegend": true,
           "type": "scatter",
           "x": [
            425.93
           ],
           "xaxis": "x",
           "y": [
            51800.9
           ],
           "yaxis": "y"
          },
          {
           "hovertemplate": "Country=United Kingdom<br>Year=2010<br>gdp=%{x}<br>nni=%{y}<extra></extra>",
           "legendgroup": "United Kingdom",
           "marker": {
            "color": "#B6E880",
            "symbol": "circle"
           },
           "mode": "markers",
           "name": "United Kingdom",
           "orientation": "v",
           "showlegend": true,
           "type": "scatter",
           "x": [
            2290.2
           ],
           "xaxis": "x",
           "y": [
            33474.1
           ],
           "yaxis": "y"
          },
          {
           "hovertemplate": "Country=Euro area<br>Year=2010<br>gdp=%{x}<br>nni=%{y}<extra></extra>",
           "legendgroup": "Euro area",
           "marker": {
            "color": "#FF97FF",
            "symbol": "circle"
           },
           "mode": "markers",
           "name": "Euro area",
           "orientation": "v",
           "showlegend": true,
           "type": "scatter",
           "x": [
            12021.29
           ],
           "xaxis": "x",
           "y": [
            32800.5
           ],
           "yaxis": "y"
          },
          {
           "hovertemplate": "Country=Russia<br>Year=2010<br>gdp=%{x}<br>nni=%{y}<extra></extra>",
           "legendgroup": "Russia",
           "marker": {
            "color": "#FECB52",
            "symbol": "circle"
           },
           "mode": "markers",
           "name": "Russia",
           "orientation": "v",
           "showlegend": true,
           "type": "scatter",
           "x": [
            3143.87
           ],
           "xaxis": "x",
           "y": [
            20075
           ],
           "yaxis": "y"
          },
          {
           "hovertemplate": "Country=South Africa<br>Year=2010<br>gdp=%{x}<br>nni=%{y}<extra></extra>",
           "legendgroup": "South Africa",
           "marker": {
            "color": "#636efa",
            "symbol": "circle"
           },
           "mode": "markers",
           "name": "South Africa",
           "orientation": "v",
           "showlegend": true,
           "type": "scatter",
           "x": [
            661.39
           ],
           "xaxis": "x",
           "y": [
            11567.7
           ],
           "yaxis": "y"
          },
          {
           "hovertemplate": "Country=Greece<br>Year=2010<br>gdp=%{x}<br>nni=%{y}<extra></extra>",
           "legendgroup": "Greece",
           "marker": {
            "color": "#EF553B",
            "symbol": "circle"
           },
           "mode": "markers",
           "name": "Greece",
           "orientation": "v",
           "showlegend": true,
           "type": "scatter",
           "x": [
            310.38
           ],
           "xaxis": "x",
           "y": [
            25493.4
           ],
           "yaxis": "y"
          },
          {
           "hovertemplate": "Country=Korea<br>Year=2010<br>gdp=%{x}<br>nni=%{y}<extra></extra>",
           "legendgroup": "Korea",
           "marker": {
            "color": "#00cc96",
            "symbol": "circle"
           },
           "mode": "markers",
           "name": "Korea",
           "orientation": "v",
           "showlegend": true,
           "type": "scatter",
           "x": [
            1572.68
           ],
           "xaxis": "x",
           "y": [
            27208.6
           ],
           "yaxis": "y"
          }
         ],
         "name": "2010"
        },
        {
         "data": [
          {
           "hovertemplate": "Country=Australia<br>Year=2011<br>gdp=%{x}<br>nni=%{y}<extra></extra>",
           "legendgroup": "Australia",
           "marker": {
            "color": "#636efa",
            "symbol": "circle"
           },
           "mode": "markers",
           "name": "Australia",
           "orientation": "v",
           "showlegend": true,
           "type": "scatter",
           "x": [
            993.25
           ],
           "xaxis": "x",
           "y": [
            39785.6
           ],
           "yaxis": "y"
          },
          {
           "hovertemplate": "Country=Austria<br>Year=2011<br>gdp=%{x}<br>nni=%{y}<extra></extra>",
           "legendgroup": "Austria",
           "marker": {
            "color": "#EF553B",
            "symbol": "circle"
           },
           "mode": "markers",
           "name": "Austria",
           "orientation": "v",
           "showlegend": true,
           "type": "scatter",
           "x": [
            373.03
           ],
           "xaxis": "x",
           "y": [
            41392.3
           ],
           "yaxis": "y"
          },
          {
           "hovertemplate": "Country=Chile<br>Year=2011<br>gdp=%{x}<br>nni=%{y}<extra></extra>",
           "legendgroup": "Chile",
           "marker": {
            "color": "#00cc96",
            "symbol": "circle"
           },
           "mode": "markers",
           "name": "Chile",
           "orientation": "v",
           "showlegend": true,
           "type": "scatter",
           "x": [
            349.15
           ],
           "xaxis": "x",
           "y": [
            19736
           ],
           "yaxis": "y"
          },
          {
           "hovertemplate": "Country=Czechia<br>Year=2011<br>gdp=%{x}<br>nni=%{y}<extra></extra>",
           "legendgroup": "Czechia",
           "marker": {
            "color": "#ab63fa",
            "symbol": "circle"
           },
           "mode": "markers",
           "name": "Czechia",
           "orientation": "v",
           "showlegend": true,
           "type": "scatter",
           "x": [
            304.4
           ],
           "xaxis": "x",
           "y": [
            22180.1
           ],
           "yaxis": "y"
          },
          {
           "hovertemplate": "Country=Denmark<br>Year=2011<br>gdp=%{x}<br>nni=%{y}<extra></extra>",
           "legendgroup": "Denmark",
           "marker": {
            "color": "#FFA15A",
            "symbol": "circle"
           },
           "mode": "markers",
           "name": "Denmark",
           "orientation": "v",
           "showlegend": true,
           "type": "scatter",
           "x": [
            247.35
           ],
           "xaxis": "x",
           "y": [
            39541.3
           ],
           "yaxis": "y"
          },
          {
           "hovertemplate": "Country=Estonia<br>Year=2011<br>gdp=%{x}<br>nni=%{y}<extra></extra>",
           "legendgroup": "Estonia",
           "marker": {
            "color": "#19d3f3",
            "symbol": "circle"
           },
           "mode": "markers",
           "name": "Estonia",
           "orientation": "v",
           "showlegend": true,
           "type": "scatter",
           "x": [
            32.6
           ],
           "xaxis": "x",
           "y": [
            20217.4
           ],
           "yaxis": "y"
          },
          {
           "hovertemplate": "Country=Finland<br>Year=2011<br>gdp=%{x}<br>nni=%{y}<extra></extra>",
           "legendgroup": "Finland",
           "marker": {
            "color": "#FF6692",
            "symbol": "circle"
           },
           "mode": "markers",
           "name": "Finland",
           "orientation": "v",
           "showlegend": true,
           "type": "scatter",
           "x": [
            220.47
           ],
           "xaxis": "x",
           "y": [
            35528.6
           ],
           "yaxis": "y"
          },
          {
           "hovertemplate": "Country=France<br>Year=2011<br>gdp=%{x}<br>nni=%{y}<extra></extra>",
           "legendgroup": "France",
           "marker": {
            "color": "#B6E880",
            "symbol": "circle"
           },
           "mode": "markers",
           "name": "France",
           "orientation": "v",
           "showlegend": true,
           "type": "scatter",
           "x": [
            2446.47
           ],
           "xaxis": "x",
           "y": [
            33710.1
           ],
           "yaxis": "y"
          },
          {
           "hovertemplate": "Country=Germany<br>Year=2011<br>gdp=%{x}<br>nni=%{y}<extra></extra>",
           "legendgroup": "Germany",
           "marker": {
            "color": "#FF97FF",
            "symbol": "circle"
           },
           "mode": "markers",
           "name": "Germany",
           "orientation": "v",
           "showlegend": true,
           "type": "scatter",
           "x": [
            3415.02
           ],
           "xaxis": "x",
           "y": [
            38652.5
           ],
           "yaxis": "y"
          },
          {
           "hovertemplate": "Country=Hungary<br>Year=2011<br>gdp=%{x}<br>nni=%{y}<extra></extra>",
           "legendgroup": "Hungary",
           "marker": {
            "color": "#FECB52",
            "symbol": "circle"
           },
           "mode": "markers",
           "name": "Hungary",
           "orientation": "v",
           "showlegend": true,
           "type": "scatter",
           "x": [
            229.64
           ],
           "xaxis": "x",
           "y": [
            18777.8
           ],
           "yaxis": "y"
          },
          {
           "hovertemplate": "Country=Ireland<br>Year=2011<br>gdp=%{x}<br>nni=%{y}<extra></extra>",
           "legendgroup": "Ireland",
           "marker": {
            "color": "#636efa",
            "symbol": "circle"
           },
           "mode": "markers",
           "name": "Ireland",
           "orientation": "v",
           "showlegend": true,
           "type": "scatter",
           "x": [
            206.64
           ],
           "xaxis": "x",
           "y": [
            32763.6
           ],
           "yaxis": "y"
          },
          {
           "hovertemplate": "Country=Israel<br>Year=2011<br>gdp=%{x}<br>nni=%{y}<extra></extra>",
           "legendgroup": "Israel",
           "marker": {
            "color": "#EF553B",
            "symbol": "circle"
           },
           "mode": "markers",
           "name": "Israel",
           "orientation": "v",
           "showlegend": true,
           "type": "scatter",
           "x": [
            242.55
           ],
           "xaxis": "x",
           "y": [
            27344.2
           ],
           "yaxis": "y"
          },
          {
           "hovertemplate": "Country=Italy<br>Year=2011<br>gdp=%{x}<br>nni=%{y}<extra></extra>",
           "legendgroup": "Italy",
           "marker": {
            "color": "#00cc96",
            "symbol": "circle"
           },
           "mode": "markers",
           "name": "Italy",
           "orientation": "v",
           "showlegend": true,
           "type": "scatter",
           "x": [
            2173.17
           ],
           "xaxis": "x",
           "y": [
            31510.5
           ],
           "yaxis": "y"
          },
          {
           "hovertemplate": "Country=Japan<br>Year=2011<br>gdp=%{x}<br>nni=%{y}<extra></extra>",
           "legendgroup": "Japan",
           "marker": {
            "color": "#ab63fa",
            "symbol": "circle"
           },
           "mode": "markers",
           "name": "Japan",
           "orientation": "v",
           "showlegend": true,
           "type": "scatter",
           "x": [
            4629.4
           ],
           "xaxis": "x",
           "y": [
            29938.4
           ],
           "yaxis": "y"
          },
          {
           "hovertemplate": "Country=Latvia<br>Year=2011<br>gdp=%{x}<br>nni=%{y}<extra></extra>",
           "legendgroup": "Latvia",
           "marker": {
            "color": "#FFA15A",
            "symbol": "circle"
           },
           "mode": "markers",
           "name": "Latvia",
           "orientation": "v",
           "showlegend": true,
           "type": "scatter",
           "x": [
            39.65
           ],
           "xaxis": "x",
           "y": [
            15755.7
           ],
           "yaxis": "y"
          },
          {
           "hovertemplate": "Country=Lithuania<br>Year=2011<br>gdp=%{x}<br>nni=%{y}<extra></extra>",
           "legendgroup": "Lithuania",
           "marker": {
            "color": "#19d3f3",
            "symbol": "circle"
           },
           "mode": "markers",
           "name": "Lithuania",
           "orientation": "v",
           "showlegend": true,
           "type": "scatter",
           "x": [
            69.3
           ],
           "xaxis": "x",
           "y": [
            20095.4
           ],
           "yaxis": "y"
          },
          {
           "hovertemplate": "Country=Luxembourg<br>Year=2011<br>gdp=%{x}<br>nni=%{y}<extra></extra>",
           "legendgroup": "Luxembourg",
           "marker": {
            "color": "#FF6692",
            "symbol": "circle"
           },
           "mode": "markers",
           "name": "Luxembourg",
           "orientation": "v",
           "showlegend": true,
           "type": "scatter",
           "x": [
            48.97
           ],
           "xaxis": "x",
           "y": [
            59935.4
           ],
           "yaxis": "y"
          },
          {
           "hovertemplate": "Country=Mexico<br>Year=2011<br>gdp=%{x}<br>nni=%{y}<extra></extra>",
           "legendgroup": "Mexico",
           "marker": {
            "color": "#B6E880",
            "symbol": "circle"
           },
           "mode": "markers",
           "name": "Mexico",
           "orientation": "v",
           "showlegend": true,
           "type": "scatter",
           "x": [
            1989.89
           ],
           "xaxis": "x",
           "y": [
            15073.8
           ],
           "yaxis": "y"
          },
          {
           "hovertemplate": "Country=Netherlands<br>Year=2011<br>gdp=%{x}<br>nni=%{y}<extra></extra>",
           "legendgroup": "Netherlands",
           "marker": {
            "color": "#FF97FF",
            "symbol": "circle"
           },
           "mode": "markers",
           "name": "Netherlands",
           "orientation": "v",
           "showlegend": true,
           "type": "scatter",
           "x": [
            777.88
           ],
           "xaxis": "x",
           "y": [
            41086.8
           ],
           "yaxis": "y"
          },
          {
           "hovertemplate": "Country=New Zealand<br>Year=2011<br>gdp=%{x}<br>nni=%{y}<extra></extra>",
           "legendgroup": "New Zealand",
           "marker": {
            "color": "#FECB52",
            "symbol": "circle"
           },
           "mode": "markers",
           "name": "New Zealand",
           "orientation": "v",
           "showlegend": true,
           "type": "scatter",
           "x": [
            143.37
           ],
           "xaxis": "x",
           "y": [
            27981.4
           ],
           "yaxis": "y"
          },
          {
           "hovertemplate": "Country=Norway<br>Year=2011<br>gdp=%{x}<br>nni=%{y}<extra></extra>",
           "legendgroup": "Norway",
           "marker": {
            "color": "#636efa",
            "symbol": "circle"
           },
           "mode": "markers",
           "name": "Norway",
           "orientation": "v",
           "showlegend": true,
           "type": "scatter",
           "x": [
            309.37
           ],
           "xaxis": "x",
           "y": [
            53798.7
           ],
           "yaxis": "y"
          },
          {
           "hovertemplate": "Country=Portugal<br>Year=2011<br>gdp=%{x}<br>nni=%{y}<extra></extra>",
           "legendgroup": "Portugal",
           "marker": {
            "color": "#EF553B",
            "symbol": "circle"
           },
           "mode": "markers",
           "name": "Portugal",
           "orientation": "v",
           "showlegend": true,
           "type": "scatter",
           "x": [
            282.62
           ],
           "xaxis": "x",
           "y": [
            23465
           ],
           "yaxis": "y"
          },
          {
           "hovertemplate": "Country=Slovak Republic<br>Year=2011<br>gdp=%{x}<br>nni=%{y}<extra></extra>",
           "legendgroup": "Slovak Republic",
           "marker": {
            "color": "#00cc96",
            "symbol": "circle"
           },
           "mode": "markers",
           "name": "Slovak Republic",
           "orientation": "v",
           "showlegend": true,
           "type": "scatter",
           "x": [
            141.76
           ],
           "xaxis": "x",
           "y": [
            22065
           ],
           "yaxis": "y"
          },
          {
           "hovertemplate": "Country=Slovenia<br>Year=2011<br>gdp=%{x}<br>nni=%{y}<extra></extra>",
           "legendgroup": "Slovenia",
           "marker": {
            "color": "#ab63fa",
            "symbol": "circle"
           },
           "mode": "markers",
           "name": "Slovenia",
           "orientation": "v",
           "showlegend": true,
           "type": "scatter",
           "x": [
            59.39
           ],
           "xaxis": "x",
           "y": [
            24370.9
           ],
           "yaxis": "y"
          },
          {
           "hovertemplate": "Country=Spain<br>Year=2011<br>gdp=%{x}<br>nni=%{y}<extra></extra>",
           "legendgroup": "Spain",
           "marker": {
            "color": "#FFA15A",
            "symbol": "circle"
           },
           "mode": "markers",
           "name": "Spain",
           "orientation": "v",
           "showlegend": true,
           "type": "scatter",
           "x": [
            1489.59
           ],
           "xaxis": "x",
           "y": [
            28520.3
           ],
           "yaxis": "y"
          },
          {
           "hovertemplate": "Country=Sweden<br>Year=2011<br>gdp=%{x}<br>nni=%{y}<extra></extra>",
           "legendgroup": "Sweden",
           "marker": {
            "color": "#19d3f3",
            "symbol": "circle"
           },
           "mode": "markers",
           "name": "Sweden",
           "orientation": "v",
           "showlegend": true,
           "type": "scatter",
           "x": [
            421.52
           ],
           "xaxis": "x",
           "y": [
            40288.9
           ],
           "yaxis": "y"
          },
          {
           "hovertemplate": "Country=Switzerland<br>Year=2011<br>gdp=%{x}<br>nni=%{y}<extra></extra>",
           "legendgroup": "Switzerland",
           "marker": {
            "color": "#FF6692",
            "symbol": "circle"
           },
           "mode": "markers",
           "name": "Switzerland",
           "orientation": "v",
           "showlegend": true,
           "type": "scatter",
           "x": [
            454.91
           ],
           "xaxis": "x",
           "y": [
            49400.1
           ],
           "yaxis": "y"
          },
          {
           "hovertemplate": "Country=United Kingdom<br>Year=2011<br>gdp=%{x}<br>nni=%{y}<extra></extra>",
           "legendgroup": "United Kingdom",
           "marker": {
            "color": "#B6E880",
            "symbol": "circle"
           },
           "mode": "markers",
           "name": "United Kingdom",
           "orientation": "v",
           "showlegend": true,
           "type": "scatter",
           "x": [
            2354.77
           ],
           "xaxis": "x",
           "y": [
            33626.1
           ],
           "yaxis": "y"
          },
          {
           "hovertemplate": "Country=Euro area<br>Year=2011<br>gdp=%{x}<br>nni=%{y}<extra></extra>",
           "legendgroup": "Euro area",
           "marker": {
            "color": "#FF97FF",
            "symbol": "circle"
           },
           "mode": "markers",
           "name": "Euro area",
           "orientation": "v",
           "showlegend": true,
           "type": "scatter",
           "x": [
            12554.02
           ],
           "xaxis": "x",
           "y": [
            32959
           ],
           "yaxis": "y"
          },
          {
           "hovertemplate": "Country=Russia<br>Year=2011<br>gdp=%{x}<br>nni=%{y}<extra></extra>",
           "legendgroup": "Russia",
           "marker": {
            "color": "#FECB52",
            "symbol": "circle"
           },
           "mode": "markers",
           "name": "Russia",
           "orientation": "v",
           "showlegend": true,
           "type": "scatter",
           "x": [
            3259.32
           ],
           "xaxis": "x",
           "y": [
            22304.2
           ],
           "yaxis": "y"
          },
          {
           "hovertemplate": "Country=South Africa<br>Year=2011<br>gdp=%{x}<br>nni=%{y}<extra></extra>",
           "legendgroup": "South Africa",
           "marker": {
            "color": "#636efa",
            "symbol": "circle"
           },
           "mode": "markers",
           "name": "South Africa",
           "orientation": "v",
           "showlegend": true,
           "type": "scatter",
           "x": [
            696.53
           ],
           "xaxis": "x",
           "y": [
            11797.7
           ],
           "yaxis": "y"
          },
          {
           "hovertemplate": "Country=Greece<br>Year=2011<br>gdp=%{x}<br>nni=%{y}<extra></extra>",
           "legendgroup": "Greece",
           "marker": {
            "color": "#EF553B",
            "symbol": "circle"
           },
           "mode": "markers",
           "name": "Greece",
           "orientation": "v",
           "showlegend": true,
           "type": "scatter",
           "x": [
            285.08
           ],
           "xaxis": "x",
           "y": [
            22409.1
           ],
           "yaxis": "y"
          },
          {
           "hovertemplate": "Country=Korea<br>Year=2011<br>gdp=%{x}<br>nni=%{y}<extra></extra>",
           "legendgroup": "Korea",
           "marker": {
            "color": "#00cc96",
            "symbol": "circle"
           },
           "mode": "markers",
           "name": "Korea",
           "orientation": "v",
           "showlegend": true,
           "type": "scatter",
           "x": [
            1625.28
           ],
           "xaxis": "x",
           "y": [
            27322.7
           ],
           "yaxis": "y"
          }
         ],
         "name": "2011"
        },
        {
         "data": [
          {
           "hovertemplate": "Country=Australia<br>Year=2012<br>gdp=%{x}<br>nni=%{y}<extra></extra>",
           "legendgroup": "Australia",
           "marker": {
            "color": "#636efa",
            "symbol": "circle"
           },
           "mode": "markers",
           "name": "Australia",
           "orientation": "v",
           "showlegend": true,
           "type": "scatter",
           "x": [
            998.27
           ],
           "xaxis": "x",
           "y": [
            39309.4
           ],
           "yaxis": "y"
          },
          {
           "hovertemplate": "Country=Austria<br>Year=2012<br>gdp=%{x}<br>nni=%{y}<extra></extra>",
           "legendgroup": "Austria",
           "marker": {
            "color": "#EF553B",
            "symbol": "circle"
           },
           "mode": "markers",
           "name": "Austria",
           "orientation": "v",
           "showlegend": true,
           "type": "scatter",
           "x": [
            391.64
           ],
           "xaxis": "x",
           "y": [
            41046.6
           ],
           "yaxis": "y"
          },
          {
           "hovertemplate": "Country=Chile<br>Year=2012<br>gdp=%{x}<br>nni=%{y}<extra></extra>",
           "legendgroup": "Chile",
           "marker": {
            "color": "#00cc96",
            "symbol": "circle"
           },
           "mode": "markers",
           "name": "Chile",
           "orientation": "v",
           "showlegend": true,
           "type": "scatter",
           "x": [
            374.32
           ],
           "xaxis": "x",
           "y": [
            21017.4
           ],
           "yaxis": "y"
          },
          {
           "hovertemplate": "Country=Czechia<br>Year=2012<br>gdp=%{x}<br>nni=%{y}<extra></extra>",
           "legendgroup": "Czechia",
           "marker": {
            "color": "#ab63fa",
            "symbol": "circle"
           },
           "mode": "markers",
           "name": "Czechia",
           "orientation": "v",
           "showlegend": true,
           "type": "scatter",
           "x": [
            307.49
           ],
           "xaxis": "x",
           "y": [
            22330.7
           ],
           "yaxis": "y"
          },
          {
           "hovertemplate": "Country=Denmark<br>Year=2012<br>gdp=%{x}<br>nni=%{y}<extra></extra>",
           "legendgroup": "Denmark",
           "marker": {
            "color": "#FFA15A",
            "symbol": "circle"
           },
           "mode": "markers",
           "name": "Denmark",
           "orientation": "v",
           "showlegend": true,
           "type": "scatter",
           "x": [
            250.52
           ],
           "xaxis": "x",
           "y": [
            39679.5
           ],
           "yaxis": "y"
          },
          {
           "hovertemplate": "Country=Estonia<br>Year=2012<br>gdp=%{x}<br>nni=%{y}<extra></extra>",
           "legendgroup": "Estonia",
           "marker": {
            "color": "#19d3f3",
            "symbol": "circle"
           },
           "mode": "markers",
           "name": "Estonia",
           "orientation": "v",
           "showlegend": true,
           "type": "scatter",
           "x": [
            34.38
           ],
           "xaxis": "x",
           "y": [
            21226.7
           ],
           "yaxis": "y"
          },
          {
           "hovertemplate": "Country=Finland<br>Year=2012<br>gdp=%{x}<br>nni=%{y}<extra></extra>",
           "legendgroup": "Finland",
           "marker": {
            "color": "#FF6692",
            "symbol": "circle"
           },
           "mode": "markers",
           "name": "Finland",
           "orientation": "v",
           "showlegend": true,
           "type": "scatter",
           "x": [
            221.29
           ],
           "xaxis": "x",
           "y": [
            34514.1
           ],
           "yaxis": "y"
          },
          {
           "hovertemplate": "Country=France<br>Year=2012<br>gdp=%{x}<br>nni=%{y}<extra></extra>",
           "legendgroup": "France",
           "marker": {
            "color": "#B6E880",
            "symbol": "circle"
           },
           "mode": "markers",
           "name": "France",
           "orientation": "v",
           "showlegend": true,
           "type": "scatter",
           "x": [
            2474.01
           ],
           "xaxis": "x",
           "y": [
            33355.5
           ],
           "yaxis": "y"
          },
          {
           "hovertemplate": "Country=Germany<br>Year=2012<br>gdp=%{x}<br>nni=%{y}<extra></extra>",
           "legendgroup": "Germany",
           "marker": {
            "color": "#FF97FF",
            "symbol": "circle"
           },
           "mode": "markers",
           "name": "Germany",
           "orientation": "v",
           "showlegend": true,
           "type": "scatter",
           "x": [
            3487.23
           ],
           "xaxis": "x",
           "y": [
            38518.6
           ],
           "yaxis": "y"
          },
          {
           "hovertemplate": "Country=Hungary<br>Year=2012<br>gdp=%{x}<br>nni=%{y}<extra></extra>",
           "legendgroup": "Hungary",
           "marker": {
            "color": "#FECB52",
            "symbol": "circle"
           },
           "mode": "markers",
           "name": "Hungary",
           "orientation": "v",
           "showlegend": true,
           "type": "scatter",
           "x": [
            230.82
           ],
           "xaxis": "x",
           "y": [
            18546.3
           ],
           "yaxis": "y"
          },
          {
           "hovertemplate": "Country=Ireland<br>Year=2012<br>gdp=%{x}<br>nni=%{y}<extra></extra>",
           "legendgroup": "Ireland",
           "marker": {
            "color": "#636efa",
            "symbol": "circle"
           },
           "mode": "markers",
           "name": "Ireland",
           "orientation": "v",
           "showlegend": true,
           "type": "scatter",
           "x": [
            212.88
           ],
           "xaxis": "x",
           "y": [
            32274.7
           ],
           "yaxis": "y"
          },
          {
           "hovertemplate": "Country=Israel<br>Year=2012<br>gdp=%{x}<br>nni=%{y}<extra></extra>",
           "legendgroup": "Israel",
           "marker": {
            "color": "#EF553B",
            "symbol": "circle"
           },
           "mode": "markers",
           "name": "Israel",
           "orientation": "v",
           "showlegend": true,
           "type": "scatter",
           "x": [
            256.31
           ],
           "xaxis": "x",
           "y": [
            27304.8
           ],
           "yaxis": "y"
          },
          {
           "hovertemplate": "Country=Italy<br>Year=2012<br>gdp=%{x}<br>nni=%{y}<extra></extra>",
           "legendgroup": "Italy",
           "marker": {
            "color": "#00cc96",
            "symbol": "circle"
           },
           "mode": "markers",
           "name": "Italy",
           "orientation": "v",
           "showlegend": true,
           "type": "scatter",
           "x": [
            2172.38
           ],
           "xaxis": "x",
           "y": [
            30200.5
           ],
           "yaxis": "y"
          },
          {
           "hovertemplate": "Country=Japan<br>Year=2012<br>gdp=%{x}<br>nni=%{y}<extra></extra>",
           "legendgroup": "Japan",
           "marker": {
            "color": "#ab63fa",
            "symbol": "circle"
           },
           "mode": "markers",
           "name": "Japan",
           "orientation": "v",
           "showlegend": true,
           "type": "scatter",
           "x": [
            4799.61
           ],
           "xaxis": "x",
           "y": [
            30458.9
           ],
           "yaxis": "y"
          },
          {
           "hovertemplate": "Country=Latvia<br>Year=2012<br>gdp=%{x}<br>nni=%{y}<extra></extra>",
           "legendgroup": "Latvia",
           "marker": {
            "color": "#FFA15A",
            "symbol": "circle"
           },
           "mode": "markers",
           "name": "Latvia",
           "orientation": "v",
           "showlegend": true,
           "type": "scatter",
           "x": [
            43.31
           ],
           "xaxis": "x",
           "y": [
            16704
           ],
           "yaxis": "y"
          },
          {
           "hovertemplate": "Country=Lithuania<br>Year=2012<br>gdp=%{x}<br>nni=%{y}<extra></extra>",
           "legendgroup": "Lithuania",
           "marker": {
            "color": "#19d3f3",
            "symbol": "circle"
           },
           "mode": "markers",
           "name": "Lithuania",
           "orientation": "v",
           "showlegend": true,
           "type": "scatter",
           "x": [
            73.81
           ],
           "xaxis": "x",
           "y": [
            20979.9
           ],
           "yaxis": "y"
          },
          {
           "hovertemplate": "Country=Luxembourg<br>Year=2012<br>gdp=%{x}<br>nni=%{y}<extra></extra>",
           "legendgroup": "Luxembourg",
           "marker": {
            "color": "#FF6692",
            "symbol": "circle"
           },
           "mode": "markers",
           "name": "Luxembourg",
           "orientation": "v",
           "showlegend": true,
           "type": "scatter",
           "x": [
            51.31
           ],
           "xaxis": "x",
           "y": [
            67765.4
           ],
           "yaxis": "y"
          },
          {
           "hovertemplate": "Country=Mexico<br>Year=2012<br>gdp=%{x}<br>nni=%{y}<extra></extra>",
           "legendgroup": "Mexico",
           "marker": {
            "color": "#B6E880",
            "symbol": "circle"
           },
           "mode": "markers",
           "name": "Mexico",
           "orientation": "v",
           "showlegend": true,
           "type": "scatter",
           "x": [
            2103.29
           ],
           "xaxis": "x",
           "y": [
            15440.9
           ],
           "yaxis": "y"
          },
          {
           "hovertemplate": "Country=Netherlands<br>Year=2012<br>gdp=%{x}<br>nni=%{y}<extra></extra>",
           "legendgroup": "Netherlands",
           "marker": {
            "color": "#FF97FF",
            "symbol": "circle"
           },
           "mode": "markers",
           "name": "Netherlands",
           "orientation": "v",
           "showlegend": true,
           "type": "scatter",
           "x": [
            792.04
           ],
           "xaxis": "x",
           "y": [
            40121.9
           ],
           "yaxis": "y"
          },
          {
           "hovertemplate": "Country=New Zealand<br>Year=2012<br>gdp=%{x}<br>nni=%{y}<extra></extra>",
           "legendgroup": "New Zealand",
           "marker": {
            "color": "#FECB52",
            "symbol": "circle"
           },
           "mode": "markers",
           "name": "New Zealand",
           "orientation": "v",
           "showlegend": true,
           "type": "scatter",
           "x": [
            145.42
           ],
           "xaxis": "x",
           "y": [
            28275.9
           ],
           "yaxis": "y"
          },
          {
           "hovertemplate": "Country=Norway<br>Year=2012<br>gdp=%{x}<br>nni=%{y}<extra></extra>",
           "legendgroup": "Norway",
           "marker": {
            "color": "#636efa",
            "symbol": "circle"
           },
           "mode": "markers",
           "name": "Norway",
           "orientation": "v",
           "showlegend": true,
           "type": "scatter",
           "x": [
            330.09
           ],
           "xaxis": "x",
           "y": [
            54963
           ],
           "yaxis": "y"
          },
          {
           "hovertemplate": "Country=Portugal<br>Year=2012<br>gdp=%{x}<br>nni=%{y}<extra></extra>",
           "legendgroup": "Portugal",
           "marker": {
            "color": "#EF553B",
            "symbol": "circle"
           },
           "mode": "markers",
           "name": "Portugal",
           "orientation": "v",
           "showlegend": true,
           "type": "scatter",
           "x": [
            277.99
           ],
           "xaxis": "x",
           "y": [
            22346.8
           ],
           "yaxis": "y"
          },
          {
           "hovertemplate": "Country=Slovak Republic<br>Year=2012<br>gdp=%{x}<br>nni=%{y}<extra></extra>",
           "legendgroup": "Slovak Republic",
           "marker": {
            "color": "#00cc96",
            "symbol": "circle"
           },
           "mode": "markers",
           "name": "Slovak Republic",
           "orientation": "v",
           "showlegend": true,
           "type": "scatter",
           "x": [
            145.97
           ],
           "xaxis": "x",
           "y": [
            22611.6
           ],
           "yaxis": "y"
          },
          {
           "hovertemplate": "Country=Slovenia<br>Year=2012<br>gdp=%{x}<br>nni=%{y}<extra></extra>",
           "legendgroup": "Slovenia",
           "marker": {
            "color": "#ab63fa",
            "symbol": "circle"
           },
           "mode": "markers",
           "name": "Slovenia",
           "orientation": "v",
           "showlegend": true,
           "type": "scatter",
           "x": [
            59.75
           ],
           "xaxis": "x",
           "y": [
            23130.9
           ],
           "yaxis": "y"
          },
          {
           "hovertemplate": "Country=Spain<br>Year=2012<br>gdp=%{x}<br>nni=%{y}<extra></extra>",
           "legendgroup": "Spain",
           "marker": {
            "color": "#FFA15A",
            "symbol": "circle"
           },
           "mode": "markers",
           "name": "Spain",
           "orientation": "v",
           "showlegend": true,
           "type": "scatter",
           "x": [
            1483.65
           ],
           "xaxis": "x",
           "y": [
            27738.7
           ],
           "yaxis": "y"
          },
          {
           "hovertemplate": "Country=Sweden<br>Year=2012<br>gdp=%{x}<br>nni=%{y}<extra></extra>",
           "legendgroup": "Sweden",
           "marker": {
            "color": "#19d3f3",
            "symbol": "circle"
           },
           "mode": "markers",
           "name": "Sweden",
           "orientation": "v",
           "showlegend": true,
           "type": "scatter",
           "x": [
            432.49
           ],
           "xaxis": "x",
           "y": [
            39631.7
           ],
           "yaxis": "y"
          },
          {
           "hovertemplate": "Country=Switzerland<br>Year=2012<br>gdp=%{x}<br>nni=%{y}<extra></extra>",
           "legendgroup": "Switzerland",
           "marker": {
            "color": "#FF6692",
            "symbol": "circle"
           },
           "mode": "markers",
           "name": "Switzerland",
           "orientation": "v",
           "showlegend": true,
           "type": "scatter",
           "x": [
            475.34
           ],
           "xaxis": "x",
           "y": [
            50665.9
           ],
           "yaxis": "y"
          },
          {
           "hovertemplate": "Country=United Kingdom<br>Year=2012<br>gdp=%{x}<br>nni=%{y}<extra></extra>",
           "legendgroup": "United Kingdom",
           "marker": {
            "color": "#B6E880",
            "symbol": "circle"
           },
           "mode": "markers",
           "name": "United Kingdom",
           "orientation": "v",
           "showlegend": true,
           "type": "scatter",
           "x": [
            2442.46
           ],
           "xaxis": "x",
           "y": [
            33468.7
           ],
           "yaxis": "y"
          },
          {
           "hovertemplate": "Country=Euro area<br>Year=2012<br>gdp=%{x}<br>nni=%{y}<extra></extra>",
           "legendgroup": "Euro area",
           "marker": {
            "color": "#FF97FF",
            "symbol": "circle"
           },
           "mode": "markers",
           "name": "Euro area",
           "orientation": "v",
           "showlegend": true,
           "type": "scatter",
           "x": [
            12706.79
           ],
           "xaxis": "x",
           "y": [
            32550.5
           ],
           "yaxis": "y"
          },
          {
           "hovertemplate": "Country=Russia<br>Year=2012<br>gdp=%{x}<br>nni=%{y}<extra></extra>",
           "legendgroup": "Russia",
           "marker": {
            "color": "#FECB52",
            "symbol": "circle"
           },
           "mode": "markers",
           "name": "Russia",
           "orientation": "v",
           "showlegend": true,
           "type": "scatter",
           "x": [
            3480.3
           ],
           "xaxis": "x",
           "y": [
            22934.2
           ],
           "yaxis": "y"
          },
          {
           "hovertemplate": "Country=South Africa<br>Year=2012<br>gdp=%{x}<br>nni=%{y}<extra></extra>",
           "legendgroup": "South Africa",
           "marker": {
            "color": "#636efa",
            "symbol": "circle"
           },
           "mode": "markers",
           "name": "South Africa",
           "orientation": "v",
           "showlegend": true,
           "type": "scatter",
           "x": [
            698.22
           ],
           "xaxis": "x",
           "y": [
            11703.4
           ],
           "yaxis": "y"
          },
          {
           "hovertemplate": "Country=Greece<br>Year=2012<br>gdp=%{x}<br>nni=%{y}<extra></extra>",
           "legendgroup": "Greece",
           "marker": {
            "color": "#EF553B",
            "symbol": "circle"
           },
           "mode": "markers",
           "name": "Greece",
           "orientation": "v",
           "showlegend": true,
           "type": "scatter",
           "x": [
            275.14
           ],
           "xaxis": "x",
           "y": [
            21617.9
           ],
           "yaxis": "y"
          },
          {
           "hovertemplate": "Country=Korea<br>Year=2012<br>gdp=%{x}<br>nni=%{y}<extra></extra>",
           "legendgroup": "Korea",
           "marker": {
            "color": "#00cc96",
            "symbol": "circle"
           },
           "mode": "markers",
           "name": "Korea",
           "orientation": "v",
           "showlegend": true,
           "type": "scatter",
           "x": [
            1684.56
           ],
           "xaxis": "x",
           "y": [
            27808
           ],
           "yaxis": "y"
          }
         ],
         "name": "2012"
        },
        {
         "data": [
          {
           "hovertemplate": "Country=Australia<br>Year=2013<br>gdp=%{x}<br>nni=%{y}<extra></extra>",
           "legendgroup": "Australia",
           "marker": {
            "color": "#636efa",
            "symbol": "circle"
           },
           "mode": "markers",
           "name": "Australia",
           "orientation": "v",
           "showlegend": true,
           "type": "scatter",
           "x": [
            1105.43
           ],
           "xaxis": "x",
           "y": [
            39042.3
           ],
           "yaxis": "y"
          },
          {
           "hovertemplate": "Country=Austria<br>Year=2013<br>gdp=%{x}<br>nni=%{y}<extra></extra>",
           "legendgroup": "Austria",
           "marker": {
            "color": "#EF553B",
            "symbol": "circle"
           },
           "mode": "markers",
           "name": "Austria",
           "orientation": "v",
           "showlegend": true,
           "type": "scatter",
           "x": [
            406.37
           ],
           "xaxis": "x",
           "y": [
            40692.1
           ],
           "yaxis": "y"
          },
          {
           "hovertemplate": "Country=Chile<br>Year=2013<br>gdp=%{x}<br>nni=%{y}<extra></extra>",
           "legendgroup": "Chile",
           "marker": {
            "color": "#00cc96",
            "symbol": "circle"
           },
           "mode": "markers",
           "name": "Chile",
           "orientation": "v",
           "showlegend": true,
           "type": "scatter",
           "x": [
            392.67
           ],
           "xaxis": "x",
           "y": [
            21543.5
           ],
           "yaxis": "y"
          },
          {
           "hovertemplate": "Country=Czechia<br>Year=2013<br>gdp=%{x}<br>nni=%{y}<extra></extra>",
           "legendgroup": "Czechia",
           "marker": {
            "color": "#ab63fa",
            "symbol": "circle"
           },
           "mode": "markers",
           "name": "Czechia",
           "orientation": "v",
           "showlegend": true,
           "type": "scatter",
           "x": [
            324.03
           ],
           "xaxis": "x",
           "y": [
            22461.2
           ],
           "yaxis": "y"
          },
          {
           "hovertemplate": "Country=Denmark<br>Year=2013<br>gdp=%{x}<br>nni=%{y}<extra></extra>",
           "legendgroup": "Denmark",
           "marker": {
            "color": "#FFA15A",
            "symbol": "circle"
           },
           "mode": "markers",
           "name": "Denmark",
           "orientation": "v",
           "showlegend": true,
           "type": "scatter",
           "x": [
            262.37
           ],
           "xaxis": "x",
           "y": [
            40643.3
           ],
           "yaxis": "y"
          },
          {
           "hovertemplate": "Country=Estonia<br>Year=2013<br>gdp=%{x}<br>nni=%{y}<extra></extra>",
           "legendgroup": "Estonia",
           "marker": {
            "color": "#19d3f3",
            "symbol": "circle"
           },
           "mode": "markers",
           "name": "Estonia",
           "orientation": "v",
           "showlegend": true,
           "type": "scatter",
           "x": [
            36.2
           ],
           "xaxis": "x",
           "y": [
            22143.2
           ],
           "yaxis": "y"
          },
          {
           "hovertemplate": "Country=Finland<br>Year=2013<br>gdp=%{x}<br>nni=%{y}<extra></extra>",
           "legendgroup": "Finland",
           "marker": {
            "color": "#FF6692",
            "symbol": "circle"
           },
           "mode": "markers",
           "name": "Finland",
           "orientation": "v",
           "showlegend": true,
           "type": "scatter",
           "x": [
            225.68
           ],
           "xaxis": "x",
           "y": [
            34114.2
           ],
           "yaxis": "y"
          },
          {
           "hovertemplate": "Country=France<br>Year=2013<br>gdp=%{x}<br>nni=%{y}<extra></extra>",
           "legendgroup": "France",
           "marker": {
            "color": "#B6E880",
            "symbol": "circle"
           },
           "mode": "markers",
           "name": "France",
           "orientation": "v",
           "showlegend": true,
           "type": "scatter",
           "x": [
            2608.52
           ],
           "xaxis": "x",
           "y": [
            33519
           ],
           "yaxis": "y"
          },
          {
           "hovertemplate": "Country=Germany<br>Year=2013<br>gdp=%{x}<br>nni=%{y}<extra></extra>",
           "legendgroup": "Germany",
           "marker": {
            "color": "#FF97FF",
            "symbol": "circle"
           },
           "mode": "markers",
           "name": "Germany",
           "orientation": "v",
           "showlegend": true,
           "type": "scatter",
           "x": [
            3628.56
           ],
           "xaxis": "x",
           "y": [
            38616
           ],
           "yaxis": "y"
          },
          {
           "hovertemplate": "Country=Hungary<br>Year=2013<br>gdp=%{x}<br>nni=%{y}<extra></extra>",
           "legendgroup": "Hungary",
           "marker": {
            "color": "#FECB52",
            "symbol": "circle"
           },
           "mode": "markers",
           "name": "Hungary",
           "orientation": "v",
           "showlegend": true,
           "type": "scatter",
           "x": [
            242.86
           ],
           "xaxis": "x",
           "y": [
            19411.4
           ],
           "yaxis": "y"
          },
          {
           "hovertemplate": "Country=Ireland<br>Year=2013<br>gdp=%{x}<br>nni=%{y}<extra></extra>",
           "legendgroup": "Ireland",
           "marker": {
            "color": "#636efa",
            "symbol": "circle"
           },
           "mode": "markers",
           "name": "Ireland",
           "orientation": "v",
           "showlegend": true,
           "type": "scatter",
           "x": [
            221.01
           ],
           "xaxis": "x",
           "y": [
            34218.9
           ],
           "yaxis": "y"
          },
          {
           "hovertemplate": "Country=Israel<br>Year=2013<br>gdp=%{x}<br>nni=%{y}<extra></extra>",
           "legendgroup": "Israel",
           "marker": {
            "color": "#EF553B",
            "symbol": "circle"
           },
           "mode": "markers",
           "name": "Israel",
           "orientation": "v",
           "showlegend": true,
           "type": "scatter",
           "x": [
            279.9
           ],
           "xaxis": "x",
           "y": [
            28475.7
           ],
           "yaxis": "y"
          },
          {
           "hovertemplate": "Country=Italy<br>Year=2013<br>gdp=%{x}<br>nni=%{y}<extra></extra>",
           "legendgroup": "Italy",
           "marker": {
            "color": "#00cc96",
            "symbol": "circle"
           },
           "mode": "markers",
           "name": "Italy",
           "orientation": "v",
           "showlegend": true,
           "type": "scatter",
           "x": [
            2187.38
           ],
           "xaxis": "x",
           "y": [
            29672.3
           ],
           "yaxis": "y"
          },
          {
           "hovertemplate": "Country=Japan<br>Year=2013<br>gdp=%{x}<br>nni=%{y}<extra></extra>",
           "legendgroup": "Japan",
           "marker": {
            "color": "#ab63fa",
            "symbol": "circle"
           },
           "mode": "markers",
           "name": "Japan",
           "orientation": "v",
           "showlegend": true,
           "type": "scatter",
           "x": [
            5021.59
           ],
           "xaxis": "x",
           "y": [
            31344.9
           ],
           "yaxis": "y"
          },
          {
           "hovertemplate": "Country=Latvia<br>Year=2013<br>gdp=%{x}<br>nni=%{y}<extra></extra>",
           "legendgroup": "Latvia",
           "marker": {
            "color": "#FFA15A",
            "symbol": "circle"
           },
           "mode": "markers",
           "name": "Latvia",
           "orientation": "v",
           "showlegend": true,
           "type": "scatter",
           "x": [
            45.56
           ],
           "xaxis": "x",
           "y": [
            17476.4
           ],
           "yaxis": "y"
          },
          {
           "hovertemplate": "Country=Lithuania<br>Year=2013<br>gdp=%{x}<br>nni=%{y}<extra></extra>",
           "legendgroup": "Lithuania",
           "marker": {
            "color": "#19d3f3",
            "symbol": "circle"
           },
           "mode": "markers",
           "name": "Lithuania",
           "orientation": "v",
           "showlegend": true,
           "type": "scatter",
           "x": [
            79.03
           ],
           "xaxis": "x",
           "y": [
            22111.7
           ],
           "yaxis": "y"
          },
          {
           "hovertemplate": "Country=Luxembourg<br>Year=2013<br>gdp=%{x}<br>nni=%{y}<extra></extra>",
           "legendgroup": "Luxembourg",
           "marker": {
            "color": "#FF6692",
            "symbol": "circle"
           },
           "mode": "markers",
           "name": "Luxembourg",
           "orientation": "v",
           "showlegend": true,
           "type": "scatter",
           "x": [
            54.84
           ],
           "xaxis": "x",
           "y": [
            63445.8
           ],
           "yaxis": "y"
          },
          {
           "hovertemplate": "Country=Mexico<br>Year=2013<br>gdp=%{x}<br>nni=%{y}<extra></extra>",
           "legendgroup": "Mexico",
           "marker": {
            "color": "#B6E880",
            "symbol": "circle"
           },
           "mode": "markers",
           "name": "Mexico",
           "orientation": "v",
           "showlegend": true,
           "type": "scatter",
           "x": [
            2150.33
           ],
           "xaxis": "x",
           "y": [
            15211.1
           ],
           "yaxis": "y"
          },
          {
           "hovertemplate": "Country=Netherlands<br>Year=2013<br>gdp=%{x}<br>nni=%{y}<extra></extra>",
           "legendgroup": "Netherlands",
           "marker": {
            "color": "#FF97FF",
            "symbol": "circle"
           },
           "mode": "markers",
           "name": "Netherlands",
           "orientation": "v",
           "showlegend": true,
           "type": "scatter",
           "x": [
            827.48
           ],
           "xaxis": "x",
           "y": [
            40121.3
           ],
           "yaxis": "y"
          },
          {
           "hovertemplate": "Country=New Zealand<br>Year=2013<br>gdp=%{x}<br>nni=%{y}<extra></extra>",
           "legendgroup": "New Zealand",
           "marker": {
            "color": "#FECB52",
            "symbol": "circle"
           },
           "mode": "markers",
           "name": "New Zealand",
           "orientation": "v",
           "showlegend": true,
           "type": "scatter",
           "x": [
            161
           ],
           "xaxis": "x",
           "y": [
            29743.4
           ],
           "yaxis": "y"
          },
          {
           "hovertemplate": "Country=Norway<br>Year=2013<br>gdp=%{x}<br>nni=%{y}<extra></extra>",
           "legendgroup": "Norway",
           "marker": {
            "color": "#636efa",
            "symbol": "circle"
           },
           "mode": "markers",
           "name": "Norway",
           "orientation": "v",
           "showlegend": true,
           "type": "scatter",
           "x": [
            342.25
           ],
           "xaxis": "x",
           "y": [
            54748.4
           ],
           "yaxis": "y"
          },
          {
           "hovertemplate": "Country=Portugal<br>Year=2013<br>gdp=%{x}<br>nni=%{y}<extra></extra>",
           "legendgroup": "Portugal",
           "marker": {
            "color": "#EF553B",
            "symbol": "circle"
           },
           "mode": "markers",
           "name": "Portugal",
           "orientation": "v",
           "showlegend": true,
           "type": "scatter",
           "x": [
            292.14
           ],
           "xaxis": "x",
           "y": [
            22858.7
           ],
           "yaxis": "y"
          },
          {
           "hovertemplate": "Country=Slovak Republic<br>Year=2013<br>gdp=%{x}<br>nni=%{y}<extra></extra>",
           "legendgroup": "Slovak Republic",
           "marker": {
            "color": "#00cc96",
            "symbol": "circle"
           },
           "mode": "markers",
           "name": "Slovak Republic",
           "orientation": "v",
           "showlegend": true,
           "type": "scatter",
           "x": [
            151.68
           ],
           "xaxis": "x",
           "y": [
            22800.3
           ],
           "yaxis": "y"
          },
          {
           "hovertemplate": "Country=Slovenia<br>Year=2013<br>gdp=%{x}<br>nni=%{y}<extra></extra>",
           "legendgroup": "Slovenia",
           "marker": {
            "color": "#ab63fa",
            "symbol": "circle"
           },
           "mode": "markers",
           "name": "Slovenia",
           "orientation": "v",
           "showlegend": true,
           "type": "scatter",
           "x": [
            61.74
           ],
           "xaxis": "x",
           "y": [
            23021.7
           ],
           "yaxis": "y"
          },
          {
           "hovertemplate": "Country=Spain<br>Year=2013<br>gdp=%{x}<br>nni=%{y}<extra></extra>",
           "legendgroup": "Spain",
           "marker": {
            "color": "#FFA15A",
            "symbol": "circle"
           },
           "mode": "markers",
           "name": "Spain",
           "orientation": "v",
           "showlegend": true,
           "type": "scatter",
           "x": [
            1512.56
           ],
           "xaxis": "x",
           "y": [
            27616.7
           ],
           "yaxis": "y"
          },
          {
           "hovertemplate": "Country=Sweden<br>Year=2013<br>gdp=%{x}<br>nni=%{y}<extra></extra>",
           "legendgroup": "Sweden",
           "marker": {
            "color": "#19d3f3",
            "symbol": "circle"
           },
           "mode": "markers",
           "name": "Sweden",
           "orientation": "v",
           "showlegend": true,
           "type": "scatter",
           "x": [
            444.62
           ],
           "xaxis": "x",
           "y": [
            39735
           ],
           "yaxis": "y"
          },
          {
           "hovertemplate": "Country=Switzerland<br>Year=2013<br>gdp=%{x}<br>nni=%{y}<extra></extra>",
           "legendgroup": "Switzerland",
           "marker": {
            "color": "#FF6692",
            "symbol": "circle"
           },
           "mode": "markers",
           "name": "Switzerland",
           "orientation": "v",
           "showlegend": true,
           "type": "scatter",
           "x": [
            498.76
           ],
           "xaxis": "x",
           "y": [
            50259.5
           ],
           "yaxis": "y"
          },
          {
           "hovertemplate": "Country=United Kingdom<br>Year=2013<br>gdp=%{x}<br>nni=%{y}<extra></extra>",
           "legendgroup": "United Kingdom",
           "marker": {
            "color": "#B6E880",
            "symbol": "circle"
           },
           "mode": "markers",
           "name": "United Kingdom",
           "orientation": "v",
           "showlegend": true,
           "type": "scatter",
           "x": [
            2562.2
           ],
           "xaxis": "x",
           "y": [
            33731
           ],
           "yaxis": "y"
          },
          {
           "hovertemplate": "Country=Euro area<br>Year=2013<br>gdp=%{x}<br>nni=%{y}<extra></extra>",
           "legendgroup": "Euro area",
           "marker": {
            "color": "#FF97FF",
            "symbol": "circle"
           },
           "mode": "markers",
           "name": "Euro area",
           "orientation": "v",
           "showlegend": true,
           "type": "scatter",
           "x": [
            13151.1
           ],
           "xaxis": "x",
           "y": [
            32674.5
           ],
           "yaxis": "y"
          },
          {
           "hovertemplate": "Country=Russia<br>Year=2013<br>gdp=%{x}<br>nni=%{y}<extra></extra>",
           "legendgroup": "Russia",
           "marker": {
            "color": "#FECB52",
            "symbol": "circle"
           },
           "mode": "markers",
           "name": "Russia",
           "orientation": "v",
           "showlegend": true,
           "type": "scatter",
           "x": [
            3741.78
           ],
           "xaxis": "x",
           "y": [
            22574.1
           ],
           "yaxis": "y"
          },
          {
           "hovertemplate": "Country=South Africa<br>Year=2013<br>gdp=%{x}<br>nni=%{y}<extra></extra>",
           "legendgroup": "South Africa",
           "marker": {
            "color": "#636efa",
            "symbol": "circle"
           },
           "mode": "markers",
           "name": "South Africa",
           "orientation": "v",
           "showlegend": true,
           "type": "scatter",
           "x": [
            730.52
           ],
           "xaxis": "x",
           "y": [
            11770.4
           ],
           "yaxis": "y"
          },
          {
           "hovertemplate": "Country=Greece<br>Year=2013<br>gdp=%{x}<br>nni=%{y}<extra></extra>",
           "legendgroup": "Greece",
           "marker": {
            "color": "#EF553B",
            "symbol": "circle"
           },
           "mode": "markers",
           "name": "Greece",
           "orientation": "v",
           "showlegend": true,
           "type": "scatter",
           "x": [
            284.95
           ],
           "xaxis": "x",
           "y": [
            21135
           ],
           "yaxis": "y"
          },
          {
           "hovertemplate": "Country=Korea<br>Year=2013<br>gdp=%{x}<br>nni=%{y}<extra></extra>",
           "legendgroup": "Korea",
           "marker": {
            "color": "#00cc96",
            "symbol": "circle"
           },
           "mode": "markers",
           "name": "Korea",
           "orientation": "v",
           "showlegend": true,
           "type": "scatter",
           "x": [
            1726.9
           ],
           "xaxis": "x",
           "y": [
            28681.2
           ],
           "yaxis": "y"
          }
         ],
         "name": "2013"
        },
        {
         "data": [
          {
           "hovertemplate": "Country=Australia<br>Year=2014<br>gdp=%{x}<br>nni=%{y}<extra></extra>",
           "legendgroup": "Australia",
           "marker": {
            "color": "#636efa",
            "symbol": "circle"
           },
           "mode": "markers",
           "name": "Australia",
           "orientation": "v",
           "showlegend": true,
           "type": "scatter",
           "x": [
            1118.59
           ],
           "xaxis": "x",
           "y": [
            38266.5
           ],
           "yaxis": "y"
          },
          {
           "hovertemplate": "Country=Austria<br>Year=2014<br>gdp=%{x}<br>nni=%{y}<extra></extra>",
           "legendgroup": "Austria",
           "marker": {
            "color": "#EF553B",
            "symbol": "circle"
           },
           "mode": "markers",
           "name": "Austria",
           "orientation": "v",
           "showlegend": true,
           "type": "scatter",
           "x": [
            417.06
           ],
           "xaxis": "x",
           "y": [
            40722.1
           ],
           "yaxis": "y"
          },
          {
           "hovertemplate": "Country=Chile<br>Year=2014<br>gdp=%{x}<br>nni=%{y}<extra></extra>",
           "legendgroup": "Chile",
           "marker": {
            "color": "#00cc96",
            "symbol": "circle"
           },
           "mode": "markers",
           "name": "Chile",
           "orientation": "v",
           "showlegend": true,
           "type": "scatter",
           "x": [
            402.9
           ],
           "xaxis": "x",
           "y": [
            21507.8
           ],
           "yaxis": "y"
          },
          {
           "hovertemplate": "Country=Czechia<br>Year=2014<br>gdp=%{x}<br>nni=%{y}<extra></extra>",
           "legendgroup": "Czechia",
           "marker": {
            "color": "#ab63fa",
            "symbol": "circle"
           },
           "mode": "markers",
           "name": "Czechia",
           "orientation": "v",
           "showlegend": true,
           "type": "scatter",
           "x": [
            342.1
           ],
           "xaxis": "x",
           "y": [
            23138
           ],
           "yaxis": "y"
          },
          {
           "hovertemplate": "Country=Denmark<br>Year=2014<br>gdp=%{x}<br>nni=%{y}<extra></extra>",
           "legendgroup": "Denmark",
           "marker": {
            "color": "#FFA15A",
            "symbol": "circle"
           },
           "mode": "markers",
           "name": "Denmark",
           "orientation": "v",
           "showlegend": true,
           "type": "scatter",
           "x": [
            270.33
           ],
           "xaxis": "x",
           "y": [
            41790.8
           ],
           "yaxis": "y"
          },
          {
           "hovertemplate": "Country=Estonia<br>Year=2014<br>gdp=%{x}<br>nni=%{y}<extra></extra>",
           "legendgroup": "Estonia",
           "marker": {
            "color": "#19d3f3",
            "symbol": "circle"
           },
           "mode": "markers",
           "name": "Estonia",
           "orientation": "v",
           "showlegend": true,
           "type": "scatter",
           "x": [
            38.05
           ],
           "xaxis": "x",
           "y": [
            23160.6
           ],
           "yaxis": "y"
          },
          {
           "hovertemplate": "Country=Finland<br>Year=2014<br>gdp=%{x}<br>nni=%{y}<extra></extra>",
           "legendgroup": "Finland",
           "marker": {
            "color": "#FF6692",
            "symbol": "circle"
           },
           "mode": "markers",
           "name": "Finland",
           "orientation": "v",
           "showlegend": true,
           "type": "scatter",
           "x": [
            228.06
           ],
           "xaxis": "x",
           "y": [
            34307.7
           ],
           "yaxis": "y"
          },
          {
           "hovertemplate": "Country=France<br>Year=2014<br>gdp=%{x}<br>nni=%{y}<extra></extra>",
           "legendgroup": "France",
           "marker": {
            "color": "#B6E880",
            "symbol": "circle"
           },
           "mode": "markers",
           "name": "France",
           "orientation": "v",
           "showlegend": true,
           "type": "scatter",
           "x": [
            2662.03
           ],
           "xaxis": "x",
           "y": [
            33777.7
           ],
           "yaxis": "y"
          },
          {
           "hovertemplate": "Country=Germany<br>Year=2014<br>gdp=%{x}<br>nni=%{y}<extra></extra>",
           "legendgroup": "Germany",
           "marker": {
            "color": "#FF97FF",
            "symbol": "circle"
           },
           "mode": "markers",
           "name": "Germany",
           "orientation": "v",
           "showlegend": true,
           "type": "scatter",
           "x": [
            3807.11
           ],
           "xaxis": "x",
           "y": [
            39419.3
           ],
           "yaxis": "y"
          },
          {
           "hovertemplate": "Country=Hungary<br>Year=2014<br>gdp=%{x}<br>nni=%{y}<extra></extra>",
           "legendgroup": "Hungary",
           "marker": {
            "color": "#FECB52",
            "symbol": "circle"
           },
           "mode": "markers",
           "name": "Hungary",
           "orientation": "v",
           "showlegend": true,
           "type": "scatter",
           "x": [
            253.48
           ],
           "xaxis": "x",
           "y": [
            20163.3
           ],
           "yaxis": "y"
          },
          {
           "hovertemplate": "Country=Ireland<br>Year=2014<br>gdp=%{x}<br>nni=%{y}<extra></extra>",
           "legendgroup": "Ireland",
           "marker": {
            "color": "#636efa",
            "symbol": "circle"
           },
           "mode": "markers",
           "name": "Ireland",
           "orientation": "v",
           "showlegend": true,
           "type": "scatter",
           "x": [
            238.66
           ],
           "xaxis": "x",
           "y": [
            36745
           ],
           "yaxis": "y"
          },
          {
           "hovertemplate": "Country=Israel<br>Year=2014<br>gdp=%{x}<br>nni=%{y}<extra></extra>",
           "legendgroup": "Israel",
           "marker": {
            "color": "#EF553B",
            "symbol": "circle"
           },
           "mode": "markers",
           "name": "Israel",
           "orientation": "v",
           "showlegend": true,
           "type": "scatter",
           "x": [
            285.2
           ],
           "xaxis": "x",
           "y": [
            29563.2
           ],
           "yaxis": "y"
          },
          {
           "hovertemplate": "Country=Italy<br>Year=2014<br>gdp=%{x}<br>nni=%{y}<extra></extra>",
           "legendgroup": "Italy",
           "marker": {
            "color": "#00cc96",
            "symbol": "circle"
           },
           "mode": "markers",
           "name": "Italy",
           "orientation": "v",
           "showlegend": true,
           "type": "scatter",
           "x": [
            2200.26
           ],
           "xaxis": "x",
           "y": [
            29976.3
           ],
           "yaxis": "y"
          },
          {
           "hovertemplate": "Country=Japan<br>Year=2014<br>gdp=%{x}<br>nni=%{y}<extra></extra>",
           "legendgroup": "Japan",
           "marker": {
            "color": "#ab63fa",
            "symbol": "circle"
           },
           "mode": "markers",
           "name": "Japan",
           "orientation": "v",
           "showlegend": true,
           "type": "scatter",
           "x": [
            5034.45
           ],
           "xaxis": "x",
           "y": [
            31446.7
           ],
           "yaxis": "y"
          },
          {
           "hovertemplate": "Country=Latvia<br>Year=2014<br>gdp=%{x}<br>nni=%{y}<extra></extra>",
           "legendgroup": "Latvia",
           "marker": {
            "color": "#FFA15A",
            "symbol": "circle"
           },
           "mode": "markers",
           "name": "Latvia",
           "orientation": "v",
           "showlegend": true,
           "type": "scatter",
           "x": [
            47.48
           ],
           "xaxis": "x",
           "y": [
            18024.9
           ],
           "yaxis": "y"
          },
          {
           "hovertemplate": "Country=Lithuania<br>Year=2014<br>gdp=%{x}<br>nni=%{y}<extra></extra>",
           "legendgroup": "Lithuania",
           "marker": {
            "color": "#19d3f3",
            "symbol": "circle"
           },
           "mode": "markers",
           "name": "Lithuania",
           "orientation": "v",
           "showlegend": true,
           "type": "scatter",
           "x": [
            82.65
           ],
           "xaxis": "x",
           "y": [
            23522.4
           ],
           "yaxis": "y"
          },
          {
           "hovertemplate": "Country=Luxembourg<br>Year=2014<br>gdp=%{x}<br>nni=%{y}<extra></extra>",
           "legendgroup": "Luxembourg",
           "marker": {
            "color": "#FF6692",
            "symbol": "circle"
           },
           "mode": "markers",
           "name": "Luxembourg",
           "orientation": "v",
           "showlegend": true,
           "type": "scatter",
           "x": [
            58.58
           ],
           "xaxis": "x",
           "y": [
            65670.7
           ],
           "yaxis": "y"
          },
          {
           "hovertemplate": "Country=Mexico<br>Year=2014<br>gdp=%{x}<br>nni=%{y}<extra></extra>",
           "legendgroup": "Mexico",
           "marker": {
            "color": "#B6E880",
            "symbol": "circle"
           },
           "mode": "markers",
           "name": "Mexico",
           "orientation": "v",
           "showlegend": true,
           "type": "scatter",
           "x": [
            2254.44
           ],
           "xaxis": "x",
           "y": [
            15505.6
           ],
           "yaxis": "y"
          },
          {
           "hovertemplate": "Country=Netherlands<br>Year=2014<br>gdp=%{x}<br>nni=%{y}<extra></extra>",
           "legendgroup": "Netherlands",
           "marker": {
            "color": "#FF97FF",
            "symbol": "circle"
           },
           "mode": "markers",
           "name": "Netherlands",
           "orientation": "v",
           "showlegend": true,
           "type": "scatter",
           "x": [
            830.32
           ],
           "xaxis": "x",
           "y": [
            40313
           ],
           "yaxis": "y"
          },
          {
           "hovertemplate": "Country=New Zealand<br>Year=2014<br>gdp=%{x}<br>nni=%{y}<extra></extra>",
           "legendgroup": "New Zealand",
           "marker": {
            "color": "#FECB52",
            "symbol": "circle"
           },
           "mode": "markers",
           "name": "New Zealand",
           "orientation": "v",
           "showlegend": true,
           "type": "scatter",
           "x": [
            168.46
           ],
           "xaxis": "x",
           "y": [
            30212
           ],
           "yaxis": "y"
          },
          {
           "hovertemplate": "Country=Norway<br>Year=2014<br>gdp=%{x}<br>nni=%{y}<extra></extra>",
           "legendgroup": "Norway",
           "marker": {
            "color": "#636efa",
            "symbol": "circle"
           },
           "mode": "markers",
           "name": "Norway",
           "orientation": "v",
           "showlegend": true,
           "type": "scatter",
           "x": [
            340.77
           ],
           "xaxis": "x",
           "y": [
            54742.2
           ],
           "yaxis": "y"
          },
          {
           "hovertemplate": "Country=Portugal<br>Year=2014<br>gdp=%{x}<br>nni=%{y}<extra></extra>",
           "legendgroup": "Portugal",
           "marker": {
            "color": "#EF553B",
            "symbol": "circle"
           },
           "mode": "markers",
           "name": "Portugal",
           "orientation": "v",
           "showlegend": true,
           "type": "scatter",
           "x": [
            298.95
           ],
           "xaxis": "x",
           "y": [
            23054.5
           ],
           "yaxis": "y"
          },
          {
           "hovertemplate": "Country=Slovak Republic<br>Year=2014<br>gdp=%{x}<br>nni=%{y}<extra></extra>",
           "legendgroup": "Slovak Republic",
           "marker": {
            "color": "#00cc96",
            "symbol": "circle"
           },
           "mode": "markers",
           "name": "Slovak Republic",
           "orientation": "v",
           "showlegend": true,
           "type": "scatter",
           "x": [
            157.3
           ],
           "xaxis": "x",
           "y": [
            23339.7
           ],
           "yaxis": "y"
          },
          {
           "hovertemplate": "Country=Slovenia<br>Year=2014<br>gdp=%{x}<br>nni=%{y}<extra></extra>",
           "legendgroup": "Slovenia",
           "marker": {
            "color": "#ab63fa",
            "symbol": "circle"
           },
           "mode": "markers",
           "name": "Slovenia",
           "orientation": "v",
           "showlegend": true,
           "type": "scatter",
           "x": [
            63.65
           ],
           "xaxis": "x",
           "y": [
            24066.1
           ],
           "yaxis": "y"
          },
          {
           "hovertemplate": "Country=Spain<br>Year=2014<br>gdp=%{x}<br>nni=%{y}<extra></extra>",
           "legendgroup": "Spain",
           "marker": {
            "color": "#FFA15A",
            "symbol": "circle"
           },
           "mode": "markers",
           "name": "Spain",
           "orientation": "v",
           "showlegend": true,
           "type": "scatter",
           "x": [
            1558.99
           ],
           "xaxis": "x",
           "y": [
            28099.3
           ],
           "yaxis": "y"
          },
          {
           "hovertemplate": "Country=Sweden<br>Year=2014<br>gdp=%{x}<br>nni=%{y}<extra></extra>",
           "legendgroup": "Sweden",
           "marker": {
            "color": "#19d3f3",
            "symbol": "circle"
           },
           "mode": "markers",
           "name": "Sweden",
           "orientation": "v",
           "showlegend": true,
           "type": "scatter",
           "x": [
            457.51
           ],
           "xaxis": "x",
           "y": [
            40362.5
           ],
           "yaxis": "y"
          },
          {
           "hovertemplate": "Country=Switzerland<br>Year=2014<br>gdp=%{x}<br>nni=%{y}<extra></extra>",
           "legendgroup": "Switzerland",
           "marker": {
            "color": "#FF6692",
            "symbol": "circle"
           },
           "mode": "markers",
           "name": "Switzerland",
           "orientation": "v",
           "showlegend": true,
           "type": "scatter",
           "x": [
            519.3
           ],
           "xaxis": "x",
           "y": [
            49445.6
           ],
           "yaxis": "y"
          },
          {
           "hovertemplate": "Country=United Kingdom<br>Year=2014<br>gdp=%{x}<br>nni=%{y}<extra></extra>",
           "legendgroup": "United Kingdom",
           "marker": {
            "color": "#B6E880",
            "symbol": "circle"
           },
           "mode": "markers",
           "name": "United Kingdom",
           "orientation": "v",
           "showlegend": true,
           "type": "scatter",
           "x": [
            2666.66
           ],
           "xaxis": "x",
           "y": [
            34850.9
           ],
           "yaxis": "y"
          },
          {
           "hovertemplate": "Country=Euro area<br>Year=2014<br>gdp=%{x}<br>nni=%{y}<extra></extra>",
           "legendgroup": "Euro area",
           "marker": {
            "color": "#FF97FF",
            "symbol": "circle"
           },
           "mode": "markers",
           "name": "Euro area",
           "orientation": "v",
           "showlegend": true,
           "type": "scatter",
           "x": [
            13523.41
           ],
           "xaxis": "x",
           "y": [
            33150.8
           ],
           "yaxis": "y"
          },
          {
           "hovertemplate": "Country=Russia<br>Year=2014<br>gdp=%{x}<br>nni=%{y}<extra></extra>",
           "legendgroup": "Russia",
           "marker": {
            "color": "#FECB52",
            "symbol": "circle"
           },
           "mode": "markers",
           "name": "Russia",
           "orientation": "v",
           "showlegend": true,
           "type": "scatter",
           "x": [
            3763.54
           ],
           "xaxis": "x",
           "y": [
            22078.5
           ],
           "yaxis": "y"
          },
          {
           "hovertemplate": "Country=South Africa<br>Year=2014<br>gdp=%{x}<br>nni=%{y}<extra></extra>",
           "legendgroup": "South Africa",
           "marker": {
            "color": "#636efa",
            "symbol": "circle"
           },
           "mode": "markers",
           "name": "South Africa",
           "orientation": "v",
           "showlegend": true,
           "type": "scatter",
           "x": [
            741.92
           ],
           "xaxis": "x",
           "y": [
            11661.2
           ],
           "yaxis": "y"
          },
          {
           "hovertemplate": "Country=Greece<br>Year=2014<br>gdp=%{x}<br>nni=%{y}<extra></extra>",
           "legendgroup": "Greece",
           "marker": {
            "color": "#EF553B",
            "symbol": "circle"
           },
           "mode": "markers",
           "name": "Greece",
           "orientation": "v",
           "showlegend": true,
           "type": "scatter",
           "x": [
            290.01
           ],
           "xaxis": "x",
           "y": [
            21854.2
           ],
           "yaxis": "y"
          },
          {
           "hovertemplate": "Country=Korea<br>Year=2014<br>gdp=%{x}<br>nni=%{y}<extra></extra>",
           "legendgroup": "Korea",
           "marker": {
            "color": "#00cc96",
            "symbol": "circle"
           },
           "mode": "markers",
           "name": "Korea",
           "orientation": "v",
           "showlegend": true,
           "type": "scatter",
           "x": [
            1792.6
           ],
           "xaxis": "x",
           "y": [
            29380
           ],
           "yaxis": "y"
          }
         ],
         "name": "2014"
        },
        {
         "data": [
          {
           "hovertemplate": "Country=Australia<br>Year=2015<br>gdp=%{x}<br>nni=%{y}<extra></extra>",
           "legendgroup": "Australia",
           "marker": {
            "color": "#636efa",
            "symbol": "circle"
           },
           "mode": "markers",
           "name": "Australia",
           "orientation": "v",
           "showlegend": true,
           "type": "scatter",
           "x": [
            1125.7
           ],
           "xaxis": "x",
           "y": [
            37526.3
           ],
           "yaxis": "y"
          },
          {
           "hovertemplate": "Country=Austria<br>Year=2015<br>gdp=%{x}<br>nni=%{y}<extra></extra>",
           "legendgroup": "Austria",
           "marker": {
            "color": "#EF553B",
            "symbol": "circle"
           },
           "mode": "markers",
           "name": "Austria",
           "orientation": "v",
           "showlegend": true,
           "type": "scatter",
           "x": [
            430.98
           ],
           "xaxis": "x",
           "y": [
            40513.5
           ],
           "yaxis": "y"
          },
          {
           "hovertemplate": "Country=Chile<br>Year=2015<br>gdp=%{x}<br>nni=%{y}<extra></extra>",
           "legendgroup": "Chile",
           "marker": {
            "color": "#00cc96",
            "symbol": "circle"
           },
           "mode": "markers",
           "name": "Chile",
           "orientation": "v",
           "showlegend": true,
           "type": "scatter",
           "x": [
            405.5
           ],
           "xaxis": "x",
           "y": [
            22009.7
           ],
           "yaxis": "y"
          },
          {
           "hovertemplate": "Country=Czechia<br>Year=2015<br>gdp=%{x}<br>nni=%{y}<extra></extra>",
           "legendgroup": "Czechia",
           "marker": {
            "color": "#ab63fa",
            "symbol": "circle"
           },
           "mode": "markers",
           "name": "Czechia",
           "orientation": "v",
           "showlegend": true,
           "type": "scatter",
           "x": [
            357.5
           ],
           "xaxis": "x",
           "y": [
            24566
           ],
           "yaxis": "y"
          },
          {
           "hovertemplate": "Country=Denmark<br>Year=2015<br>gdp=%{x}<br>nni=%{y}<extra></extra>",
           "legendgroup": "Denmark",
           "marker": {
            "color": "#FFA15A",
            "symbol": "circle"
           },
           "mode": "markers",
           "name": "Denmark",
           "orientation": "v",
           "showlegend": true,
           "type": "scatter",
           "x": [
            278.75
           ],
           "xaxis": "x",
           "y": [
            42411.1
           ],
           "yaxis": "y"
          },
          {
           "hovertemplate": "Country=Estonia<br>Year=2015<br>gdp=%{x}<br>nni=%{y}<extra></extra>",
           "legendgroup": "Estonia",
           "marker": {
            "color": "#19d3f3",
            "symbol": "circle"
           },
           "mode": "markers",
           "name": "Estonia",
           "orientation": "v",
           "showlegend": true,
           "type": "scatter",
           "x": [
            38.38
           ],
           "xaxis": "x",
           "y": [
            23711.5
           ],
           "yaxis": "y"
          },
          {
           "hovertemplate": "Country=Finland<br>Year=2015<br>gdp=%{x}<br>nni=%{y}<extra></extra>",
           "legendgroup": "Finland",
           "marker": {
            "color": "#FF6692",
            "symbol": "circle"
           },
           "mode": "markers",
           "name": "Finland",
           "orientation": "v",
           "showlegend": true,
           "type": "scatter",
           "x": [
            232.87
           ],
           "xaxis": "x",
           "y": [
            34859.9
           ],
           "yaxis": "y"
          },
          {
           "hovertemplate": "Country=France<br>Year=2015<br>gdp=%{x}<br>nni=%{y}<extra></extra>",
           "legendgroup": "France",
           "marker": {
            "color": "#B6E880",
            "symbol": "circle"
           },
           "mode": "markers",
           "name": "France",
           "orientation": "v",
           "showlegend": true,
           "type": "scatter",
           "x": [
            2718.5
           ],
           "xaxis": "x",
           "y": [
            34432.7
           ],
           "yaxis": "y"
          },
          {
           "hovertemplate": "Country=Germany<br>Year=2015<br>gdp=%{x}<br>nni=%{y}<extra></extra>",
           "legendgroup": "Germany",
           "marker": {
            "color": "#FF97FF",
            "symbol": "circle"
           },
           "mode": "markers",
           "name": "Germany",
           "orientation": "v",
           "showlegend": true,
           "type": "scatter",
           "x": [
            3889.08
           ],
           "xaxis": "x",
           "y": [
            40155.5
           ],
           "yaxis": "y"
          },
          {
           "hovertemplate": "Country=Hungary<br>Year=2015<br>gdp=%{x}<br>nni=%{y}<extra></extra>",
           "legendgroup": "Hungary",
           "marker": {
            "color": "#FECB52",
            "symbol": "circle"
           },
           "mode": "markers",
           "name": "Hungary",
           "orientation": "v",
           "showlegend": true,
           "type": "scatter",
           "x": [
            263.78
           ],
           "xaxis": "x",
           "y": [
            21080.3
           ],
           "yaxis": "y"
          },
          {
           "hovertemplate": "Country=Ireland<br>Year=2015<br>gdp=%{x}<br>nni=%{y}<extra></extra>",
           "legendgroup": "Ireland",
           "marker": {
            "color": "#636efa",
            "symbol": "circle"
           },
           "mode": "markers",
           "name": "Ireland",
           "orientation": "v",
           "showlegend": true,
           "type": "scatter",
           "x": [
            325.44
           ],
           "xaxis": "x",
           "y": [
            38289.4
           ],
           "yaxis": "y"
          },
          {
           "hovertemplate": "Country=Israel<br>Year=2015<br>gdp=%{x}<br>nni=%{y}<extra></extra>",
           "legendgroup": "Israel",
           "marker": {
            "color": "#EF553B",
            "symbol": "circle"
           },
           "mode": "markers",
           "name": "Israel",
           "orientation": "v",
           "showlegend": true,
           "type": "scatter",
           "x": [
            299.86
           ],
           "xaxis": "x",
           "y": [
            30182
           ],
           "yaxis": "y"
          },
          {
           "hovertemplate": "Country=Italy<br>Year=2015<br>gdp=%{x}<br>nni=%{y}<extra></extra>",
           "legendgroup": "Italy",
           "marker": {
            "color": "#00cc96",
            "symbol": "circle"
           },
           "mode": "markers",
           "name": "Italy",
           "orientation": "v",
           "showlegend": true,
           "type": "scatter",
           "x": [
            2240.92
           ],
           "xaxis": "x",
           "y": [
            30206.4
           ],
           "yaxis": "y"
          },
          {
           "hovertemplate": "Country=Japan<br>Year=2015<br>gdp=%{x}<br>nni=%{y}<extra></extra>",
           "legendgroup": "Japan",
           "marker": {
            "color": "#ab63fa",
            "symbol": "circle"
           },
           "mode": "markers",
           "name": "Japan",
           "orientation": "v",
           "showlegend": true,
           "type": "scatter",
           "x": [
            5199.92
           ],
           "xaxis": "x",
           "y": [
            32771.3
           ],
           "yaxis": "y"
          },
          {
           "hovertemplate": "Country=Latvia<br>Year=2015<br>gdp=%{x}<br>nni=%{y}<extra></extra>",
           "legendgroup": "Latvia",
           "marker": {
            "color": "#FFA15A",
            "symbol": "circle"
           },
           "mode": "markers",
           "name": "Latvia",
           "orientation": "v",
           "showlegend": true,
           "type": "scatter",
           "x": [
            49.38
           ],
           "xaxis": "x",
           "y": [
            18946.8
           ],
           "yaxis": "y"
          },
          {
           "hovertemplate": "Country=Lithuania<br>Year=2015<br>gdp=%{x}<br>nni=%{y}<extra></extra>",
           "legendgroup": "Lithuania",
           "marker": {
            "color": "#19d3f3",
            "symbol": "circle"
           },
           "mode": "markers",
           "name": "Lithuania",
           "orientation": "v",
           "showlegend": true,
           "type": "scatter",
           "x": [
            83.76
           ],
           "xaxis": "x",
           "y": [
            23946.1
           ],
           "yaxis": "y"
          },
          {
           "hovertemplate": "Country=Luxembourg<br>Year=2015<br>gdp=%{x}<br>nni=%{y}<extra></extra>",
           "legendgroup": "Luxembourg",
           "marker": {
            "color": "#FF6692",
            "symbol": "circle"
           },
           "mode": "markers",
           "name": "Luxembourg",
           "orientation": "v",
           "showlegend": true,
           "type": "scatter",
           "x": [
            61.44
           ],
           "xaxis": "x",
           "y": [
            57028.8
           ],
           "yaxis": "y"
          },
          {
           "hovertemplate": "Country=Mexico<br>Year=2015<br>gdp=%{x}<br>nni=%{y}<extra></extra>",
           "legendgroup": "Mexico",
           "marker": {
            "color": "#B6E880",
            "symbol": "circle"
           },
           "mode": "markers",
           "name": "Mexico",
           "orientation": "v",
           "showlegend": true,
           "type": "scatter",
           "x": [
            2309.02
           ],
           "xaxis": "x",
           "y": [
            15579.1
           ],
           "yaxis": "y"
          },
          {
           "hovertemplate": "Country=Netherlands<br>Year=2015<br>gdp=%{x}<br>nni=%{y}<extra></extra>",
           "legendgroup": "Netherlands",
           "marker": {
            "color": "#FF97FF",
            "symbol": "circle"
           },
           "mode": "markers",
           "name": "Netherlands",
           "orientation": "v",
           "showlegend": true,
           "type": "scatter",
           "x": [
            851.88
           ],
           "xaxis": "x",
           "y": [
            41340.6
           ],
           "yaxis": "y"
          },
          {
           "hovertemplate": "Country=New Zealand<br>Year=2015<br>gdp=%{x}<br>nni=%{y}<extra></extra>",
           "legendgroup": "New Zealand",
           "marker": {
            "color": "#FECB52",
            "symbol": "circle"
           },
           "mode": "markers",
           "name": "New Zealand",
           "orientation": "v",
           "showlegend": true,
           "type": "scatter",
           "x": [
            172.8
           ],
           "xaxis": "x",
           "y": [
            30767.5
           ],
           "yaxis": "y"
          },
          {
           "hovertemplate": "Country=Norway<br>Year=2015<br>gdp=%{x}<br>nni=%{y}<extra></extra>",
           "legendgroup": "Norway",
           "marker": {
            "color": "#636efa",
            "symbol": "circle"
           },
           "mode": "markers",
           "name": "Norway",
           "orientation": "v",
           "showlegend": true,
           "type": "scatter",
           "x": [
            315.15
           ],
           "xaxis": "x",
           "y": [
            52451.8
           ],
           "yaxis": "y"
          },
          {
           "hovertemplate": "Country=Portugal<br>Year=2015<br>gdp=%{x}<br>nni=%{y}<extra></extra>",
           "legendgroup": "Portugal",
           "marker": {
            "color": "#EF553B",
            "symbol": "circle"
           },
           "mode": "markers",
           "name": "Portugal",
           "orientation": "v",
           "showlegend": true,
           "type": "scatter",
           "x": [
            307.23
           ],
           "xaxis": "x",
           "y": [
            23751.2
           ],
           "yaxis": "y"
          },
          {
           "hovertemplate": "Country=Slovak Republic<br>Year=2015<br>gdp=%{x}<br>nni=%{y}<extra></extra>",
           "legendgroup": "Slovak Republic",
           "marker": {
            "color": "#00cc96",
            "symbol": "circle"
           },
           "mode": "markers",
           "name": "Slovak Republic",
           "orientation": "v",
           "showlegend": true,
           "type": "scatter",
           "x": [
            163.01
           ],
           "xaxis": "x",
           "y": [
            24204.2
           ],
           "yaxis": "y"
          },
          {
           "hovertemplate": "Country=Slovenia<br>Year=2015<br>gdp=%{x}<br>nni=%{y}<extra></extra>",
           "legendgroup": "Slovenia",
           "marker": {
            "color": "#ab63fa",
            "symbol": "circle"
           },
           "mode": "markers",
           "name": "Slovenia",
           "orientation": "v",
           "showlegend": true,
           "type": "scatter",
           "x": [
            65.27
           ],
           "xaxis": "x",
           "y": [
            24150.1
           ],
           "yaxis": "y"
          },
          {
           "hovertemplate": "Country=Spain<br>Year=2015<br>gdp=%{x}<br>nni=%{y}<extra></extra>",
           "legendgroup": "Spain",
           "marker": {
            "color": "#FFA15A",
            "symbol": "circle"
           },
           "mode": "markers",
           "name": "Spain",
           "orientation": "v",
           "showlegend": true,
           "type": "scatter",
           "x": [
            1621.83
           ],
           "xaxis": "x",
           "y": [
            29469.5
           ],
           "yaxis": "y"
          },
          {
           "hovertemplate": "Country=Sweden<br>Year=2015<br>gdp=%{x}<br>nni=%{y}<extra></extra>",
           "legendgroup": "Sweden",
           "marker": {
            "color": "#19d3f3",
            "symbol": "circle"
           },
           "mode": "markers",
           "name": "Sweden",
           "orientation": "v",
           "showlegend": true,
           "type": "scatter",
           "x": [
            481.17
           ],
           "xaxis": "x",
           "y": [
            41376.7
           ],
           "yaxis": "y"
          },
          {
           "hovertemplate": "Country=Switzerland<br>Year=2015<br>gdp=%{x}<br>nni=%{y}<extra></extra>",
           "legendgroup": "Switzerland",
           "marker": {
            "color": "#FF6692",
            "symbol": "circle"
           },
           "mode": "markers",
           "name": "Switzerland",
           "orientation": "v",
           "showlegend": true,
           "type": "scatter",
           "x": [
            540.55
           ],
           "xaxis": "x",
           "y": [
            50761.8
           ],
           "yaxis": "y"
          },
          {
           "hovertemplate": "Country=United Kingdom<br>Year=2015<br>gdp=%{x}<br>nni=%{y}<extra></extra>",
           "legendgroup": "United Kingdom",
           "marker": {
            "color": "#B6E880",
            "symbol": "circle"
           },
           "mode": "markers",
           "name": "United Kingdom",
           "orientation": "v",
           "showlegend": true,
           "type": "scatter",
           "x": [
            2767.23
           ],
           "xaxis": "x",
           "y": [
            35421.6
           ],
           "yaxis": "y"
          },
          {
           "hovertemplate": "Country=Euro area<br>Year=2015<br>gdp=%{x}<br>nni=%{y}<extra></extra>",
           "legendgroup": "Euro area",
           "marker": {
            "color": "#FF97FF",
            "symbol": "circle"
           },
           "mode": "markers",
           "name": "Euro area",
           "orientation": "v",
           "showlegend": true,
           "type": "scatter",
           "x": [
            13934.14
           ],
           "xaxis": "x",
           "y": [
            33851.5
           ],
           "yaxis": "y"
          },
          {
           "hovertemplate": "Country=Russia<br>Year=2015<br>gdp=%{x}<br>nni=%{y}<extra></extra>",
           "legendgroup": "Russia",
           "marker": {
            "color": "#FECB52",
            "symbol": "circle"
           },
           "mode": "markers",
           "name": "Russia",
           "orientation": "v",
           "showlegend": true,
           "type": "scatter",
           "x": [
            3526.23
           ],
           "xaxis": "x",
           "y": [
            20284.2
           ],
           "yaxis": "y"
          },
          {
           "hovertemplate": "Country=South Africa<br>Year=2015<br>gdp=%{x}<br>nni=%{y}<extra></extra>",
           "legendgroup": "South Africa",
           "marker": {
            "color": "#636efa",
            "symbol": "circle"
           },
           "mode": "markers",
           "name": "South Africa",
           "orientation": "v",
           "showlegend": true,
           "type": "scatter",
           "x": [
            758.9
           ],
           "xaxis": "x",
           "y": [
            11786.2
           ],
           "yaxis": "y"
          },
          {
           "hovertemplate": "Country=Greece<br>Year=2015<br>gdp=%{x}<br>nni=%{y}<extra></extra>",
           "legendgroup": "Greece",
           "marker": {
            "color": "#EF553B",
            "symbol": "circle"
           },
           "mode": "markers",
           "name": "Greece",
           "orientation": "v",
           "showlegend": true,
           "type": "scatter",
           "x": [
            289.57
           ],
           "xaxis": "x",
           "y": [
            22272.4
           ],
           "yaxis": "y"
          },
          {
           "hovertemplate": "Country=Korea<br>Year=2015<br>gdp=%{x}<br>nni=%{y}<extra></extra>",
           "legendgroup": "Korea",
           "marker": {
            "color": "#00cc96",
            "symbol": "circle"
           },
           "mode": "markers",
           "name": "Korea",
           "orientation": "v",
           "showlegend": true,
           "type": "scatter",
           "x": [
            1933.59
           ],
           "xaxis": "x",
           "y": [
            30941.9
           ],
           "yaxis": "y"
          }
         ],
         "name": "2015"
        },
        {
         "data": [
          {
           "hovertemplate": "Country=Australia<br>Year=2016<br>gdp=%{x}<br>nni=%{y}<extra></extra>",
           "legendgroup": "Australia",
           "marker": {
            "color": "#636efa",
            "symbol": "circle"
           },
           "mode": "markers",
           "name": "Australia",
           "orientation": "v",
           "showlegend": true,
           "type": "scatter",
           "x": [
            1213.23
           ],
           "xaxis": "x",
           "y": [
            38971.9
           ],
           "yaxis": "y"
          },
          {
           "hovertemplate": "Country=Austria<br>Year=2016<br>gdp=%{x}<br>nni=%{y}<extra></extra>",
           "legendgroup": "Austria",
           "marker": {
            "color": "#EF553B",
            "symbol": "circle"
           },
           "mode": "markers",
           "name": "Austria",
           "orientation": "v",
           "showlegend": true,
           "type": "scatter",
           "x": [
            460.28
           ],
           "xaxis": "x",
           "y": [
            41494.7
           ],
           "yaxis": "y"
          },
          {
           "hovertemplate": "Country=Chile<br>Year=2016<br>gdp=%{x}<br>nni=%{y}<extra></extra>",
           "legendgroup": "Chile",
           "marker": {
            "color": "#00cc96",
            "symbol": "circle"
           },
           "mode": "markers",
           "name": "Chile",
           "orientation": "v",
           "showlegend": true,
           "type": "scatter",
           "x": [
            424.83
           ],
           "xaxis": "x",
           "y": [
            22281.2
           ],
           "yaxis": "y"
          },
          {
           "hovertemplate": "Country=Czechia<br>Year=2016<br>gdp=%{x}<br>nni=%{y}<extra></extra>",
           "legendgroup": "Czechia",
           "marker": {
            "color": "#ab63fa",
            "symbol": "circle"
           },
           "mode": "markers",
           "name": "Czechia",
           "orientation": "v",
           "showlegend": true,
           "type": "scatter",
           "x": [
            381.42
           ],
           "xaxis": "x",
           "y": [
            25338.4
           ],
           "yaxis": "y"
          },
          {
           "hovertemplate": "Country=Denmark<br>Year=2016<br>gdp=%{x}<br>nni=%{y}<extra></extra>",
           "legendgroup": "Denmark",
           "marker": {
            "color": "#FFA15A",
            "symbol": "circle"
           },
           "mode": "markers",
           "name": "Denmark",
           "orientation": "v",
           "showlegend": true,
           "type": "scatter",
           "x": [
            297.72
           ],
           "xaxis": "x",
           "y": [
            42978.8
           ],
           "yaxis": "y"
          },
          {
           "hovertemplate": "Country=Estonia<br>Year=2016<br>gdp=%{x}<br>nni=%{y}<extra></extra>",
           "legendgroup": "Estonia",
           "marker": {
            "color": "#19d3f3",
            "symbol": "circle"
           },
           "mode": "markers",
           "name": "Estonia",
           "orientation": "v",
           "showlegend": true,
           "type": "scatter",
           "x": [
            41.2
           ],
           "xaxis": "x",
           "y": [
            24753.8
           ],
           "yaxis": "y"
          },
          {
           "hovertemplate": "Country=Finland<br>Year=2016<br>gdp=%{x}<br>nni=%{y}<extra></extra>",
           "legendgroup": "Finland",
           "marker": {
            "color": "#FF6692",
            "symbol": "circle"
           },
           "mode": "markers",
           "name": "Finland",
           "orientation": "v",
           "showlegend": true,
           "type": "scatter",
           "x": [
            246.93
           ],
           "xaxis": "x",
           "y": [
            35585.1
           ],
           "yaxis": "y"
          },
          {
           "hovertemplate": "Country=France<br>Year=2016<br>gdp=%{x}<br>nni=%{y}<extra></extra>",
           "legendgroup": "France",
           "marker": {
            "color": "#B6E880",
            "symbol": "circle"
           },
           "mode": "markers",
           "name": "France",
           "orientation": "v",
           "showlegend": true,
           "type": "scatter",
           "x": [
            2864.11
           ],
           "xaxis": "x",
           "y": [
            34733.6
           ],
           "yaxis": "y"
          },
          {
           "hovertemplate": "Country=Germany<br>Year=2016<br>gdp=%{x}<br>nni=%{y}<extra></extra>",
           "legendgroup": "Germany",
           "marker": {
            "color": "#FF97FF",
            "symbol": "circle"
           },
           "mode": "markers",
           "name": "Germany",
           "orientation": "v",
           "showlegend": true,
           "type": "scatter",
           "x": [
            4165.17
           ],
           "xaxis": "x",
           "y": [
            41111.6
           ],
           "yaxis": "y"
          },
          {
           "hovertemplate": "Country=Hungary<br>Year=2016<br>gdp=%{x}<br>nni=%{y}<extra></extra>",
           "legendgroup": "Hungary",
           "marker": {
            "color": "#FECB52",
            "symbol": "circle"
           },
           "mode": "markers",
           "name": "Hungary",
           "orientation": "v",
           "showlegend": true,
           "type": "scatter",
           "x": [
            274.22
           ],
           "xaxis": "x",
           "y": [
            22253.1
           ],
           "yaxis": "y"
          },
          {
           "hovertemplate": "Country=Ireland<br>Year=2016<br>gdp=%{x}<br>nni=%{y}<extra></extra>",
           "legendgroup": "Ireland",
           "marker": {
            "color": "#636efa",
            "symbol": "circle"
           },
           "mode": "markers",
           "name": "Ireland",
           "orientation": "v",
           "showlegend": true,
           "type": "scatter",
           "x": [
            339.58
           ],
           "xaxis": "x",
           "y": [
            39742
           ],
           "yaxis": "y"
          },
          {
           "hovertemplate": "Country=Israel<br>Year=2016<br>gdp=%{x}<br>nni=%{y}<extra></extra>",
           "legendgroup": "Israel",
           "marker": {
            "color": "#EF553B",
            "symbol": "circle"
           },
           "mode": "markers",
           "name": "Israel",
           "orientation": "v",
           "showlegend": true,
           "type": "scatter",
           "x": [
            325.37
           ],
           "xaxis": "x",
           "y": [
            31221.5
           ],
           "yaxis": "y"
          },
          {
           "hovertemplate": "Country=Italy<br>Year=2016<br>gdp=%{x}<br>nni=%{y}<extra></extra>",
           "legendgroup": "Italy",
           "marker": {
            "color": "#00cc96",
            "symbol": "circle"
           },
           "mode": "markers",
           "name": "Italy",
           "orientation": "v",
           "showlegend": true,
           "type": "scatter",
           "x": [
            2420.67
           ],
           "xaxis": "x",
           "y": [
            31430.6
           ],
           "yaxis": "y"
          },
          {
           "hovertemplate": "Country=Japan<br>Year=2016<br>gdp=%{x}<br>nni=%{y}<extra></extra>",
           "legendgroup": "Japan",
           "marker": {
            "color": "#ab63fa",
            "symbol": "circle"
           },
           "mode": "markers",
           "name": "Japan",
           "orientation": "v",
           "showlegend": true,
           "type": "scatter",
           "x": [
            5158.9
           ],
           "xaxis": "x",
           "y": [
            33280.7
           ],
           "yaxis": "y"
          },
          {
           "hovertemplate": "Country=Latvia<br>Year=2016<br>gdp=%{x}<br>nni=%{y}<extra></extra>",
           "legendgroup": "Latvia",
           "marker": {
            "color": "#FFA15A",
            "symbol": "circle"
           },
           "mode": "markers",
           "name": "Latvia",
           "orientation": "v",
           "showlegend": true,
           "type": "scatter",
           "x": [
            52.36
           ],
           "xaxis": "x",
           "y": [
            20216
           ],
           "yaxis": "y"
          },
          {
           "hovertemplate": "Country=Lithuania<br>Year=2016<br>gdp=%{x}<br>nni=%{y}<extra></extra>",
           "legendgroup": "Lithuania",
           "marker": {
            "color": "#19d3f3",
            "symbol": "circle"
           },
           "mode": "markers",
           "name": "Lithuania",
           "orientation": "v",
           "showlegend": true,
           "type": "scatter",
           "x": [
            88.7
           ],
           "xaxis": "x",
           "y": [
            25172.6
           ],
           "yaxis": "y"
          },
          {
           "hovertemplate": "Country=Luxembourg<br>Year=2016<br>gdp=%{x}<br>nni=%{y}<extra></extra>",
           "legendgroup": "Luxembourg",
           "marker": {
            "color": "#FF6692",
            "symbol": "circle"
           },
           "mode": "markers",
           "name": "Luxembourg",
           "orientation": "v",
           "showlegend": true,
           "type": "scatter",
           "x": [
            65.98
           ],
           "xaxis": "x",
           "y": [
            59260.3
           ],
           "yaxis": "y"
          },
          {
           "hovertemplate": "Country=Mexico<br>Year=2016<br>gdp=%{x}<br>nni=%{y}<extra></extra>",
           "legendgroup": "Mexico",
           "marker": {
            "color": "#B6E880",
            "symbol": "circle"
           },
           "mode": "markers",
           "name": "Mexico",
           "orientation": "v",
           "showlegend": true,
           "type": "scatter",
           "x": [
            2457.81
           ],
           "xaxis": "x",
           "y": [
            15456.8
           ],
           "yaxis": "y"
          },
          {
           "hovertemplate": "Country=Netherlands<br>Year=2016<br>gdp=%{x}<br>nni=%{y}<extra></extra>",
           "legendgroup": "Netherlands",
           "marker": {
            "color": "#FF97FF",
            "symbol": "circle"
           },
           "mode": "markers",
           "name": "Netherlands",
           "orientation": "v",
           "showlegend": true,
           "type": "scatter",
           "x": [
            890.49
           ],
           "xaxis": "x",
           "y": [
            41400.2
           ],
           "yaxis": "y"
          },
          {
           "hovertemplate": "Country=New Zealand<br>Year=2016<br>gdp=%{x}<br>nni=%{y}<extra></extra>",
           "legendgroup": "New Zealand",
           "marker": {
            "color": "#FECB52",
            "symbol": "circle"
           },
           "mode": "markers",
           "name": "New Zealand",
           "orientation": "v",
           "showlegend": true,
           "type": "scatter",
           "x": [
            188.31
           ],
           "xaxis": "x",
           "y": [
            31543.7
           ],
           "yaxis": "y"
          },
          {
           "hovertemplate": "Country=Norway<br>Year=2016<br>gdp=%{x}<br>nni=%{y}<extra></extra>",
           "legendgroup": "Norway",
           "marker": {
            "color": "#636efa",
            "symbol": "circle"
           },
           "mode": "markers",
           "name": "Norway",
           "orientation": "v",
           "showlegend": true,
           "type": "scatter",
           "x": [
            310.3
           ],
           "xaxis": "x",
           "y": [
            50570.1
           ],
           "yaxis": "y"
          },
          {
           "hovertemplate": "Country=Portugal<br>Year=2016<br>gdp=%{x}<br>nni=%{y}<extra></extra>",
           "legendgroup": "Portugal",
           "marker": {
            "color": "#EF553B",
            "symbol": "circle"
           },
           "mode": "markers",
           "name": "Portugal",
           "orientation": "v",
           "showlegend": true,
           "type": "scatter",
           "x": [
            326.36
           ],
           "xaxis": "x",
           "y": [
            24541.8
           ],
           "yaxis": "y"
          },
          {
           "hovertemplate": "Country=Slovak Republic<br>Year=2016<br>gdp=%{x}<br>nni=%{y}<extra></extra>",
           "legendgroup": "Slovak Republic",
           "marker": {
            "color": "#00cc96",
            "symbol": "circle"
           },
           "mode": "markers",
           "name": "Slovak Republic",
           "orientation": "v",
           "showlegend": true,
           "type": "scatter",
           "x": [
            161.5
           ],
           "xaxis": "x",
           "y": [
            24433.4
           ],
           "yaxis": "y"
          },
          {
           "hovertemplate": "Country=Slovenia<br>Year=2016<br>gdp=%{x}<br>nni=%{y}<extra></extra>",
           "legendgroup": "Slovenia",
           "marker": {
            "color": "#ab63fa",
            "symbol": "circle"
           },
           "mode": "markers",
           "name": "Slovenia",
           "orientation": "v",
           "showlegend": true,
           "type": "scatter",
           "x": [
            70.08
           ],
           "xaxis": "x",
           "y": [
            25373.8
           ],
           "yaxis": "y"
          },
          {
           "hovertemplate": "Country=Spain<br>Year=2016<br>gdp=%{x}<br>nni=%{y}<extra></extra>",
           "legendgroup": "Spain",
           "marker": {
            "color": "#FFA15A",
            "symbol": "circle"
           },
           "mode": "markers",
           "name": "Spain",
           "orientation": "v",
           "showlegend": true,
           "type": "scatter",
           "x": [
            1734.12
           ],
           "xaxis": "x",
           "y": [
            30514
           ],
           "yaxis": "y"
          },
          {
           "hovertemplate": "Country=Sweden<br>Year=2016<br>gdp=%{x}<br>nni=%{y}<extra></extra>",
           "legendgroup": "Sweden",
           "marker": {
            "color": "#19d3f3",
            "symbol": "circle"
           },
           "mode": "markers",
           "name": "Sweden",
           "orientation": "v",
           "showlegend": true,
           "type": "scatter",
           "x": [
            500.42
           ],
           "xaxis": "x",
           "y": [
            41620.5
           ],
           "yaxis": "y"
          },
          {
           "hovertemplate": "Country=Switzerland<br>Year=2016<br>gdp=%{x}<br>nni=%{y}<extra></extra>",
           "legendgroup": "Switzerland",
           "marker": {
            "color": "#FF6692",
            "symbol": "circle"
           },
           "mode": "markers",
           "name": "Switzerland",
           "orientation": "v",
           "showlegend": true,
           "type": "scatter",
           "x": [
            563.95
           ],
           "xaxis": "x",
           "y": [
            49548.3
           ],
           "yaxis": "y"
          },
          {
           "hovertemplate": "Country=United Kingdom<br>Year=2016<br>gdp=%{x}<br>nni=%{y}<extra></extra>",
           "legendgroup": "United Kingdom",
           "marker": {
            "color": "#B6E880",
            "symbol": "circle"
           },
           "mode": "markers",
           "name": "United Kingdom",
           "orientation": "v",
           "showlegend": true,
           "type": "scatter",
           "x": [
            2892.3
           ],
           "xaxis": "x",
           "y": [
            35686.7
           ],
           "yaxis": "y"
          },
          {
           "hovertemplate": "Country=Euro area<br>Year=2016<br>gdp=%{x}<br>nni=%{y}<extra></extra>",
           "legendgroup": "Euro area",
           "marker": {
            "color": "#FF97FF",
            "symbol": "circle"
           },
           "mode": "markers",
           "name": "Euro area",
           "orientation": "v",
           "showlegend": true,
           "type": "scatter",
           "x": [
            14823.34
           ],
           "xaxis": "x",
           "y": [
            34705.9
           ],
           "yaxis": "y"
          },
          {
           "hovertemplate": "Country=Russia<br>Year=2016<br>gdp=%{x}<br>nni=%{y}<extra></extra>",
           "legendgroup": "Russia",
           "marker": {
            "color": "#FECB52",
            "symbol": "circle"
           },
           "mode": "markers",
           "name": "Russia",
           "orientation": "v",
           "showlegend": true,
           "type": "scatter",
           "x": [
            3538.98
           ],
           "xaxis": "x",
           "y": [
            19293.4
           ],
           "yaxis": "y"
          },
          {
           "hovertemplate": "Country=South Africa<br>Year=2016<br>gdp=%{x}<br>nni=%{y}<extra></extra>",
           "legendgroup": "South Africa",
           "marker": {
            "color": "#636efa",
            "symbol": "circle"
           },
           "mode": "markers",
           "name": "South Africa",
           "orientation": "v",
           "showlegend": true,
           "type": "scatter",
           "x": [
            772.77
           ],
           "xaxis": "x",
           "y": [
            11688.5
           ],
           "yaxis": "y"
          },
          {
           "hovertemplate": "Country=Greece<br>Year=2016<br>gdp=%{x}<br>nni=%{y}<extra></extra>",
           "legendgroup": "Greece",
           "marker": {
            "color": "#EF553B",
            "symbol": "circle"
           },
           "mode": "markers",
           "name": "Greece",
           "orientation": "v",
           "showlegend": true,
           "type": "scatter",
           "x": [
            296.47
           ],
           "xaxis": "x",
           "y": [
            22343.8
           ],
           "yaxis": "y"
          },
          {
           "hovertemplate": "Country=Korea<br>Year=2016<br>gdp=%{x}<br>nni=%{y}<extra></extra>",
           "legendgroup": "Korea",
           "marker": {
            "color": "#00cc96",
            "symbol": "circle"
           },
           "mode": "markers",
           "name": "Korea",
           "orientation": "v",
           "showlegend": true,
           "type": "scatter",
           "x": [
            2026.97
           ],
           "xaxis": "x",
           "y": [
            32078.4
           ],
           "yaxis": "y"
          }
         ],
         "name": "2016"
        },
        {
         "data": [
          {
           "hovertemplate": "Country=Australia<br>Year=2017<br>gdp=%{x}<br>nni=%{y}<extra></extra>",
           "legendgroup": "Australia",
           "marker": {
            "color": "#636efa",
            "symbol": "circle"
           },
           "mode": "markers",
           "name": "Australia",
           "orientation": "v",
           "showlegend": true,
           "type": "scatter",
           "x": [
            1248.37
           ],
           "xaxis": "x",
           "y": [
            39461
           ],
           "yaxis": "y"
          },
          {
           "hovertemplate": "Country=Austria<br>Year=2017<br>gdp=%{x}<br>nni=%{y}<extra></extra>",
           "legendgroup": "Austria",
           "marker": {
            "color": "#EF553B",
            "symbol": "circle"
           },
           "mode": "markers",
           "name": "Austria",
           "orientation": "v",
           "showlegend": true,
           "type": "scatter",
           "x": [
            476.59
           ],
           "xaxis": "x",
           "y": [
            41384.2
           ],
           "yaxis": "y"
          },
          {
           "hovertemplate": "Country=Chile<br>Year=2017<br>gdp=%{x}<br>nni=%{y}<extra></extra>",
           "legendgroup": "Chile",
           "marker": {
            "color": "#00cc96",
            "symbol": "circle"
           },
           "mode": "markers",
           "name": "Chile",
           "orientation": "v",
           "showlegend": true,
           "type": "scatter",
           "x": [
            450.89
           ],
           "xaxis": "x",
           "y": [
            22541.6
           ],
           "yaxis": "y"
          },
          {
           "hovertemplate": "Country=Czechia<br>Year=2017<br>gdp=%{x}<br>nni=%{y}<extra></extra>",
           "legendgroup": "Czechia",
           "marker": {
            "color": "#ab63fa",
            "symbol": "circle"
           },
           "mode": "markers",
           "name": "Czechia",
           "orientation": "v",
           "showlegend": true,
           "type": "scatter",
           "x": [
            411.33
           ],
           "xaxis": "x",
           "y": [
            26938.2
           ],
           "yaxis": "y"
          },
          {
           "hovertemplate": "Country=Denmark<br>Year=2017<br>gdp=%{x}<br>nni=%{y}<extra></extra>",
           "legendgroup": "Denmark",
           "marker": {
            "color": "#FFA15A",
            "symbol": "circle"
           },
           "mode": "markers",
           "name": "Denmark",
           "orientation": "v",
           "showlegend": true,
           "type": "scatter",
           "x": [
            319.13
           ],
           "xaxis": "x",
           "y": [
            43922.5
           ],
           "yaxis": "y"
          },
          {
           "hovertemplate": "Country=Estonia<br>Year=2017<br>gdp=%{x}<br>nni=%{y}<extra></extra>",
           "legendgroup": "Estonia",
           "marker": {
            "color": "#19d3f3",
            "symbol": "circle"
           },
           "mode": "markers",
           "name": "Estonia",
           "orientation": "v",
           "showlegend": true,
           "type": "scatter",
           "x": [
            44.56
           ],
           "xaxis": "x",
           "y": [
            26208.8
           ],
           "yaxis": "y"
          },
          {
           "hovertemplate": "Country=Finland<br>Year=2017<br>gdp=%{x}<br>nni=%{y}<extra></extra>",
           "legendgroup": "Finland",
           "marker": {
            "color": "#FF6692",
            "symbol": "circle"
           },
           "mode": "markers",
           "name": "Finland",
           "orientation": "v",
           "showlegend": true,
           "type": "scatter",
           "x": [
            262.03
           ],
           "xaxis": "x",
           "y": [
            36513.6
           ],
           "yaxis": "y"
          },
          {
           "hovertemplate": "Country=France<br>Year=2017<br>gdp=%{x}<br>nni=%{y}<extra></extra>",
           "legendgroup": "France",
           "marker": {
            "color": "#B6E880",
            "symbol": "circle"
           },
           "mode": "markers",
           "name": "France",
           "orientation": "v",
           "showlegend": true,
           "type": "scatter",
           "x": [
            2983.01
           ],
           "xaxis": "x",
           "y": [
            35247.3
           ],
           "yaxis": "y"
          },
          {
           "hovertemplate": "Country=Germany<br>Year=2017<br>gdp=%{x}<br>nni=%{y}<extra></extra>",
           "legendgroup": "Germany",
           "marker": {
            "color": "#FF97FF",
            "symbol": "circle"
           },
           "mode": "markers",
           "name": "Germany",
           "orientation": "v",
           "showlegend": true,
           "type": "scatter",
           "x": [
            4386.73
           ],
           "xaxis": "x",
           "y": [
            41877.5
           ],
           "yaxis": "y"
          },
          {
           "hovertemplate": "Country=Hungary<br>Year=2017<br>gdp=%{x}<br>nni=%{y}<extra></extra>",
           "legendgroup": "Hungary",
           "marker": {
            "color": "#FECB52",
            "symbol": "circle"
           },
           "mode": "markers",
           "name": "Hungary",
           "orientation": "v",
           "showlegend": true,
           "type": "scatter",
           "x": [
            288.71
           ],
           "xaxis": "x",
           "y": [
            22846.1
           ],
           "yaxis": "y"
          },
          {
           "hovertemplate": "Country=Ireland<br>Year=2017<br>gdp=%{x}<br>nni=%{y}<extra></extra>",
           "legendgroup": "Ireland",
           "marker": {
            "color": "#636efa",
            "symbol": "circle"
           },
           "mode": "markers",
           "name": "Ireland",
           "orientation": "v",
           "showlegend": true,
           "type": "scatter",
           "x": [
            375.79
           ],
           "xaxis": "x",
           "y": [
            40791.2
           ],
           "yaxis": "y"
          },
          {
           "hovertemplate": "Country=Israel<br>Year=2017<br>gdp=%{x}<br>nni=%{y}<extra></extra>",
           "legendgroup": "Israel",
           "marker": {
            "color": "#EF553B",
            "symbol": "circle"
           },
           "mode": "markers",
           "name": "Israel",
           "orientation": "v",
           "showlegend": true,
           "type": "scatter",
           "x": [
            342.75
           ],
           "xaxis": "x",
           "y": [
            32195.6
           ],
           "yaxis": "y"
          },
          {
           "hovertemplate": "Country=Italy<br>Year=2017<br>gdp=%{x}<br>nni=%{y}<extra></extra>",
           "legendgroup": "Italy",
           "marker": {
            "color": "#00cc96",
            "symbol": "circle"
           },
           "mode": "markers",
           "name": "Italy",
           "orientation": "v",
           "showlegend": true,
           "type": "scatter",
           "x": [
            2517.18
           ],
           "xaxis": "x",
           "y": [
            32041.9
           ],
           "yaxis": "y"
          },
          {
           "hovertemplate": "Country=Japan<br>Year=2017<br>gdp=%{x}<br>nni=%{y}<extra></extra>",
           "legendgroup": "Japan",
           "marker": {
            "color": "#ab63fa",
            "symbol": "circle"
           },
           "mode": "markers",
           "name": "Japan",
           "orientation": "v",
           "showlegend": true,
           "type": "scatter",
           "x": [
            5262.25
           ],
           "xaxis": "x",
           "y": [
            33813.9
           ],
           "yaxis": "y"
          },
          {
           "hovertemplate": "Country=Latvia<br>Year=2017<br>gdp=%{x}<br>nni=%{y}<extra></extra>",
           "legendgroup": "Latvia",
           "marker": {
            "color": "#FFA15A",
            "symbol": "circle"
           },
           "mode": "markers",
           "name": "Latvia",
           "orientation": "v",
           "showlegend": true,
           "type": "scatter",
           "x": [
            55.69
           ],
           "xaxis": "x",
           "y": [
            21309.4
           ],
           "yaxis": "y"
          },
          {
           "hovertemplate": "Country=Lithuania<br>Year=2017<br>gdp=%{x}<br>nni=%{y}<extra></extra>",
           "legendgroup": "Lithuania",
           "marker": {
            "color": "#19d3f3",
            "symbol": "circle"
           },
           "mode": "markers",
           "name": "Lithuania",
           "orientation": "v",
           "showlegend": true,
           "type": "scatter",
           "x": [
            95.49
           ],
           "xaxis": "x",
           "y": [
            26809.7
           ],
           "yaxis": "y"
          },
          {
           "hovertemplate": "Country=Luxembourg<br>Year=2017<br>gdp=%{x}<br>nni=%{y}<extra></extra>",
           "legendgroup": "Luxembourg",
           "marker": {
            "color": "#FF6692",
            "symbol": "circle"
           },
           "mode": "markers",
           "name": "Luxembourg",
           "orientation": "v",
           "showlegend": true,
           "type": "scatter",
           "x": [
            68.57
           ],
           "xaxis": "x",
           "y": [
            64370.4
           ],
           "yaxis": "y"
          },
          {
           "hovertemplate": "Country=Mexico<br>Year=2017<br>gdp=%{x}<br>nni=%{y}<extra></extra>",
           "legendgroup": "Mexico",
           "marker": {
            "color": "#B6E880",
            "symbol": "circle"
           },
           "mode": "markers",
           "name": "Mexico",
           "orientation": "v",
           "showlegend": true,
           "type": "scatter",
           "x": [
            2528.31
           ],
           "xaxis": "x",
           "y": [
            15649.9
           ],
           "yaxis": "y"
          },
          {
           "hovertemplate": "Country=Netherlands<br>Year=2017<br>gdp=%{x}<br>nni=%{y}<extra></extra>",
           "legendgroup": "Netherlands",
           "marker": {
            "color": "#FF97FF",
            "symbol": "circle"
           },
           "mode": "markers",
           "name": "Netherlands",
           "orientation": "v",
           "showlegend": true,
           "type": "scatter",
           "x": [
            943.74
           ],
           "xaxis": "x",
           "y": [
            43113.3
           ],
           "yaxis": "y"
          },
          {
           "hovertemplate": "Country=New Zealand<br>Year=2017<br>gdp=%{x}<br>nni=%{y}<extra></extra>",
           "legendgroup": "New Zealand",
           "marker": {
            "color": "#FECB52",
            "symbol": "circle"
           },
           "mode": "markers",
           "name": "New Zealand",
           "orientation": "v",
           "showlegend": true,
           "type": "scatter",
           "x": [
            203.17
           ],
           "xaxis": "x",
           "y": [
            32539.4
           ],
           "yaxis": "y"
          },
          {
           "hovertemplate": "Country=Norway<br>Year=2017<br>gdp=%{x}<br>nni=%{y}<extra></extra>",
           "legendgroup": "Norway",
           "marker": {
            "color": "#636efa",
            "symbol": "circle"
           },
           "mode": "markers",
           "name": "Norway",
           "orientation": "v",
           "showlegend": true,
           "type": "scatter",
           "x": [
            340.84
           ],
           "xaxis": "x",
           "y": [
            52340.2
           ],
           "yaxis": "y"
          },
          {
           "hovertemplate": "Country=Portugal<br>Year=2017<br>gdp=%{x}<br>nni=%{y}<extra></extra>",
           "legendgroup": "Portugal",
           "marker": {
            "color": "#EF553B",
            "symbol": "circle"
           },
           "mode": "markers",
           "name": "Portugal",
           "orientation": "v",
           "showlegend": true,
           "type": "scatter",
           "x": [
            340.37
           ],
           "xaxis": "x",
           "y": [
            25397.5
           ],
           "yaxis": "y"
          },
          {
           "hovertemplate": "Country=Slovak Republic<br>Year=2017<br>gdp=%{x}<br>nni=%{y}<extra></extra>",
           "legendgroup": "Slovak Republic",
           "marker": {
            "color": "#00cc96",
            "symbol": "circle"
           },
           "mode": "markers",
           "name": "Slovak Republic",
           "orientation": "v",
           "showlegend": true,
           "type": "scatter",
           "x": [
            163.95
           ],
           "xaxis": "x",
           "y": [
            25264.5
           ],
           "yaxis": "y"
          },
          {
           "hovertemplate": "Country=Slovenia<br>Year=2017<br>gdp=%{x}<br>nni=%{y}<extra></extra>",
           "legendgroup": "Slovenia",
           "marker": {
            "color": "#ab63fa",
            "symbol": "circle"
           },
           "mode": "markers",
           "name": "Slovenia",
           "orientation": "v",
           "showlegend": true,
           "type": "scatter",
           "x": [
            75.44
           ],
           "xaxis": "x",
           "y": [
            26972
           ],
           "yaxis": "y"
          },
          {
           "hovertemplate": "Country=Spain<br>Year=2017<br>gdp=%{x}<br>nni=%{y}<extra></extra>",
           "legendgroup": "Spain",
           "marker": {
            "color": "#FFA15A",
            "symbol": "circle"
           },
           "mode": "markers",
           "name": "Spain",
           "orientation": "v",
           "showlegend": true,
           "type": "scatter",
           "x": [
            1842.77
           ],
           "xaxis": "x",
           "y": [
            31317.4
           ],
           "yaxis": "y"
          },
          {
           "hovertemplate": "Country=Sweden<br>Year=2017<br>gdp=%{x}<br>nni=%{y}<extra></extra>",
           "legendgroup": "Sweden",
           "marker": {
            "color": "#19d3f3",
            "symbol": "circle"
           },
           "mode": "markers",
           "name": "Sweden",
           "orientation": "v",
           "showlegend": true,
           "type": "scatter",
           "x": [
            522.48
           ],
           "xaxis": "x",
           "y": [
            42455.4
           ],
           "yaxis": "y"
          },
          {
           "hovertemplate": "Country=Switzerland<br>Year=2017<br>gdp=%{x}<br>nni=%{y}<extra></extra>",
           "legendgroup": "Switzerland",
           "marker": {
            "color": "#FF6692",
            "symbol": "circle"
           },
           "mode": "markers",
           "name": "Switzerland",
           "orientation": "v",
           "showlegend": true,
           "type": "scatter",
           "x": [
            576.36
           ],
           "xaxis": "x",
           "y": [
            48728.1
           ],
           "yaxis": "y"
          },
          {
           "hovertemplate": "Country=United Kingdom<br>Year=2017<br>gdp=%{x}<br>nni=%{y}<extra></extra>",
           "legendgroup": "United Kingdom",
           "marker": {
            "color": "#B6E880",
            "symbol": "circle"
           },
           "mode": "markers",
           "name": "United Kingdom",
           "orientation": "v",
           "showlegend": true,
           "type": "scatter",
           "x": [
            3041.89
           ],
           "xaxis": "x",
           "y": [
            36751.3
           ],
           "yaxis": "y"
          },
          {
           "hovertemplate": "Country=Euro area<br>Year=2017<br>gdp=%{x}<br>nni=%{y}<extra></extra>",
           "legendgroup": "Euro area",
           "marker": {
            "color": "#FF97FF",
            "symbol": "circle"
           },
           "mode": "markers",
           "name": "Euro area",
           "orientation": "v",
           "showlegend": true,
           "type": "scatter",
           "x": [
            15566.8
           ],
           "xaxis": "x",
           "y": [
            35439.3
           ],
           "yaxis": "y"
          },
          {
           "hovertemplate": "Country=Russia<br>Year=2017<br>gdp=%{x}<br>nni=%{y}<extra></extra>",
           "legendgroup": "Russia",
           "marker": {
            "color": "#FECB52",
            "symbol": "circle"
           },
           "mode": "markers",
           "name": "Russia",
           "orientation": "v",
           "showlegend": true,
           "type": "scatter",
           "x": [
            3807.1
           ],
           "xaxis": "x",
           "y": [
            20097.4
           ],
           "yaxis": "y"
          },
          {
           "hovertemplate": "Country=South Africa<br>Year=2017<br>gdp=%{x}<br>nni=%{y}<extra></extra>",
           "legendgroup": "South Africa",
           "marker": {
            "color": "#636efa",
            "symbol": "circle"
           },
           "mode": "markers",
           "name": "South Africa",
           "orientation": "v",
           "showlegend": true,
           "type": "scatter",
           "x": [
            790.17
           ],
           "xaxis": "x",
           "y": [
            11825.2
           ],
           "yaxis": "y"
          },
          {
           "hovertemplate": "Country=Greece<br>Year=2017<br>gdp=%{x}<br>nni=%{y}<extra></extra>",
           "legendgroup": "Greece",
           "marker": {
            "color": "#EF553B",
            "symbol": "circle"
           },
           "mode": "markers",
           "name": "Greece",
           "orientation": "v",
           "showlegend": true,
           "type": "scatter",
           "x": [
            307.64
           ],
           "xaxis": "x",
           "y": [
            22700.9
           ],
           "yaxis": "y"
          },
          {
           "hovertemplate": "Country=Korea<br>Year=2017<br>gdp=%{x}<br>nni=%{y}<extra></extra>",
           "legendgroup": "Korea",
           "marker": {
            "color": "#00cc96",
            "symbol": "circle"
           },
           "mode": "markers",
           "name": "Korea",
           "orientation": "v",
           "showlegend": true,
           "type": "scatter",
           "x": [
            2103.65
           ],
           "xaxis": "x",
           "y": [
            33130
           ],
           "yaxis": "y"
          }
         ],
         "name": "2017"
        },
        {
         "data": [
          {
           "hovertemplate": "Country=Australia<br>Year=2018<br>gdp=%{x}<br>nni=%{y}<extra></extra>",
           "legendgroup": "Australia",
           "marker": {
            "color": "#636efa",
            "symbol": "circle"
           },
           "mode": "markers",
           "name": "Australia",
           "orientation": "v",
           "showlegend": true,
           "type": "scatter",
           "x": [
            1326.2
           ],
           "xaxis": "x",
           "y": [
            40292.9
           ],
           "yaxis": "y"
          },
          {
           "hovertemplate": "Country=Austria<br>Year=2018<br>gdp=%{x}<br>nni=%{y}<extra></extra>",
           "legendgroup": "Austria",
           "marker": {
            "color": "#EF553B",
            "symbol": "circle"
           },
           "mode": "markers",
           "name": "Austria",
           "orientation": "v",
           "showlegend": true,
           "type": "scatter",
           "x": [
            503.36
           ],
           "xaxis": "x",
           "y": [
            42056.2
           ],
           "yaxis": "y"
          },
          {
           "hovertemplate": "Country=Chile<br>Year=2018<br>gdp=%{x}<br>nni=%{y}<extra></extra>",
           "legendgroup": "Chile",
           "marker": {
            "color": "#00cc96",
            "symbol": "circle"
           },
           "mode": "markers",
           "name": "Chile",
           "orientation": "v",
           "showlegend": true,
           "type": "scatter",
           "x": [
            478.09
           ],
           "xaxis": "x",
           "y": [
            22800
           ],
           "yaxis": "y"
          },
          {
           "hovertemplate": "Country=Czechia<br>Year=2018<br>gdp=%{x}<br>nni=%{y}<extra></extra>",
           "legendgroup": "Czechia",
           "marker": {
            "color": "#ab63fa",
            "symbol": "circle"
           },
           "mode": "markers",
           "name": "Czechia",
           "orientation": "v",
           "showlegend": true,
           "type": "scatter",
           "x": [
            437.36
           ],
           "xaxis": "x",
           "y": [
            27780.5
           ],
           "yaxis": "y"
          },
          {
           "hovertemplate": "Country=Denmark<br>Year=2018<br>gdp=%{x}<br>nni=%{y}<extra></extra>",
           "legendgroup": "Denmark",
           "marker": {
            "color": "#FFA15A",
            "symbol": "circle"
           },
           "mode": "markers",
           "name": "Denmark",
           "orientation": "v",
           "showlegend": true,
           "type": "scatter",
           "x": [
            333.04
           ],
           "xaxis": "x",
           "y": [
            44649.5
           ],
           "yaxis": "y"
          },
          {
           "hovertemplate": "Country=Estonia<br>Year=2018<br>gdp=%{x}<br>nni=%{y}<extra></extra>",
           "legendgroup": "Estonia",
           "marker": {
            "color": "#19d3f3",
            "symbol": "circle"
           },
           "mode": "markers",
           "name": "Estonia",
           "orientation": "v",
           "showlegend": true,
           "type": "scatter",
           "x": [
            48.13
           ],
           "xaxis": "x",
           "y": [
            27497.1
           ],
           "yaxis": "y"
          },
          {
           "hovertemplate": "Country=Finland<br>Year=2018<br>gdp=%{x}<br>nni=%{y}<extra></extra>",
           "legendgroup": "Finland",
           "marker": {
            "color": "#FF6692",
            "symbol": "circle"
           },
           "mode": "markers",
           "name": "Finland",
           "orientation": "v",
           "showlegend": true,
           "type": "scatter",
           "x": [
            273.46
           ],
           "xaxis": "x",
           "y": [
            37076.6
           ],
           "yaxis": "y"
          },
          {
           "hovertemplate": "Country=France<br>Year=2018<br>gdp=%{x}<br>nni=%{y}<extra></extra>",
           "legendgroup": "France",
           "marker": {
            "color": "#B6E880",
            "symbol": "circle"
           },
           "mode": "markers",
           "name": "France",
           "orientation": "v",
           "showlegend": true,
           "type": "scatter",
           "x": [
            3125.38
           ],
           "xaxis": "x",
           "y": [
            35540.5
           ],
           "yaxis": "y"
          },
          {
           "hovertemplate": "Country=Germany<br>Year=2018<br>gdp=%{x}<br>nni=%{y}<extra></extra>",
           "legendgroup": "Germany",
           "marker": {
            "color": "#FF97FF",
            "symbol": "circle"
           },
           "mode": "markers",
           "name": "Germany",
           "orientation": "v",
           "showlegend": true,
           "type": "scatter",
           "x": [
            4576.06
           ],
           "xaxis": "x",
           "y": [
            42320.2
           ],
           "yaxis": "y"
          },
          {
           "hovertemplate": "Country=Hungary<br>Year=2018<br>gdp=%{x}<br>nni=%{y}<extra></extra>",
           "legendgroup": "Hungary",
           "marker": {
            "color": "#FECB52",
            "symbol": "circle"
           },
           "mode": "markers",
           "name": "Hungary",
           "orientation": "v",
           "showlegend": true,
           "type": "scatter",
           "x": [
            311.93
           ],
           "xaxis": "x",
           "y": [
            24056.5
           ],
           "yaxis": "y"
          },
          {
           "hovertemplate": "Country=Ireland<br>Year=2018<br>gdp=%{x}<br>nni=%{y}<extra></extra>",
           "legendgroup": "Ireland",
           "marker": {
            "color": "#636efa",
            "symbol": "circle"
           },
           "mode": "markers",
           "name": "Ireland",
           "orientation": "v",
           "showlegend": true,
           "type": "scatter",
           "x": [
            413.32
           ],
           "xaxis": "x",
           "y": [
            41774.8
           ],
           "yaxis": "y"
          },
          {
           "hovertemplate": "Country=Israel<br>Year=2018<br>gdp=%{x}<br>nni=%{y}<extra></extra>",
           "legendgroup": "Israel",
           "marker": {
            "color": "#EF553B",
            "symbol": "circle"
           },
           "mode": "markers",
           "name": "Israel",
           "orientation": "v",
           "showlegend": true,
           "type": "scatter",
           "x": [
            355.91
           ],
           "xaxis": "x",
           "y": [
            32696.5
           ],
           "yaxis": "y"
          },
          {
           "hovertemplate": "Country=Italy<br>Year=2018<br>gdp=%{x}<br>nni=%{y}<extra></extra>",
           "legendgroup": "Italy",
           "marker": {
            "color": "#00cc96",
            "symbol": "circle"
           },
           "mode": "markers",
           "name": "Italy",
           "orientation": "v",
           "showlegend": true,
           "type": "scatter",
           "x": [
            2600.33
           ],
           "xaxis": "x",
           "y": [
            32589.7
           ],
           "yaxis": "y"
          },
          {
           "hovertemplate": "Country=Japan<br>Year=2018<br>gdp=%{x}<br>nni=%{y}<extra></extra>",
           "legendgroup": "Japan",
           "marker": {
            "color": "#ab63fa",
            "symbol": "circle"
           },
           "mode": "markers",
           "name": "Japan",
           "orientation": "v",
           "showlegend": true,
           "type": "scatter",
           "x": [
            5344.06
           ],
           "xaxis": "x",
           "y": [
            33770.1
           ],
           "yaxis": "y"
          },
          {
           "hovertemplate": "Country=Latvia<br>Year=2018<br>gdp=%{x}<br>nni=%{y}<extra></extra>",
           "legendgroup": "Latvia",
           "marker": {
            "color": "#FFA15A",
            "symbol": "circle"
           },
           "mode": "markers",
           "name": "Latvia",
           "orientation": "v",
           "showlegend": true,
           "type": "scatter",
           "x": [
            59.51
           ],
           "xaxis": "x",
           "y": [
            22431.5
           ],
           "yaxis": "y"
          },
          {
           "hovertemplate": "Country=Lithuania<br>Year=2018<br>gdp=%{x}<br>nni=%{y}<extra></extra>",
           "legendgroup": "Lithuania",
           "marker": {
            "color": "#19d3f3",
            "symbol": "circle"
           },
           "mode": "markers",
           "name": "Lithuania",
           "orientation": "v",
           "showlegend": true,
           "type": "scatter",
           "x": [
            101.91
           ],
           "xaxis": "x",
           "y": [
            28076.6
           ],
           "yaxis": "y"
          },
          {
           "hovertemplate": "Country=Luxembourg<br>Year=2018<br>gdp=%{x}<br>nni=%{y}<extra></extra>",
           "legendgroup": "Luxembourg",
           "marker": {
            "color": "#FF6692",
            "symbol": "circle"
           },
           "mode": "markers",
           "name": "Luxembourg",
           "orientation": "v",
           "showlegend": true,
           "type": "scatter",
           "x": [
            70.83
           ],
           "xaxis": "x",
           "y": [
            63700.6
           ],
           "yaxis": "y"
          },
          {
           "hovertemplate": "Country=Mexico<br>Year=2018<br>gdp=%{x}<br>nni=%{y}<extra></extra>",
           "legendgroup": "Mexico",
           "marker": {
            "color": "#B6E880",
            "symbol": "circle"
           },
           "mode": "markers",
           "name": "Mexico",
           "orientation": "v",
           "showlegend": true,
           "type": "scatter",
           "x": [
            2606.27
           ],
           "xaxis": "x",
           "y": [
            15776.6
           ],
           "yaxis": "y"
          },
          {
           "hovertemplate": "Country=Netherlands<br>Year=2018<br>gdp=%{x}<br>nni=%{y}<extra></extra>",
           "legendgroup": "Netherlands",
           "marker": {
            "color": "#FF97FF",
            "symbol": "circle"
           },
           "mode": "markers",
           "name": "Netherlands",
           "orientation": "v",
           "showlegend": true,
           "type": "scatter",
           "x": [
            996.45
           ],
           "xaxis": "x",
           "y": [
            44207.2
           ],
           "yaxis": "y"
          },
          {
           "hovertemplate": "Country=New Zealand<br>Year=2018<br>gdp=%{x}<br>nni=%{y}<extra></extra>",
           "legendgroup": "New Zealand",
           "marker": {
            "color": "#FECB52",
            "symbol": "circle"
           },
           "mode": "markers",
           "name": "New Zealand",
           "orientation": "v",
           "showlegend": true,
           "type": "scatter",
           "x": [
            208.27
           ],
           "xaxis": "x",
           "y": [
            32640.6
           ],
           "yaxis": "y"
          },
          {
           "hovertemplate": "Country=Norway<br>Year=2018<br>gdp=%{x}<br>nni=%{y}<extra></extra>",
           "legendgroup": "Norway",
           "marker": {
            "color": "#636efa",
            "symbol": "circle"
           },
           "mode": "markers",
           "name": "Norway",
           "orientation": "v",
           "showlegend": true,
           "type": "scatter",
           "x": [
            373.18
           ],
           "xaxis": "x",
           "y": [
            54642.7
           ],
           "yaxis": "y"
          },
          {
           "hovertemplate": "Country=Portugal<br>Year=2018<br>gdp=%{x}<br>nni=%{y}<extra></extra>",
           "legendgroup": "Portugal",
           "marker": {
            "color": "#EF553B",
            "symbol": "circle"
           },
           "mode": "markers",
           "name": "Portugal",
           "orientation": "v",
           "showlegend": true,
           "type": "scatter",
           "x": [
            359.2
           ],
           "xaxis": "x",
           "y": [
            25983.2
           ],
           "yaxis": "y"
          },
          {
           "hovertemplate": "Country=Slovak Republic<br>Year=2018<br>gdp=%{x}<br>nni=%{y}<extra></extra>",
           "legendgroup": "Slovak Republic",
           "marker": {
            "color": "#00cc96",
            "symbol": "circle"
           },
           "mode": "markers",
           "name": "Slovak Republic",
           "orientation": "v",
           "showlegend": true,
           "type": "scatter",
           "x": [
            170.86
           ],
           "xaxis": "x",
           "y": [
            26265.6
           ],
           "yaxis": "y"
          },
          {
           "hovertemplate": "Country=Slovenia<br>Year=2018<br>gdp=%{x}<br>nni=%{y}<extra></extra>",
           "legendgroup": "Slovenia",
           "marker": {
            "color": "#ab63fa",
            "symbol": "circle"
           },
           "mode": "markers",
           "name": "Slovenia",
           "orientation": "v",
           "showlegend": true,
           "type": "scatter",
           "x": [
            80.82
           ],
           "xaxis": "x",
           "y": [
            28394.7
           ],
           "yaxis": "y"
          },
          {
           "hovertemplate": "Country=Spain<br>Year=2018<br>gdp=%{x}<br>nni=%{y}<extra></extra>",
           "legendgroup": "Spain",
           "marker": {
            "color": "#FFA15A",
            "symbol": "circle"
           },
           "mode": "markers",
           "name": "Spain",
           "orientation": "v",
           "showlegend": true,
           "type": "scatter",
           "x": [
            1905.45
           ],
           "xaxis": "x",
           "y": [
            31908.3
           ],
           "yaxis": "y"
          },
          {
           "hovertemplate": "Country=Sweden<br>Year=2018<br>gdp=%{x}<br>nni=%{y}<extra></extra>",
           "legendgroup": "Sweden",
           "marker": {
            "color": "#19d3f3",
            "symbol": "circle"
           },
           "mode": "markers",
           "name": "Sweden",
           "orientation": "v",
           "showlegend": true,
           "type": "scatter",
           "x": [
            544.59
           ],
           "xaxis": "x",
           "y": [
            42518.8
           ],
           "yaxis": "y"
          },
          {
           "hovertemplate": "Country=Switzerland<br>Year=2018<br>gdp=%{x}<br>nni=%{y}<extra></extra>",
           "legendgroup": "Switzerland",
           "marker": {
            "color": "#FF6692",
            "symbol": "circle"
           },
           "mode": "markers",
           "name": "Switzerland",
           "orientation": "v",
           "showlegend": true,
           "type": "scatter",
           "x": [
            601.87
           ],
           "xaxis": "x",
           "y": [
            48344
           ],
           "yaxis": "y"
          },
          {
           "hovertemplate": "Country=United Kingdom<br>Year=2018<br>gdp=%{x}<br>nni=%{y}<extra></extra>",
           "legendgroup": "United Kingdom",
           "marker": {
            "color": "#B6E880",
            "symbol": "circle"
           },
           "mode": "markers",
           "name": "United Kingdom",
           "orientation": "v",
           "showlegend": true,
           "type": "scatter",
           "x": [
            3129.65
           ],
           "xaxis": "x",
           "y": [
            36879.1
           ],
           "yaxis": "y"
          },
          {
           "hovertemplate": "Country=Euro area<br>Year=2018<br>gdp=%{x}<br>nni=%{y}<extra></extra>",
           "legendgroup": "Euro area",
           "marker": {
            "color": "#FF97FF",
            "symbol": "circle"
           },
           "mode": "markers",
           "name": "Euro area",
           "orientation": "v",
           "showlegend": true,
           "type": "scatter",
           "x": [
            16260.92
           ],
           "xaxis": "x",
           "y": [
            35869.8
           ],
           "yaxis": "y"
          },
          {
           "hovertemplate": "Country=Russia<br>Year=2018<br>gdp=%{x}<br>nni=%{y}<extra></extra>",
           "legendgroup": "Russia",
           "marker": {
            "color": "#FECB52",
            "symbol": "circle"
           },
           "mode": "markers",
           "name": "Russia",
           "orientation": "v",
           "showlegend": true,
           "type": "scatter",
           "x": [
            4231.84
           ],
           "xaxis": "x",
           "y": [
            21946.7
           ],
           "yaxis": "y"
          },
          {
           "hovertemplate": "Country=South Africa<br>Year=2018<br>gdp=%{x}<br>nni=%{y}<extra></extra>",
           "legendgroup": "South Africa",
           "marker": {
            "color": "#636efa",
            "symbol": "circle"
           },
           "mode": "markers",
           "name": "South Africa",
           "orientation": "v",
           "showlegend": true,
           "type": "scatter",
           "x": [
            821.76
           ],
           "xaxis": "x",
           "y": [
            11844.4
           ],
           "yaxis": "y"
          },
          {
           "hovertemplate": "Country=Greece<br>Year=2018<br>gdp=%{x}<br>nni=%{y}<extra></extra>",
           "legendgroup": "Greece",
           "marker": {
            "color": "#EF553B",
            "symbol": "circle"
           },
           "mode": "markers",
           "name": "Greece",
           "orientation": "v",
           "showlegend": true,
           "type": "scatter",
           "x": [
            317.88
           ],
           "xaxis": "x",
           "y": [
            22882
           ],
           "yaxis": "y"
          },
          {
           "hovertemplate": "Country=Korea<br>Year=2018<br>gdp=%{x}<br>nni=%{y}<extra></extra>",
           "legendgroup": "Korea",
           "marker": {
            "color": "#00cc96",
            "symbol": "circle"
           },
           "mode": "markers",
           "name": "Korea",
           "orientation": "v",
           "showlegend": true,
           "type": "scatter",
           "x": [
            2220.44
           ],
           "xaxis": "x",
           "y": [
            33366.4
           ],
           "yaxis": "y"
          }
         ],
         "name": "2018"
        },
        {
         "data": [
          {
           "hovertemplate": "Country=Australia<br>Year=2019<br>gdp=%{x}<br>nni=%{y}<extra></extra>",
           "legendgroup": "Australia",
           "marker": {
            "color": "#636efa",
            "symbol": "circle"
           },
           "mode": "markers",
           "name": "Australia",
           "orientation": "v",
           "showlegend": true,
           "type": "scatter",
           "x": [
            1360.01
           ],
           "xaxis": "x",
           "y": [
            40108.2
           ],
           "yaxis": "y"
          },
          {
           "hovertemplate": "Country=Austria<br>Year=2019<br>gdp=%{x}<br>nni=%{y}<extra></extra>",
           "legendgroup": "Austria",
           "marker": {
            "color": "#EF553B",
            "symbol": "circle"
           },
           "mode": "markers",
           "name": "Austria",
           "orientation": "v",
           "showlegend": true,
           "type": "scatter",
           "x": [
            537.9
           ],
           "xaxis": "x",
           "y": [
            42485.3
           ],
           "yaxis": "y"
          },
          {
           "hovertemplate": "Country=Chile<br>Year=2019<br>gdp=%{x}<br>nni=%{y}<extra></extra>",
           "legendgroup": "Chile",
           "marker": {
            "color": "#00cc96",
            "symbol": "circle"
           },
           "mode": "markers",
           "name": "Chile",
           "orientation": "v",
           "showlegend": true,
           "type": "scatter",
           "x": [
            492.24
           ],
           "xaxis": "x",
           "y": [
            22505
           ],
           "yaxis": "y"
          },
          {
           "hovertemplate": "Country=Czechia<br>Year=2019<br>gdp=%{x}<br>nni=%{y}<extra></extra>",
           "legendgroup": "Czechia",
           "marker": {
            "color": "#ab63fa",
            "symbol": "circle"
           },
           "mode": "markers",
           "name": "Czechia",
           "orientation": "v",
           "showlegend": true,
           "type": "scatter",
           "x": [
            478.74
           ],
           "xaxis": "x",
           "y": [
            28323.4
           ],
           "yaxis": "y"
          },
          {
           "hovertemplate": "Country=Denmark<br>Year=2019<br>gdp=%{x}<br>nni=%{y}<extra></extra>",
           "legendgroup": "Denmark",
           "marker": {
            "color": "#FFA15A",
            "symbol": "circle"
           },
           "mode": "markers",
           "name": "Denmark",
           "orientation": "v",
           "showlegend": true,
           "type": "scatter",
           "x": [
            353.44
           ],
           "xaxis": "x",
           "y": [
            44932.9
           ],
           "yaxis": "y"
          },
          {
           "hovertemplate": "Country=Estonia<br>Year=2019<br>gdp=%{x}<br>nni=%{y}<extra></extra>",
           "legendgroup": "Estonia",
           "marker": {
            "color": "#19d3f3",
            "symbol": "circle"
           },
           "mode": "markers",
           "name": "Estonia",
           "orientation": "v",
           "showlegend": true,
           "type": "scatter",
           "x": [
            52.87
           ],
           "xaxis": "x",
           "y": [
            28428.1
           ],
           "yaxis": "y"
          },
          {
           "hovertemplate": "Country=Finland<br>Year=2019<br>gdp=%{x}<br>nni=%{y}<extra></extra>",
           "legendgroup": "Finland",
           "marker": {
            "color": "#FF6692",
            "symbol": "circle"
           },
           "mode": "markers",
           "name": "Finland",
           "orientation": "v",
           "showlegend": true,
           "type": "scatter",
           "x": [
            290.27
           ],
           "xaxis": "x",
           "y": [
            37307.8
           ],
           "yaxis": "y"
          },
          {
           "hovertemplate": "Country=France<br>Year=2019<br>gdp=%{x}<br>nni=%{y}<extra></extra>",
           "legendgroup": "France",
           "marker": {
            "color": "#B6E880",
            "symbol": "circle"
           },
           "mode": "markers",
           "name": "France",
           "orientation": "v",
           "showlegend": true,
           "type": "scatter",
           "x": [
            3452.96
           ],
           "xaxis": "x",
           "y": [
            35951.7
           ],
           "yaxis": "y"
          },
          {
           "hovertemplate": "Country=Germany<br>Year=2019<br>gdp=%{x}<br>nni=%{y}<extra></extra>",
           "legendgroup": "Germany",
           "marker": {
            "color": "#FF97FF",
            "symbol": "circle"
           },
           "mode": "markers",
           "name": "Germany",
           "orientation": "v",
           "showlegend": true,
           "type": "scatter",
           "x": [
            4840.31
           ],
           "xaxis": "x",
           "y": [
            42814.8
           ],
           "yaxis": "y"
          },
          {
           "hovertemplate": "Country=Hungary<br>Year=2019<br>gdp=%{x}<br>nni=%{y}<extra></extra>",
           "legendgroup": "Hungary",
           "marker": {
            "color": "#FECB52",
            "symbol": "circle"
           },
           "mode": "markers",
           "name": "Hungary",
           "orientation": "v",
           "showlegend": true,
           "type": "scatter",
           "x": [
            343.48
           ],
           "xaxis": "x",
           "y": [
            25661.4
           ],
           "yaxis": "y"
          },
          {
           "hovertemplate": "Country=Ireland<br>Year=2019<br>gdp=%{x}<br>nni=%{y}<extra></extra>",
           "legendgroup": "Ireland",
           "marker": {
            "color": "#636efa",
            "symbol": "circle"
           },
           "mode": "markers",
           "name": "Ireland",
           "orientation": "v",
           "showlegend": true,
           "type": "scatter",
           "x": [
            448.73
           ],
           "xaxis": "x",
           "y": [
            43238.1
           ],
           "yaxis": "y"
          },
          {
           "hovertemplate": "Country=Israel<br>Year=2019<br>gdp=%{x}<br>nni=%{y}<extra></extra>",
           "legendgroup": "Israel",
           "marker": {
            "color": "#EF553B",
            "symbol": "circle"
           },
           "mode": "markers",
           "name": "Israel",
           "orientation": "v",
           "showlegend": true,
           "type": "scatter",
           "x": [
            373.23
           ],
           "xaxis": "x",
           "y": [
            33633.9
           ],
           "yaxis": "y"
          },
          {
           "hovertemplate": "Country=Italy<br>Year=2019<br>gdp=%{x}<br>nni=%{y}<extra></extra>",
           "legendgroup": "Italy",
           "marker": {
            "color": "#00cc96",
            "symbol": "circle"
           },
           "mode": "markers",
           "name": "Italy",
           "orientation": "v",
           "showlegend": true,
           "type": "scatter",
           "x": [
            2775.61
           ],
           "xaxis": "x",
           "y": [
            32774.3
           ],
           "yaxis": "y"
          },
          {
           "hovertemplate": "Country=Japan<br>Year=2019<br>gdp=%{x}<br>nni=%{y}<extra></extra>",
           "legendgroup": "Japan",
           "marker": {
            "color": "#ab63fa",
            "symbol": "circle"
           },
           "mode": "markers",
           "name": "Japan",
           "orientation": "v",
           "showlegend": true,
           "type": "scatter",
           "x": [
            5404.46
           ],
           "xaxis": "x",
           "y": [
            33631.9
           ],
           "yaxis": "y"
          },
          {
           "hovertemplate": "Country=Latvia<br>Year=2019<br>gdp=%{x}<br>nni=%{y}<extra></extra>",
           "legendgroup": "Latvia",
           "marker": {
            "color": "#FFA15A",
            "symbol": "circle"
           },
           "mode": "markers",
           "name": "Latvia",
           "orientation": "v",
           "showlegend": true,
           "type": "scatter",
           "x": [
            63.72
           ],
           "xaxis": "x",
           "y": [
            22861
           ],
           "yaxis": "y"
          },
          {
           "hovertemplate": "Country=Lithuania<br>Year=2019<br>gdp=%{x}<br>nni=%{y}<extra></extra>",
           "legendgroup": "Lithuania",
           "marker": {
            "color": "#19d3f3",
            "symbol": "circle"
           },
           "mode": "markers",
           "name": "Lithuania",
           "orientation": "v",
           "showlegend": true,
           "type": "scatter",
           "x": [
            113.38
           ],
           "xaxis": "x",
           "y": [
            29450.2
           ],
           "yaxis": "y"
          },
          {
           "hovertemplate": "Country=Luxembourg<br>Year=2019<br>gdp=%{x}<br>nni=%{y}<extra></extra>",
           "legendgroup": "Luxembourg",
           "marker": {
            "color": "#FF6692",
            "symbol": "circle"
           },
           "mode": "markers",
           "name": "Luxembourg",
           "orientation": "v",
           "showlegend": true,
           "type": "scatter",
           "x": [
            75.27
           ],
           "xaxis": "x",
           "y": [
            60121.1
           ],
           "yaxis": "y"
          },
          {
           "hovertemplate": "Country=Mexico<br>Year=2019<br>gdp=%{x}<br>nni=%{y}<extra></extra>",
           "legendgroup": "Mexico",
           "marker": {
            "color": "#B6E880",
            "symbol": "circle"
           },
           "mode": "markers",
           "name": "Mexico",
           "orientation": "v",
           "showlegend": true,
           "type": "scatter",
           "x": [
            2638.76
           ],
           "xaxis": "x",
           "y": [
            15659.8
           ],
           "yaxis": "y"
          },
          {
           "hovertemplate": "Country=Netherlands<br>Year=2019<br>gdp=%{x}<br>nni=%{y}<extra></extra>",
           "legendgroup": "Netherlands",
           "marker": {
            "color": "#FF97FF",
            "symbol": "circle"
           },
           "mode": "markers",
           "name": "Netherlands",
           "orientation": "v",
           "showlegend": true,
           "type": "scatter",
           "x": [
            1059.59
           ],
           "xaxis": "x",
           "y": [
            44012.3
           ],
           "yaxis": "y"
          },
          {
           "hovertemplate": "Country=New Zealand<br>Year=2019<br>gdp=%{x}<br>nni=%{y}<extra></extra>",
           "legendgroup": "New Zealand",
           "marker": {
            "color": "#FECB52",
            "symbol": "circle"
           },
           "mode": "markers",
           "name": "New Zealand",
           "orientation": "v",
           "showlegend": true,
           "type": "scatter",
           "x": [
            224.88
           ],
           "xaxis": "x",
           "y": [
            33897
           ],
           "yaxis": "y"
          },
          {
           "hovertemplate": "Country=Norway<br>Year=2019<br>gdp=%{x}<br>nni=%{y}<extra></extra>",
           "legendgroup": "Norway",
           "marker": {
            "color": "#636efa",
            "symbol": "circle"
           },
           "mode": "markers",
           "name": "Norway",
           "orientation": "v",
           "showlegend": true,
           "type": "scatter",
           "x": [
            379.38
           ],
           "xaxis": "x",
           "y": [
            51990.3
           ],
           "yaxis": "y"
          },
          {
           "hovertemplate": "Country=Portugal<br>Year=2019<br>gdp=%{x}<br>nni=%{y}<extra></extra>",
           "legendgroup": "Portugal",
           "marker": {
            "color": "#EF553B",
            "symbol": "circle"
           },
           "mode": "markers",
           "name": "Portugal",
           "orientation": "v",
           "showlegend": true,
           "type": "scatter",
           "x": [
            389.29
           ],
           "xaxis": "x",
           "y": [
            26685
           ],
           "yaxis": "y"
          },
          {
           "hovertemplate": "Country=Slovak Republic<br>Year=2019<br>gdp=%{x}<br>nni=%{y}<extra></extra>",
           "legendgroup": "Slovak Republic",
           "marker": {
            "color": "#00cc96",
            "symbol": "circle"
           },
           "mode": "markers",
           "name": "Slovak Republic",
           "orientation": "v",
           "showlegend": true,
           "type": "scatter",
           "x": [
            185.13
           ],
           "xaxis": "x",
           "y": [
            26562.7
           ],
           "yaxis": "y"
          },
          {
           "hovertemplate": "Country=Slovenia<br>Year=2019<br>gdp=%{x}<br>nni=%{y}<extra></extra>",
           "legendgroup": "Slovenia",
           "marker": {
            "color": "#ab63fa",
            "symbol": "circle"
           },
           "mode": "markers",
           "name": "Slovenia",
           "orientation": "v",
           "showlegend": true,
           "type": "scatter",
           "x": [
            89.27
           ],
           "xaxis": "x",
           "y": [
            29368
           ],
           "yaxis": "y"
          },
          {
           "hovertemplate": "Country=Spain<br>Year=2019<br>gdp=%{x}<br>nni=%{y}<extra></extra>",
           "legendgroup": "Spain",
           "marker": {
            "color": "#FFA15A",
            "symbol": "circle"
           },
           "mode": "markers",
           "name": "Spain",
           "orientation": "v",
           "showlegend": true,
           "type": "scatter",
           "x": [
            2061.66
           ],
           "xaxis": "x",
           "y": [
            32268.6
           ],
           "yaxis": "y"
          },
          {
           "hovertemplate": "Country=Sweden<br>Year=2019<br>gdp=%{x}<br>nni=%{y}<extra></extra>",
           "legendgroup": "Sweden",
           "marker": {
            "color": "#19d3f3",
            "symbol": "circle"
           },
           "mode": "markers",
           "name": "Sweden",
           "orientation": "v",
           "showlegend": true,
           "type": "scatter",
           "x": [
            588.26
           ],
           "xaxis": "x",
           "y": [
            43556.7
           ],
           "yaxis": "y"
          },
          {
           "hovertemplate": "Country=Switzerland<br>Year=2019<br>gdp=%{x}<br>nni=%{y}<extra></extra>",
           "legendgroup": "Switzerland",
           "marker": {
            "color": "#FF6692",
            "symbol": "circle"
           },
           "mode": "markers",
           "name": "Switzerland",
           "orientation": "v",
           "showlegend": true,
           "type": "scatter",
           "x": [
            632.27
           ],
           "xaxis": "x",
           "y": [
            48479.4
           ],
           "yaxis": "y"
          },
          {
           "hovertemplate": "Country=United Kingdom<br>Year=2019<br>gdp=%{x}<br>nni=%{y}<extra></extra>",
           "legendgroup": "United Kingdom",
           "marker": {
            "color": "#B6E880",
            "symbol": "circle"
           },
           "mode": "markers",
           "name": "United Kingdom",
           "orientation": "v",
           "showlegend": true,
           "type": "scatter",
           "x": [
            3335.88
           ],
           "xaxis": "x",
           "y": [
            37887.3
           ],
           "yaxis": "y"
          },
          {
           "hovertemplate": "Country=Euro area<br>Year=2019<br>gdp=%{x}<br>nni=%{y}<extra></extra>",
           "legendgroup": "Euro area",
           "marker": {
            "color": "#FF97FF",
            "symbol": "circle"
           },
           "mode": "markers",
           "name": "Euro area",
           "orientation": "v",
           "showlegend": true,
           "type": "scatter",
           "x": [
            17490.2
           ],
           "xaxis": "x",
           "y": [
            36324.9
           ],
           "yaxis": "y"
          },
          {
           "hovertemplate": "Country=Russia<br>Year=2019<br>gdp=%{x}<br>nni=%{y}<extra></extra>",
           "legendgroup": "Russia",
           "marker": {
            "color": "#FECB52",
            "symbol": "circle"
           },
           "mode": "markers",
           "name": "Russia",
           "orientation": "v",
           "showlegend": true,
           "type": "scatter",
           "x": [
            4398.12
           ],
           "xaxis": "x",
           "y": [
            21702.1
           ],
           "yaxis": "y"
          },
          {
           "hovertemplate": "Country=South Africa<br>Year=2019<br>gdp=%{x}<br>nni=%{y}<extra></extra>",
           "legendgroup": "South Africa",
           "marker": {
            "color": "#636efa",
            "symbol": "circle"
           },
           "mode": "markers",
           "name": "South Africa",
           "orientation": "v",
           "showlegend": true,
           "type": "scatter",
           "x": [
            838.68
           ],
           "xaxis": "x",
           "y": [
            11866.6
           ],
           "yaxis": "y"
          },
          {
           "hovertemplate": "Country=Greece<br>Year=2019<br>gdp=%{x}<br>nni=%{y}<extra></extra>",
           "legendgroup": "Greece",
           "marker": {
            "color": "#EF553B",
            "symbol": "circle"
           },
           "mode": "markers",
           "name": "Greece",
           "orientation": "v",
           "showlegend": true,
           "type": "scatter",
           "x": [
            338.92
           ],
           "xaxis": "x",
           "y": [
            23524.1
           ],
           "yaxis": "y"
          },
          {
           "hovertemplate": "Country=Korea<br>Year=2019<br>gdp=%{x}<br>nni=%{y}<extra></extra>",
           "legendgroup": "Korea",
           "marker": {
            "color": "#00cc96",
            "symbol": "circle"
           },
           "mode": "markers",
           "name": "Korea",
           "orientation": "v",
           "showlegend": true,
           "type": "scatter",
           "x": [
            2270.67
           ],
           "xaxis": "x",
           "y": [
            32994.1
           ],
           "yaxis": "y"
          }
         ],
         "name": "2019"
        },
        {
         "data": [
          {
           "hovertemplate": "Country=Australia<br>Year=2020<br>gdp=%{x}<br>nni=%{y}<extra></extra>",
           "legendgroup": "Australia",
           "marker": {
            "color": "#636efa",
            "symbol": "circle"
           },
           "mode": "markers",
           "name": "Australia",
           "orientation": "v",
           "showlegend": true,
           "type": "scatter",
           "x": [
            1459.58
           ],
           "xaxis": "x",
           "y": [
            42019.3
           ],
           "yaxis": "y"
          },
          {
           "hovertemplate": "Country=Austria<br>Year=2020<br>gdp=%{x}<br>nni=%{y}<extra></extra>",
           "legendgroup": "Austria",
           "marker": {
            "color": "#EF553B",
            "symbol": "circle"
           },
           "mode": "markers",
           "name": "Austria",
           "orientation": "v",
           "showlegend": true,
           "type": "scatter",
           "x": [
            522.62
           ],
           "xaxis": "x",
           "y": [
            39544.9
           ],
           "yaxis": "y"
          },
          {
           "hovertemplate": "Country=Chile<br>Year=2020<br>gdp=%{x}<br>nni=%{y}<extra></extra>",
           "legendgroup": "Chile",
           "marker": {
            "color": "#00cc96",
            "symbol": "circle"
           },
           "mode": "markers",
           "name": "Chile",
           "orientation": "v",
           "showlegend": true,
           "type": "scatter",
           "x": [
            491.48
           ],
           "xaxis": "x",
           "y": [
            20802
           ],
           "yaxis": "y"
          },
          {
           "hovertemplate": "Country=Czechia<br>Year=2020<br>gdp=%{x}<br>nni=%{y}<extra></extra>",
           "legendgroup": "Czechia",
           "marker": {
            "color": "#ab63fa",
            "symbol": "circle"
           },
           "mode": "markers",
           "name": "Czechia",
           "orientation": "v",
           "showlegend": true,
           "type": "scatter",
           "x": [
            469.88
           ],
           "xaxis": "x",
           "y": [
            26718.2
           ],
           "yaxis": "y"
          },
          {
           "hovertemplate": "Country=Denmark<br>Year=2020<br>gdp=%{x}<br>nni=%{y}<extra></extra>",
           "legendgroup": "Denmark",
           "marker": {
            "color": "#FFA15A",
            "symbol": "circle"
           },
           "mode": "markers",
           "name": "Denmark",
           "orientation": "v",
           "showlegend": true,
           "type": "scatter",
           "x": [
            364.63
           ],
           "xaxis": "x",
           "y": [
            44441.8
           ],
           "yaxis": "y"
          },
          {
           "hovertemplate": "Country=Estonia<br>Year=2020<br>gdp=%{x}<br>nni=%{y}<extra></extra>",
           "legendgroup": "Estonia",
           "marker": {
            "color": "#19d3f3",
            "symbol": "circle"
           },
           "mode": "markers",
           "name": "Estonia",
           "orientation": "v",
           "showlegend": true,
           "type": "scatter",
           "x": [
            53.24
           ],
           "xaxis": "x",
           "y": [
            28078.4
           ],
           "yaxis": "y"
          },
          {
           "hovertemplate": "Country=Finland<br>Year=2020<br>gdp=%{x}<br>nni=%{y}<extra></extra>",
           "legendgroup": "Finland",
           "marker": {
            "color": "#FF6692",
            "symbol": "circle"
           },
           "mode": "markers",
           "name": "Finland",
           "orientation": "v",
           "showlegend": true,
           "type": "scatter",
           "x": [
            296.76
           ],
           "xaxis": "x",
           "y": [
            36836.8
           ],
           "yaxis": "y"
          },
          {
           "hovertemplate": "Country=France<br>Year=2020<br>gdp=%{x}<br>nni=%{y}<extra></extra>",
           "legendgroup": "France",
           "marker": {
            "color": "#B6E880",
            "symbol": "circle"
           },
           "mode": "markers",
           "name": "France",
           "orientation": "v",
           "showlegend": true,
           "type": "scatter",
           "x": [
            3344.39
           ],
           "xaxis": "x",
           "y": [
            32071.6
           ],
           "yaxis": "y"
          },
          {
           "hovertemplate": "Country=Germany<br>Year=2020<br>gdp=%{x}<br>nni=%{y}<extra></extra>",
           "legendgroup": "Germany",
           "marker": {
            "color": "#FF97FF",
            "symbol": "circle"
           },
           "mode": "markers",
           "name": "Germany",
           "orientation": "v",
           "showlegend": true,
           "type": "scatter",
           "x": [
            4815.44
           ],
           "xaxis": "x",
           "y": [
            40497.2
           ],
           "yaxis": "y"
          },
          {
           "hovertemplate": "Country=Hungary<br>Year=2020<br>gdp=%{x}<br>nni=%{y}<extra></extra>",
           "legendgroup": "Hungary",
           "marker": {
            "color": "#FECB52",
            "symbol": "circle"
           },
           "mode": "markers",
           "name": "Hungary",
           "orientation": "v",
           "showlegend": true,
           "type": "scatter",
           "x": [
            341.41
           ],
           "xaxis": "x",
           "y": [
            24528
           ],
           "yaxis": "y"
          },
          {
           "hovertemplate": "Country=Ireland<br>Year=2020<br>gdp=%{x}<br>nni=%{y}<extra></extra>",
           "legendgroup": "Ireland",
           "marker": {
            "color": "#636efa",
            "symbol": "circle"
           },
           "mode": "markers",
           "name": "Ireland",
           "orientation": "v",
           "showlegend": true,
           "type": "scatter",
           "x": [
            483.91
           ],
           "xaxis": "x",
           "y": [
            41107.8
           ],
           "yaxis": "y"
          },
          {
           "hovertemplate": "Country=Israel<br>Year=2020<br>gdp=%{x}<br>nni=%{y}<extra></extra>",
           "legendgroup": "Israel",
           "marker": {
            "color": "#EF553B",
            "symbol": "circle"
           },
           "mode": "markers",
           "name": "Israel",
           "orientation": "v",
           "showlegend": true,
           "type": "scatter",
           "x": [
            378.29
           ],
           "xaxis": "x",
           "y": [
            32317.5
           ],
           "yaxis": "y"
          },
          {
           "hovertemplate": "Country=Italy<br>Year=2020<br>gdp=%{x}<br>nni=%{y}<extra></extra>",
           "legendgroup": "Italy",
           "marker": {
            "color": "#00cc96",
            "symbol": "circle"
           },
           "mode": "markers",
           "name": "Italy",
           "orientation": "v",
           "showlegend": true,
           "type": "scatter",
           "x": [
            2627.33
           ],
           "xaxis": "x",
           "y": [
            29865.3
           ],
           "yaxis": "y"
          },
          {
           "hovertemplate": "Country=Japan<br>Year=2020<br>gdp=%{x}<br>nni=%{y}<extra></extra>",
           "legendgroup": "Japan",
           "marker": {
            "color": "#ab63fa",
            "symbol": "circle"
           },
           "mode": "markers",
           "name": "Japan",
           "orientation": "v",
           "showlegend": true,
           "type": "scatter",
           "x": [
            5358.32
           ],
           "xaxis": "x",
           "y": [
            32126.7
           ],
           "yaxis": "y"
          },
          {
           "hovertemplate": "Country=Latvia<br>Year=2020<br>gdp=%{x}<br>nni=%{y}<extra></extra>",
           "legendgroup": "Latvia",
           "marker": {
            "color": "#FFA15A",
            "symbol": "circle"
           },
           "mode": "markers",
           "name": "Latvia",
           "orientation": "v",
           "showlegend": true,
           "type": "scatter",
           "x": [
            64.11
           ],
           "xaxis": "x",
           "y": [
            22593
           ],
           "yaxis": "y"
          },
          {
           "hovertemplate": "Country=Lithuania<br>Year=2020<br>gdp=%{x}<br>nni=%{y}<extra></extra>",
           "legendgroup": "Lithuania",
           "marker": {
            "color": "#19d3f3",
            "symbol": "circle"
           },
           "mode": "markers",
           "name": "Lithuania",
           "orientation": "v",
           "showlegend": true,
           "type": "scatter",
           "x": [
            115.06
           ],
           "xaxis": "x",
           "y": [
            29690
           ],
           "yaxis": "y"
          },
          {
           "hovertemplate": "Country=Luxembourg<br>Year=2020<br>gdp=%{x}<br>nni=%{y}<extra></extra>",
           "legendgroup": "Luxembourg",
           "marker": {
            "color": "#FF6692",
            "symbol": "circle"
           },
           "mode": "markers",
           "name": "Luxembourg",
           "orientation": "v",
           "showlegend": true,
           "type": "scatter",
           "x": [
            76.98
           ],
           "xaxis": "x",
           "y": [
            61441.7
           ],
           "yaxis": "y"
          },
          {
           "hovertemplate": "Country=Mexico<br>Year=2020<br>gdp=%{x}<br>nni=%{y}<extra></extra>",
           "legendgroup": "Mexico",
           "marker": {
            "color": "#B6E880",
            "symbol": "circle"
           },
           "mode": "markers",
           "name": "Mexico",
           "orientation": "v",
           "showlegend": true,
           "type": "scatter",
           "x": [
            2453.58
           ],
           "xaxis": "x",
           "y": [
            13564.4
           ],
           "yaxis": "y"
          },
          {
           "hovertemplate": "Country=Netherlands<br>Year=2020<br>gdp=%{x}<br>nni=%{y}<extra></extra>",
           "legendgroup": "Netherlands",
           "marker": {
            "color": "#FF97FF",
            "symbol": "circle"
           },
           "mode": "markers",
           "name": "Netherlands",
           "orientation": "v",
           "showlegend": true,
           "type": "scatter",
           "x": [
            1065.12
           ],
           "xaxis": "x",
           "y": [
            40852
           ],
           "yaxis": "y"
          },
          {
           "hovertemplate": "Country=New Zealand<br>Year=2020<br>gdp=%{x}<br>nni=%{y}<extra></extra>",
           "legendgroup": "New Zealand",
           "marker": {
            "color": "#FECB52",
            "symbol": "circle"
           },
           "mode": "markers",
           "name": "New Zealand",
           "orientation": "v",
           "showlegend": true,
           "type": "scatter",
           "x": [
            230.5
           ],
           "xaxis": "x",
           "y": [
            33381.9
           ],
           "yaxis": "y"
          },
          {
           "hovertemplate": "Country=Norway<br>Year=2020<br>gdp=%{x}<br>nni=%{y}<extra></extra>",
           "legendgroup": "Norway",
           "marker": {
            "color": "#636efa",
            "symbol": "circle"
           },
           "mode": "markers",
           "name": "Norway",
           "orientation": "v",
           "showlegend": true,
           "type": "scatter",
           "x": [
            361.02
           ],
           "xaxis": "x",
           "y": [
            47423.7
           ],
           "yaxis": "y"
          },
          {
           "hovertemplate": "Country=Portugal<br>Year=2020<br>gdp=%{x}<br>nni=%{y}<extra></extra>",
           "legendgroup": "Portugal",
           "marker": {
            "color": "#EF553B",
            "symbol": "circle"
           },
           "mode": "markers",
           "name": "Portugal",
           "orientation": "v",
           "showlegend": true,
           "type": "scatter",
           "x": [
            369.41
           ],
           "xaxis": "x",
           "y": [
            24296.5
           ],
           "yaxis": "y"
          },
          {
           "hovertemplate": "Country=Slovak Republic<br>Year=2020<br>gdp=%{x}<br>nni=%{y}<extra></extra>",
           "legendgroup": "Slovak Republic",
           "marker": {
            "color": "#00cc96",
            "symbol": "circle"
           },
           "mode": "markers",
           "name": "Slovak Republic",
           "orientation": "v",
           "showlegend": true,
           "type": "scatter",
           "x": [
            191.06
           ],
           "xaxis": "x",
           "y": [
            25799.4
           ],
           "yaxis": "y"
          },
          {
           "hovertemplate": "Country=Slovenia<br>Year=2020<br>gdp=%{x}<br>nni=%{y}<extra></extra>",
           "legendgroup": "Slovenia",
           "marker": {
            "color": "#ab63fa",
            "symbol": "circle"
           },
           "mode": "markers",
           "name": "Slovenia",
           "orientation": "v",
           "showlegend": true,
           "type": "scatter",
           "x": [
            88.39
           ],
           "xaxis": "x",
           "y": [
            27962.8
           ],
           "yaxis": "y"
          },
          {
           "hovertemplate": "Country=Spain<br>Year=2020<br>gdp=%{x}<br>nni=%{y}<extra></extra>",
           "legendgroup": "Spain",
           "marker": {
            "color": "#FFA15A",
            "symbol": "circle"
           },
           "mode": "markers",
           "name": "Spain",
           "orientation": "v",
           "showlegend": true,
           "type": "scatter",
           "x": [
            1845.71
           ],
           "xaxis": "x",
           "y": [
            27984.6
           ],
           "yaxis": "y"
          },
          {
           "hovertemplate": "Country=Sweden<br>Year=2020<br>gdp=%{x}<br>nni=%{y}<extra></extra>",
           "legendgroup": "Sweden",
           "marker": {
            "color": "#19d3f3",
            "symbol": "circle"
           },
           "mode": "markers",
           "name": "Sweden",
           "orientation": "v",
           "showlegend": true,
           "type": "scatter",
           "x": [
            597.29
           ],
           "xaxis": "x",
           "y": [
            42408.4
           ],
           "yaxis": "y"
          },
          {
           "hovertemplate": "Country=Switzerland<br>Year=2020<br>gdp=%{x}<br>nni=%{y}<extra></extra>",
           "legendgroup": "Switzerland",
           "marker": {
            "color": "#FF6692",
            "symbol": "circle"
           },
           "mode": "markers",
           "name": "Switzerland",
           "orientation": "v",
           "showlegend": true,
           "type": "scatter",
           "x": [
            630.57
           ],
           "xaxis": "x",
           "y": [
            45526.5
           ],
           "yaxis": "y"
          },
          {
           "hovertemplate": "Country=United Kingdom<br>Year=2020<br>gdp=%{x}<br>nni=%{y}<extra></extra>",
           "legendgroup": "United Kingdom",
           "marker": {
            "color": "#B6E880",
            "symbol": "circle"
           },
           "mode": "markers",
           "name": "United Kingdom",
           "orientation": "v",
           "showlegend": true,
           "type": "scatter",
           "x": [
            3220.3
           ],
           "xaxis": "x",
           "y": [
            32597.8
           ],
           "yaxis": "y"
          },
          {
           "hovertemplate": "Country=Euro area<br>Year=2020<br>gdp=%{x}<br>nni=%{y}<extra></extra>",
           "legendgroup": "Euro area",
           "marker": {
            "color": "#FF97FF",
            "symbol": "circle"
           },
           "mode": "markers",
           "name": "Euro area",
           "orientation": "v",
           "showlegend": true,
           "type": "scatter",
           "x": [
            16976.27
           ],
           "xaxis": "x",
           "y": [
            33367.2
           ],
           "yaxis": "y"
          },
          {
           "hovertemplate": "Country=South Africa<br>Year=2020<br>gdp=%{x}<br>nni=%{y}<extra></extra>",
           "legendgroup": "South Africa",
           "marker": {
            "color": "#636efa",
            "symbol": "circle"
           },
           "mode": "markers",
           "name": "South Africa",
           "orientation": "v",
           "showlegend": true,
           "type": "scatter",
           "x": [
            798.96
           ],
           "xaxis": "x",
           "y": [
            11271.7
           ],
           "yaxis": "y"
          },
          {
           "hovertemplate": "Country=Greece<br>Year=2020<br>gdp=%{x}<br>nni=%{y}<extra></extra>",
           "legendgroup": "Greece",
           "marker": {
            "color": "#EF553B",
            "symbol": "circle"
           },
           "mode": "markers",
           "name": "Greece",
           "orientation": "v",
           "showlegend": true,
           "type": "scatter",
           "x": [
            311.2
           ],
           "xaxis": "x",
           "y": [
            21213.3
           ],
           "yaxis": "y"
          },
          {
           "hovertemplate": "Country=Korea<br>Year=2020<br>gdp=%{x}<br>nni=%{y}<extra></extra>",
           "legendgroup": "Korea",
           "marker": {
            "color": "#00cc96",
            "symbol": "circle"
           },
           "mode": "markers",
           "name": "Korea",
           "orientation": "v",
           "showlegend": true,
           "type": "scatter",
           "x": [
            2340.03
           ],
           "xaxis": "x",
           "y": [
            32539.4
           ],
           "yaxis": "y"
          }
         ],
         "name": "2020"
        },
        {
         "data": [
          {
           "hovertemplate": "Country=Australia<br>Year=2021<br>gdp=%{x}<br>nni=%{y}<extra></extra>",
           "legendgroup": "Australia",
           "marker": {
            "color": "#636efa",
            "symbol": "circle"
           },
           "mode": "markers",
           "name": "Australia",
           "orientation": "v",
           "showlegend": true,
           "type": "scatter",
           "x": [
            1646.96
           ],
           "xaxis": "x",
           "y": [
            43714.8
           ],
           "yaxis": "y"
          },
          {
           "hovertemplate": "Country=Austria<br>Year=2021<br>gdp=%{x}<br>nni=%{y}<extra></extra>",
           "legendgroup": "Austria",
           "marker": {
            "color": "#EF553B",
            "symbol": "circle"
           },
           "mode": "markers",
           "name": "Austria",
           "orientation": "v",
           "showlegend": true,
           "type": "scatter",
           "x": [
            567.99
           ],
           "xaxis": "x",
           "y": [
            41230.2
           ],
           "yaxis": "y"
          },
          {
           "hovertemplate": "Country=Chile<br>Year=2021<br>gdp=%{x}<br>nni=%{y}<extra></extra>",
           "legendgroup": "Chile",
           "marker": {
            "color": "#00cc96",
            "symbol": "circle"
           },
           "mode": "markers",
           "name": "Chile",
           "orientation": "v",
           "showlegend": true,
           "type": "scatter",
           "x": [
            568.19
           ],
           "xaxis": "x",
           "y": [
            23827.8
           ],
           "yaxis": "y"
          },
          {
           "hovertemplate": "Country=Czechia<br>Year=2021<br>gdp=%{x}<br>nni=%{y}<extra></extra>",
           "legendgroup": "Czechia",
           "marker": {
            "color": "#ab63fa",
            "symbol": "circle"
           },
           "mode": "markers",
           "name": "Czechia",
           "orientation": "v",
           "showlegend": true,
           "type": "scatter",
           "x": [
            508.67
           ],
           "xaxis": "x",
           "y": [
            28069.6
           ],
           "yaxis": "y"
          },
          {
           "hovertemplate": "Country=Denmark<br>Year=2021<br>gdp=%{x}<br>nni=%{y}<extra></extra>",
           "legendgroup": "Denmark",
           "marker": {
            "color": "#FFA15A",
            "symbol": "circle"
           },
           "mode": "markers",
           "name": "Denmark",
           "orientation": "v",
           "showlegend": true,
           "type": "scatter",
           "x": [
            409.26
           ],
           "xaxis": "x",
           "y": [
            48406.6
           ],
           "yaxis": "y"
          },
          {
           "hovertemplate": "Country=Estonia<br>Year=2021<br>gdp=%{x}<br>nni=%{y}<extra></extra>",
           "legendgroup": "Estonia",
           "marker": {
            "color": "#19d3f3",
            "symbol": "circle"
           },
           "mode": "markers",
           "name": "Estonia",
           "orientation": "v",
           "showlegend": true,
           "type": "scatter",
           "x": [
            59.43
           ],
           "xaxis": "x",
           "y": [
            30945.8
           ],
           "yaxis": "y"
          },
          {
           "hovertemplate": "Country=Finland<br>Year=2021<br>gdp=%{x}<br>nni=%{y}<extra></extra>",
           "legendgroup": "Finland",
           "marker": {
            "color": "#FF6692",
            "symbol": "circle"
           },
           "mode": "markers",
           "name": "Finland",
           "orientation": "v",
           "showlegend": true,
           "type": "scatter",
           "x": [
            320.21
           ],
           "xaxis": "x",
           "y": [
            37962.3
           ],
           "yaxis": "y"
          },
          {
           "hovertemplate": "Country=France<br>Year=2021<br>gdp=%{x}<br>nni=%{y}<extra></extra>",
           "legendgroup": "France",
           "marker": {
            "color": "#B6E880",
            "symbol": "circle"
           },
           "mode": "markers",
           "name": "France",
           "orientation": "v",
           "showlegend": true,
           "type": "scatter",
           "x": [
            3648.08
           ],
           "xaxis": "x",
           "y": [
            34777.6
           ],
           "yaxis": "y"
          },
          {
           "hovertemplate": "Country=Germany<br>Year=2021<br>gdp=%{x}<br>nni=%{y}<extra></extra>",
           "legendgroup": "Germany",
           "marker": {
            "color": "#FF97FF",
            "symbol": "circle"
           },
           "mode": "markers",
           "name": "Germany",
           "orientation": "v",
           "showlegend": true,
           "type": "scatter",
           "x": [
            5153.14
           ],
           "xaxis": "x",
           "y": [
            41764.8
           ],
           "yaxis": "y"
          },
          {
           "hovertemplate": "Country=Hungary<br>Year=2021<br>gdp=%{x}<br>nni=%{y}<extra></extra>",
           "legendgroup": "Hungary",
           "marker": {
            "color": "#FECB52",
            "symbol": "circle"
           },
           "mode": "markers",
           "name": "Hungary",
           "orientation": "v",
           "showlegend": true,
           "type": "scatter",
           "x": [
            375.23
           ],
           "xaxis": "x",
           "y": [
            25452.5
           ],
           "yaxis": "y"
          },
          {
           "hovertemplate": "Country=Ireland<br>Year=2021<br>gdp=%{x}<br>nni=%{y}<extra></extra>",
           "legendgroup": "Ireland",
           "marker": {
            "color": "#636efa",
            "symbol": "circle"
           },
           "mode": "markers",
           "name": "Ireland",
           "orientation": "v",
           "showlegend": true,
           "type": "scatter",
           "x": [
            574.39
           ],
           "xaxis": "x",
           "y": [
            47140.7
           ],
           "yaxis": "y"
          },
          {
           "hovertemplate": "Country=Israel<br>Year=2021<br>gdp=%{x}<br>nni=%{y}<extra></extra>",
           "legendgroup": "Israel",
           "marker": {
            "color": "#EF553B",
            "symbol": "circle"
           },
           "mode": "markers",
           "name": "Israel",
           "orientation": "v",
           "showlegend": true,
           "type": "scatter",
           "x": [
            433.32
           ],
           "xaxis": "x",
           "y": [
            34995.2
           ],
           "yaxis": "y"
          },
          {
           "hovertemplate": "Country=Italy<br>Year=2021<br>gdp=%{x}<br>nni=%{y}<extra></extra>",
           "legendgroup": "Italy",
           "marker": {
            "color": "#00cc96",
            "symbol": "circle"
           },
           "mode": "markers",
           "name": "Italy",
           "orientation": "v",
           "showlegend": true,
           "type": "scatter",
           "x": [
            2950.84
           ],
           "xaxis": "x",
           "y": [
            32465.8
           ],
           "yaxis": "y"
          },
          {
           "hovertemplate": "Country=Japan<br>Year=2021<br>gdp=%{x}<br>nni=%{y}<extra></extra>",
           "legendgroup": "Japan",
           "marker": {
            "color": "#ab63fa",
            "symbol": "circle"
           },
           "mode": "markers",
           "name": "Japan",
           "orientation": "v",
           "showlegend": true,
           "type": "scatter",
           "x": [
            5599.03
           ],
           "xaxis": "x",
           "y": [
            33082.4
           ],
           "yaxis": "y"
          },
          {
           "hovertemplate": "Country=Latvia<br>Year=2021<br>gdp=%{x}<br>nni=%{y}<extra></extra>",
           "legendgroup": "Latvia",
           "marker": {
            "color": "#FFA15A",
            "symbol": "circle"
           },
           "mode": "markers",
           "name": "Latvia",
           "orientation": "v",
           "showlegend": true,
           "type": "scatter",
           "x": [
            69.31
           ],
           "xaxis": "x",
           "y": [
            23886.2
           ],
           "yaxis": "y"
          },
          {
           "hovertemplate": "Country=Lithuania<br>Year=2021<br>gdp=%{x}<br>nni=%{y}<extra></extra>",
           "legendgroup": "Lithuania",
           "marker": {
            "color": "#19d3f3",
            "symbol": "circle"
           },
           "mode": "markers",
           "name": "Lithuania",
           "orientation": "v",
           "showlegend": true,
           "type": "scatter",
           "x": [
            129.99
           ],
           "xaxis": "x",
           "y": [
            29903.7
           ],
           "yaxis": "y"
          },
          {
           "hovertemplate": "Country=Luxembourg<br>Year=2021<br>gdp=%{x}<br>nni=%{y}<extra></extra>",
           "legendgroup": "Luxembourg",
           "marker": {
            "color": "#FF6692",
            "symbol": "circle"
           },
           "mode": "markers",
           "name": "Luxembourg",
           "orientation": "v",
           "showlegend": true,
           "type": "scatter",
           "x": [
            88.3
           ],
           "xaxis": "x",
           "y": [
            64810.6
           ],
           "yaxis": "y"
          },
          {
           "hovertemplate": "Country=Mexico<br>Year=2021<br>gdp=%{x}<br>nni=%{y}<extra></extra>",
           "legendgroup": "Mexico",
           "marker": {
            "color": "#B6E880",
            "symbol": "circle"
           },
           "mode": "markers",
           "name": "Mexico",
           "orientation": "v",
           "showlegend": true,
           "type": "scatter",
           "x": [
            2677.52
           ],
           "xaxis": "x",
           "y": [
            14283.3
           ],
           "yaxis": "y"
          },
          {
           "hovertemplate": "Country=Netherlands<br>Year=2021<br>gdp=%{x}<br>nni=%{y}<extra></extra>",
           "legendgroup": "Netherlands",
           "marker": {
            "color": "#FF97FF",
            "symbol": "circle"
           },
           "mode": "markers",
           "name": "Netherlands",
           "orientation": "v",
           "showlegend": true,
           "type": "scatter",
           "x": [
            1186.87
           ],
           "xaxis": "x",
           "y": [
            46085.2
           ],
           "yaxis": "y"
          },
          {
           "hovertemplate": "Country=New Zealand<br>Year=2021<br>gdp=%{x}<br>nni=%{y}<extra></extra>",
           "legendgroup": "New Zealand",
           "marker": {
            "color": "#FECB52",
            "symbol": "circle"
           },
           "mode": "markers",
           "name": "New Zealand",
           "orientation": "v",
           "showlegend": true,
           "type": "scatter",
           "x": [
            246.33
           ],
           "xaxis": "x",
           "y": [
            34759.7
           ],
           "yaxis": "y"
          },
          {
           "hovertemplate": "Country=Norway<br>Year=2021<br>gdp=%{x}<br>nni=%{y}<extra></extra>",
           "legendgroup": "Norway",
           "marker": {
            "color": "#636efa",
            "symbol": "circle"
           },
           "mode": "markers",
           "name": "Norway",
           "orientation": "v",
           "showlegend": true,
           "type": "scatter",
           "x": [
            482.47
           ],
           "xaxis": "x",
           "y": [
            56298.1
           ],
           "yaxis": "y"
          },
          {
           "hovertemplate": "Country=Portugal<br>Year=2021<br>gdp=%{x}<br>nni=%{y}<extra></extra>",
           "legendgroup": "Portugal",
           "marker": {
            "color": "#EF553B",
            "symbol": "circle"
           },
           "mode": "markers",
           "name": "Portugal",
           "orientation": "v",
           "showlegend": true,
           "type": "scatter",
           "x": [
            401.86
           ],
           "xaxis": "x",
           "y": [
            25776.3
           ],
           "yaxis": "y"
          },
          {
           "hovertemplate": "Country=Slovak Republic<br>Year=2021<br>gdp=%{x}<br>nni=%{y}<extra></extra>",
           "legendgroup": "Slovak Republic",
           "marker": {
            "color": "#00cc96",
            "symbol": "circle"
           },
           "mode": "markers",
           "name": "Slovak Republic",
           "orientation": "v",
           "showlegend": true,
           "type": "scatter",
           "x": [
            205.88
           ],
           "xaxis": "x",
           "y": [
            26402.2
           ],
           "yaxis": "y"
          },
          {
           "hovertemplate": "Country=Slovenia<br>Year=2021<br>gdp=%{x}<br>nni=%{y}<extra></extra>",
           "legendgroup": "Slovenia",
           "marker": {
            "color": "#ab63fa",
            "symbol": "circle"
           },
           "mode": "markers",
           "name": "Slovenia",
           "orientation": "v",
           "showlegend": true,
           "type": "scatter",
           "x": [
            98.03
           ],
           "xaxis": "x",
           "y": [
            29646.1
           ],
           "yaxis": "y"
          },
          {
           "hovertemplate": "Country=Spain<br>Year=2021<br>gdp=%{x}<br>nni=%{y}<extra></extra>",
           "legendgroup": "Spain",
           "marker": {
            "color": "#FFA15A",
            "symbol": "circle"
           },
           "mode": "markers",
           "name": "Spain",
           "orientation": "v",
           "showlegend": true,
           "type": "scatter",
           "x": [
            2068.3
           ],
           "xaxis": "x",
           "y": [
            30103.2
           ],
           "yaxis": "y"
          },
          {
           "hovertemplate": "Country=Sweden<br>Year=2021<br>gdp=%{x}<br>nni=%{y}<extra></extra>",
           "legendgroup": "Sweden",
           "marker": {
            "color": "#19d3f3",
            "symbol": "circle"
           },
           "mode": "markers",
           "name": "Sweden",
           "orientation": "v",
           "showlegend": true,
           "type": "scatter",
           "x": [
            660.1
           ],
           "xaxis": "x",
           "y": [
            45188.5
           ],
           "yaxis": "y"
          },
          {
           "hovertemplate": "Country=Switzerland<br>Year=2021<br>gdp=%{x}<br>nni=%{y}<extra></extra>",
           "legendgroup": "Switzerland",
           "marker": {
            "color": "#FF6692",
            "symbol": "circle"
           },
           "mode": "markers",
           "name": "Switzerland",
           "orientation": "v",
           "showlegend": true,
           "type": "scatter",
           "x": [
            710.32
           ],
           "xaxis": "x",
           "y": [
            49948.5
           ],
           "yaxis": "y"
          },
          {
           "hovertemplate": "Country=United Kingdom<br>Year=2021<br>gdp=%{x}<br>nni=%{y}<extra></extra>",
           "legendgroup": "United Kingdom",
           "marker": {
            "color": "#B6E880",
            "symbol": "circle"
           },
           "mode": "markers",
           "name": "United Kingdom",
           "orientation": "v",
           "showlegend": true,
           "type": "scatter",
           "x": [
            3541.78
           ],
           "xaxis": "x",
           "y": [
            36818
           ],
           "yaxis": "y"
          },
          {
           "hovertemplate": "Country=Euro area<br>Year=2021<br>gdp=%{x}<br>nni=%{y}<extra></extra>",
           "legendgroup": "Euro area",
           "marker": {
            "color": "#FF97FF",
            "symbol": "circle"
           },
           "mode": "markers",
           "name": "Euro area",
           "orientation": "v",
           "showlegend": true,
           "type": "scatter",
           "x": [
            18662.55
           ],
           "xaxis": "x",
           "y": [
            35164.4
           ],
           "yaxis": "y"
          },
          {
           "hovertemplate": "Country=South Africa<br>Year=2021<br>gdp=%{x}<br>nni=%{y}<extra></extra>",
           "legendgroup": "South Africa",
           "marker": {
            "color": "#636efa",
            "symbol": "circle"
           },
           "mode": "markers",
           "name": "South Africa",
           "orientation": "v",
           "showlegend": true,
           "type": "scatter",
           "x": [
            874.12
           ],
           "xaxis": "x",
           "y": [
            11929.1
           ],
           "yaxis": "y"
          },
          {
           "hovertemplate": "Country=Greece<br>Year=2021<br>gdp=%{x}<br>nni=%{y}<extra></extra>",
           "legendgroup": "Greece",
           "marker": {
            "color": "#EF553B",
            "symbol": "circle"
           },
           "mode": "markers",
           "name": "Greece",
           "orientation": "v",
           "showlegend": true,
           "type": "scatter",
           "x": [
            348.98
           ],
           "xaxis": "x",
           "y": [
            23089.3
           ],
           "yaxis": "y"
          },
          {
           "hovertemplate": "Country=Korea<br>Year=2021<br>gdp=%{x}<br>nni=%{y}<extra></extra>",
           "legendgroup": "Korea",
           "marker": {
            "color": "#00cc96",
            "symbol": "circle"
           },
           "mode": "markers",
           "name": "Korea",
           "orientation": "v",
           "showlegend": true,
           "type": "scatter",
           "x": [
            2514.52
           ],
           "xaxis": "x",
           "y": [
            33765
           ],
           "yaxis": "y"
          }
         ],
         "name": "2021"
        },
        {
         "data": [
          {
           "hovertemplate": "Country=Australia<br>Year=2022<br>gdp=%{x}<br>nni=%{y}<extra></extra>",
           "legendgroup": "Australia",
           "marker": {
            "color": "#636efa",
            "symbol": "circle"
           },
           "mode": "markers",
           "name": "Australia",
           "orientation": "v",
           "showlegend": true,
           "type": "scatter",
           "x": [
            1866.63
           ],
           "xaxis": "x",
           "y": [
            44173.5
           ],
           "yaxis": "y"
          },
          {
           "hovertemplate": "Country=Austria<br>Year=2022<br>gdp=%{x}<br>nni=%{y}<extra></extra>",
           "legendgroup": "Austria",
           "marker": {
            "color": "#EF553B",
            "symbol": "circle"
           },
           "mode": "markers",
           "name": "Austria",
           "orientation": "v",
           "showlegend": true,
           "type": "scatter",
           "x": [
            641.75
           ],
           "xaxis": "x",
           "y": [
            40987.5
           ],
           "yaxis": "y"
          },
          {
           "hovertemplate": "Country=Chile<br>Year=2022<br>gdp=%{x}<br>nni=%{y}<extra></extra>",
           "legendgroup": "Chile",
           "marker": {
            "color": "#00cc96",
            "symbol": "circle"
           },
           "mode": "markers",
           "name": "Chile",
           "orientation": "v",
           "showlegend": true,
           "type": "scatter",
           "x": [
            616.27
           ],
           "xaxis": "x",
           "y": [
            23584.4
           ],
           "yaxis": "y"
          },
          {
           "hovertemplate": "Country=Czechia<br>Year=2022<br>gdp=%{x}<br>nni=%{y}<extra></extra>",
           "legendgroup": "Czechia",
           "marker": {
            "color": "#ab63fa",
            "symbol": "circle"
           },
           "mode": "markers",
           "name": "Czechia",
           "orientation": "v",
           "showlegend": true,
           "type": "scatter",
           "x": [
            551.77
           ],
           "xaxis": "x",
           "y": [
            27790.3
           ],
           "yaxis": "y"
          },
          {
           "hovertemplate": "Country=Denmark<br>Year=2022<br>gdp=%{x}<br>nni=%{y}<extra></extra>",
           "legendgroup": "Denmark",
           "marker": {
            "color": "#FFA15A",
            "symbol": "circle"
           },
           "mode": "markers",
           "name": "Denmark",
           "orientation": "v",
           "showlegend": true,
           "type": "scatter",
           "x": [
            460.16
           ],
           "xaxis": "x",
           "y": [
            50004.8
           ],
           "yaxis": "y"
          },
          {
           "hovertemplate": "Country=Estonia<br>Year=2022<br>gdp=%{x}<br>nni=%{y}<extra></extra>",
           "legendgroup": "Estonia",
           "marker": {
            "color": "#19d3f3",
            "symbol": "circle"
           },
           "mode": "markers",
           "name": "Estonia",
           "orientation": "v",
           "showlegend": true,
           "type": "scatter",
           "x": [
            64.67
           ],
           "xaxis": "x",
           "y": [
            30469.3
           ],
           "yaxis": "y"
          },
          {
           "hovertemplate": "Country=Finland<br>Year=2022<br>gdp=%{x}<br>nni=%{y}<extra></extra>",
           "legendgroup": "Finland",
           "marker": {
            "color": "#FF6692",
            "symbol": "circle"
           },
           "mode": "markers",
           "name": "Finland",
           "orientation": "v",
           "showlegend": true,
           "type": "scatter",
           "x": [
            347.81
           ],
           "xaxis": "x",
           "y": [
            37897.1
           ],
           "yaxis": "y"
          },
          {
           "hovertemplate": "Country=France<br>Year=2022<br>gdp=%{x}<br>nni=%{y}<extra></extra>",
           "legendgroup": "France",
           "marker": {
            "color": "#B6E880",
            "symbol": "circle"
           },
           "mode": "markers",
           "name": "France",
           "orientation": "v",
           "showlegend": true,
           "type": "scatter",
           "x": [
            3914.74
           ],
           "xaxis": "x",
           "y": [
            34564.5
           ],
           "yaxis": "y"
          },
          {
           "hovertemplate": "Country=Germany<br>Year=2022<br>gdp=%{x}<br>nni=%{y}<extra></extra>",
           "legendgroup": "Germany",
           "marker": {
            "color": "#FF97FF",
            "symbol": "circle"
           },
           "mode": "markers",
           "name": "Germany",
           "orientation": "v",
           "showlegend": true,
           "type": "scatter",
           "x": [
            5582.29
           ],
           "xaxis": "x",
           "y": [
            40869.5
           ],
           "yaxis": "y"
          },
          {
           "hovertemplate": "Country=Hungary<br>Year=2022<br>gdp=%{x}<br>nni=%{y}<extra></extra>",
           "legendgroup": "Hungary",
           "marker": {
            "color": "#FECB52",
            "symbol": "circle"
           },
           "mode": "markers",
           "name": "Hungary",
           "orientation": "v",
           "showlegend": true,
           "type": "scatter",
           "x": [
            421.01
           ],
           "xaxis": "x",
           "y": [
            25106
           ],
           "yaxis": "y"
          },
          {
           "hovertemplate": "Country=Ireland<br>Year=2022<br>gdp=%{x}<br>nni=%{y}<extra></extra>",
           "legendgroup": "Ireland",
           "marker": {
            "color": "#636efa",
            "symbol": "circle"
           },
           "mode": "markers",
           "name": "Ireland",
           "orientation": "v",
           "showlegend": true,
           "type": "scatter",
           "x": [
            686.13
           ],
           "xaxis": "x",
           "y": [
            49448.3
           ],
           "yaxis": "y"
          },
          {
           "hovertemplate": "Country=Israel<br>Year=2022<br>gdp=%{x}<br>nni=%{y}<extra></extra>",
           "legendgroup": "Israel",
           "marker": {
            "color": "#EF553B",
            "symbol": "circle"
           },
           "mode": "markers",
           "name": "Israel",
           "orientation": "v",
           "showlegend": true,
           "type": "scatter",
           "x": [
            498.27
           ],
           "xaxis": "x",
           "y": [
            36886.5
           ],
           "yaxis": "y"
          },
          {
           "hovertemplate": "Country=Italy<br>Year=2022<br>gdp=%{x}<br>nni=%{y}<extra></extra>",
           "legendgroup": "Italy",
           "marker": {
            "color": "#00cc96",
            "symbol": "circle"
           },
           "mode": "markers",
           "name": "Italy",
           "orientation": "v",
           "showlegend": true,
           "type": "scatter",
           "x": [
            3295.26
           ],
           "xaxis": "x",
           "y": [
            32621.9
           ],
           "yaxis": "y"
          },
          {
           "hovertemplate": "Country=Japan<br>Year=2022<br>gdp=%{x}<br>nni=%{y}<extra></extra>",
           "legendgroup": "Japan",
           "marker": {
            "color": "#ab63fa",
            "symbol": "circle"
           },
           "mode": "markers",
           "name": "Japan",
           "orientation": "v",
           "showlegend": true,
           "type": "scatter",
           "x": [
            5895.69
           ],
           "xaxis": "x",
           "y": [
            32964.2
           ],
           "yaxis": "y"
          },
          {
           "hovertemplate": "Country=Latvia<br>Year=2022<br>gdp=%{x}<br>nni=%{y}<extra></extra>",
           "legendgroup": "Latvia",
           "marker": {
            "color": "#FFA15A",
            "symbol": "circle"
           },
           "mode": "markers",
           "name": "Latvia",
           "orientation": "v",
           "showlegend": true,
           "type": "scatter",
           "x": [
            77.25
           ],
           "xaxis": "x",
           "y": [
            24427.1
           ],
           "yaxis": "y"
          },
          {
           "hovertemplate": "Country=Lithuania<br>Year=2022<br>gdp=%{x}<br>nni=%{y}<extra></extra>",
           "legendgroup": "Lithuania",
           "marker": {
            "color": "#19d3f3",
            "symbol": "circle"
           },
           "mode": "markers",
           "name": "Lithuania",
           "orientation": "v",
           "showlegend": true,
           "type": "scatter",
           "x": [
            144.33
           ],
           "xaxis": "x",
           "y": [
            28918.5
           ],
           "yaxis": "y"
          },
          {
           "hovertemplate": "Country=Luxembourg<br>Year=2022<br>gdp=%{x}<br>nni=%{y}<extra></extra>",
           "legendgroup": "Luxembourg",
           "marker": {
            "color": "#FF6692",
            "symbol": "circle"
           },
           "mode": "markers",
           "name": "Luxembourg",
           "orientation": "v",
           "showlegend": true,
           "type": "scatter",
           "x": [
            95.65
           ],
           "xaxis": "x",
           "y": [
            61440.7
           ],
           "yaxis": "y"
          },
          {
           "hovertemplate": "Country=Mexico<br>Year=2022<br>gdp=%{x}<br>nni=%{y}<extra></extra>",
           "legendgroup": "Mexico",
           "marker": {
            "color": "#B6E880",
            "symbol": "circle"
           },
           "mode": "markers",
           "name": "Mexico",
           "orientation": "v",
           "showlegend": true,
           "type": "scatter",
           "x": [
            3042.14
           ],
           "xaxis": "x",
           "y": [
            14538.3
           ],
           "yaxis": "y"
          },
          {
           "hovertemplate": "Country=Netherlands<br>Year=2022<br>gdp=%{x}<br>nni=%{y}<extra></extra>",
           "legendgroup": "Netherlands",
           "marker": {
            "color": "#FF97FF",
            "symbol": "circle"
           },
           "mode": "markers",
           "name": "Netherlands",
           "orientation": "v",
           "showlegend": true,
           "type": "scatter",
           "x": [
            1319.46
           ],
           "xaxis": "x",
           "y": [
            45853.5
           ],
           "yaxis": "y"
          },
          {
           "hovertemplate": "Country=Portugal<br>Year=2022<br>gdp=%{x}<br>nni=%{y}<extra></extra>",
           "legendgroup": "Portugal",
           "marker": {
            "color": "#EF553B",
            "symbol": "circle"
           },
           "mode": "markers",
           "name": "Portugal",
           "orientation": "v",
           "showlegend": true,
           "type": "scatter",
           "x": [
            463.07
           ],
           "xaxis": "x",
           "y": [
            26886.6
           ],
           "yaxis": "y"
          },
          {
           "hovertemplate": "Country=Slovak Republic<br>Year=2022<br>gdp=%{x}<br>nni=%{y}<extra></extra>",
           "legendgroup": "Slovak Republic",
           "marker": {
            "color": "#00cc96",
            "symbol": "circle"
           },
           "mode": "markers",
           "name": "Slovak Republic",
           "orientation": "v",
           "showlegend": true,
           "type": "scatter",
           "x": [
            222.77
           ],
           "xaxis": "x",
           "y": [
            25727.3
           ],
           "yaxis": "y"
          },
          {
           "hovertemplate": "Country=Slovenia<br>Year=2022<br>gdp=%{x}<br>nni=%{y}<extra></extra>",
           "legendgroup": "Slovenia",
           "marker": {
            "color": "#ab63fa",
            "symbol": "circle"
           },
           "mode": "markers",
           "name": "Slovenia",
           "orientation": "v",
           "showlegend": true,
           "type": "scatter",
           "x": [
            108.31
           ],
           "xaxis": "x",
           "y": [
            29060.2
           ],
           "yaxis": "y"
          },
          {
           "hovertemplate": "Country=Spain<br>Year=2022<br>gdp=%{x}<br>nni=%{y}<extra></extra>",
           "legendgroup": "Spain",
           "marker": {
            "color": "#FFA15A",
            "symbol": "circle"
           },
           "mode": "markers",
           "name": "Spain",
           "orientation": "v",
           "showlegend": true,
           "type": "scatter",
           "x": [
            2326.11
           ],
           "xaxis": "x",
           "y": [
            30808.4
           ],
           "yaxis": "y"
          },
          {
           "hovertemplate": "Country=Sweden<br>Year=2022<br>gdp=%{x}<br>nni=%{y}<extra></extra>",
           "legendgroup": "Sweden",
           "marker": {
            "color": "#19d3f3",
            "symbol": "circle"
           },
           "mode": "markers",
           "name": "Sweden",
           "orientation": "v",
           "showlegend": true,
           "type": "scatter",
           "x": [
            714.04
           ],
           "xaxis": "x",
           "y": [
            45273.1
           ],
           "yaxis": "y"
          },
          {
           "hovertemplate": "Country=Switzerland<br>Year=2022<br>gdp=%{x}<br>nni=%{y}<extra></extra>",
           "legendgroup": "Switzerland",
           "marker": {
            "color": "#FF6692",
            "symbol": "circle"
           },
           "mode": "markers",
           "name": "Switzerland",
           "orientation": "v",
           "showlegend": true,
           "type": "scatter",
           "x": [
            796.37
           ],
           "xaxis": "x",
           "y": [
            51391.6
           ],
           "yaxis": "y"
          },
          {
           "hovertemplate": "Country=Euro area<br>Year=2022<br>gdp=%{x}<br>nni=%{y}<extra></extra>",
           "legendgroup": "Euro area",
           "marker": {
            "color": "#FF97FF",
            "symbol": "circle"
           },
           "mode": "markers",
           "name": "Euro area",
           "orientation": "v",
           "showlegend": true,
           "type": "scatter",
           "x": [
            20571.23
           ],
           "xaxis": "x",
           "y": [
            35081.9
           ],
           "yaxis": "y"
          },
          {
           "hovertemplate": "Country=South Africa<br>Year=2022<br>gdp=%{x}<br>nni=%{y}<extra></extra>",
           "legendgroup": "South Africa",
           "marker": {
            "color": "#636efa",
            "symbol": "circle"
           },
           "mode": "markers",
           "name": "South Africa",
           "orientation": "v",
           "showlegend": true,
           "type": "scatter",
           "x": [
            953.54
           ],
           "xaxis": "x",
           "y": [
            11683.5
           ],
           "yaxis": "y"
          },
          {
           "hovertemplate": "Country=Greece<br>Year=2022<br>gdp=%{x}<br>nni=%{y}<extra></extra>",
           "legendgroup": "Greece",
           "marker": {
            "color": "#EF553B",
            "symbol": "circle"
           },
           "mode": "markers",
           "name": "Greece",
           "orientation": "v",
           "showlegend": true,
           "type": "scatter",
           "x": [
            405.84
           ],
           "xaxis": "x",
           "y": [
            24441.2
           ],
           "yaxis": "y"
          },
          {
           "hovertemplate": "Country=Korea<br>Year=2022<br>gdp=%{x}<br>nni=%{y}<extra></extra>",
           "legendgroup": "Korea",
           "marker": {
            "color": "#00cc96",
            "symbol": "circle"
           },
           "mode": "markers",
           "name": "Korea",
           "orientation": "v",
           "showlegend": true,
           "type": "scatter",
           "x": [
            2667.44
           ],
           "xaxis": "x",
           "y": [
            33111.4
           ],
           "yaxis": "y"
          }
         ],
         "name": "2022"
        }
       ],
       "layout": {
        "legend": {
         "title": {
          "text": "Country"
         },
         "tracegroupgap": 0
        },
        "sliders": [
         {
          "active": 0,
          "currentvalue": {
           "prefix": "Year="
          },
          "len": 0.9,
          "pad": {
           "b": 10,
           "t": 60
          },
          "steps": [
           {
            "args": [
             [
              "2003"
             ],
             {
              "frame": {
               "duration": 0,
               "redraw": false
              },
              "fromcurrent": true,
              "mode": "immediate",
              "transition": {
               "duration": 0,
               "easing": "linear"
              }
             }
            ],
            "label": "2003",
            "method": "animate"
           },
           {
            "args": [
             [
              "2004"
             ],
             {
              "frame": {
               "duration": 0,
               "redraw": false
              },
              "fromcurrent": true,
              "mode": "immediate",
              "transition": {
               "duration": 0,
               "easing": "linear"
              }
             }
            ],
            "label": "2004",
            "method": "animate"
           },
           {
            "args": [
             [
              "2005"
             ],
             {
              "frame": {
               "duration": 0,
               "redraw": false
              },
              "fromcurrent": true,
              "mode": "immediate",
              "transition": {
               "duration": 0,
               "easing": "linear"
              }
             }
            ],
            "label": "2005",
            "method": "animate"
           },
           {
            "args": [
             [
              "2006"
             ],
             {
              "frame": {
               "duration": 0,
               "redraw": false
              },
              "fromcurrent": true,
              "mode": "immediate",
              "transition": {
               "duration": 0,
               "easing": "linear"
              }
             }
            ],
            "label": "2006",
            "method": "animate"
           },
           {
            "args": [
             [
              "2007"
             ],
             {
              "frame": {
               "duration": 0,
               "redraw": false
              },
              "fromcurrent": true,
              "mode": "immediate",
              "transition": {
               "duration": 0,
               "easing": "linear"
              }
             }
            ],
            "label": "2007",
            "method": "animate"
           },
           {
            "args": [
             [
              "2008"
             ],
             {
              "frame": {
               "duration": 0,
               "redraw": false
              },
              "fromcurrent": true,
              "mode": "immediate",
              "transition": {
               "duration": 0,
               "easing": "linear"
              }
             }
            ],
            "label": "2008",
            "method": "animate"
           },
           {
            "args": [
             [
              "2009"
             ],
             {
              "frame": {
               "duration": 0,
               "redraw": false
              },
              "fromcurrent": true,
              "mode": "immediate",
              "transition": {
               "duration": 0,
               "easing": "linear"
              }
             }
            ],
            "label": "2009",
            "method": "animate"
           },
           {
            "args": [
             [
              "2010"
             ],
             {
              "frame": {
               "duration": 0,
               "redraw": false
              },
              "fromcurrent": true,
              "mode": "immediate",
              "transition": {
               "duration": 0,
               "easing": "linear"
              }
             }
            ],
            "label": "2010",
            "method": "animate"
           },
           {
            "args": [
             [
              "2011"
             ],
             {
              "frame": {
               "duration": 0,
               "redraw": false
              },
              "fromcurrent": true,
              "mode": "immediate",
              "transition": {
               "duration": 0,
               "easing": "linear"
              }
             }
            ],
            "label": "2011",
            "method": "animate"
           },
           {
            "args": [
             [
              "2012"
             ],
             {
              "frame": {
               "duration": 0,
               "redraw": false
              },
              "fromcurrent": true,
              "mode": "immediate",
              "transition": {
               "duration": 0,
               "easing": "linear"
              }
             }
            ],
            "label": "2012",
            "method": "animate"
           },
           {
            "args": [
             [
              "2013"
             ],
             {
              "frame": {
               "duration": 0,
               "redraw": false
              },
              "fromcurrent": true,
              "mode": "immediate",
              "transition": {
               "duration": 0,
               "easing": "linear"
              }
             }
            ],
            "label": "2013",
            "method": "animate"
           },
           {
            "args": [
             [
              "2014"
             ],
             {
              "frame": {
               "duration": 0,
               "redraw": false
              },
              "fromcurrent": true,
              "mode": "immediate",
              "transition": {
               "duration": 0,
               "easing": "linear"
              }
             }
            ],
            "label": "2014",
            "method": "animate"
           },
           {
            "args": [
             [
              "2015"
             ],
             {
              "frame": {
               "duration": 0,
               "redraw": false
              },
              "fromcurrent": true,
              "mode": "immediate",
              "transition": {
               "duration": 0,
               "easing": "linear"
              }
             }
            ],
            "label": "2015",
            "method": "animate"
           },
           {
            "args": [
             [
              "2016"
             ],
             {
              "frame": {
               "duration": 0,
               "redraw": false
              },
              "fromcurrent": true,
              "mode": "immediate",
              "transition": {
               "duration": 0,
               "easing": "linear"
              }
             }
            ],
            "label": "2016",
            "method": "animate"
           },
           {
            "args": [
             [
              "2017"
             ],
             {
              "frame": {
               "duration": 0,
               "redraw": false
              },
              "fromcurrent": true,
              "mode": "immediate",
              "transition": {
               "duration": 0,
               "easing": "linear"
              }
             }
            ],
            "label": "2017",
            "method": "animate"
           },
           {
            "args": [
             [
              "2018"
             ],
             {
              "frame": {
               "duration": 0,
               "redraw": false
              },
              "fromcurrent": true,
              "mode": "immediate",
              "transition": {
               "duration": 0,
               "easing": "linear"
              }
             }
            ],
            "label": "2018",
            "method": "animate"
           },
           {
            "args": [
             [
              "2019"
             ],
             {
              "frame": {
               "duration": 0,
               "redraw": false
              },
              "fromcurrent": true,
              "mode": "immediate",
              "transition": {
               "duration": 0,
               "easing": "linear"
              }
             }
            ],
            "label": "2019",
            "method": "animate"
           },
           {
            "args": [
             [
              "2020"
             ],
             {
              "frame": {
               "duration": 0,
               "redraw": false
              },
              "fromcurrent": true,
              "mode": "immediate",
              "transition": {
               "duration": 0,
               "easing": "linear"
              }
             }
            ],
            "label": "2020",
            "method": "animate"
           },
           {
            "args": [
             [
              "2021"
             ],
             {
              "frame": {
               "duration": 0,
               "redraw": false
              },
              "fromcurrent": true,
              "mode": "immediate",
              "transition": {
               "duration": 0,
               "easing": "linear"
              }
             }
            ],
            "label": "2021",
            "method": "animate"
           },
           {
            "args": [
             [
              "2022"
             ],
             {
              "frame": {
               "duration": 0,
               "redraw": false
              },
              "fromcurrent": true,
              "mode": "immediate",
              "transition": {
               "duration": 0,
               "easing": "linear"
              }
             }
            ],
            "label": "2022",
            "method": "animate"
           }
          ],
          "x": 0.1,
          "xanchor": "left",
          "y": 0,
          "yanchor": "top"
         }
        ],
        "template": {
         "data": {
          "bar": [
           {
            "error_x": {
             "color": "#2a3f5f"
            },
            "error_y": {
             "color": "#2a3f5f"
            },
            "marker": {
             "line": {
              "color": "#E5ECF6",
              "width": 0.5
             },
             "pattern": {
              "fillmode": "overlay",
              "size": 10,
              "solidity": 0.2
             }
            },
            "type": "bar"
           }
          ],
          "barpolar": [
           {
            "marker": {
             "line": {
              "color": "#E5ECF6",
              "width": 0.5
             },
             "pattern": {
              "fillmode": "overlay",
              "size": 10,
              "solidity": 0.2
             }
            },
            "type": "barpolar"
           }
          ],
          "carpet": [
           {
            "aaxis": {
             "endlinecolor": "#2a3f5f",
             "gridcolor": "white",
             "linecolor": "white",
             "minorgridcolor": "white",
             "startlinecolor": "#2a3f5f"
            },
            "baxis": {
             "endlinecolor": "#2a3f5f",
             "gridcolor": "white",
             "linecolor": "white",
             "minorgridcolor": "white",
             "startlinecolor": "#2a3f5f"
            },
            "type": "carpet"
           }
          ],
          "choropleth": [
           {
            "colorbar": {
             "outlinewidth": 0,
             "ticks": ""
            },
            "type": "choropleth"
           }
          ],
          "contour": [
           {
            "colorbar": {
             "outlinewidth": 0,
             "ticks": ""
            },
            "colorscale": [
             [
              0,
              "#0d0887"
             ],
             [
              0.1111111111111111,
              "#46039f"
             ],
             [
              0.2222222222222222,
              "#7201a8"
             ],
             [
              0.3333333333333333,
              "#9c179e"
             ],
             [
              0.4444444444444444,
              "#bd3786"
             ],
             [
              0.5555555555555556,
              "#d8576b"
             ],
             [
              0.6666666666666666,
              "#ed7953"
             ],
             [
              0.7777777777777778,
              "#fb9f3a"
             ],
             [
              0.8888888888888888,
              "#fdca26"
             ],
             [
              1,
              "#f0f921"
             ]
            ],
            "type": "contour"
           }
          ],
          "contourcarpet": [
           {
            "colorbar": {
             "outlinewidth": 0,
             "ticks": ""
            },
            "type": "contourcarpet"
           }
          ],
          "heatmap": [
           {
            "colorbar": {
             "outlinewidth": 0,
             "ticks": ""
            },
            "colorscale": [
             [
              0,
              "#0d0887"
             ],
             [
              0.1111111111111111,
              "#46039f"
             ],
             [
              0.2222222222222222,
              "#7201a8"
             ],
             [
              0.3333333333333333,
              "#9c179e"
             ],
             [
              0.4444444444444444,
              "#bd3786"
             ],
             [
              0.5555555555555556,
              "#d8576b"
             ],
             [
              0.6666666666666666,
              "#ed7953"
             ],
             [
              0.7777777777777778,
              "#fb9f3a"
             ],
             [
              0.8888888888888888,
              "#fdca26"
             ],
             [
              1,
              "#f0f921"
             ]
            ],
            "type": "heatmap"
           }
          ],
          "heatmapgl": [
           {
            "colorbar": {
             "outlinewidth": 0,
             "ticks": ""
            },
            "colorscale": [
             [
              0,
              "#0d0887"
             ],
             [
              0.1111111111111111,
              "#46039f"
             ],
             [
              0.2222222222222222,
              "#7201a8"
             ],
             [
              0.3333333333333333,
              "#9c179e"
             ],
             [
              0.4444444444444444,
              "#bd3786"
             ],
             [
              0.5555555555555556,
              "#d8576b"
             ],
             [
              0.6666666666666666,
              "#ed7953"
             ],
             [
              0.7777777777777778,
              "#fb9f3a"
             ],
             [
              0.8888888888888888,
              "#fdca26"
             ],
             [
              1,
              "#f0f921"
             ]
            ],
            "type": "heatmapgl"
           }
          ],
          "histogram": [
           {
            "marker": {
             "pattern": {
              "fillmode": "overlay",
              "size": 10,
              "solidity": 0.2
             }
            },
            "type": "histogram"
           }
          ],
          "histogram2d": [
           {
            "colorbar": {
             "outlinewidth": 0,
             "ticks": ""
            },
            "colorscale": [
             [
              0,
              "#0d0887"
             ],
             [
              0.1111111111111111,
              "#46039f"
             ],
             [
              0.2222222222222222,
              "#7201a8"
             ],
             [
              0.3333333333333333,
              "#9c179e"
             ],
             [
              0.4444444444444444,
              "#bd3786"
             ],
             [
              0.5555555555555556,
              "#d8576b"
             ],
             [
              0.6666666666666666,
              "#ed7953"
             ],
             [
              0.7777777777777778,
              "#fb9f3a"
             ],
             [
              0.8888888888888888,
              "#fdca26"
             ],
             [
              1,
              "#f0f921"
             ]
            ],
            "type": "histogram2d"
           }
          ],
          "histogram2dcontour": [
           {
            "colorbar": {
             "outlinewidth": 0,
             "ticks": ""
            },
            "colorscale": [
             [
              0,
              "#0d0887"
             ],
             [
              0.1111111111111111,
              "#46039f"
             ],
             [
              0.2222222222222222,
              "#7201a8"
             ],
             [
              0.3333333333333333,
              "#9c179e"
             ],
             [
              0.4444444444444444,
              "#bd3786"
             ],
             [
              0.5555555555555556,
              "#d8576b"
             ],
             [
              0.6666666666666666,
              "#ed7953"
             ],
             [
              0.7777777777777778,
              "#fb9f3a"
             ],
             [
              0.8888888888888888,
              "#fdca26"
             ],
             [
              1,
              "#f0f921"
             ]
            ],
            "type": "histogram2dcontour"
           }
          ],
          "mesh3d": [
           {
            "colorbar": {
             "outlinewidth": 0,
             "ticks": ""
            },
            "type": "mesh3d"
           }
          ],
          "parcoords": [
           {
            "line": {
             "colorbar": {
              "outlinewidth": 0,
              "ticks": ""
             }
            },
            "type": "parcoords"
           }
          ],
          "pie": [
           {
            "automargin": true,
            "type": "pie"
           }
          ],
          "scatter": [
           {
            "fillpattern": {
             "fillmode": "overlay",
             "size": 10,
             "solidity": 0.2
            },
            "type": "scatter"
           }
          ],
          "scatter3d": [
           {
            "line": {
             "colorbar": {
              "outlinewidth": 0,
              "ticks": ""
             }
            },
            "marker": {
             "colorbar": {
              "outlinewidth": 0,
              "ticks": ""
             }
            },
            "type": "scatter3d"
           }
          ],
          "scattercarpet": [
           {
            "marker": {
             "colorbar": {
              "outlinewidth": 0,
              "ticks": ""
             }
            },
            "type": "scattercarpet"
           }
          ],
          "scattergeo": [
           {
            "marker": {
             "colorbar": {
              "outlinewidth": 0,
              "ticks": ""
             }
            },
            "type": "scattergeo"
           }
          ],
          "scattergl": [
           {
            "marker": {
             "colorbar": {
              "outlinewidth": 0,
              "ticks": ""
             }
            },
            "type": "scattergl"
           }
          ],
          "scattermapbox": [
           {
            "marker": {
             "colorbar": {
              "outlinewidth": 0,
              "ticks": ""
             }
            },
            "type": "scattermapbox"
           }
          ],
          "scatterpolar": [
           {
            "marker": {
             "colorbar": {
              "outlinewidth": 0,
              "ticks": ""
             }
            },
            "type": "scatterpolar"
           }
          ],
          "scatterpolargl": [
           {
            "marker": {
             "colorbar": {
              "outlinewidth": 0,
              "ticks": ""
             }
            },
            "type": "scatterpolargl"
           }
          ],
          "scatterternary": [
           {
            "marker": {
             "colorbar": {
              "outlinewidth": 0,
              "ticks": ""
             }
            },
            "type": "scatterternary"
           }
          ],
          "surface": [
           {
            "colorbar": {
             "outlinewidth": 0,
             "ticks": ""
            },
            "colorscale": [
             [
              0,
              "#0d0887"
             ],
             [
              0.1111111111111111,
              "#46039f"
             ],
             [
              0.2222222222222222,
              "#7201a8"
             ],
             [
              0.3333333333333333,
              "#9c179e"
             ],
             [
              0.4444444444444444,
              "#bd3786"
             ],
             [
              0.5555555555555556,
              "#d8576b"
             ],
             [
              0.6666666666666666,
              "#ed7953"
             ],
             [
              0.7777777777777778,
              "#fb9f3a"
             ],
             [
              0.8888888888888888,
              "#fdca26"
             ],
             [
              1,
              "#f0f921"
             ]
            ],
            "type": "surface"
           }
          ],
          "table": [
           {
            "cells": {
             "fill": {
              "color": "#EBF0F8"
             },
             "line": {
              "color": "white"
             }
            },
            "header": {
             "fill": {
              "color": "#C8D4E3"
             },
             "line": {
              "color": "white"
             }
            },
            "type": "table"
           }
          ]
         },
         "layout": {
          "annotationdefaults": {
           "arrowcolor": "#2a3f5f",
           "arrowhead": 0,
           "arrowwidth": 1
          },
          "autotypenumbers": "strict",
          "coloraxis": {
           "colorbar": {
            "outlinewidth": 0,
            "ticks": ""
           }
          },
          "colorscale": {
           "diverging": [
            [
             0,
             "#8e0152"
            ],
            [
             0.1,
             "#c51b7d"
            ],
            [
             0.2,
             "#de77ae"
            ],
            [
             0.3,
             "#f1b6da"
            ],
            [
             0.4,
             "#fde0ef"
            ],
            [
             0.5,
             "#f7f7f7"
            ],
            [
             0.6,
             "#e6f5d0"
            ],
            [
             0.7,
             "#b8e186"
            ],
            [
             0.8,
             "#7fbc41"
            ],
            [
             0.9,
             "#4d9221"
            ],
            [
             1,
             "#276419"
            ]
           ],
           "sequential": [
            [
             0,
             "#0d0887"
            ],
            [
             0.1111111111111111,
             "#46039f"
            ],
            [
             0.2222222222222222,
             "#7201a8"
            ],
            [
             0.3333333333333333,
             "#9c179e"
            ],
            [
             0.4444444444444444,
             "#bd3786"
            ],
            [
             0.5555555555555556,
             "#d8576b"
            ],
            [
             0.6666666666666666,
             "#ed7953"
            ],
            [
             0.7777777777777778,
             "#fb9f3a"
            ],
            [
             0.8888888888888888,
             "#fdca26"
            ],
            [
             1,
             "#f0f921"
            ]
           ],
           "sequentialminus": [
            [
             0,
             "#0d0887"
            ],
            [
             0.1111111111111111,
             "#46039f"
            ],
            [
             0.2222222222222222,
             "#7201a8"
            ],
            [
             0.3333333333333333,
             "#9c179e"
            ],
            [
             0.4444444444444444,
             "#bd3786"
            ],
            [
             0.5555555555555556,
             "#d8576b"
            ],
            [
             0.6666666666666666,
             "#ed7953"
            ],
            [
             0.7777777777777778,
             "#fb9f3a"
            ],
            [
             0.8888888888888888,
             "#fdca26"
            ],
            [
             1,
             "#f0f921"
            ]
           ]
          },
          "colorway": [
           "#636efa",
           "#EF553B",
           "#00cc96",
           "#ab63fa",
           "#FFA15A",
           "#19d3f3",
           "#FF6692",
           "#B6E880",
           "#FF97FF",
           "#FECB52"
          ],
          "font": {
           "color": "#2a3f5f"
          },
          "geo": {
           "bgcolor": "white",
           "lakecolor": "white",
           "landcolor": "#E5ECF6",
           "showlakes": true,
           "showland": true,
           "subunitcolor": "white"
          },
          "hoverlabel": {
           "align": "left"
          },
          "hovermode": "closest",
          "mapbox": {
           "style": "light"
          },
          "paper_bgcolor": "white",
          "plot_bgcolor": "#E5ECF6",
          "polar": {
           "angularaxis": {
            "gridcolor": "white",
            "linecolor": "white",
            "ticks": ""
           },
           "bgcolor": "#E5ECF6",
           "radialaxis": {
            "gridcolor": "white",
            "linecolor": "white",
            "ticks": ""
           }
          },
          "scene": {
           "xaxis": {
            "backgroundcolor": "#E5ECF6",
            "gridcolor": "white",
            "gridwidth": 2,
            "linecolor": "white",
            "showbackground": true,
            "ticks": "",
            "zerolinecolor": "white"
           },
           "yaxis": {
            "backgroundcolor": "#E5ECF6",
            "gridcolor": "white",
            "gridwidth": 2,
            "linecolor": "white",
            "showbackground": true,
            "ticks": "",
            "zerolinecolor": "white"
           },
           "zaxis": {
            "backgroundcolor": "#E5ECF6",
            "gridcolor": "white",
            "gridwidth": 2,
            "linecolor": "white",
            "showbackground": true,
            "ticks": "",
            "zerolinecolor": "white"
           }
          },
          "shapedefaults": {
           "line": {
            "color": "#2a3f5f"
           }
          },
          "ternary": {
           "aaxis": {
            "gridcolor": "white",
            "linecolor": "white",
            "ticks": ""
           },
           "baxis": {
            "gridcolor": "white",
            "linecolor": "white",
            "ticks": ""
           },
           "bgcolor": "#E5ECF6",
           "caxis": {
            "gridcolor": "white",
            "linecolor": "white",
            "ticks": ""
           }
          },
          "title": {
           "x": 0.05
          },
          "xaxis": {
           "automargin": true,
           "gridcolor": "white",
           "linecolor": "white",
           "ticks": "",
           "title": {
            "standoff": 15
           },
           "zerolinecolor": "white",
           "zerolinewidth": 2
          },
          "yaxis": {
           "automargin": true,
           "gridcolor": "white",
           "linecolor": "white",
           "ticks": "",
           "title": {
            "standoff": 15
           },
           "zerolinecolor": "white",
           "zerolinewidth": 2
          }
         }
        },
        "title": {
         "text": "Scatterplot of GDP vs NNI by Country and Year"
        },
        "updatemenus": [
         {
          "buttons": [
           {
            "args": [
             null,
             {
              "frame": {
               "duration": 500,
               "redraw": false
              },
              "fromcurrent": true,
              "mode": "immediate",
              "transition": {
               "duration": 500,
               "easing": "linear"
              }
             }
            ],
            "label": "&#9654;",
            "method": "animate"
           },
           {
            "args": [
             [
              null
             ],
             {
              "frame": {
               "duration": 0,
               "redraw": false
              },
              "fromcurrent": true,
              "mode": "immediate",
              "transition": {
               "duration": 0,
               "easing": "linear"
              }
             }
            ],
            "label": "&#9724;",
            "method": "animate"
           }
          ],
          "direction": "left",
          "pad": {
           "r": 10,
           "t": 70
          },
          "showactive": false,
          "type": "buttons",
          "x": 0.1,
          "xanchor": "right",
          "y": 0,
          "yanchor": "top"
         }
        ],
        "xaxis": {
         "anchor": "y",
         "domain": [
          0,
          1
         ],
         "title": {
          "text": "gdp"
         }
        },
        "yaxis": {
         "anchor": "x",
         "domain": [
          0,
          1
         ],
         "title": {
          "text": "nni"
         }
        }
       }
      }
     },
     "metadata": {},
     "output_type": "display_data"
    }
   ],
   "source": [
    "\n",
    "merged_data = pd.merge(gdp, nni, on=['Country', 'Year'])\n",
    "merged_data = merged_data[merged_data['Country'] != 'Euro_area']\n",
    "merged_data.dropna(subset=['gdp', 'nni'], inplace=True)\n",
    "fig = px.scatter(merged_data, x='gdp', y='nni', color='Country', animation_frame='Year',\n",
    "                 title='Scatterplot of GDP vs NNI by Country and Year')\n",
    "fig.show()\n"
   ]
  }
 ],
 "metadata": {
  "kernelspec": {
   "display_name": "base",
   "language": "python",
   "name": "python3"
  },
  "language_info": {
   "codemirror_mode": {
    "name": "ipython",
    "version": 3
   },
   "file_extension": ".py",
   "mimetype": "text/x-python",
   "name": "python",
   "nbconvert_exporter": "python",
   "pygments_lexer": "ipython3",
   "version": "3.11.5"
  }
 },
 "nbformat": 4,
 "nbformat_minor": 2
}
